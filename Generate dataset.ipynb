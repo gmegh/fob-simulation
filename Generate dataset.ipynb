{
 "cells": [
  {
   "cell_type": "markdown",
   "metadata": {},
   "source": [
    "# Generate dataset of FRB/Star images\n",
    "\n",
    "This notebook generates a dataset of images simulating either FRB or point-source through the atmosphere and the Rubin-LSST Telescope.\n",
    "\n",
    "Import relevant python packages:"
   ]
  },
  {
   "cell_type": "code",
   "execution_count": 1,
   "metadata": {},
   "outputs": [],
   "source": [
    "import trace\n",
    "from tqdm.notebook import trange, tqdm\n",
    "import galsim\n",
    "import pickle\n",
    "import matplotlib.pyplot as plt\n",
    "import numpy as np\n",
    "import glob\n",
    "import multiprocessing as mp\n",
    "import random\n",
    "from numba import jit, cuda\n",
    "\n",
    "# Define wavelength dictionary\n",
    "wavelength_dict = dict(\n",
    "    u = 365.49,\n",
    "    g = 480.03,\n",
    "    r = 622.20,\n",
    "    i = 754.06,\n",
    "    z = 868.21,\n",
    "    y = 991.66\n",
    ")\n",
    "\n",
    "# Define the observation parameters.\n",
    "observation = {\n",
    "    'boresight': galsim.CelestialCoord(\n",
    "        30*galsim.degrees, 10*galsim.degrees\n",
    "    ),\n",
    "    'zenith': 30*galsim.degrees,\n",
    "    'airmass': 1.1547,\n",
    "    'rotTelPos': 0.0*galsim.degrees,  # zenith measured CCW from up\n",
    "    'rotSkyPos': 0.0*galsim.degrees,  # N measured CCW from up\n",
    "    'rawSeeing': 0.7*galsim.arcsec,\n",
    "    'band': 'i',\n",
    "    'exptime': 15.0,\n",
    "    'frbtime': 0.005,\n",
    "    'temperature': 293.15,  # K\n",
    "    'pressure': 69.328,  # kPa\n",
    "    'H2O_pressure': 1.067,  # kPa\n",
    "}\n",
    "\n",
    "# Set the wavelenght from the observation band. \n",
    "wavelength = wavelength_dict[observation['band']]"
   ]
  },
  {
   "cell_type": "code",
   "execution_count": 5,
   "metadata": {},
   "outputs": [],
   "source": [
    "def update(*a):\n",
    "    pbar.update()\n",
    "    pbar.refresh()\n",
    "    \n",
    "class Arguments:\n",
    "    def __init__(self, **kwargs):\n",
    "        self.__dict__.update(kwargs)\n",
    "      \n",
    "def generate_dataset(it, args):\n",
    "    print('in here')\n",
    "    np.random.seed(int(it*1000*np.random.random()))\n",
    "    rng = galsim.BaseDeviate()\n",
    "    traced_photons, wavelengths = trace.tracePhotons(args.num_phot, rng, args.observation, args.wavelength, args.atmosphere, args.duration)\n",
    "    print('hehe')\n",
    "    PIXEL_SIZE = 10e-6\n",
    "    STAMP_SIZE = 10\n",
    "    SKY_LEVEL = 1000.0\n",
    "    image_array = trace.generateImage(traced_photons, wavelengths, STAMP_SIZE, PIXEL_SIZE, SKY_LEVEL)\n",
    "\n",
    "    plt.imsave(f'{args.folder}/FOB_{args.duration_label}_{args.num_phot}_{it + args.offset}.png', image_array)\n",
    "    np.save(f'{args.folder}/FOB_{args.duration_label}_{args.num_phot}_{it + args.offset}.npy', image_array)\n",
    "    np.savetxt(f'{args.folder}/FOB_{args.duration_label}_{args.num_phot}_{it + args.offset}.txt', image_array, delimiter=',')  \n",
    "   \n",
    "\n",
    "def generate_dataset_parallel(argums, pbar):\n",
    "    pool = mp.Pool(mp.cpu_count())\n",
    "    \n",
    "    pbar.reset(total=argums.num_simulations) \n",
    "    for it in range(argums.num_simulations):\n",
    "        \n",
    "        pool.apply_async(\n",
    "            generate_dataset, \n",
    "            args = (it, argums), \n",
    "            callback = update\n",
    "        )\n",
    "\n",
    "    pool.close()\n",
    "    pool.join()\n",
    "    \n",
    "    # Close progressbar\n",
    "    pbar.close()"
   ]
  },
  {
   "cell_type": "code",
   "execution_count": 6,
   "metadata": {},
   "outputs": [
    {
     "name": "stdout",
     "output_type": "stream",
     "text": [
      "env: OMP_NUM_THREADS=1\n"
     ]
    }
   ],
   "source": [
    "import time\n",
    "# The line below sets the environment\n",
    "# variable OMP_NUM_THREADS\n",
    "%env OMP_NUM_THREADS=1\n",
    "\n",
    "# Load atmosphere phase screen list created from Elleboerk model.\n",
    "with open(\"policy/full_atm.pkl\", 'rb') as f:\n",
    "    full_atm = pickle.load(f)\n",
    "    \n",
    "# Load atmosphere phase screen list created from Elleboerk model.\n",
    "with open(\"policy/truncated_atm.pkl\", 'rb') as f:\n",
    "    truncated_atm = pickle.load(f)"
   ]
  },
  {
   "cell_type": "code",
   "execution_count": 8,
   "metadata": {},
   "outputs": [
    {
     "data": {
      "application/vnd.jupyter.widget-view+json": {
       "model_id": "9d9a6dda3de940f19b32042069469b5d",
       "version_major": 2,
       "version_minor": 0
      },
      "text/plain": [
       "  0%|          | 0/2000 [00:00<?, ?it/s]"
      ]
     },
     "metadata": {},
     "output_type": "display_data"
    },
    {
     "name": "stdout",
     "output_type": "stream",
     "text": [
      "in herein herein herein here\n",
      "\n",
      "\n",
      "in here\n",
      "in here\n",
      "\n",
      "in herein here\n",
      "in here\n",
      "\n",
      "in here\n"
     ]
    }
   ],
   "source": [
    "pbar = tqdm(total = 2000)\n",
    "\n",
    "generate_dataset_parallel(\n",
    "    Arguments(\n",
    "        atm = full_atm,\n",
    "        duration = 0.015,\n",
    "        duration_label = '15ms',\n",
    "        num_simulations =  10,\n",
    "        num_phot = int(7.5e5),\n",
    "        observation = observation,\n",
    "        atmosphere = full_atm,\n",
    "        wavelength = wavelength,\n",
    "        folder = 'data',\n",
    "        offset = 0\n",
    "    ),\n",
    "    pbar\n",
    ")"
   ]
  },
  {
   "cell_type": "markdown",
   "metadata": {},
   "source": [
    "## 2. Generate datasets for different star configuration"
   ]
  },
  {
   "cell_type": "code",
   "execution_count": 7,
   "metadata": {},
   "outputs": [
    {
     "name": "stdout",
     "output_type": "stream",
     "text": [
      " ------------ 10ms ------------\n"
     ]
    },
    {
     "data": {
      "application/vnd.jupyter.widget-view+json": {
       "model_id": "6e63f9e455054a5eadd31259f5a3808f",
       "version_major": 2,
       "version_minor": 0
      },
      "text/plain": [
       "  0%|          | 0/2000 [00:00<?, ?it/s]"
      ]
     },
     "metadata": {},
     "output_type": "display_data"
    },
    {
     "name": "stdout",
     "output_type": "stream",
     "text": [
      "CPU times: user 77.3 ms, sys: 126 ms, total: 203 ms\n",
      "Wall time: 268 ms\n"
     ]
    }
   ],
   "source": [
    "%%time\n",
    "durs = [0.01]\n",
    "durats = ['10ms']\n",
    "\n",
    "for idx in  range(len(durats)):\n",
    "\n",
    "    print(f' ------------ {durats[idx]} ------------')\n",
    "    for inten in [3e5]:\n",
    "        # Create progress bar\n",
    "        pbar = tqdm(total = 2000)\n",
    "\n",
    "        # Generate dataset\n",
    "        generate_dataset_parallel(\n",
    "            Arguments(\n",
    "                name = 'FRB',\n",
    "                method = 'FFT',\n",
    "                atm = full_atm,\n",
    "                duration = durs[idx],\n",
    "                duration_label = durats[idx],\n",
    "                num_simulations =  10,\n",
    "                num_phot = int(inten),\n",
    "                offset = 0\n",
    "            ),\n",
    "            pbar\n",
    "        )"
   ]
  },
  {
   "cell_type": "code",
   "execution_count": 9,
   "metadata": {},
   "outputs": [
    {
     "name": "stdout",
     "output_type": "stream",
     "text": [
      " ------------ 80ms ------------\n"
     ]
    },
    {
     "data": {
      "application/vnd.jupyter.widget-view+json": {
       "model_id": "cc87fad0d43d41cd812f86d16f11680b",
       "version_major": 2,
       "version_minor": 0
      },
      "text/plain": [
       "  0%|          | 0/2000 [00:00<?, ?it/s]"
      ]
     },
     "metadata": {},
     "output_type": "display_data"
    },
    {
     "data": {
      "application/vnd.jupyter.widget-view+json": {
       "model_id": "cce3c0a85dd2463191ad3441a8af6cee",
       "version_major": 2,
       "version_minor": 0
      },
      "text/plain": [
       "  0%|          | 0/2000 [00:00<?, ?it/s]"
      ]
     },
     "metadata": {},
     "output_type": "display_data"
    },
    {
     "data": {
      "application/vnd.jupyter.widget-view+json": {
       "model_id": "49ce5dcbc8b24100923f59bed4329e4c",
       "version_major": 2,
       "version_minor": 0
      },
      "text/plain": [
       "  0%|          | 0/2000 [00:00<?, ?it/s]"
      ]
     },
     "metadata": {},
     "output_type": "display_data"
    },
    {
     "ename": "",
     "evalue": "",
     "output_type": "error",
     "traceback": [
      "\u001b[1;31mThe Kernel crashed while executing code in the the current cell or a previous cell. Please review the code in the cell(s) to identify a possible cause of the failure. Click <a href='https://aka.ms/vscodeJupyterKernelCrash'>here</a> for more info. View Jupyter <a href='command:jupyter.viewOutput'>log</a> for further details."
     ]
    },
    {
     "ename": "",
     "evalue": "",
     "output_type": "error",
     "traceback": [
      "\u001b[1;31mCanceled future for execute_request message before replies were done"
     ]
    },
    {
     "ename": "",
     "evalue": "",
     "output_type": "error",
     "traceback": [
      "\u001b[1;31mThe Kernel crashed while executing code in the the current cell or a previous cell. Please review the code in the cell(s) to identify a possible cause of the failure. Click <a href='https://aka.ms/vscodeJupyterKernelCrash'>here</a> for more info. View Jupyter <a href='command:jupyter.viewOutput'>log</a> for further details."
     ]
    },
    {
     "ename": "",
     "evalue": "",
     "output_type": "error",
     "traceback": [
      "\u001b[1;31mThe Kernel crashed while executing code in the the current cell or a previous cell. Please review the code in the cell(s) to identify a possible cause of the failure. Click <a href='https://aka.ms/vscodeJupyterKernelCrash'>here</a> for more info. View Jupyter <a href='command:jupyter.viewOutput'>log</a> for further details."
     ]
    },
    {
     "ename": "",
     "evalue": "",
     "output_type": "error",
     "traceback": [
      "\u001b[1;31mThe Kernel crashed while executing code in the the current cell or a previous cell. Please review the code in the cell(s) to identify a possible cause of the failure. Click <a href='https://aka.ms/vscodeJupyterKernelCrash'>here</a> for more info. View Jupyter <a href='command:jupyter.viewOutput'>log</a> for further details."
     ]
    },
    {
     "ename": "",
     "evalue": "",
     "output_type": "error",
     "traceback": [
      "\u001b[1;31mThe Kernel crashed while executing code in the the current cell or a previous cell. Please review the code in the cell(s) to identify a possible cause of the failure. Click <a href='https://aka.ms/vscodeJupyterKernelCrash'>here</a> for more info. View Jupyter <a href='command:jupyter.viewOutput'>log</a> for further details."
     ]
    }
   ],
   "source": [
    "durs = [0.01, 0.15, 0.02, 0.04, 0.06, 0.08, 0.1, 0.12, 0.14]\n",
    "durs = [0.08, 0.1]\n",
    "durats = ['80ms', '100ms']\n",
    "\n",
    "\n",
    "\n",
    "for idx in  range(len(durats)):\n",
    "\n",
    "    print(f' ------------ {durats[idx]} ------------')\n",
    "    for inten in [7.5e5, 5e5, 3e5, 1e5, 8e4, 6e4]:\n",
    "        # Create progress bar\n",
    "        pbar = tqdm(total = 2000)\n",
    "\n",
    "        # Generate dataset\n",
    "        generate_dataset_parallel(\n",
    "            Arguments(\n",
    "                name = 'FRB',\n",
    "                method = 'FFT',\n",
    "                atm = full_atm,\n",
    "                duration = durs[idx],\n",
    "                duration_label = durats[idx],\n",
    "                num_simulations = 2000,\n",
    "                num_phot = int(inten),\n",
    "                offset = 2000\n",
    "            ),\n",
    "            pbar\n",
    "        )"
   ]
  },
  {
   "cell_type": "code",
   "execution_count": 10,
   "metadata": {},
   "outputs": [
    {
     "name": "stdout",
     "output_type": "stream",
     "text": [
      " ------------ 150ms ------------\n"
     ]
    },
    {
     "data": {
      "application/vnd.jupyter.widget-view+json": {
       "model_id": "f64033feedac41b4b9c35b7f765e57d6",
       "version_major": 2,
       "version_minor": 0
      },
      "text/plain": [
       "  0%|          | 0/2000 [00:00<?, ?it/s]"
      ]
     },
     "metadata": {},
     "output_type": "display_data"
    },
    {
     "data": {
      "application/vnd.jupyter.widget-view+json": {
       "model_id": "d57fb37b201440fe95717cbbbb201ad4",
       "version_major": 2,
       "version_minor": 0
      },
      "text/plain": [
       "  0%|          | 0/2000 [00:00<?, ?it/s]"
      ]
     },
     "metadata": {},
     "output_type": "display_data"
    },
    {
     "data": {
      "application/vnd.jupyter.widget-view+json": {
       "model_id": "2d97881c54e047fcb3658949f13950c4",
       "version_major": 2,
       "version_minor": 0
      },
      "text/plain": [
       "  0%|          | 0/2000 [00:00<?, ?it/s]"
      ]
     },
     "metadata": {},
     "output_type": "display_data"
    },
    {
     "data": {
      "application/vnd.jupyter.widget-view+json": {
       "model_id": "4f404ffb0973410b9e4482f146b48bf8",
       "version_major": 2,
       "version_minor": 0
      },
      "text/plain": [
       "  0%|          | 0/2000 [00:00<?, ?it/s]"
      ]
     },
     "metadata": {},
     "output_type": "display_data"
    },
    {
     "data": {
      "application/vnd.jupyter.widget-view+json": {
       "model_id": "1559a606c3a146a8b67128cbc539ccf2",
       "version_major": 2,
       "version_minor": 0
      },
      "text/plain": [
       "  0%|          | 0/2000 [00:00<?, ?it/s]"
      ]
     },
     "metadata": {},
     "output_type": "display_data"
    },
    {
     "data": {
      "application/vnd.jupyter.widget-view+json": {
       "model_id": "dd6b2c99cc374c0ca3c5a152690aef1e",
       "version_major": 2,
       "version_minor": 0
      },
      "text/plain": [
       "  0%|          | 0/2000 [00:00<?, ?it/s]"
      ]
     },
     "metadata": {},
     "output_type": "display_data"
    },
    {
     "data": {
      "application/vnd.jupyter.widget-view+json": {
       "model_id": "fd34992cd81b447cb424fa7f16c2047d",
       "version_major": 2,
       "version_minor": 0
      },
      "text/plain": [
       "  0%|          | 0/2000 [00:00<?, ?it/s]"
      ]
     },
     "metadata": {},
     "output_type": "display_data"
    },
    {
     "data": {
      "application/vnd.jupyter.widget-view+json": {
       "model_id": "1a39c77dc2fd44fc9a5452387b23f4d6",
       "version_major": 2,
       "version_minor": 0
      },
      "text/plain": [
       "  0%|          | 0/2000 [00:00<?, ?it/s]"
      ]
     },
     "metadata": {},
     "output_type": "display_data"
    },
    {
     "name": "stdout",
     "output_type": "stream",
     "text": [
      " ------------ 200ms ------------\n"
     ]
    },
    {
     "data": {
      "application/vnd.jupyter.widget-view+json": {
       "model_id": "8fbaa6964eb042cd9a2ba94614f24418",
       "version_major": 2,
       "version_minor": 0
      },
      "text/plain": [
       "  0%|          | 0/2000 [00:00<?, ?it/s]"
      ]
     },
     "metadata": {},
     "output_type": "display_data"
    },
    {
     "data": {
      "application/vnd.jupyter.widget-view+json": {
       "model_id": "b5bed57833a44e069b55f7c7d52a8d6b",
       "version_major": 2,
       "version_minor": 0
      },
      "text/plain": [
       "  0%|          | 0/2000 [00:00<?, ?it/s]"
      ]
     },
     "metadata": {},
     "output_type": "display_data"
    },
    {
     "data": {
      "application/vnd.jupyter.widget-view+json": {
       "model_id": "220d6b1bc70c40f0b401f8863459e1ba",
       "version_major": 2,
       "version_minor": 0
      },
      "text/plain": [
       "  0%|          | 0/2000 [00:00<?, ?it/s]"
      ]
     },
     "metadata": {},
     "output_type": "display_data"
    },
    {
     "data": {
      "application/vnd.jupyter.widget-view+json": {
       "model_id": "2a3581dcc7d741ed9c94c45c56449d15",
       "version_major": 2,
       "version_minor": 0
      },
      "text/plain": [
       "  0%|          | 0/2000 [00:00<?, ?it/s]"
      ]
     },
     "metadata": {},
     "output_type": "display_data"
    },
    {
     "data": {
      "application/vnd.jupyter.widget-view+json": {
       "model_id": "bad730a983954971b1fbc15fa683d5c0",
       "version_major": 2,
       "version_minor": 0
      },
      "text/plain": [
       "  0%|          | 0/2000 [00:00<?, ?it/s]"
      ]
     },
     "metadata": {},
     "output_type": "display_data"
    },
    {
     "data": {
      "application/vnd.jupyter.widget-view+json": {
       "model_id": "2d34aea8f17b42c7a296cad706d1b813",
       "version_major": 2,
       "version_minor": 0
      },
      "text/plain": [
       "  0%|          | 0/2000 [00:00<?, ?it/s]"
      ]
     },
     "metadata": {},
     "output_type": "display_data"
    },
    {
     "data": {
      "application/vnd.jupyter.widget-view+json": {
       "model_id": "331a5690e8e04d928ca58ad74adc7f86",
       "version_major": 2,
       "version_minor": 0
      },
      "text/plain": [
       "  0%|          | 0/2000 [00:00<?, ?it/s]"
      ]
     },
     "metadata": {},
     "output_type": "display_data"
    },
    {
     "data": {
      "application/vnd.jupyter.widget-view+json": {
       "model_id": "0935c76cf2374f6ca34bb1efe0e0fbdc",
       "version_major": 2,
       "version_minor": 0
      },
      "text/plain": [
       "  0%|          | 0/2000 [00:00<?, ?it/s]"
      ]
     },
     "metadata": {},
     "output_type": "display_data"
    },
    {
     "name": "stdout",
     "output_type": "stream",
     "text": [
      " ------------ 400ms ------------\n"
     ]
    },
    {
     "data": {
      "application/vnd.jupyter.widget-view+json": {
       "model_id": "c8ce96c22abf4517b3530cfe19b06d32",
       "version_major": 2,
       "version_minor": 0
      },
      "text/plain": [
       "  0%|          | 0/2000 [00:00<?, ?it/s]"
      ]
     },
     "metadata": {},
     "output_type": "display_data"
    },
    {
     "name": "stderr",
     "output_type": "stream",
     "text": [
      "Process ForkPoolWorker-13862:\n",
      "Process ForkPoolWorker-13800:\n",
      "Process ForkPoolWorker-13754:\n",
      "Process ForkPoolWorker-13732:\n",
      "Process ForkPoolWorker-13842:\n",
      "Process ForkPoolWorker-13846:\n",
      "Process ForkPoolWorker-13817:\n",
      "Process ForkPoolWorker-13735:\n",
      "Process ForkPoolWorker-13804:\n",
      "Process ForkPoolWorker-13863:\n",
      "Process ForkPoolWorker-13849:\n",
      "Process ForkPoolWorker-13762:\n",
      "Process ForkPoolWorker-13834:\n",
      "Process ForkPoolWorker-13816:\n",
      "Process ForkPoolWorker-13812:\n",
      "Process ForkPoolWorker-13819:\n",
      "Process ForkPoolWorker-13776:\n",
      "Process ForkPoolWorker-13851:\n",
      "Process ForkPoolWorker-13878:\n",
      "Process ForkPoolWorker-13743:\n",
      "Process ForkPoolWorker-13847:\n",
      "Process ForkPoolWorker-13793:\n",
      "Process ForkPoolWorker-13748:\n",
      "Process ForkPoolWorker-13818:\n",
      "Process ForkPoolWorker-13770:\n",
      "Process ForkPoolWorker-13821:\n",
      "Process ForkPoolWorker-13840:\n",
      "Process ForkPoolWorker-13731:\n",
      "Process ForkPoolWorker-13737:\n",
      "Process ForkPoolWorker-13880:\n",
      "Traceback (most recent call last):\n",
      "Traceback (most recent call last):\n",
      "Process ForkPoolWorker-13729:\n",
      "Traceback (most recent call last):\n",
      "Traceback (most recent call last):\n",
      "Process ForkPoolWorker-13874:\n",
      "Process ForkPoolWorker-13777:\n",
      "Traceback (most recent call last):\n",
      "Process ForkPoolWorker-13837:\n",
      "Process ForkPoolWorker-13790:\n",
      "Process ForkPoolWorker-13879:\n",
      "Process ForkPoolWorker-13780:\n",
      "Process ForkPoolWorker-13872:\n",
      "  File \"/opt/conda/lib/python3.7/multiprocessing/process.py\", line 297, in _bootstrap\n",
      "    self.run()\n",
      "Process ForkPoolWorker-13825:\n",
      "  File \"/opt/conda/lib/python3.7/multiprocessing/process.py\", line 297, in _bootstrap\n",
      "    self.run()\n",
      "Process ForkPoolWorker-13815:\n",
      "Traceback (most recent call last):\n",
      "Process ForkPoolWorker-13752:\n",
      "Traceback (most recent call last):\n",
      "Traceback (most recent call last):\n",
      "  File \"/opt/conda/lib/python3.7/multiprocessing/process.py\", line 297, in _bootstrap\n",
      "    self.run()\n",
      "Traceback (most recent call last):\n",
      "  File \"/opt/conda/lib/python3.7/multiprocessing/process.py\", line 297, in _bootstrap\n",
      "    self.run()\n",
      "Traceback (most recent call last):\n",
      "Traceback (most recent call last):\n",
      "Traceback (most recent call last):\n",
      "Process ForkPoolWorker-13857:\n",
      "Traceback (most recent call last):\n",
      "Traceback (most recent call last):\n",
      "Traceback (most recent call last):\n",
      "Traceback (most recent call last):\n",
      "Process ForkPoolWorker-13767:\n",
      "Process ForkPoolWorker-13833:\n",
      "Traceback (most recent call last):\n",
      "Process ForkPoolWorker-13759:\n",
      "Traceback (most recent call last):\n",
      "Traceback (most recent call last):\n",
      "Traceback (most recent call last):\n",
      "Process ForkPoolWorker-13784:\n",
      "Traceback (most recent call last):\n",
      "Traceback (most recent call last):\n",
      "Process ForkPoolWorker-13753:\n",
      "Traceback (most recent call last):\n",
      "Traceback (most recent call last):\n",
      "Traceback (most recent call last):\n",
      "Process ForkPoolWorker-13854:\n",
      "Process ForkPoolWorker-13779:\n",
      "  File \"/opt/conda/lib/python3.7/multiprocessing/process.py\", line 99, in run\n",
      "    self._target(*self._args, **self._kwargs)\n",
      "Traceback (most recent call last):\n",
      "Traceback (most recent call last):\n",
      "Process ForkPoolWorker-13843:\n",
      "  File \"/opt/conda/lib/python3.7/multiprocessing/process.py\", line 297, in _bootstrap\n",
      "    self.run()\n",
      "Process ForkPoolWorker-13883:\n",
      "Traceback (most recent call last):\n",
      "  File \"/opt/conda/lib/python3.7/multiprocessing/process.py\", line 297, in _bootstrap\n",
      "    self.run()\n",
      "Traceback (most recent call last):\n",
      "  File \"/opt/conda/lib/python3.7/multiprocessing/process.py\", line 99, in run\n",
      "    self._target(*self._args, **self._kwargs)\n",
      "  File \"/opt/conda/lib/python3.7/multiprocessing/process.py\", line 297, in _bootstrap\n",
      "    self.run()\n",
      "  File \"/opt/conda/lib/python3.7/multiprocessing/process.py\", line 99, in run\n",
      "    self._target(*self._args, **self._kwargs)\n",
      "  File \"/opt/conda/lib/python3.7/multiprocessing/process.py\", line 297, in _bootstrap\n",
      "    self.run()\n",
      "  File \"/opt/conda/lib/python3.7/multiprocessing/process.py\", line 297, in _bootstrap\n",
      "    self.run()\n",
      "Process ForkPoolWorker-13760:\n",
      "Process ForkPoolWorker-13864:\n",
      "Traceback (most recent call last):\n",
      "  File \"/opt/conda/lib/python3.7/multiprocessing/process.py\", line 297, in _bootstrap\n",
      "    self.run()\n",
      "Traceback (most recent call last):\n",
      "Traceback (most recent call last):\n",
      "  File \"/opt/conda/lib/python3.7/multiprocessing/process.py\", line 297, in _bootstrap\n",
      "    self.run()\n",
      "Process ForkPoolWorker-13769:\n",
      "Traceback (most recent call last):\n",
      "  File \"/opt/conda/lib/python3.7/multiprocessing/process.py\", line 297, in _bootstrap\n",
      "    self.run()\n",
      "Process ForkPoolWorker-13820:\n",
      "Traceback (most recent call last):\n",
      "  File \"/opt/conda/lib/python3.7/multiprocessing/process.py\", line 99, in run\n",
      "    self._target(*self._args, **self._kwargs)\n",
      "Process ForkPoolWorker-13740:\n",
      "  File \"/opt/conda/lib/python3.7/multiprocessing/process.py\", line 297, in _bootstrap\n",
      "    self.run()\n",
      "Process ForkPoolWorker-13801:\n",
      "Traceback (most recent call last):\n",
      "  File \"/opt/conda/lib/python3.7/multiprocessing/process.py\", line 297, in _bootstrap\n",
      "    self.run()\n",
      "Traceback (most recent call last):\n",
      "Process ForkPoolWorker-13786:\n",
      "  File \"/opt/conda/lib/python3.7/multiprocessing/process.py\", line 297, in _bootstrap\n",
      "    self.run()\n",
      "Process ForkPoolWorker-13844:\n",
      "  File \"/opt/conda/lib/python3.7/multiprocessing/process.py\", line 297, in _bootstrap\n",
      "    self.run()\n",
      "  File \"/opt/conda/lib/python3.7/multiprocessing/process.py\", line 297, in _bootstrap\n",
      "    self.run()\n",
      "Traceback (most recent call last):\n",
      "Process ForkPoolWorker-13807:\n",
      "Traceback (most recent call last):\n",
      "  File \"/opt/conda/lib/python3.7/multiprocessing/process.py\", line 297, in _bootstrap\n",
      "    self.run()\n",
      "Traceback (most recent call last):\n",
      "Traceback (most recent call last):\n",
      "Process ForkPoolWorker-13783:\n",
      "  File \"/opt/conda/lib/python3.7/multiprocessing/process.py\", line 297, in _bootstrap\n",
      "    self.run()\n",
      "Traceback (most recent call last):\n",
      "  File \"/opt/conda/lib/python3.7/multiprocessing/process.py\", line 297, in _bootstrap\n",
      "    self.run()\n",
      "Process ForkPoolWorker-13758:\n",
      "Traceback (most recent call last):\n",
      "Process ForkPoolWorker-13802:\n",
      "Traceback (most recent call last):\n",
      "Traceback (most recent call last):\n",
      "Traceback (most recent call last):\n",
      "  File \"/opt/conda/lib/python3.7/multiprocessing/process.py\", line 297, in _bootstrap\n",
      "    self.run()\n",
      "Process ForkPoolWorker-13739:\n",
      "Process ForkPoolWorker-13845:\n",
      "Process ForkPoolWorker-13781:\n",
      "Process ForkPoolWorker-13789:\n",
      "Process ForkPoolWorker-13848:\n",
      "Process ForkPoolWorker-13814:\n",
      "Process ForkPoolWorker-13866:\n",
      "  File \"/opt/conda/lib/python3.7/multiprocessing/process.py\", line 297, in _bootstrap\n",
      "    self.run()\n",
      "  File \"/opt/conda/lib/python3.7/multiprocessing/process.py\", line 297, in _bootstrap\n",
      "    self.run()\n",
      "Process ForkPoolWorker-13859:\n",
      "  File \"/opt/conda/lib/python3.7/multiprocessing/process.py\", line 99, in run\n",
      "    self._target(*self._args, **self._kwargs)\n",
      "  File \"/opt/conda/lib/python3.7/multiprocessing/process.py\", line 297, in _bootstrap\n",
      "    self.run()\n",
      "  File \"/opt/conda/lib/python3.7/multiprocessing/process.py\", line 297, in _bootstrap\n",
      "    self.run()\n",
      "  File \"/opt/conda/lib/python3.7/multiprocessing/process.py\", line 99, in run\n",
      "    self._target(*self._args, **self._kwargs)\n",
      "Process ForkPoolWorker-13875:\n",
      "Traceback (most recent call last):\n",
      "  File \"/opt/conda/lib/python3.7/multiprocessing/process.py\", line 297, in _bootstrap\n",
      "    self.run()\n",
      "Traceback (most recent call last):\n",
      "  File \"/opt/conda/lib/python3.7/multiprocessing/process.py\", line 297, in _bootstrap\n",
      "    self.run()\n",
      "  File \"/opt/conda/lib/python3.7/multiprocessing/process.py\", line 297, in _bootstrap\n",
      "    self.run()\n",
      "  File \"/opt/conda/lib/python3.7/multiprocessing/pool.py\", line 121, in worker\n",
      "    result = (True, func(*args, **kwds))\n",
      "  File \"/opt/conda/lib/python3.7/multiprocessing/process.py\", line 99, in run\n",
      "    self._target(*self._args, **self._kwargs)\n",
      "  File \"/opt/conda/lib/python3.7/multiprocessing/process.py\", line 99, in run\n",
      "    self._target(*self._args, **self._kwargs)\n",
      "  File \"/opt/conda/lib/python3.7/multiprocessing/process.py\", line 297, in _bootstrap\n",
      "    self.run()\n",
      "  File \"/opt/conda/lib/python3.7/multiprocessing/process.py\", line 297, in _bootstrap\n",
      "    self.run()\n",
      "  File \"/opt/conda/lib/python3.7/multiprocessing/process.py\", line 99, in run\n",
      "    self._target(*self._args, **self._kwargs)\n",
      "Process ForkPoolWorker-13809:\n",
      "Traceback (most recent call last):\n",
      "Traceback (most recent call last):\n",
      "  File \"/opt/conda/lib/python3.7/multiprocessing/process.py\", line 297, in _bootstrap\n",
      "    self.run()\n"
     ]
    },
    {
     "name": "stderr",
     "output_type": "stream",
     "text": [
      "  File \"/opt/conda/lib/python3.7/multiprocessing/pool.py\", line 121, in worker\n",
      "    result = (True, func(*args, **kwds))\n",
      "  File \"/opt/conda/lib/python3.7/multiprocessing/process.py\", line 99, in run\n",
      "    self._target(*self._args, **self._kwargs)\n",
      "Traceback (most recent call last):\n",
      "Process ForkPoolWorker-13881:\n",
      "Process ForkPoolWorker-13882:\n",
      "  File \"/opt/conda/lib/python3.7/multiprocessing/process.py\", line 297, in _bootstrap\n",
      "    self.run()\n",
      "Traceback (most recent call last):\n",
      "  File \"/opt/conda/lib/python3.7/multiprocessing/process.py\", line 99, in run\n",
      "    self._target(*self._args, **self._kwargs)\n",
      "Traceback (most recent call last):\n",
      "  File \"/opt/conda/lib/python3.7/multiprocessing/process.py\", line 297, in _bootstrap\n",
      "    self.run()\n",
      "Process ForkPoolWorker-13884:\n",
      "  File \"/opt/conda/lib/python3.7/multiprocessing/process.py\", line 297, in _bootstrap\n",
      "    self.run()\n",
      "Process ForkPoolWorker-13839:\n",
      "  File \"/opt/conda/lib/python3.7/multiprocessing/process.py\", line 99, in run\n",
      "    self._target(*self._args, **self._kwargs)\n",
      "Process ForkPoolWorker-13868:\n",
      "  File \"/opt/conda/lib/python3.7/multiprocessing/process.py\", line 99, in run\n",
      "    self._target(*self._args, **self._kwargs)\n",
      "  File \"/opt/conda/lib/python3.7/multiprocessing/process.py\", line 297, in _bootstrap\n",
      "    self.run()\n",
      "Process ForkPoolWorker-13730:\n",
      "  File \"/opt/conda/lib/python3.7/multiprocessing/process.py\", line 99, in run\n",
      "    self._target(*self._args, **self._kwargs)\n",
      "Traceback (most recent call last):\n",
      "  File \"/opt/conda/lib/python3.7/multiprocessing/process.py\", line 297, in _bootstrap\n",
      "    self.run()\n",
      "Process ForkPoolWorker-13788:\n",
      "  File \"/opt/conda/lib/python3.7/multiprocessing/process.py\", line 297, in _bootstrap\n",
      "    self.run()\n",
      "Traceback (most recent call last):\n",
      "Process ForkPoolWorker-13795:\n",
      "  File \"/opt/conda/lib/python3.7/multiprocessing/process.py\", line 99, in run\n",
      "    self._target(*self._args, **self._kwargs)\n",
      "Traceback (most recent call last):\n",
      "  File \"/opt/conda/lib/python3.7/multiprocessing/process.py\", line 297, in _bootstrap\n",
      "    self.run()\n",
      "Process ForkPoolWorker-13838:\n",
      "Process ForkPoolWorker-13829:\n",
      "  File \"/opt/conda/lib/python3.7/multiprocessing/process.py\", line 297, in _bootstrap\n",
      "    self.run()\n",
      "Traceback (most recent call last):\n",
      "Traceback (most recent call last):\n",
      "  File \"/opt/conda/lib/python3.7/multiprocessing/process.py\", line 99, in run\n",
      "    self._target(*self._args, **self._kwargs)\n",
      "Traceback (most recent call last):\n",
      "  File \"/opt/conda/lib/python3.7/multiprocessing/process.py\", line 297, in _bootstrap\n",
      "    self.run()\n",
      "  File \"/opt/conda/lib/python3.7/multiprocessing/process.py\", line 99, in run\n",
      "    self._target(*self._args, **self._kwargs)\n",
      "Traceback (most recent call last):\n",
      "  File \"/opt/conda/lib/python3.7/multiprocessing/process.py\", line 99, in run\n",
      "    self._target(*self._args, **self._kwargs)\n",
      "Traceback (most recent call last):\n",
      "Process ForkPoolWorker-13850:\n",
      "  File \"/opt/conda/lib/python3.7/multiprocessing/pool.py\", line 121, in worker\n",
      "    result = (True, func(*args, **kwds))\n",
      "Traceback (most recent call last):\n",
      "  File \"/opt/conda/lib/python3.7/multiprocessing/pool.py\", line 121, in worker\n",
      "    result = (True, func(*args, **kwds))\n",
      "Process ForkPoolWorker-13876:\n",
      "Traceback (most recent call last):\n",
      "  File \"/opt/conda/lib/python3.7/multiprocessing/process.py\", line 297, in _bootstrap\n",
      "    self.run()\n",
      "Process ForkPoolWorker-13744:\n",
      "  File \"/opt/conda/lib/python3.7/multiprocessing/process.py\", line 297, in _bootstrap\n",
      "    self.run()\n",
      "  File \"/opt/conda/lib/python3.7/multiprocessing/process.py\", line 99, in run\n",
      "    self._target(*self._args, **self._kwargs)\n",
      "  File \"/opt/conda/lib/python3.7/multiprocessing/process.py\", line 297, in _bootstrap\n",
      "    self.run()\n",
      "Traceback (most recent call last):\n",
      "Process ForkPoolWorker-13841:\n",
      "  File \"/opt/conda/lib/python3.7/multiprocessing/process.py\", line 297, in _bootstrap\n",
      "    self.run()\n",
      "Process ForkPoolWorker-13867:\n",
      "Traceback (most recent call last):\n",
      "Process ForkPoolWorker-13787:\n",
      "Traceback (most recent call last):\n",
      "Traceback (most recent call last):\n",
      "  File \"/opt/conda/lib/python3.7/multiprocessing/process.py\", line 297, in _bootstrap\n",
      "    self.run()\n",
      "Process ForkPoolWorker-13747:\n",
      "Traceback (most recent call last):\n",
      "  File \"/opt/conda/lib/python3.7/multiprocessing/process.py\", line 99, in run\n",
      "    self._target(*self._args, **self._kwargs)\n",
      "Traceback (most recent call last):\n",
      "  File \"/opt/conda/lib/python3.7/multiprocessing/process.py\", line 99, in run\n",
      "    self._target(*self._args, **self._kwargs)\n",
      "  File \"/opt/conda/lib/python3.7/multiprocessing/process.py\", line 99, in run\n",
      "    self._target(*self._args, **self._kwargs)\n",
      "Process ForkPoolWorker-13832:\n",
      "  File \"/opt/conda/lib/python3.7/multiprocessing/process.py\", line 297, in _bootstrap\n",
      "    self.run()\n",
      "  File \"/opt/conda/lib/python3.7/multiprocessing/process.py\", line 99, in run\n",
      "    self._target(*self._args, **self._kwargs)\n",
      "Traceback (most recent call last):\n",
      "  File \"/opt/conda/lib/python3.7/multiprocessing/pool.py\", line 121, in worker\n",
      "    result = (True, func(*args, **kwds))\n",
      "  File \"/opt/conda/lib/python3.7/multiprocessing/process.py\", line 99, in run\n",
      "    self._target(*self._args, **self._kwargs)\n",
      "  File \"/opt/conda/lib/python3.7/multiprocessing/process.py\", line 99, in run\n",
      "    self._target(*self._args, **self._kwargs)\n",
      "Traceback (most recent call last):\n",
      "Process ForkPoolWorker-13860:\n",
      "  File \"/opt/conda/lib/python3.7/multiprocessing/process.py\", line 99, in run\n",
      "    self._target(*self._args, **self._kwargs)\n",
      "Process ForkPoolWorker-13806:\n",
      "  File \"/opt/conda/lib/python3.7/multiprocessing/process.py\", line 297, in _bootstrap\n",
      "    self.run()\n",
      "  File \"/opt/conda/lib/python3.7/multiprocessing/process.py\", line 99, in run\n",
      "    self._target(*self._args, **self._kwargs)\n",
      "Traceback (most recent call last):\n",
      "  File \"/tmp/ipykernel_5397/213037740.py\", line 13, in generate_dataset2\n",
      "    traced_photons, wavelengths = trace.tracePhotons(args.name, args.num_phot, rng, observation, wavelength, args.atm, args.method, args.duration)\n",
      "  File \"/opt/conda/lib/python3.7/multiprocessing/process.py\", line 297, in _bootstrap\n",
      "    self.run()\n",
      "  File \"/opt/conda/lib/python3.7/multiprocessing/process.py\", line 99, in run\n",
      "    self._target(*self._args, **self._kwargs)\n",
      "  File \"/opt/conda/lib/python3.7/multiprocessing/process.py\", line 99, in run\n",
      "    self._target(*self._args, **self._kwargs)\n",
      "  File \"/opt/conda/lib/python3.7/multiprocessing/process.py\", line 99, in run\n",
      "    self._target(*self._args, **self._kwargs)\n",
      "  File \"/opt/conda/lib/python3.7/multiprocessing/pool.py\", line 121, in worker\n",
      "    result = (True, func(*args, **kwds))\n",
      "  File \"/opt/conda/lib/python3.7/multiprocessing/process.py\", line 297, in _bootstrap\n",
      "    self.run()\n",
      "Traceback (most recent call last):\n",
      "  File \"/tmp/ipykernel_5397/213037740.py\", line 13, in generate_dataset2\n",
      "    traced_photons, wavelengths = trace.tracePhotons(args.name, args.num_phot, rng, observation, wavelength, args.atm, args.method, args.duration)\n",
      "  File \"/opt/conda/lib/python3.7/multiprocessing/process.py\", line 99, in run\n",
      "    self._target(*self._args, **self._kwargs)\n",
      "  File \"/opt/conda/lib/python3.7/multiprocessing/pool.py\", line 121, in worker\n",
      "    result = (True, func(*args, **kwds))\n",
      "  File \"/opt/conda/lib/python3.7/multiprocessing/pool.py\", line 121, in worker\n",
      "    result = (True, func(*args, **kwds))\n",
      "  File \"/opt/conda/lib/python3.7/multiprocessing/pool.py\", line 121, in worker\n",
      "    result = (True, func(*args, **kwds))\n",
      "  File \"/opt/conda/lib/python3.7/multiprocessing/pool.py\", line 121, in worker\n",
      "    result = (True, func(*args, **kwds))\n",
      "Process ForkPoolWorker-13765:\n",
      "Traceback (most recent call last):\n",
      "  File \"/opt/conda/lib/python3.7/multiprocessing/process.py\", line 99, in run\n",
      "    self._target(*self._args, **self._kwargs)\n",
      "Traceback (most recent call last):\n",
      "  File \"/opt/conda/lib/python3.7/multiprocessing/process.py\", line 297, in _bootstrap\n",
      "    self.run()\n",
      "  File \"/opt/conda/lib/python3.7/multiprocessing/process.py\", line 297, in _bootstrap\n",
      "    self.run()\n",
      "Process ForkPoolWorker-13768:\n",
      "  File \"/opt/conda/lib/python3.7/multiprocessing/process.py\", line 99, in run\n",
      "    self._target(*self._args, **self._kwargs)\n",
      "  File \"/opt/conda/lib/python3.7/multiprocessing/process.py\", line 297, in _bootstrap\n",
      "    self.run()\n",
      "  File \"/opt/conda/lib/python3.7/multiprocessing/pool.py\", line 121, in worker\n",
      "    result = (True, func(*args, **kwds))\n"
     ]
    },
    {
     "name": "stderr",
     "output_type": "stream",
     "text": [
      "Traceback (most recent call last):\n",
      "  File \"/opt/conda/lib/python3.7/multiprocessing/process.py\", line 99, in run\n",
      "    self._target(*self._args, **self._kwargs)\n"
     ]
    },
    {
     "ename": "KeyboardInterrupt",
     "evalue": "",
     "output_type": "error",
     "traceback": [
      "\u001b[0;31m---------------------------------------------------------------------------\u001b[0m",
      "\u001b[0;31mKeyboardInterrupt\u001b[0m                         Traceback (most recent call last)",
      "\u001b[0;32m<timed exec>\u001b[0m in \u001b[0;36m<module>\u001b[0;34m\u001b[0m\n",
      "\u001b[0;32m/tmp/ipykernel_5397/213037740.py\u001b[0m in \u001b[0;36mgenerate_dataset_parallel\u001b[0;34m(argums, pbar)\u001b[0m\n\u001b[1;32m     39\u001b[0m \u001b[0;34m\u001b[0m\u001b[0m\n\u001b[1;32m     40\u001b[0m     \u001b[0mpool\u001b[0m\u001b[0;34m.\u001b[0m\u001b[0mclose\u001b[0m\u001b[0;34m(\u001b[0m\u001b[0;34m)\u001b[0m\u001b[0;34m\u001b[0m\u001b[0;34m\u001b[0m\u001b[0m\n\u001b[0;32m---> 41\u001b[0;31m     \u001b[0mpool\u001b[0m\u001b[0;34m.\u001b[0m\u001b[0mjoin\u001b[0m\u001b[0;34m(\u001b[0m\u001b[0;34m)\u001b[0m\u001b[0;34m\u001b[0m\u001b[0;34m\u001b[0m\u001b[0m\n\u001b[0m\u001b[1;32m     42\u001b[0m \u001b[0;34m\u001b[0m\u001b[0m\n\u001b[1;32m     43\u001b[0m     \u001b[0;31m# Close progressbar\u001b[0m\u001b[0;34m\u001b[0m\u001b[0;34m\u001b[0m\u001b[0;34m\u001b[0m\u001b[0m\n",
      "\u001b[0;32m/opt/conda/lib/python3.7/multiprocessing/pool.py\u001b[0m in \u001b[0;36mjoin\u001b[0;34m(self)\u001b[0m\n\u001b[1;32m    554\u001b[0m         \u001b[0;32melif\u001b[0m \u001b[0mself\u001b[0m\u001b[0;34m.\u001b[0m\u001b[0m_state\u001b[0m \u001b[0;32mnot\u001b[0m \u001b[0;32min\u001b[0m \u001b[0;34m(\u001b[0m\u001b[0mCLOSE\u001b[0m\u001b[0;34m,\u001b[0m \u001b[0mTERMINATE\u001b[0m\u001b[0;34m)\u001b[0m\u001b[0;34m:\u001b[0m\u001b[0;34m\u001b[0m\u001b[0;34m\u001b[0m\u001b[0m\n\u001b[1;32m    555\u001b[0m             \u001b[0;32mraise\u001b[0m \u001b[0mValueError\u001b[0m\u001b[0;34m(\u001b[0m\u001b[0;34m\"In unknown state\"\u001b[0m\u001b[0;34m)\u001b[0m\u001b[0;34m\u001b[0m\u001b[0;34m\u001b[0m\u001b[0m\n\u001b[0;32m--> 556\u001b[0;31m         \u001b[0mself\u001b[0m\u001b[0;34m.\u001b[0m\u001b[0m_worker_handler\u001b[0m\u001b[0;34m.\u001b[0m\u001b[0mjoin\u001b[0m\u001b[0;34m(\u001b[0m\u001b[0;34m)\u001b[0m\u001b[0;34m\u001b[0m\u001b[0;34m\u001b[0m\u001b[0m\n\u001b[0m\u001b[1;32m    557\u001b[0m         \u001b[0mself\u001b[0m\u001b[0;34m.\u001b[0m\u001b[0m_task_handler\u001b[0m\u001b[0;34m.\u001b[0m\u001b[0mjoin\u001b[0m\u001b[0;34m(\u001b[0m\u001b[0;34m)\u001b[0m\u001b[0;34m\u001b[0m\u001b[0;34m\u001b[0m\u001b[0m\n\u001b[1;32m    558\u001b[0m         \u001b[0mself\u001b[0m\u001b[0;34m.\u001b[0m\u001b[0m_result_handler\u001b[0m\u001b[0;34m.\u001b[0m\u001b[0mjoin\u001b[0m\u001b[0;34m(\u001b[0m\u001b[0;34m)\u001b[0m\u001b[0;34m\u001b[0m\u001b[0;34m\u001b[0m\u001b[0m\n",
      "\u001b[0;32m/opt/conda/lib/python3.7/threading.py\u001b[0m in \u001b[0;36mjoin\u001b[0;34m(self, timeout)\u001b[0m\n\u001b[1;32m   1042\u001b[0m \u001b[0;34m\u001b[0m\u001b[0m\n\u001b[1;32m   1043\u001b[0m         \u001b[0;32mif\u001b[0m \u001b[0mtimeout\u001b[0m \u001b[0;32mis\u001b[0m \u001b[0;32mNone\u001b[0m\u001b[0;34m:\u001b[0m\u001b[0;34m\u001b[0m\u001b[0;34m\u001b[0m\u001b[0m\n\u001b[0;32m-> 1044\u001b[0;31m             \u001b[0mself\u001b[0m\u001b[0;34m.\u001b[0m\u001b[0m_wait_for_tstate_lock\u001b[0m\u001b[0;34m(\u001b[0m\u001b[0;34m)\u001b[0m\u001b[0;34m\u001b[0m\u001b[0;34m\u001b[0m\u001b[0m\n\u001b[0m\u001b[1;32m   1045\u001b[0m         \u001b[0;32melse\u001b[0m\u001b[0;34m:\u001b[0m\u001b[0;34m\u001b[0m\u001b[0;34m\u001b[0m\u001b[0m\n\u001b[1;32m   1046\u001b[0m             \u001b[0;31m# the behavior of a negative timeout isn't documented, but\u001b[0m\u001b[0;34m\u001b[0m\u001b[0;34m\u001b[0m\u001b[0;34m\u001b[0m\u001b[0m\n",
      "\u001b[0;32m/opt/conda/lib/python3.7/threading.py\u001b[0m in \u001b[0;36m_wait_for_tstate_lock\u001b[0;34m(self, block, timeout)\u001b[0m\n\u001b[1;32m   1058\u001b[0m         \u001b[0;32mif\u001b[0m \u001b[0mlock\u001b[0m \u001b[0;32mis\u001b[0m \u001b[0;32mNone\u001b[0m\u001b[0;34m:\u001b[0m  \u001b[0;31m# already determined that the C code is done\u001b[0m\u001b[0;34m\u001b[0m\u001b[0;34m\u001b[0m\u001b[0m\n\u001b[1;32m   1059\u001b[0m             \u001b[0;32massert\u001b[0m \u001b[0mself\u001b[0m\u001b[0;34m.\u001b[0m\u001b[0m_is_stopped\u001b[0m\u001b[0;34m\u001b[0m\u001b[0;34m\u001b[0m\u001b[0m\n\u001b[0;32m-> 1060\u001b[0;31m         \u001b[0;32melif\u001b[0m \u001b[0mlock\u001b[0m\u001b[0;34m.\u001b[0m\u001b[0macquire\u001b[0m\u001b[0;34m(\u001b[0m\u001b[0mblock\u001b[0m\u001b[0;34m,\u001b[0m \u001b[0mtimeout\u001b[0m\u001b[0;34m)\u001b[0m\u001b[0;34m:\u001b[0m\u001b[0;34m\u001b[0m\u001b[0;34m\u001b[0m\u001b[0m\n\u001b[0m\u001b[1;32m   1061\u001b[0m             \u001b[0mlock\u001b[0m\u001b[0;34m.\u001b[0m\u001b[0mrelease\u001b[0m\u001b[0;34m(\u001b[0m\u001b[0;34m)\u001b[0m\u001b[0;34m\u001b[0m\u001b[0;34m\u001b[0m\u001b[0m\n\u001b[1;32m   1062\u001b[0m             \u001b[0mself\u001b[0m\u001b[0;34m.\u001b[0m\u001b[0m_stop\u001b[0m\u001b[0;34m(\u001b[0m\u001b[0;34m)\u001b[0m\u001b[0;34m\u001b[0m\u001b[0;34m\u001b[0m\u001b[0m\n",
      "\u001b[0;31mKeyboardInterrupt\u001b[0m: "
     ]
    },
    {
     "name": "stderr",
     "output_type": "stream",
     "text": [
      "Process ForkPoolWorker-13771:\n",
      "  File \"/opt/conda/lib/python3.7/multiprocessing/process.py\", line 99, in run\n",
      "    self._target(*self._args, **self._kwargs)\n",
      "  File \"/opt/conda/lib/python3.7/multiprocessing/process.py\", line 99, in run\n",
      "    self._target(*self._args, **self._kwargs)\n",
      "Traceback (most recent call last):\n",
      "Traceback (most recent call last):\n",
      "  File \"/opt/conda/lib/python3.7/multiprocessing/process.py\", line 99, in run\n",
      "    self._target(*self._args, **self._kwargs)\n",
      "Traceback (most recent call last):\n",
      "Traceback (most recent call last):\n",
      "  File \"/opt/conda/lib/python3.7/multiprocessing/process.py\", line 297, in _bootstrap\n",
      "    self.run()\n",
      "Process ForkPoolWorker-13858:\n",
      "  File \"/opt/conda/lib/python3.7/multiprocessing/process.py\", line 99, in run\n",
      "    self._target(*self._args, **self._kwargs)\n",
      "  File \"/opt/conda/lib/python3.7/multiprocessing/pool.py\", line 121, in worker\n",
      "    result = (True, func(*args, **kwds))\n",
      "  File \"/opt/conda/lib/python3.7/multiprocessing/pool.py\", line 121, in worker\n",
      "    result = (True, func(*args, **kwds))\n",
      "  File \"/opt/conda/lib/python3.7/multiprocessing/pool.py\", line 121, in worker\n",
      "    result = (True, func(*args, **kwds))\n",
      "  File \"/opt/conda/lib/python3.7/multiprocessing/pool.py\", line 121, in worker\n",
      "    result = (True, func(*args, **kwds))\n",
      "  File \"/opt/conda/lib/python3.7/multiprocessing/process.py\", line 99, in run\n",
      "    self._target(*self._args, **self._kwargs)\n",
      "  File \"/opt/conda/lib/python3.7/multiprocessing/process.py\", line 297, in _bootstrap\n",
      "    self.run()\n",
      "  File \"/opt/conda/lib/python3.7/multiprocessing/pool.py\", line 121, in worker\n",
      "    result = (True, func(*args, **kwds))\n",
      "  File \"/opt/conda/lib/python3.7/multiprocessing/pool.py\", line 121, in worker\n",
      "    result = (True, func(*args, **kwds))\n",
      "  File \"/opt/conda/lib/python3.7/multiprocessing/process.py\", line 297, in _bootstrap\n",
      "    self.run()\n",
      "  File \"/opt/conda/lib/python3.7/multiprocessing/process.py\", line 297, in _bootstrap\n",
      "    self.run()\n",
      "Traceback (most recent call last):\n",
      "  File \"/tmp/ipykernel_5397/213037740.py\", line 13, in generate_dataset2\n",
      "    traced_photons, wavelengths = trace.tracePhotons(args.name, args.num_phot, rng, observation, wavelength, args.atm, args.method, args.duration)\n",
      "  File \"/opt/conda/lib/python3.7/multiprocessing/process.py\", line 297, in _bootstrap\n",
      "    self.run()\n",
      "  File \"/opt/conda/lib/python3.7/multiprocessing/process.py\", line 297, in _bootstrap\n",
      "    self.run()\n",
      "  File \"/opt/conda/lib/python3.7/multiprocessing/process.py\", line 99, in run\n",
      "    self._target(*self._args, **self._kwargs)\n",
      "  File \"/opt/conda/lib/python3.7/multiprocessing/process.py\", line 297, in _bootstrap\n",
      "    self.run()\n",
      "Traceback (most recent call last):\n",
      "  File \"/opt/conda/lib/python3.7/multiprocessing/process.py\", line 297, in _bootstrap\n",
      "    self.run()\n",
      "  File \"/opt/conda/lib/python3.7/multiprocessing/process.py\", line 297, in _bootstrap\n",
      "    self.run()\n",
      "Traceback (most recent call last):\n",
      "Traceback (most recent call last):\n",
      "  File \"/opt/conda/lib/python3.7/multiprocessing/process.py\", line 297, in _bootstrap\n",
      "    self.run()\n",
      "  File \"/tmp/ipykernel_5397/213037740.py\", line 13, in generate_dataset2\n",
      "    traced_photons, wavelengths = trace.tracePhotons(args.name, args.num_phot, rng, observation, wavelength, args.atm, args.method, args.duration)\n",
      "  File \"/opt/conda/lib/python3.7/multiprocessing/process.py\", line 99, in run\n",
      "    self._target(*self._args, **self._kwargs)\n",
      "Traceback (most recent call last):\n",
      "  File \"/opt/conda/lib/python3.7/multiprocessing/process.py\", line 99, in run\n",
      "    self._target(*self._args, **self._kwargs)\n",
      "Process ForkPoolWorker-13861:\n",
      "  File \"/opt/conda/lib/python3.7/multiprocessing/pool.py\", line 121, in worker\n",
      "    result = (True, func(*args, **kwds))\n",
      "  File \"/opt/conda/lib/python3.7/multiprocessing/process.py\", line 99, in run\n",
      "    self._target(*self._args, **self._kwargs)\n",
      "Traceback (most recent call last):\n",
      "  File \"/opt/conda/lib/python3.7/multiprocessing/pool.py\", line 121, in worker\n",
      "    result = (True, func(*args, **kwds))\n",
      "Process ForkPoolWorker-13761:\n",
      "Traceback (most recent call last):\n",
      "  File \"/opt/conda/lib/python3.7/multiprocessing/process.py\", line 99, in run\n",
      "    self._target(*self._args, **self._kwargs)\n",
      "  File \"/opt/conda/lib/python3.7/multiprocessing/process.py\", line 297, in _bootstrap\n",
      "    self.run()\n",
      "Traceback (most recent call last):\n",
      "Traceback (most recent call last):\n",
      "Process ForkPoolWorker-13856:\n",
      "Process ForkPoolWorker-13797:\n",
      "Process ForkPoolWorker-13772:\n",
      "  File \"/opt/conda/lib/python3.7/multiprocessing/process.py\", line 297, in _bootstrap\n",
      "    self.run()\n",
      "Process ForkPoolWorker-13813:\n",
      "Traceback (most recent call last):\n",
      "  File \"/opt/conda/lib/python3.7/multiprocessing/process.py\", line 297, in _bootstrap\n",
      "    self.run()\n",
      "Traceback (most recent call last):\n",
      "  File \"/opt/conda/lib/python3.7/multiprocessing/process.py\", line 99, in run\n",
      "    self._target(*self._args, **self._kwargs)\n",
      "Process ForkPoolWorker-13791:\n",
      "  File \"/opt/conda/lib/python3.7/multiprocessing/pool.py\", line 121, in worker\n",
      "    result = (True, func(*args, **kwds))\n",
      "  File \"/opt/conda/lib/python3.7/multiprocessing/process.py\", line 297, in _bootstrap\n",
      "    self.run()\n",
      "  File \"/opt/conda/lib/python3.7/multiprocessing/pool.py\", line 121, in worker\n",
      "    result = (True, func(*args, **kwds))\n",
      "  File \"/opt/conda/lib/python3.7/multiprocessing/process.py\", line 297, in _bootstrap\n",
      "    self.run()\n",
      "  File \"/opt/conda/lib/python3.7/multiprocessing/process.py\", line 99, in run\n",
      "    self._target(*self._args, **self._kwargs)\n",
      "  File \"/opt/conda/lib/python3.7/multiprocessing/process.py\", line 297, in _bootstrap\n",
      "    self.run()\n",
      "  File \"/opt/conda/lib/python3.7/multiprocessing/process.py\", line 297, in _bootstrap\n",
      "    self.run()\n",
      "  File \"/opt/conda/lib/python3.7/multiprocessing/pool.py\", line 121, in worker\n",
      "    result = (True, func(*args, **kwds))\n",
      "Traceback (most recent call last):\n",
      "  File \"/tmp/ipykernel_5397/213037740.py\", line 13, in generate_dataset2\n",
      "    traced_photons, wavelengths = trace.tracePhotons(args.name, args.num_phot, rng, observation, wavelength, args.atm, args.method, args.duration)\n",
      "  File \"/opt/conda/lib/python3.7/multiprocessing/pool.py\", line 121, in worker\n",
      "    result = (True, func(*args, **kwds))\n",
      "  File \"/opt/conda/lib/python3.7/multiprocessing/process.py\", line 99, in run\n",
      "    self._target(*self._args, **self._kwargs)\n",
      "Traceback (most recent call last):\n",
      "  File \"/opt/conda/lib/python3.7/multiprocessing/pool.py\", line 121, in worker\n",
      "    result = (True, func(*args, **kwds))\n",
      "  File \"/opt/conda/lib/python3.7/multiprocessing/pool.py\", line 121, in worker\n",
      "    result = (True, func(*args, **kwds))\n",
      "  File \"/opt/conda/lib/python3.7/multiprocessing/process.py\", line 99, in run\n",
      "    self._target(*self._args, **self._kwargs)\n",
      "  File \"/opt/conda/lib/python3.7/multiprocessing/process.py\", line 297, in _bootstrap\n",
      "    self.run()\n",
      "Traceback (most recent call last):\n",
      "Process ForkPoolWorker-13871:\n",
      "  File \"/opt/conda/lib/python3.7/multiprocessing/process.py\", line 297, in _bootstrap\n",
      "    self.run()\n",
      "  File \"/home/guillemmh/FOBs/trace_dataset.py\", line 75, in tracePhotons\n",
      "    traced_photons, wavelengths = trace.tracePhotons(frb_photons, rng, observation, wavelength, atm, first_kick = first_kick)\n",
      "  File \"/opt/conda/lib/python3.7/multiprocessing/pool.py\", line 121, in worker\n",
      "    result = (True, func(*args, **kwds))\n",
      "  File \"/opt/conda/lib/python3.7/multiprocessing/pool.py\", line 121, in worker\n",
      "    result = (True, func(*args, **kwds))\n",
      "  File \"/opt/conda/lib/python3.7/multiprocessing/pool.py\", line 121, in worker\n",
      "    result = (True, func(*args, **kwds))\n",
      "  File \"/opt/conda/lib/python3.7/multiprocessing/pool.py\", line 121, in worker\n",
      "    result = (True, func(*args, **kwds))\n",
      "  File \"/opt/conda/lib/python3.7/multiprocessing/pool.py\", line 121, in worker\n",
      "    result = (True, func(*args, **kwds))\n",
      "  File \"/tmp/ipykernel_5397/213037740.py\", line 13, in generate_dataset2\n",
      "    traced_photons, wavelengths = trace.tracePhotons(args.name, args.num_phot, rng, observation, wavelength, args.atm, args.method, args.duration)\n",
      "  File \"/opt/conda/lib/python3.7/multiprocessing/process.py\", line 297, in _bootstrap\n",
      "    self.run()\n",
      "  File \"/opt/conda/lib/python3.7/multiprocessing/process.py\", line 99, in run\n",
      "    self._target(*self._args, **self._kwargs)\n",
      "  File \"/home/guillemmh/FOBs/trace_dataset.py\", line 75, in tracePhotons\n",
      "    traced_photons, wavelengths = trace.tracePhotons(frb_photons, rng, observation, wavelength, atm, first_kick = first_kick)\n"
     ]
    },
    {
     "name": "stderr",
     "output_type": "stream",
     "text": [
      "  File \"/tmp/ipykernel_5397/213037740.py\", line 21, in generate_dataset2\n",
      "    noise = False,\n",
      "  File \"/opt/conda/lib/python3.7/multiprocessing/pool.py\", line 121, in worker\n",
      "    result = (True, func(*args, **kwds))\n",
      "  File \"/tmp/ipykernel_5397/213037740.py\", line 13, in generate_dataset2\n",
      "    traced_photons, wavelengths = trace.tracePhotons(args.name, args.num_phot, rng, observation, wavelength, args.atm, args.method, args.duration)\n",
      "  File \"/tmp/ipykernel_5397/213037740.py\", line 21, in generate_dataset2\n",
      "    noise = False,\n",
      "  File \"/opt/conda/lib/python3.7/multiprocessing/pool.py\", line 121, in worker\n",
      "    result = (True, func(*args, **kwds))\n",
      "  File \"/opt/conda/lib/python3.7/multiprocessing/process.py\", line 99, in run\n",
      "    self._target(*self._args, **self._kwargs)\n",
      "  File \"/tmp/ipykernel_5397/213037740.py\", line 13, in generate_dataset2\n",
      "    traced_photons, wavelengths = trace.tracePhotons(args.name, args.num_phot, rng, observation, wavelength, args.atm, args.method, args.duration)\n",
      "  File \"/tmp/ipykernel_5397/213037740.py\", line 21, in generate_dataset2\n",
      "    noise = False,\n",
      "Traceback (most recent call last):\n",
      "  File \"/opt/conda/lib/python3.7/multiprocessing/process.py\", line 297, in _bootstrap\n",
      "    self.run()\n",
      "Process ForkPoolWorker-13782:\n",
      "  File \"/opt/conda/lib/python3.7/multiprocessing/process.py\", line 99, in run\n",
      "    self._target(*self._args, **self._kwargs)\n",
      "Traceback (most recent call last):\n",
      "  File \"/opt/conda/lib/python3.7/multiprocessing/process.py\", line 297, in _bootstrap\n",
      "    self.run()\n",
      "  File \"/opt/conda/lib/python3.7/multiprocessing/pool.py\", line 121, in worker\n",
      "    result = (True, func(*args, **kwds))\n",
      "  File \"/opt/conda/lib/python3.7/multiprocessing/process.py\", line 99, in run\n",
      "    self._target(*self._args, **self._kwargs)\n",
      "  File \"/opt/conda/lib/python3.7/multiprocessing/pool.py\", line 121, in worker\n",
      "    result = (True, func(*args, **kwds))\n",
      "  File \"/opt/conda/lib/python3.7/multiprocessing/process.py\", line 297, in _bootstrap\n",
      "    self.run()\n",
      "  File \"/opt/conda/lib/python3.7/multiprocessing/pool.py\", line 121, in worker\n",
      "    result = (True, func(*args, **kwds))\n",
      "  File \"/opt/conda/lib/python3.7/multiprocessing/process.py\", line 297, in _bootstrap\n",
      "    self.run()\n",
      "  File \"/opt/conda/lib/python3.7/multiprocessing/pool.py\", line 121, in worker\n",
      "    result = (True, func(*args, **kwds))\n",
      "  File \"/opt/conda/lib/python3.7/multiprocessing/process.py\", line 297, in _bootstrap\n",
      "    self.run()\n",
      "  File \"/opt/conda/lib/python3.7/multiprocessing/pool.py\", line 121, in worker\n",
      "    result = (True, func(*args, **kwds))\n",
      "  File \"/opt/conda/lib/python3.7/multiprocessing/process.py\", line 297, in _bootstrap\n",
      "    self.run()\n",
      "  File \"/opt/conda/lib/python3.7/multiprocessing/process.py\", line 99, in run\n",
      "    self._target(*self._args, **self._kwargs)\n",
      "  File \"/tmp/ipykernel_5397/213037740.py\", line 21, in generate_dataset2\n",
      "    noise = False,\n",
      "  File \"/tmp/ipykernel_5397/213037740.py\", line 13, in generate_dataset2\n",
      "    traced_photons, wavelengths = trace.tracePhotons(args.name, args.num_phot, rng, observation, wavelength, args.atm, args.method, args.duration)\n",
      "Traceback (most recent call last):\n",
      "  File \"/tmp/ipykernel_5397/213037740.py\", line 21, in generate_dataset2\n",
      "    noise = False,\n",
      "  File \"/tmp/ipykernel_5397/213037740.py\", line 21, in generate_dataset2\n",
      "    noise = False,\n",
      "  File \"/opt/conda/lib/python3.7/multiprocessing/pool.py\", line 121, in worker\n",
      "    result = (True, func(*args, **kwds))\n",
      "  File \"/opt/conda/lib/python3.7/multiprocessing/pool.py\", line 121, in worker\n",
      "    result = (True, func(*args, **kwds))\n",
      "Traceback (most recent call last):\n",
      "  File \"/opt/conda/lib/python3.7/multiprocessing/process.py\", line 99, in run\n",
      "    self._target(*self._args, **self._kwargs)\n",
      "  File \"/opt/conda/lib/python3.7/multiprocessing/process.py\", line 297, in _bootstrap\n",
      "    self.run()\n",
      "  File \"/home/guillemmh/FOBs/trace_dataset.py\", line 75, in tracePhotons\n",
      "    traced_photons, wavelengths = trace.tracePhotons(frb_photons, rng, observation, wavelength, atm, first_kick = first_kick)\n",
      "  File \"/tmp/ipykernel_5397/213037740.py\", line 21, in generate_dataset2\n",
      "    noise = False,\n",
      "  File \"/opt/conda/lib/python3.7/multiprocessing/process.py\", line 99, in run\n",
      "    self._target(*self._args, **self._kwargs)\n",
      "  File \"/tmp/ipykernel_5397/213037740.py\", line 21, in generate_dataset2\n",
      "    noise = False,\n",
      "  File \"/opt/conda/lib/python3.7/multiprocessing/process.py\", line 297, in _bootstrap\n",
      "    self.run()\n",
      "  File \"/opt/conda/lib/python3.7/multiprocessing/pool.py\", line 121, in worker\n",
      "    result = (True, func(*args, **kwds))\n",
      "  File \"/opt/conda/lib/python3.7/multiprocessing/process.py\", line 297, in _bootstrap\n",
      "    self.run()\n",
      "  File \"/opt/conda/lib/python3.7/multiprocessing/process.py\", line 297, in _bootstrap\n",
      "    self.run()\n",
      "  File \"/opt/conda/lib/python3.7/multiprocessing/process.py\", line 99, in run\n",
      "    self._target(*self._args, **self._kwargs)\n",
      "  File \"/opt/conda/lib/python3.7/multiprocessing/process.py\", line 99, in run\n",
      "    self._target(*self._args, **self._kwargs)\n",
      "  File \"/opt/conda/lib/python3.7/multiprocessing/process.py\", line 99, in run\n",
      "    self._target(*self._args, **self._kwargs)\n",
      "  File \"/home/guillemmh/FOBs/trace_dataset.py\", line 75, in tracePhotons\n",
      "    traced_photons, wavelengths = trace.tracePhotons(frb_photons, rng, observation, wavelength, atm, first_kick = first_kick)\n",
      "  File \"/opt/conda/lib/python3.7/multiprocessing/process.py\", line 99, in run\n",
      "    self._target(*self._args, **self._kwargs)\n",
      "  File \"/opt/conda/lib/python3.7/multiprocessing/pool.py\", line 121, in worker\n",
      "    result = (True, func(*args, **kwds))\n",
      "Process ForkPoolWorker-13755:\n",
      "  File \"/opt/conda/lib/python3.7/multiprocessing/process.py\", line 99, in run\n",
      "    self._target(*self._args, **self._kwargs)\n",
      "  File \"/opt/conda/lib/python3.7/multiprocessing/process.py\", line 99, in run\n",
      "    self._target(*self._args, **self._kwargs)\n",
      "  File \"/opt/conda/lib/python3.7/multiprocessing/pool.py\", line 121, in worker\n",
      "    result = (True, func(*args, **kwds))\n",
      "  File \"/opt/conda/lib/python3.7/multiprocessing/process.py\", line 99, in run\n",
      "    self._target(*self._args, **self._kwargs)\n",
      "  File \"/opt/conda/lib/python3.7/multiprocessing/process.py\", line 297, in _bootstrap\n",
      "    self.run()\n",
      "  File \"/opt/conda/lib/python3.7/multiprocessing/pool.py\", line 121, in worker\n",
      "    result = (True, func(*args, **kwds))\n",
      "Traceback (most recent call last):\n",
      "  File \"/opt/conda/lib/python3.7/multiprocessing/process.py\", line 297, in _bootstrap\n",
      "    self.run()\n",
      "  File \"/opt/conda/lib/python3.7/multiprocessing/process.py\", line 297, in _bootstrap\n",
      "    self.run()\n",
      "  File \"/opt/conda/lib/python3.7/multiprocessing/pool.py\", line 121, in worker\n",
      "    result = (True, func(*args, **kwds))\n",
      "  File \"/tmp/ipykernel_5397/213037740.py\", line 13, in generate_dataset2\n",
      "    traced_photons, wavelengths = trace.tracePhotons(args.name, args.num_phot, rng, observation, wavelength, args.atm, args.method, args.duration)\n",
      "  File \"/opt/conda/lib/python3.7/multiprocessing/process.py\", line 99, in run\n",
      "    self._target(*self._args, **self._kwargs)\n",
      "  File \"/tmp/ipykernel_5397/213037740.py\", line 21, in generate_dataset2\n",
      "    noise = False,\n",
      "Traceback (most recent call last):\n",
      "Process ForkPoolWorker-13803:\n",
      "Traceback (most recent call last):\n",
      "  File \"/opt/conda/lib/python3.7/multiprocessing/process.py\", line 99, in run\n",
      "    self._target(*self._args, **self._kwargs)\n",
      "  File \"/opt/conda/lib/python3.7/multiprocessing/process.py\", line 99, in run\n",
      "    self._target(*self._args, **self._kwargs)\n",
      "Traceback (most recent call last):\n",
      "Traceback (most recent call last):\n",
      "  File \"/opt/conda/lib/python3.7/multiprocessing/process.py\", line 297, in _bootstrap\n",
      "    self.run()\n",
      "Traceback (most recent call last):\n",
      "  File \"/tmp/ipykernel_5397/213037740.py\", line 13, in generate_dataset2\n",
      "    traced_photons, wavelengths = trace.tracePhotons(args.name, args.num_phot, rng, observation, wavelength, args.atm, args.method, args.duration)\n",
      "  File \"/opt/conda/lib/python3.7/multiprocessing/process.py\", line 297, in _bootstrap\n",
      "    self.run()\n",
      "  File \"/opt/conda/lib/python3.7/multiprocessing/process.py\", line 297, in _bootstrap\n",
      "    self.run()\n",
      "  File \"/opt/conda/lib/python3.7/multiprocessing/process.py\", line 99, in run\n",
      "    self._target(*self._args, **self._kwargs)\n",
      "  File \"/opt/conda/lib/python3.7/multiprocessing/pool.py\", line 121, in worker\n",
      "    result = (True, func(*args, **kwds))\n"
     ]
    },
    {
     "name": "stderr",
     "output_type": "stream",
     "text": [
      "  File \"/tmp/ipykernel_5397/213037740.py\", line 13, in generate_dataset2\n",
      "    traced_photons, wavelengths = trace.tracePhotons(args.name, args.num_phot, rng, observation, wavelength, args.atm, args.method, args.duration)\n",
      "Traceback (most recent call last):\n",
      "  File \"/opt/conda/lib/python3.7/multiprocessing/process.py\", line 99, in run\n",
      "    self._target(*self._args, **self._kwargs)\n",
      "  File \"/opt/conda/lib/python3.7/multiprocessing/process.py\", line 99, in run\n",
      "    self._target(*self._args, **self._kwargs)\n",
      "  File \"/opt/conda/lib/python3.7/multiprocessing/process.py\", line 99, in run\n",
      "    self._target(*self._args, **self._kwargs)\n",
      "  File \"/tmp/ipykernel_5397/213037740.py\", line 13, in generate_dataset2\n",
      "    traced_photons, wavelengths = trace.tracePhotons(args.name, args.num_phot, rng, observation, wavelength, args.atm, args.method, args.duration)\n",
      "  File \"/opt/conda/lib/python3.7/multiprocessing/process.py\", line 297, in _bootstrap\n",
      "    self.run()\n",
      "  File \"/home/guillemmh/FOBs/trace_dataset.py\", line 75, in tracePhotons\n",
      "    traced_photons, wavelengths = trace.tracePhotons(frb_photons, rng, observation, wavelength, atm, first_kick = first_kick)\n",
      "  File \"/opt/conda/lib/python3.7/multiprocessing/pool.py\", line 121, in worker\n",
      "    result = (True, func(*args, **kwds))\n",
      "  File \"/tmp/ipykernel_5397/213037740.py\", line 13, in generate_dataset2\n",
      "    traced_photons, wavelengths = trace.tracePhotons(args.name, args.num_phot, rng, observation, wavelength, args.atm, args.method, args.duration)\n",
      "  File \"/opt/conda/lib/python3.7/multiprocessing/process.py\", line 297, in _bootstrap\n",
      "    self.run()\n",
      "  File \"/tmp/ipykernel_5397/213037740.py\", line 13, in generate_dataset2\n",
      "    traced_photons, wavelengths = trace.tracePhotons(args.name, args.num_phot, rng, observation, wavelength, args.atm, args.method, args.duration)\n",
      "  File \"/tmp/ipykernel_5397/213037740.py\", line 21, in generate_dataset2\n",
      "    noise = False,\n",
      "  File \"/opt/conda/lib/python3.7/multiprocessing/process.py\", line 99, in run\n",
      "    self._target(*self._args, **self._kwargs)\n",
      "  File \"/opt/conda/lib/python3.7/multiprocessing/process.py\", line 297, in _bootstrap\n",
      "    self.run()\n",
      "  File \"/opt/conda/lib/python3.7/multiprocessing/pool.py\", line 121, in worker\n",
      "    result = (True, func(*args, **kwds))\n",
      "  File \"/opt/conda/lib/python3.7/multiprocessing/process.py\", line 99, in run\n",
      "    self._target(*self._args, **self._kwargs)\n",
      "  File \"/home/guillemmh/FOBs/trace.py\", line 245, in tracePhotons\n",
      "    rays = GalsimToBatoid(u, v, dku, dkv, telescope, wavelengths, phot_num_tot)\n",
      "  File \"/tmp/ipykernel_5397/213037740.py\", line 21, in generate_dataset2\n",
      "    noise = False,\n",
      "  File \"/tmp/ipykernel_5397/213037740.py\", line 13, in generate_dataset2\n",
      "    traced_photons, wavelengths = trace.tracePhotons(args.name, args.num_phot, rng, observation, wavelength, args.atm, args.method, args.duration)\n",
      "  File \"/tmp/ipykernel_5397/213037740.py\", line 13, in generate_dataset2\n",
      "    traced_photons, wavelengths = trace.tracePhotons(args.name, args.num_phot, rng, observation, wavelength, args.atm, args.method, args.duration)\n",
      "  File \"/tmp/ipykernel_5397/213037740.py\", line 21, in generate_dataset2\n",
      "    noise = False,\n",
      "  File \"/tmp/ipykernel_5397/213037740.py\", line 21, in generate_dataset2\n",
      "    noise = False,\n",
      "  File \"/tmp/ipykernel_5397/1976484744.py\", line 20, in generateImage\n",
      "    treering_func = galsim.SiliconSensor.simple_treerings(r_max = 1e7)\n",
      "  File \"/home/guillemmh/FOBs/trace_dataset.py\", line 75, in tracePhotons\n",
      "    traced_photons, wavelengths = trace.tracePhotons(frb_photons, rng, observation, wavelength, atm, first_kick = first_kick)\n",
      "  File \"/home/guillemmh/FOBs/trace_dataset.py\", line 75, in tracePhotons\n",
      "    traced_photons, wavelengths = trace.tracePhotons(frb_photons, rng, observation, wavelength, atm, first_kick = first_kick)\n",
      "  File \"/opt/conda/lib/python3.7/multiprocessing/process.py\", line 99, in run\n",
      "    self._target(*self._args, **self._kwargs)\n",
      "Traceback (most recent call last):\n",
      "  File \"/opt/conda/lib/python3.7/multiprocessing/pool.py\", line 121, in worker\n",
      "    result = (True, func(*args, **kwds))\n",
      "  File \"/tmp/ipykernel_5397/213037740.py\", line 21, in generate_dataset2\n",
      "    noise = False,\n",
      "  File \"/opt/conda/lib/python3.7/multiprocessing/pool.py\", line 121, in worker\n",
      "    result = (True, func(*args, **kwds))\n",
      "  File \"/home/guillemmh/FOBs/trace.py\", line 245, in tracePhotons\n",
      "    rays = GalsimToBatoid(u, v, dku, dkv, telescope, wavelengths, phot_num_tot)\n",
      "  File \"/home/guillemmh/FOBs/trace_dataset.py\", line 75, in tracePhotons\n",
      "    traced_photons, wavelengths = trace.tracePhotons(frb_photons, rng, observation, wavelength, atm, first_kick = first_kick)\n",
      "  File \"/tmp/ipykernel_5397/1976484744.py\", line 20, in generateImage\n",
      "    treering_func = galsim.SiliconSensor.simple_treerings(r_max = 1e7)\n",
      "  File \"/tmp/ipykernel_5397/1976484744.py\", line 20, in generateImage\n",
      "    treering_func = galsim.SiliconSensor.simple_treerings(r_max = 1e7)\n",
      "  File \"/opt/conda/lib/python3.7/multiprocessing/process.py\", line 297, in _bootstrap\n",
      "    self.run()\n",
      "  File \"/tmp/ipykernel_5397/213037740.py\", line 13, in generate_dataset2\n",
      "    traced_photons, wavelengths = trace.tracePhotons(args.name, args.num_phot, rng, observation, wavelength, args.atm, args.method, args.duration)\n",
      "  File \"/opt/conda/lib/python3.7/multiprocessing/process.py\", line 297, in _bootstrap\n",
      "    self.run()\n",
      "Traceback (most recent call last):\n",
      "  File \"/opt/conda/lib/python3.7/multiprocessing/pool.py\", line 121, in worker\n",
      "    result = (True, func(*args, **kwds))\n",
      "  File \"/opt/conda/lib/python3.7/multiprocessing/process.py\", line 99, in run\n",
      "    self._target(*self._args, **self._kwargs)\n",
      "  File \"/tmp/ipykernel_5397/213037740.py\", line 13, in generate_dataset2\n",
      "    traced_photons, wavelengths = trace.tracePhotons(args.name, args.num_phot, rng, observation, wavelength, args.atm, args.method, args.duration)\n",
      "  File \"/opt/conda/lib/python3.7/multiprocessing/process.py\", line 99, in run\n",
      "    self._target(*self._args, **self._kwargs)\n",
      "  File \"/tmp/ipykernel_5397/213037740.py\", line 13, in generate_dataset2\n",
      "    traced_photons, wavelengths = trace.tracePhotons(args.name, args.num_phot, rng, observation, wavelength, args.atm, args.method, args.duration)\n",
      "  File \"/tmp/ipykernel_5397/213037740.py\", line 13, in generate_dataset2\n",
      "    traced_photons, wavelengths = trace.tracePhotons(args.name, args.num_phot, rng, observation, wavelength, args.atm, args.method, args.duration)\n",
      "  File \"/opt/conda/lib/python3.7/multiprocessing/process.py\", line 99, in run\n",
      "    self._target(*self._args, **self._kwargs)\n",
      "  File \"/tmp/ipykernel_5397/213037740.py\", line 21, in generate_dataset2\n",
      "    noise = False,\n",
      "  File \"/opt/conda/lib/python3.7/multiprocessing/pool.py\", line 121, in worker\n",
      "    result = (True, func(*args, **kwds))\n",
      "  File \"/opt/conda/lib/python3.7/multiprocessing/process.py\", line 99, in run\n",
      "    self._target(*self._args, **self._kwargs)\n",
      "  File \"/opt/conda/lib/python3.7/multiprocessing/process.py\", line 99, in run\n",
      "    self._target(*self._args, **self._kwargs)\n",
      "  File \"/opt/conda/lib/python3.7/multiprocessing/process.py\", line 99, in run\n",
      "    self._target(*self._args, **self._kwargs)\n",
      "  File \"/tmp/ipykernel_5397/1976484744.py\", line 20, in generateImage\n",
      "    treering_func = galsim.SiliconSensor.simple_treerings(r_max = 1e7)\n",
      "  File \"/opt/conda/lib/python3.7/multiprocessing/process.py\", line 297, in _bootstrap\n",
      "    self.run()\n",
      "  File \"/home/guillemmh/FOBs/trace_dataset.py\", line 28, in tracePhotons\n",
      "    frb_photons = frb_atm_psf.shoot(num_phot, rng)\n",
      "  File \"/tmp/ipykernel_5397/213037740.py\", line 13, in generate_dataset2\n",
      "    traced_photons, wavelengths = trace.tracePhotons(args.name, args.num_phot, rng, observation, wavelength, args.atm, args.method, args.duration)\n",
      "  File \"/opt/conda/lib/python3.7/multiprocessing/pool.py\", line 121, in worker\n",
      "    result = (True, func(*args, **kwds))\n",
      "  File \"/tmp/ipykernel_5397/1976484744.py\", line 20, in generateImage\n",
      "    treering_func = galsim.SiliconSensor.simple_treerings(r_max = 1e7)\n",
      "  File \"/tmp/ipykernel_5397/213037740.py\", line 13, in generate_dataset2\n",
      "    traced_photons, wavelengths = trace.tracePhotons(args.name, args.num_phot, rng, observation, wavelength, args.atm, args.method, args.duration)\n",
      "  File \"/opt/conda/lib/python3.7/multiprocessing/process.py\", line 99, in run\n",
      "    self._target(*self._args, **self._kwargs)\n"
     ]
    },
    {
     "name": "stderr",
     "output_type": "stream",
     "text": [
      "  File \"/opt/conda/lib/python3.7/multiprocessing/pool.py\", line 121, in worker\n",
      "    result = (True, func(*args, **kwds))\n",
      "  File \"/tmp/ipykernel_5397/1976484744.py\", line 20, in generateImage\n",
      "    treering_func = galsim.SiliconSensor.simple_treerings(r_max = 1e7)\n",
      "  File \"/opt/conda/lib/python3.7/multiprocessing/pool.py\", line 121, in worker\n",
      "    result = (True, func(*args, **kwds))\n",
      "  File \"/opt/conda/lib/python3.7/multiprocessing/process.py\", line 297, in _bootstrap\n",
      "    self.run()\n",
      "  File \"/tmp/ipykernel_5397/213037740.py\", line 21, in generate_dataset2\n",
      "    noise = False,\n",
      "  File \"/tmp/ipykernel_5397/213037740.py\", line 13, in generate_dataset2\n",
      "    traced_photons, wavelengths = trace.tracePhotons(args.name, args.num_phot, rng, observation, wavelength, args.atm, args.method, args.duration)\n",
      "  File \"/home/guillemmh/FOBs/trace.py\", line 240, in tracePhotons\n",
      "    first_kick\n",
      "  File \"/tmp/ipykernel_5397/1976484744.py\", line 20, in generateImage\n",
      "    treering_func = galsim.SiliconSensor.simple_treerings(r_max = 1e7)\n",
      "  File \"/tmp/ipykernel_5397/1976484744.py\", line 20, in generateImage\n",
      "    treering_func = galsim.SiliconSensor.simple_treerings(r_max = 1e7)\n",
      "  File \"/opt/conda/lib/python3.7/multiprocessing/process.py\", line 99, in run\n",
      "    self._target(*self._args, **self._kwargs)\n",
      "  File \"/opt/conda/lib/python3.7/multiprocessing/process.py\", line 99, in run\n",
      "    self._target(*self._args, **self._kwargs)\n",
      "  File \"/opt/conda/lib/python3.7/multiprocessing/process.py\", line 99, in run\n",
      "    self._target(*self._args, **self._kwargs)\n",
      "  File \"/opt/conda/lib/python3.7/multiprocessing/pool.py\", line 121, in worker\n",
      "    result = (True, func(*args, **kwds))\n",
      "  File \"/opt/conda/lib/python3.7/multiprocessing/pool.py\", line 121, in worker\n",
      "    result = (True, func(*args, **kwds))\n",
      "  File \"/opt/conda/lib/python3.7/multiprocessing/pool.py\", line 121, in worker\n",
      "    result = (True, func(*args, **kwds))\n",
      "  File \"/home/guillemmh/FOBs/trace.py\", line 245, in tracePhotons\n",
      "    rays = GalsimToBatoid(u, v, dku, dkv, telescope, wavelengths, phot_num_tot)\n",
      "  File \"/opt/conda/lib/python3.7/multiprocessing/pool.py\", line 121, in worker\n",
      "    result = (True, func(*args, **kwds))\n",
      "  File \"/tmp/ipykernel_5397/213037740.py\", line 21, in generate_dataset2\n",
      "    noise = False,\n",
      "Traceback (most recent call last):\n",
      "  File \"/opt/conda/lib/python3.7/multiprocessing/pool.py\", line 121, in worker\n",
      "    result = (True, func(*args, **kwds))\n",
      "  File \"/opt/conda/lib/python3.7/multiprocessing/pool.py\", line 121, in worker\n",
      "    result = (True, func(*args, **kwds))\n",
      "  File \"/tmp/ipykernel_5397/213037740.py\", line 21, in generate_dataset2\n",
      "    noise = False,\n",
      "  File \"/tmp/ipykernel_5397/213037740.py\", line 13, in generate_dataset2\n",
      "    traced_photons, wavelengths = trace.tracePhotons(args.name, args.num_phot, rng, observation, wavelength, args.atm, args.method, args.duration)\n",
      "  File \"/opt/conda/lib/python3.7/multiprocessing/process.py\", line 99, in run\n",
      "    self._target(*self._args, **self._kwargs)\n",
      "  File \"/opt/conda/lib/python3.7/multiprocessing/process.py\", line 99, in run\n",
      "    self._target(*self._args, **self._kwargs)\n",
      "  File \"/home/guillemmh/FOBs/trace_dataset.py\", line 28, in tracePhotons\n",
      "    frb_photons = frb_atm_psf.shoot(num_phot, rng)\n",
      "  File \"/opt/conda/lib/python3.7/multiprocessing/pool.py\", line 121, in worker\n",
      "    result = (True, func(*args, **kwds))\n",
      "  File \"/opt/conda/lib/python3.7/multiprocessing/process.py\", line 99, in run\n",
      "    self._target(*self._args, **self._kwargs)\n",
      "  File \"/tmp/ipykernel_5397/213037740.py\", line 13, in generate_dataset2\n",
      "    traced_photons, wavelengths = trace.tracePhotons(args.name, args.num_phot, rng, observation, wavelength, args.atm, args.method, args.duration)\n",
      "Traceback (most recent call last):\n",
      "  File \"/opt/conda/lib/python3.7/multiprocessing/process.py\", line 297, in _bootstrap\n",
      "    self.run()\n",
      "  File \"/opt/conda/lib/python3.7/multiprocessing/process.py\", line 297, in _bootstrap\n",
      "    self.run()\n",
      "  File \"/opt/conda/lib/python3.7/multiprocessing/pool.py\", line 121, in worker\n",
      "    result = (True, func(*args, **kwds))\n",
      "  File \"/tmp/ipykernel_5397/1976484744.py\", line 20, in generateImage\n",
      "    treering_func = galsim.SiliconSensor.simple_treerings(r_max = 1e7)\n",
      "  File \"/opt/conda/lib/python3.7/multiprocessing/process.py\", line 297, in _bootstrap\n",
      "    self.run()\n",
      "  File \"/opt/conda/lib/python3.7/multiprocessing/pool.py\", line 121, in worker\n",
      "    result = (True, func(*args, **kwds))\n",
      "  File \"/opt/conda/lib/python3.7/multiprocessing/process.py\", line 297, in _bootstrap\n",
      "    self.run()\n",
      "  File \"/opt/conda/lib/python3.7/multiprocessing/process.py\", line 297, in _bootstrap\n",
      "    self.run()\n",
      "  File \"/opt/conda/lib/python3.7/multiprocessing/process.py\", line 297, in _bootstrap\n",
      "    self.run()\n",
      "  File \"/opt/conda/lib/python3.7/multiprocessing/process.py\", line 99, in run\n",
      "    self._target(*self._args, **self._kwargs)\n",
      "  File \"/opt/conda/lib/python3.7/multiprocessing/process.py\", line 297, in _bootstrap\n",
      "    self.run()\n",
      "  File \"/opt/conda/lib/python3.7/multiprocessing/process.py\", line 99, in run\n",
      "    self._target(*self._args, **self._kwargs)\n",
      "  File \"/opt/conda/lib/python3.7/multiprocessing/pool.py\", line 121, in worker\n",
      "    result = (True, func(*args, **kwds))\n",
      "  File \"/opt/conda/lib/python3.7/multiprocessing/pool.py\", line 121, in worker\n",
      "    result = (True, func(*args, **kwds))\n",
      "  File \"/tmp/ipykernel_5397/213037740.py\", line 13, in generate_dataset2\n",
      "    traced_photons, wavelengths = trace.tracePhotons(args.name, args.num_phot, rng, observation, wavelength, args.atm, args.method, args.duration)\n",
      "  File \"/home/guillemmh/FOBs/trace_dataset.py\", line 28, in tracePhotons\n",
      "    frb_photons = frb_atm_psf.shoot(num_phot, rng)\n",
      "  File \"/home/guillemmh/FOBs/trace_dataset.py\", line 75, in tracePhotons\n",
      "    traced_photons, wavelengths = trace.tracePhotons(frb_photons, rng, observation, wavelength, atm, first_kick = first_kick)\n",
      "  File \"/opt/conda/lib/python3.7/multiprocessing/process.py\", line 297, in _bootstrap\n",
      "    self.run()\n",
      "  File \"/opt/conda/lib/python3.7/multiprocessing/pool.py\", line 121, in worker\n",
      "    result = (True, func(*args, **kwds))\n",
      "  File \"/opt/conda/lib/python3.7/multiprocessing/process.py\", line 297, in _bootstrap\n",
      "    self.run()\n",
      "  File \"/opt/conda/lib/python3.7/multiprocessing/pool.py\", line 121, in worker\n",
      "    result = (True, func(*args, **kwds))\n",
      "  File \"/opt/conda/lib/python3.7/multiprocessing/process.py\", line 99, in run\n",
      "    self._target(*self._args, **self._kwargs)\n",
      "  File \"/opt/conda/lib/python3.7/multiprocessing/pool.py\", line 121, in worker\n",
      "    result = (True, func(*args, **kwds))\n",
      "  File \"/tmp/ipykernel_5397/213037740.py\", line 21, in generate_dataset2\n",
      "    noise = False,\n",
      "  File \"/home/guillemmh/FOBs/trace_dataset.py\", line 28, in tracePhotons\n",
      "    frb_photons = frb_atm_psf.shoot(num_phot, rng)\n",
      "  File \"/opt/conda/lib/python3.7/multiprocessing/process.py\", line 99, in run\n",
      "    self._target(*self._args, **self._kwargs)\n",
      "  File \"/home/guillemmh/FOBs/trace_dataset.py\", line 28, in tracePhotons\n",
      "    frb_photons = frb_atm_psf.shoot(num_phot, rng)\n",
      "  File \"/home/guillemmh/FOBs/trace_dataset.py\", line 28, in tracePhotons\n",
      "    frb_photons = frb_atm_psf.shoot(num_phot, rng)\n",
      "  File \"/opt/conda/lib/python3.7/multiprocessing/process.py\", line 99, in run\n",
      "    self._target(*self._args, **self._kwargs)\n",
      "  File \"/tmp/ipykernel_5397/1976484744.py\", line 20, in generateImage\n",
      "    treering_func = galsim.SiliconSensor.simple_treerings(r_max = 1e7)\n",
      "  File \"/opt/conda/lib/python3.7/multiprocessing/pool.py\", line 121, in worker\n",
      "    result = (True, func(*args, **kwds))\n",
      "Process ForkPoolWorker-13746:\n",
      "  File \"/opt/conda/lib/python3.7/multiprocessing/process.py\", line 99, in run\n",
      "    self._target(*self._args, **self._kwargs)\n",
      "  File \"/tmp/ipykernel_5397/213037740.py\", line 13, in generate_dataset2\n",
      "    traced_photons, wavelengths = trace.tracePhotons(args.name, args.num_phot, rng, observation, wavelength, args.atm, args.method, args.duration)\n",
      "  File \"/home/guillemmh/FOBs/trace_dataset.py\", line 28, in tracePhotons\n",
      "    frb_photons = frb_atm_psf.shoot(num_phot, rng)\n",
      "  File \"/home/guillemmh/FOBs/trace_dataset.py\", line 75, in tracePhotons\n",
      "    traced_photons, wavelengths = trace.tracePhotons(frb_photons, rng, observation, wavelength, atm, first_kick = first_kick)\n",
      "  File \"/opt/conda/lib/python3.7/site-packages/galsim/sensor.py\", line 452, in simple_treerings\n",
      "    return LookupTable.from_func(func, x_min=0., x_max=r_max, npoints=npoints)\n"
     ]
    },
    {
     "name": "stderr",
     "output_type": "stream",
     "text": [
      "  File \"/home/guillemmh/FOBs/trace.py\", line 182, in GalsimToBatoid\n",
      "    vz /= n\n",
      "  File \"/tmp/ipykernel_5397/1976484744.py\", line 20, in generateImage\n",
      "    treering_func = galsim.SiliconSensor.simple_treerings(r_max = 1e7)\n",
      "  File \"/tmp/ipykernel_5397/1976484744.py\", line 20, in generateImage\n",
      "    treering_func = galsim.SiliconSensor.simple_treerings(r_max = 1e7)\n",
      "  File \"/home/guillemmh/FOBs/trace.py\", line 245, in tracePhotons\n",
      "    rays = GalsimToBatoid(u, v, dku, dkv, telescope, wavelengths, phot_num_tot)\n",
      "  File \"/tmp/ipykernel_5397/1976484744.py\", line 20, in generateImage\n",
      "    treering_func = galsim.SiliconSensor.simple_treerings(r_max = 1e7)\n",
      "  File \"/home/guillemmh/FOBs/trace.py\", line 245, in tracePhotons\n",
      "    rays = GalsimToBatoid(u, v, dku, dkv, telescope, wavelengths, phot_num_tot)\n",
      "  File \"/home/guillemmh/FOBs/trace.py\", line 178, in GalsimToBatoid\n",
      "    n.append(telescope.inMedium.getN(wavelengths[idx]))\n",
      "  File \"/tmp/ipykernel_5397/213037740.py\", line 21, in generate_dataset2\n",
      "    noise = False,\n",
      "  File \"/home/guillemmh/FOBs/trace.py\", line 245, in tracePhotons\n",
      "    rays = GalsimToBatoid(u, v, dku, dkv, telescope, wavelengths, phot_num_tot)\n",
      "  File \"/opt/conda/lib/python3.7/site-packages/galsim/sensor.py\", line 452, in simple_treerings\n",
      "    return LookupTable.from_func(func, x_min=0., x_max=r_max, npoints=npoints)\n",
      "  File \"/tmp/ipykernel_5397/1976484744.py\", line 20, in generateImage\n",
      "    treering_func = galsim.SiliconSensor.simple_treerings(r_max = 1e7)\n",
      "  File \"/opt/conda/lib/python3.7/multiprocessing/pool.py\", line 121, in worker\n",
      "    result = (True, func(*args, **kwds))\n",
      "  File \"/home/guillemmh/FOBs/trace_dataset.py\", line 28, in tracePhotons\n",
      "    frb_photons = frb_atm_psf.shoot(num_phot, rng)\n",
      "Process ForkPoolWorker-13749:\n",
      "  File \"/opt/conda/lib/python3.7/multiprocessing/process.py\", line 99, in run\n",
      "    self._target(*self._args, **self._kwargs)\n",
      "  File \"/opt/conda/lib/python3.7/site-packages/galsim/sensor.py\", line 452, in simple_treerings\n",
      "    return LookupTable.from_func(func, x_min=0., x_max=r_max, npoints=npoints)\n",
      "  File \"/opt/conda/lib/python3.7/multiprocessing/process.py\", line 99, in run\n",
      "    self._target(*self._args, **self._kwargs)\n",
      "  File \"/opt/conda/lib/python3.7/multiprocessing/process.py\", line 297, in _bootstrap\n",
      "    self.run()\n",
      "  File \"/tmp/ipykernel_5397/213037740.py\", line 21, in generate_dataset2\n",
      "    noise = False,\n",
      "  File \"/tmp/ipykernel_5397/213037740.py\", line 21, in generate_dataset2\n",
      "    noise = False,\n",
      "  File \"/opt/conda/lib/python3.7/multiprocessing/pool.py\", line 121, in worker\n",
      "    result = (True, func(*args, **kwds))\n",
      "  File \"/home/guillemmh/FOBs/trace_dataset.py\", line 28, in tracePhotons\n",
      "    frb_photons = frb_atm_psf.shoot(num_phot, rng)\n",
      "  File \"/opt/conda/lib/python3.7/multiprocessing/pool.py\", line 121, in worker\n",
      "    result = (True, func(*args, **kwds))\n",
      "  File \"/home/guillemmh/FOBs/trace_dataset.py\", line 28, in tracePhotons\n",
      "    frb_photons = frb_atm_psf.shoot(num_phot, rng)\n",
      "  File \"/home/guillemmh/FOBs/trace_dataset.py\", line 28, in tracePhotons\n",
      "    frb_photons = frb_atm_psf.shoot(num_phot, rng)\n",
      "  File \"/opt/conda/lib/python3.7/multiprocessing/pool.py\", line 121, in worker\n",
      "    result = (True, func(*args, **kwds))\n",
      "  File \"/tmp/ipykernel_5397/1976484744.py\", line 20, in generateImage\n",
      "    treering_func = galsim.SiliconSensor.simple_treerings(r_max = 1e7)\n",
      "  File \"/tmp/ipykernel_5397/213037740.py\", line 13, in generate_dataset2\n",
      "    traced_photons, wavelengths = trace.tracePhotons(args.name, args.num_phot, rng, observation, wavelength, args.atm, args.method, args.duration)\n",
      "  File \"/opt/conda/lib/python3.7/site-packages/galsim/sensor.py\", line 452, in simple_treerings\n",
      "    return LookupTable.from_func(func, x_min=0., x_max=r_max, npoints=npoints)\n",
      "  File \"/opt/conda/lib/python3.7/multiprocessing/pool.py\", line 121, in worker\n",
      "    result = (True, func(*args, **kwds))\n",
      "  File \"/opt/conda/lib/python3.7/site-packages/galsim/gsobject.py\", line 2406, in shoot\n",
      "    self._shoot(photons, rng)\n",
      "  File \"/opt/conda/lib/python3.7/multiprocessing/process.py\", line 99, in run\n",
      "    self._target(*self._args, **self._kwargs)\n",
      "  File \"/opt/conda/lib/python3.7/multiprocessing/pool.py\", line 121, in worker\n",
      "    result = (True, func(*args, **kwds))\n",
      "  File \"/home/guillemmh/FOBs/trace_dataset.py\", line 28, in tracePhotons\n",
      "    frb_photons = frb_atm_psf.shoot(num_phot, rng)\n",
      "  File \"/home/guillemmh/FOBs/trace_dataset.py\", line 28, in tracePhotons\n",
      "    frb_photons = frb_atm_psf.shoot(num_phot, rng)\n",
      "  File \"/opt/conda/lib/python3.7/multiprocessing/pool.py\", line 121, in worker\n",
      "    result = (True, func(*args, **kwds))\n",
      "  File \"/opt/conda/lib/python3.7/site-packages/galsim/sensor.py\", line 452, in simple_treerings\n",
      "    return LookupTable.from_func(func, x_min=0., x_max=r_max, npoints=npoints)\n",
      "  File \"/tmp/ipykernel_5397/213037740.py\", line 13, in generate_dataset2\n",
      "    traced_photons, wavelengths = trace.tracePhotons(args.name, args.num_phot, rng, observation, wavelength, args.atm, args.method, args.duration)\n",
      "  File \"/tmp/ipykernel_5397/213037740.py\", line 21, in generate_dataset2\n",
      "    noise = False,\n",
      "  File \"/opt/conda/lib/python3.7/site-packages/galsim/sensor.py\", line 452, in simple_treerings\n",
      "    return LookupTable.from_func(func, x_min=0., x_max=r_max, npoints=npoints)\n",
      "  File \"/tmp/ipykernel_5397/213037740.py\", line 21, in generate_dataset2\n",
      "    noise = False,\n",
      "  File \"/tmp/ipykernel_5397/1976484744.py\", line 20, in generateImage\n",
      "    treering_func = galsim.SiliconSensor.simple_treerings(r_max = 1e7)\n",
      "  File \"/home/guillemmh/FOBs/trace_dataset.py\", line 28, in tracePhotons\n",
      "    frb_photons = frb_atm_psf.shoot(num_phot, rng)\n",
      "  File \"/opt/conda/lib/python3.7/multiprocessing/pool.py\", line 121, in worker\n",
      "    result = (True, func(*args, **kwds))\n",
      "  File \"/opt/conda/lib/python3.7/site-packages/galsim/sensor.py\", line 452, in simple_treerings\n",
      "    return LookupTable.from_func(func, x_min=0., x_max=r_max, npoints=npoints)\n",
      "  File \"/tmp/ipykernel_5397/213037740.py\", line 21, in generate_dataset2\n",
      "    noise = False,\n",
      "  File \"/tmp/ipykernel_5397/213037740.py\", line 21, in generate_dataset2\n",
      "    noise = False,\n",
      "  File \"/opt/conda/lib/python3.7/multiprocessing/pool.py\", line 121, in worker\n",
      "    result = (True, func(*args, **kwds))\n",
      "  File \"/opt/conda/lib/python3.7/site-packages/galsim/sensor.py\", line 452, in simple_treerings\n",
      "    return LookupTable.from_func(func, x_min=0., x_max=r_max, npoints=npoints)\n",
      "  File \"/tmp/ipykernel_5397/213037740.py\", line 21, in generate_dataset2\n",
      "    noise = False,\n",
      "  File \"/home/guillemmh/FOBs/trace.py\", line 148, in generatePhaseGradients\n",
      "    H2O_pressure = observation['H2O_pressure'],\n",
      "  File \"/tmp/ipykernel_5397/213037740.py\", line 21, in generate_dataset2\n",
      "    noise = False,\n",
      "  File \"/tmp/ipykernel_5397/213037740.py\", line 21, in generate_dataset2\n",
      "    noise = False,\n",
      "  File \"/home/guillemmh/FOBs/trace.py\", line 178, in GalsimToBatoid\n",
      "    n.append(telescope.inMedium.getN(wavelengths[idx]))\n",
      "  File \"/opt/conda/lib/python3.7/multiprocessing/pool.py\", line 121, in worker\n",
      "    result = (True, func(*args, **kwds))\n",
      "  File \"/tmp/ipykernel_5397/213037740.py\", line 13, in generate_dataset2\n",
      "    traced_photons, wavelengths = trace.tracePhotons(args.name, args.num_phot, rng, observation, wavelength, args.atm, args.method, args.duration)\n",
      "  File \"/opt/conda/lib/python3.7/multiprocessing/process.py\", line 297, in _bootstrap\n",
      "    self.run()\n",
      "  File \"/tmp/ipykernel_5397/1976484744.py\", line 20, in generateImage\n",
      "    treering_func = galsim.SiliconSensor.simple_treerings(r_max = 1e7)\n",
      "  File \"/tmp/ipykernel_5397/1976484744.py\", line 20, in generateImage\n",
      "    treering_func = galsim.SiliconSensor.simple_treerings(r_max = 1e7)\n",
      "  File \"/opt/conda/lib/python3.7/multiprocessing/pool.py\", line 121, in worker\n",
      "    result = (True, func(*args, **kwds))\n",
      "  File \"/opt/conda/lib/python3.7/multiprocessing/pool.py\", line 121, in worker\n",
      "    result = (True, func(*args, **kwds))\n",
      "  File \"/opt/conda/lib/python3.7/site-packages/galsim/gsobject.py\", line 2406, in shoot\n",
      "    self._shoot(photons, rng)\n",
      "  File \"/home/guillemmh/FOBs/trace_dataset.py\", line 22, in tracePhotons\n",
      "    second_kick = False,\n",
      "  File \"/opt/conda/lib/python3.7/multiprocessing/process.py\", line 99, in run\n",
      "    self._target(*self._args, **self._kwargs)\n"
     ]
    },
    {
     "name": "stderr",
     "output_type": "stream",
     "text": [
      "  File \"/tmp/ipykernel_5397/213037740.py\", line 21, in generate_dataset2\n",
      "    noise = False,\n",
      "  File \"/home/guillemmh/FOBs/trace_dataset.py\", line 28, in tracePhotons\n",
      "    frb_photons = frb_atm_psf.shoot(num_phot, rng)\n",
      "Process ForkPoolWorker-13745:\n",
      "  File \"/opt/conda/lib/python3.7/multiprocessing/pool.py\", line 121, in worker\n",
      "    result = (True, func(*args, **kwds))\n",
      "  File \"/opt/conda/lib/python3.7/multiprocessing/process.py\", line 99, in run\n",
      "    self._target(*self._args, **self._kwargs)\n",
      "  File \"/opt/conda/lib/python3.7/multiprocessing/process.py\", line 297, in _bootstrap\n",
      "    self.run()\n",
      "  File \"/opt/conda/lib/python3.7/multiprocessing/process.py\", line 99, in run\n",
      "    self._target(*self._args, **self._kwargs)\n",
      "  File \"/tmp/ipykernel_5397/213037740.py\", line 21, in generate_dataset2\n",
      "    noise = False,\n",
      "Process ForkPoolWorker-13835:\n",
      "  File \"/opt/conda/lib/python3.7/multiprocessing/process.py\", line 99, in run\n",
      "    self._target(*self._args, **self._kwargs)\n",
      "  File \"/opt/conda/lib/python3.7/multiprocessing/pool.py\", line 121, in worker\n",
      "    result = (True, func(*args, **kwds))\n",
      "  File \"/opt/conda/lib/python3.7/multiprocessing/process.py\", line 99, in run\n",
      "    self._target(*self._args, **self._kwargs)\n",
      "  File \"/tmp/ipykernel_5397/213037740.py\", line 21, in generate_dataset2\n",
      "    noise = False,\n",
      "  File \"/opt/conda/lib/python3.7/multiprocessing/pool.py\", line 121, in worker\n",
      "    result = (True, func(*args, **kwds))\n",
      "  File \"/opt/conda/lib/python3.7/multiprocessing/process.py\", line 99, in run\n",
      "    self._target(*self._args, **self._kwargs)\n",
      "  File \"/tmp/ipykernel_5397/213037740.py\", line 21, in generate_dataset2\n",
      "    noise = False,\n",
      "  File \"/opt/conda/lib/python3.7/multiprocessing/process.py\", line 99, in run\n",
      "    self._target(*self._args, **self._kwargs)\n",
      "  File \"/opt/conda/lib/python3.7/multiprocessing/process.py\", line 99, in run\n",
      "    self._target(*self._args, **self._kwargs)\n",
      "  File \"/opt/conda/lib/python3.7/site-packages/galsim/sensor.py\", line 452, in simple_treerings\n",
      "    return LookupTable.from_func(func, x_min=0., x_max=r_max, npoints=npoints)\n",
      "  File \"/home/guillemmh/FOBs/trace.py\", line 245, in tracePhotons\n",
      "    rays = GalsimToBatoid(u, v, dku, dkv, telescope, wavelengths, phot_num_tot)\n",
      "  File \"/tmp/ipykernel_5397/213037740.py\", line 13, in generate_dataset2\n",
      "    traced_photons, wavelengths = trace.tracePhotons(args.name, args.num_phot, rng, observation, wavelength, args.atm, args.method, args.duration)\n",
      "  File \"/opt/conda/lib/python3.7/site-packages/galsim/gsobject.py\", line 2406, in shoot\n",
      "    self._shoot(photons, rng)\n",
      "  File \"/opt/conda/lib/python3.7/multiprocessing/process.py\", line 99, in run\n",
      "    self._target(*self._args, **self._kwargs)\n",
      "  File \"/tmp/ipykernel_5397/213037740.py\", line 13, in generate_dataset2\n",
      "    traced_photons, wavelengths = trace.tracePhotons(args.name, args.num_phot, rng, observation, wavelength, args.atm, args.method, args.duration)\n",
      "  File \"/opt/conda/lib/python3.7/multiprocessing/process.py\", line 99, in run\n",
      "    self._target(*self._args, **self._kwargs)\n",
      "  File \"/tmp/ipykernel_5397/213037740.py\", line 21, in generate_dataset2\n",
      "    noise = False,\n",
      "  File \"/opt/conda/lib/python3.7/multiprocessing/pool.py\", line 121, in worker\n",
      "    result = (True, func(*args, **kwds))\n",
      "  File \"/opt/conda/lib/python3.7/multiprocessing/pool.py\", line 121, in worker\n",
      "    result = (True, func(*args, **kwds))\n",
      "  File \"/tmp/ipykernel_5397/1976484744.py\", line 20, in generateImage\n",
      "    treering_func = galsim.SiliconSensor.simple_treerings(r_max = 1e7)\n",
      "  File \"/tmp/ipykernel_5397/213037740.py\", line 21, in generate_dataset2\n",
      "    noise = False,\n",
      "  File \"/opt/conda/lib/python3.7/site-packages/galsim/gsobject.py\", line 2406, in shoot\n",
      "    self._shoot(photons, rng)\n",
      "  File \"/opt/conda/lib/python3.7/site-packages/galsim/gsobject.py\", line 2406, in shoot\n",
      "    self._shoot(photons, rng)\n",
      "  File \"/opt/conda/lib/python3.7/multiprocessing/pool.py\", line 121, in worker\n",
      "    result = (True, func(*args, **kwds))\n",
      "  File \"/opt/conda/lib/python3.7/site-packages/galsim/sensor.py\", line 452, in simple_treerings\n",
      "    return LookupTable.from_func(func, x_min=0., x_max=r_max, npoints=npoints)\n",
      "  File \"/opt/conda/lib/python3.7/site-packages/galsim/gsobject.py\", line 2406, in shoot\n",
      "    self._shoot(photons, rng)\n",
      "  File \"/opt/conda/lib/python3.7/multiprocessing/pool.py\", line 121, in worker\n",
      "    result = (True, func(*args, **kwds))\n",
      "  File \"/opt/conda/lib/python3.7/site-packages/galsim/gsobject.py\", line 2406, in shoot\n",
      "    self._shoot(photons, rng)\n",
      "Traceback (most recent call last):\n",
      "  File \"/home/guillemmh/FOBs/trace_dataset.py\", line 75, in tracePhotons\n",
      "    traced_photons, wavelengths = trace.tracePhotons(frb_photons, rng, observation, wavelength, atm, first_kick = first_kick)\n",
      "  File \"/opt/conda/lib/python3.7/site-packages/galsim/table.py\", line 502, in from_func\n",
      "    f = np.array([func(xx) for xx in x], dtype=float)\n",
      "  File \"/opt/conda/lib/python3.7/site-packages/galsim/sensor.py\", line 452, in simple_treerings\n",
      "    return LookupTable.from_func(func, x_min=0., x_max=r_max, npoints=npoints)\n",
      "  File \"/home/guillemmh/FOBs/trace.py\", line 249, in tracePhotons\n",
      "    traced_rays = TelescopeTrace(rays, telescope)\n",
      "KeyboardInterrupt\n",
      "  File \"/opt/conda/lib/python3.7/site-packages/galsim/sensor.py\", line 452, in simple_treerings\n",
      "    return LookupTable.from_func(func, x_min=0., x_max=r_max, npoints=npoints)\n",
      "  File \"/opt/conda/lib/python3.7/site-packages/galsim/sensor.py\", line 452, in simple_treerings\n",
      "    return LookupTable.from_func(func, x_min=0., x_max=r_max, npoints=npoints)\n",
      "  File \"/tmp/ipykernel_5397/1976484744.py\", line 20, in generateImage\n",
      "    treering_func = galsim.SiliconSensor.simple_treerings(r_max = 1e7)\n",
      "  File \"/home/guillemmh/FOBs/trace.py\", line 178, in GalsimToBatoid\n",
      "    n.append(telescope.inMedium.getN(wavelengths[idx]))\n",
      "  File \"/home/guillemmh/FOBs/trace.py\", line 188, in GalsimToBatoid\n",
      "    x.tolist(), y.tolist(), z.tolist(),\n",
      "  File \"/tmp/ipykernel_5397/213037740.py\", line 13, in generate_dataset2\n",
      "    traced_photons, wavelengths = trace.tracePhotons(args.name, args.num_phot, rng, observation, wavelength, args.atm, args.method, args.duration)\n",
      "  File \"/opt/conda/lib/python3.7/site-packages/galsim/sensor.py\", line 452, in simple_treerings\n",
      "    return LookupTable.from_func(func, x_min=0., x_max=r_max, npoints=npoints)\n",
      "KeyboardInterrupt\n",
      "  File \"/opt/conda/lib/python3.7/site-packages/galsim/table.py\", line 502, in from_func\n",
      "    f = np.array([func(xx) for xx in x], dtype=float)\n",
      "  File \"/home/guillemmh/FOBs/trace.py\", line 178, in GalsimToBatoid\n",
      "    n.append(telescope.inMedium.getN(wavelengths[idx]))\n",
      "Traceback (most recent call last):\n",
      "  File \"/opt/conda/lib/python3.7/site-packages/galsim/gsobject.py\", line 2406, in shoot\n",
      "    self._shoot(photons, rng)\n",
      "  File \"/opt/conda/lib/python3.7/site-packages/galsim/table.py\", line 502, in from_func\n",
      "    f = np.array([func(xx) for xx in x], dtype=float)\n",
      "  File \"/opt/conda/lib/python3.7/multiprocessing/pool.py\", line 121, in worker\n",
      "    result = (True, func(*args, **kwds))\n",
      "  File \"/opt/conda/lib/python3.7/multiprocessing/process.py\", line 99, in run\n",
      "    self._target(*self._args, **self._kwargs)\n",
      "  File \"/opt/conda/lib/python3.7/multiprocessing/pool.py\", line 121, in worker\n",
      "    result = (True, func(*args, **kwds))\n",
      "  File \"/opt/conda/lib/python3.7/multiprocessing/process.py\", line 297, in _bootstrap\n",
      "    self.run()\n",
      "  File \"/tmp/ipykernel_5397/1976484744.py\", line 20, in generateImage\n",
      "    treering_func = galsim.SiliconSensor.simple_treerings(r_max = 1e7)\n",
      "  File \"/tmp/ipykernel_5397/1976484744.py\", line 20, in generateImage\n",
      "    treering_func = galsim.SiliconSensor.simple_treerings(r_max = 1e7)\n",
      "  File \"/opt/conda/lib/python3.7/site-packages/galsim/gsobject.py\", line 2406, in shoot\n",
      "    self._shoot(photons, rng)\n",
      "  File \"/tmp/ipykernel_5397/213037740.py\", line 21, in generate_dataset2\n",
      "    noise = False,\n",
      "  File \"/opt/conda/lib/python3.7/site-packages/galsim/gsobject.py\", line 2406, in shoot\n",
      "    self._shoot(photons, rng)\n",
      "  File \"/opt/conda/lib/python3.7/site-packages/galsim/gsobject.py\", line 2406, in shoot\n",
      "    self._shoot(photons, rng)\n",
      "  File \"/tmp/ipykernel_5397/213037740.py\", line 13, in generate_dataset2\n",
      "    traced_photons, wavelengths = trace.tracePhotons(args.name, args.num_phot, rng, observation, wavelength, args.atm, args.method, args.duration)\n"
     ]
    },
    {
     "name": "stderr",
     "output_type": "stream",
     "text": [
      "  File \"/opt/conda/lib/python3.7/site-packages/galsim/sensor.py\", line 452, in simple_treerings\n",
      "    return LookupTable.from_func(func, x_min=0., x_max=r_max, npoints=npoints)\n",
      "  File \"/opt/conda/lib/python3.7/site-packages/galsim/phase_psf.py\", line 1554, in _shoot\n",
      "    self._prepareDraw()\n",
      "  File \"/home/guillemmh/FOBs/trace_dataset.py\", line 28, in tracePhotons\n",
      "    frb_photons = frb_atm_psf.shoot(num_phot, rng)\n",
      "  File \"/opt/conda/lib/python3.7/multiprocessing/pool.py\", line 121, in worker\n",
      "    result = (True, func(*args, **kwds))\n",
      "  File \"/tmp/ipykernel_5397/213037740.py\", line 13, in generate_dataset2\n",
      "    traced_photons, wavelengths = trace.tracePhotons(args.name, args.num_phot, rng, observation, wavelength, args.atm, args.method, args.duration)\n",
      "  File \"/opt/conda/lib/python3.7/site-packages/galsim/table.py\", line 502, in from_func\n",
      "    f = np.array([func(xx) for xx in x], dtype=float)\n",
      "  File \"/tmp/ipykernel_5397/213037740.py\", line 13, in generate_dataset2\n",
      "    traced_photons, wavelengths = trace.tracePhotons(args.name, args.num_phot, rng, observation, wavelength, args.atm, args.method, args.duration)\n",
      "  File \"/home/guillemmh/FOBs/trace_dataset.py\", line 75, in tracePhotons\n",
      "    traced_photons, wavelengths = trace.tracePhotons(frb_photons, rng, observation, wavelength, atm, first_kick = first_kick)\n",
      "  File \"/tmp/ipykernel_5397/213037740.py\", line 13, in generate_dataset2\n",
      "    traced_photons, wavelengths = trace.tracePhotons(args.name, args.num_phot, rng, observation, wavelength, args.atm, args.method, args.duration)\n",
      "  File \"/opt/conda/lib/python3.7/site-packages/galsim/gsobject.py\", line 2406, in shoot\n",
      "    self._shoot(photons, rng)\n",
      "  File \"/opt/conda/lib/python3.7/site-packages/galsim/gsobject.py\", line 2406, in shoot\n",
      "    self._shoot(photons, rng)\n",
      "  File \"/tmp/ipykernel_5397/213037740.py\", line 13, in generate_dataset2\n",
      "    traced_photons, wavelengths = trace.tracePhotons(args.name, args.num_phot, rng, observation, wavelength, args.atm, args.method, args.duration)\n",
      "  File \"/opt/conda/lib/python3.7/site-packages/galsim/table.py\", line 502, in from_func\n",
      "    f = np.array([func(xx) for xx in x], dtype=float)\n",
      "  File \"/tmp/ipykernel_5397/1976484744.py\", line 22, in generateImage\n",
      "    sensor.accumulate(photons, image)\n",
      "  File \"/opt/conda/lib/python3.7/site-packages/galsim/sensor.py\", line 452, in simple_treerings\n",
      "    return LookupTable.from_func(func, x_min=0., x_max=r_max, npoints=npoints)\n",
      "  File \"/opt/conda/lib/python3.7/site-packages/galsim/table.py\", line 502, in from_func\n",
      "    f = np.array([func(xx) for xx in x], dtype=float)\n",
      "  File \"/opt/conda/lib/python3.7/site-packages/galsim/gsobject.py\", line 2406, in shoot\n",
      "    self._shoot(photons, rng)\n",
      "  File \"/opt/conda/lib/python3.7/site-packages/galsim/table.py\", line 502, in from_func\n",
      "    f = np.array([func(xx) for xx in x], dtype=float)\n",
      "  File \"/tmp/ipykernel_5397/1976484744.py\", line 20, in generateImage\n",
      "    treering_func = galsim.SiliconSensor.simple_treerings(r_max = 1e7)\n",
      "  File \"/tmp/ipykernel_5397/213037740.py\", line 21, in generate_dataset2\n",
      "    noise = False,\n",
      "  File \"/tmp/ipykernel_5397/1976484744.py\", line 20, in generateImage\n",
      "    treering_func = galsim.SiliconSensor.simple_treerings(r_max = 1e7)\n",
      "  File \"/tmp/ipykernel_5397/1976484744.py\", line 20, in generateImage\n",
      "    treering_func = galsim.SiliconSensor.simple_treerings(r_max = 1e7)\n",
      "  File \"/opt/conda/lib/python3.7/site-packages/galsim/dcr.py\", line 74, in get_refraction\n",
      "    r0 = nm1 * (nm1+2) / 2.0 / (nm1**2 + 2*nm1 + 1)\n",
      "  File \"/tmp/ipykernel_5397/1976484744.py\", line 20, in generateImage\n",
      "    treering_func = galsim.SiliconSensor.simple_treerings(r_max = 1e7)\n",
      "  File \"/opt/conda/lib/python3.7/site-packages/galsim/table.py\", line 502, in from_func\n",
      "    f = np.array([func(xx) for xx in x], dtype=float)\n",
      "  File \"/tmp/ipykernel_5397/213037740.py\", line 21, in generate_dataset2\n",
      "    noise = False,\n",
      "  File \"/opt/conda/lib/python3.7/site-packages/galsim/sensor.py\", line 452, in simple_treerings\n",
      "    return LookupTable.from_func(func, x_min=0., x_max=r_max, npoints=npoints)\n",
      "  File \"/tmp/ipykernel_5397/213037740.py\", line 21, in generate_dataset2\n",
      "    noise = False,\n",
      "  File \"/tmp/ipykernel_5397/1976484744.py\", line 20, in generateImage\n",
      "    treering_func = galsim.SiliconSensor.simple_treerings(r_max = 1e7)\n",
      "  File \"/opt/conda/lib/python3.7/site-packages/batoid/medium.py\", line 24, in getN\n",
      "    return self._medium.getN(wavelength)\n",
      "  File \"/opt/conda/lib/python3.7/multiprocessing/pool.py\", line 121, in worker\n",
      "    result = (True, func(*args, **kwds))\n",
      "  File \"/tmp/ipykernel_5397/1976484744.py\", line 20, in generateImage\n",
      "    treering_func = galsim.SiliconSensor.simple_treerings(r_max = 1e7)\n",
      "  File \"/opt/conda/lib/python3.7/multiprocessing/process.py\", line 99, in run\n",
      "    self._target(*self._args, **self._kwargs)\n",
      "  File \"/home/guillemmh/FOBs/trace_dataset.py\", line 28, in tracePhotons\n",
      "    frb_photons = frb_atm_psf.shoot(num_phot, rng)\n",
      "  File \"/opt/conda/lib/python3.7/site-packages/galsim/sensor.py\", line 452, in simple_treerings\n",
      "    return LookupTable.from_func(func, x_min=0., x_max=r_max, npoints=npoints)\n",
      "  File \"/opt/conda/lib/python3.7/site-packages/galsim/phase_psf.py\", line 1037, in makePSF\n",
      "    return PhaseScreenPSF(self, lam, **kwargs)\n",
      "  File \"/opt/conda/lib/python3.7/site-packages/galsim/gsobject.py\", line 2406, in shoot\n",
      "    self._shoot(photons, rng)\n",
      "  File \"/tmp/ipykernel_5397/1976484744.py\", line 20, in generateImage\n",
      "    treering_func = galsim.SiliconSensor.simple_treerings(r_max = 1e7)\n",
      "  File \"/tmp/ipykernel_5397/213037740.py\", line 21, in generate_dataset2\n",
      "    noise = False,\n",
      "  File \"/opt/conda/lib/python3.7/site-packages/galsim/phase_psf.py\", line 1554, in _shoot\n",
      "    self._prepareDraw()\n",
      "  File \"/tmp/ipykernel_5397/213037740.py\", line 21, in generate_dataset2\n",
      "    noise = False,\n",
      "  File \"/opt/conda/lib/python3.7/multiprocessing/pool.py\", line 121, in worker\n",
      "    result = (True, func(*args, **kwds))\n",
      "Traceback (most recent call last):\n",
      "  File \"/opt/conda/lib/python3.7/multiprocessing/pool.py\", line 121, in worker\n",
      "    result = (True, func(*args, **kwds))\n",
      "  File \"/tmp/ipykernel_5397/213037740.py\", line 21, in generate_dataset2\n",
      "    noise = False,\n",
      "  File \"/opt/conda/lib/python3.7/multiprocessing/process.py\", line 99, in run\n",
      "    self._target(*self._args, **self._kwargs)\n",
      "  File \"/opt/conda/lib/python3.7/multiprocessing/pool.py\", line 121, in worker\n",
      "    result = (True, func(*args, **kwds))\n",
      "  File \"/tmp/ipykernel_5397/1976484744.py\", line 20, in generateImage\n",
      "    treering_func = galsim.SiliconSensor.simple_treerings(r_max = 1e7)\n",
      "  File \"/opt/conda/lib/python3.7/multiprocessing/pool.py\", line 121, in worker\n",
      "    result = (True, func(*args, **kwds))\n",
      "Traceback (most recent call last):\n",
      "  File \"/tmp/ipykernel_5397/213037740.py\", line 21, in generate_dataset2\n",
      "    noise = False,\n",
      "  File \"/tmp/ipykernel_5397/1976484744.py\", line 20, in generateImage\n",
      "    treering_func = galsim.SiliconSensor.simple_treerings(r_max = 1e7)\n",
      "  File \"/opt/conda/lib/python3.7/multiprocessing/pool.py\", line 121, in worker\n",
      "    result = (True, func(*args, **kwds))\n",
      "  File \"/tmp/ipykernel_5397/1976484744.py\", line 20, in generateImage\n",
      "    treering_func = galsim.SiliconSensor.simple_treerings(r_max = 1e7)\n",
      "  File \"/opt/conda/lib/python3.7/site-packages/galsim/table.py\", line 502, in from_func\n",
      "    f = np.array([func(xx) for xx in x], dtype=float)\n",
      "  File \"/opt/conda/lib/python3.7/multiprocessing/pool.py\", line 121, in worker\n",
      "    result = (True, func(*args, **kwds))\n",
      "  File \"/home/guillemmh/FOBs/trace.py\", line 178, in GalsimToBatoid\n",
      "    n.append(telescope.inMedium.getN(wavelengths[idx]))\n",
      "  File \"/home/guillemmh/FOBs/trace_dataset.py\", line 75, in tracePhotons\n",
      "    traced_photons, wavelengths = trace.tracePhotons(frb_photons, rng, observation, wavelength, atm, first_kick = first_kick)\n",
      "  File \"/opt/conda/lib/python3.7/site-packages/galsim/phase_psf.py\", line 1554, in _shoot\n",
      "    self._prepareDraw()\n",
      "  File \"/home/guillemmh/FOBs/trace_dataset.py\", line 28, in tracePhotons\n",
      "    frb_photons = frb_atm_psf.shoot(num_phot, rng)\n",
      "  File \"/opt/conda/lib/python3.7/multiprocessing/pool.py\", line 121, in worker\n",
      "    result = (True, func(*args, **kwds))\n",
      "  File \"/opt/conda/lib/python3.7/multiprocessing/pool.py\", line 121, in worker\n",
      "    result = (True, func(*args, **kwds))\n"
     ]
    },
    {
     "name": "stderr",
     "output_type": "stream",
     "text": [
      "  File \"/tmp/ipykernel_5397/213037740.py\", line 21, in generate_dataset2\n",
      "    noise = False,\n",
      "  File \"/opt/conda/lib/python3.7/multiprocessing/pool.py\", line 121, in worker\n",
      "    result = (True, func(*args, **kwds))\n",
      "  File \"/opt/conda/lib/python3.7/site-packages/galsim/table.py\", line 502, in from_func\n",
      "    f = np.array([func(xx) for xx in x], dtype=float)\n",
      "  File \"/opt/conda/lib/python3.7/site-packages/galsim/phase_psf.py\", line 1554, in _shoot\n",
      "    self._prepareDraw()\n",
      "  File \"/opt/conda/lib/python3.7/site-packages/galsim/phase_psf.py\", line 1554, in _shoot\n",
      "    self._prepareDraw()\n",
      "  File \"/tmp/ipykernel_5397/213037740.py\", line 21, in generate_dataset2\n",
      "    noise = False,\n",
      "  File \"/opt/conda/lib/python3.7/multiprocessing/pool.py\", line 121, in worker\n",
      "    result = (True, func(*args, **kwds))\n",
      "  File \"/tmp/ipykernel_5397/1976484744.py\", line 20, in generateImage\n",
      "    treering_func = galsim.SiliconSensor.simple_treerings(r_max = 1e7)\n",
      "  File \"/opt/conda/lib/python3.7/site-packages/galsim/sensor.py\", line 452, in simple_treerings\n",
      "    return LookupTable.from_func(func, x_min=0., x_max=r_max, npoints=npoints)\n",
      "  File \"/tmp/ipykernel_5397/213037740.py\", line 21, in generate_dataset2\n",
      "    noise = False,\n",
      "Process ForkPoolWorker-13742:\n",
      "  File \"/tmp/ipykernel_5397/1976484744.py\", line 20, in generateImage\n",
      "    treering_func = galsim.SiliconSensor.simple_treerings(r_max = 1e7)\n",
      "  File \"/opt/conda/lib/python3.7/site-packages/galsim/phase_psf.py\", line 1554, in _shoot\n",
      "    self._prepareDraw()\n",
      "  File \"/opt/conda/lib/python3.7/site-packages/galsim/table.py\", line 502, in <listcomp>\n",
      "    f = np.array([func(xx) for xx in x], dtype=float)\n",
      "  File \"/opt/conda/lib/python3.7/multiprocessing/process.py\", line 297, in _bootstrap\n",
      "    self.run()\n",
      "  File \"/home/guillemmh/FOBs/trace.py\", line 249, in tracePhotons\n",
      "    traced_rays = TelescopeTrace(rays, telescope)\n",
      "  File \"/opt/conda/lib/python3.7/site-packages/galsim/phase_psf.py\", line 1554, in _shoot\n",
      "    self._prepareDraw()\n",
      "  File \"/opt/conda/lib/python3.7/site-packages/galsim/table.py\", line 502, in from_func\n",
      "    f = np.array([func(xx) for xx in x], dtype=float)\n",
      "  File \"/tmp/ipykernel_5397/213037740.py\", line 13, in generate_dataset2\n",
      "    traced_photons, wavelengths = trace.tracePhotons(args.name, args.num_phot, rng, observation, wavelength, args.atm, args.method, args.duration)\n",
      "  File \"/opt/conda/lib/python3.7/site-packages/galsim/table.py\", line 502, in from_func\n",
      "    f = np.array([func(xx) for xx in x], dtype=float)\n",
      "  File \"/home/guillemmh/FOBs/trace.py\", line 199, in TelescopeTrace\n",
      "    rays_traced = telescope.trace(rays)\n",
      "  File \"/opt/conda/lib/python3.7/site-packages/galsim/table.py\", line 502, in from_func\n",
      "    f = np.array([func(xx) for xx in x], dtype=float)\n",
      "  File \"/opt/conda/lib/python3.7/site-packages/galsim/sensor.py\", line 452, in simple_treerings\n",
      "    return LookupTable.from_func(func, x_min=0., x_max=r_max, npoints=npoints)\n",
      "KeyboardInterrupt\n",
      "  File \"/home/guillemmh/FOBs/trace_dataset.py\", line 75, in tracePhotons\n",
      "    traced_photons, wavelengths = trace.tracePhotons(frb_photons, rng, observation, wavelength, atm, first_kick = first_kick)\n",
      "  File \"/opt/conda/lib/python3.7/site-packages/batoid/medium.py\", line 24, in getN\n",
      "    return self._medium.getN(wavelength)\n",
      "  File \"/opt/conda/lib/python3.7/multiprocessing/process.py\", line 297, in _bootstrap\n",
      "    self.run()\n",
      "  File \"/home/guillemmh/FOBs/trace_dataset.py\", line 75, in tracePhotons\n",
      "    traced_photons, wavelengths = trace.tracePhotons(frb_photons, rng, observation, wavelength, atm, first_kick = first_kick)\n",
      "  File \"/opt/conda/lib/python3.7/site-packages/galsim/table.py\", line 502, in <listcomp>\n",
      "    f = np.array([func(xx) for xx in x], dtype=float)\n",
      "  File \"/opt/conda/lib/python3.7/site-packages/galsim/phase_psf.py\", line 1554, in _shoot\n",
      "    self._prepareDraw()\n",
      "  File \"/opt/conda/lib/python3.7/site-packages/galsim/table.py\", line 502, in <listcomp>\n",
      "    f = np.array([func(xx) for xx in x], dtype=float)\n",
      "  File \"/tmp/ipykernel_5397/213037740.py\", line 21, in generate_dataset2\n",
      "    noise = False,\n",
      "  File \"/opt/conda/lib/python3.7/site-packages/galsim/table.py\", line 502, in from_func\n",
      "    f = np.array([func(xx) for xx in x], dtype=float)\n",
      "  File \"/opt/conda/lib/python3.7/multiprocessing/pool.py\", line 121, in worker\n",
      "    result = (True, func(*args, **kwds))\n",
      "  File \"/opt/conda/lib/python3.7/site-packages/galsim/sensor.py\", line 452, in simple_treerings\n",
      "    return LookupTable.from_func(func, x_min=0., x_max=r_max, npoints=npoints)\n",
      "  File \"/opt/conda/lib/python3.7/site-packages/galsim/phase_psf.py\", line 1554, in _shoot\n",
      "    self._prepareDraw()\n",
      "  File \"/tmp/ipykernel_5397/213037740.py\", line 13, in generate_dataset2\n",
      "    traced_photons, wavelengths = trace.tracePhotons(args.name, args.num_phot, rng, observation, wavelength, args.atm, args.method, args.duration)\n",
      "  File \"/opt/conda/lib/python3.7/site-packages/batoid/medium.py\", line 24, in getN\n",
      "    return self._medium.getN(wavelength)\n",
      "  File \"/opt/conda/lib/python3.7/multiprocessing/process.py\", line 99, in run\n",
      "    self._target(*self._args, **self._kwargs)\n",
      "  File \"/opt/conda/lib/python3.7/site-packages/galsim/phase_psf.py\", line 1554, in _shoot\n",
      "    self._prepareDraw()\n",
      "  File \"/opt/conda/lib/python3.7/site-packages/galsim/sensor.py\", line 452, in simple_treerings\n",
      "    return LookupTable.from_func(func, x_min=0., x_max=r_max, npoints=npoints)\n",
      "  File \"/opt/conda/lib/python3.7/site-packages/galsim/phase_psf.py\", line 1554, in _shoot\n",
      "    self._prepareDraw()\n",
      "  File \"/home/guillemmh/FOBs/trace_dataset.py\", line 28, in tracePhotons\n",
      "    frb_photons = frb_atm_psf.shoot(num_phot, rng)\n",
      "  File \"/opt/conda/lib/python3.7/site-packages/galsim/table.py\", line 502, in from_func\n",
      "    f = np.array([func(xx) for xx in x], dtype=float)\n",
      "  File \"/opt/conda/lib/python3.7/site-packages/galsim/gsobject.py\", line 2406, in shoot\n",
      "    self._shoot(photons, rng)\n",
      "  File \"/tmp/ipykernel_5397/1976484744.py\", line 20, in generateImage\n",
      "    treering_func = galsim.SiliconSensor.simple_treerings(r_max = 1e7)\n",
      "  File \"/tmp/ipykernel_5397/213037740.py\", line 13, in generate_dataset2\n",
      "    traced_photons, wavelengths = trace.tracePhotons(args.name, args.num_phot, rng, observation, wavelength, args.atm, args.method, args.duration)\n",
      "  File \"/opt/conda/lib/python3.7/site-packages/galsim/phase_psf.py\", line 1455, in _prepareDraw\n",
      "    self._screen_list._prepareDraw()\n",
      "  File \"/opt/conda/lib/python3.7/multiprocessing/pool.py\", line 121, in worker\n",
      "    result = (True, func(*args, **kwds))\n",
      "  File \"/home/guillemmh/FOBs/trace_dataset.py\", line 28, in tracePhotons\n",
      "    frb_photons = frb_atm_psf.shoot(num_phot, rng)\n",
      "  File \"/opt/conda/lib/python3.7/site-packages/galsim/table.py\", line 502, in <listcomp>\n",
      "    f = np.array([func(xx) for xx in x], dtype=float)\n",
      "  File \"/opt/conda/lib/python3.7/site-packages/galsim/phase_psf.py\", line 1554, in _shoot\n",
      "    self._prepareDraw()\n",
      "  File \"/opt/conda/lib/python3.7/site-packages/galsim/phase_psf.py\", line 1554, in _shoot\n",
      "    self._prepareDraw()\n",
      "  File \"/opt/conda/lib/python3.7/site-packages/galsim/sensor.py\", line 326, in accumulate\n",
      "    resume)\n",
      "  File \"/home/guillemmh/FOBs/trace_dataset.py\", line 28, in tracePhotons\n",
      "    frb_photons = frb_atm_psf.shoot(num_phot, rng)\n",
      "  File \"/opt/conda/lib/python3.7/site-packages/galsim/table.py\", line 502, in from_func\n",
      "    f = np.array([func(xx) for xx in x], dtype=float)\n",
      "  File \"/opt/conda/lib/python3.7/site-packages/galsim/table.py\", line 502, in <listcomp>\n",
      "    f = np.array([func(xx) for xx in x], dtype=float)\n",
      "  File \"/tmp/ipykernel_5397/213037740.py\", line 21, in generate_dataset2\n",
      "    noise = False,\n",
      "  File \"/opt/conda/lib/python3.7/site-packages/galsim/table.py\", line 502, in <listcomp>\n",
      "    f = np.array([func(xx) for xx in x], dtype=float)\n",
      "  File \"/home/guillemmh/FOBs/trace_dataset.py\", line 75, in tracePhotons\n",
      "    traced_photons, wavelengths = trace.tracePhotons(frb_photons, rng, observation, wavelength, atm, first_kick = first_kick)\n",
      "  File \"/opt/conda/lib/python3.7/site-packages/galsim/table.py\", line 502, in <listcomp>\n",
      "    f = np.array([func(xx) for xx in x], dtype=float)\n",
      "  File \"/opt/conda/lib/python3.7/site-packages/galsim/phase_psf.py\", line 1554, in _shoot\n",
      "    self._prepareDraw()\n",
      "  File \"/home/guillemmh/FOBs/trace.py\", line 245, in tracePhotons\n",
      "    rays = GalsimToBatoid(u, v, dku, dkv, telescope, wavelengths, phot_num_tot)\n"
     ]
    },
    {
     "name": "stderr",
     "output_type": "stream",
     "text": [
      "  File \"/opt/conda/lib/python3.7/site-packages/galsim/sensor.py\", line 452, in simple_treerings\n",
      "    return LookupTable.from_func(func, x_min=0., x_max=r_max, npoints=npoints)\n",
      "  File \"/tmp/ipykernel_5397/1976484744.py\", line 20, in generateImage\n",
      "    treering_func = galsim.SiliconSensor.simple_treerings(r_max = 1e7)\n",
      "  File \"/opt/conda/lib/python3.7/site-packages/galsim/table.py\", line 502, in <listcomp>\n",
      "    f = np.array([func(xx) for xx in x], dtype=float)\n",
      "  File \"/opt/conda/lib/python3.7/site-packages/galsim/sensor.py\", line 452, in simple_treerings\n",
      "    return LookupTable.from_func(func, x_min=0., x_max=r_max, npoints=npoints)\n",
      "  File \"/opt/conda/lib/python3.7/site-packages/galsim/sensor.py\", line 452, in simple_treerings\n",
      "    return LookupTable.from_func(func, x_min=0., x_max=r_max, npoints=npoints)\n",
      "  File \"/tmp/ipykernel_5397/1976484744.py\", line 20, in generateImage\n",
      "    treering_func = galsim.SiliconSensor.simple_treerings(r_max = 1e7)\n",
      "  File \"/tmp/ipykernel_5397/213037740.py\", line 21, in generate_dataset2\n",
      "    noise = False,\n",
      "  File \"/opt/conda/lib/python3.7/multiprocessing/pool.py\", line 121, in worker\n",
      "    result = (True, func(*args, **kwds))\n",
      "  File \"/opt/conda/lib/python3.7/site-packages/galsim/sensor.py\", line 452, in simple_treerings\n",
      "    return LookupTable.from_func(func, x_min=0., x_max=r_max, npoints=npoints)\n",
      "  File \"/opt/conda/lib/python3.7/site-packages/galsim/gsobject.py\", line 2406, in shoot\n",
      "    self._shoot(photons, rng)\n",
      "  File \"/opt/conda/lib/python3.7/site-packages/galsim/table.py\", line 502, in from_func\n",
      "    f = np.array([func(xx) for xx in x], dtype=float)\n",
      "KeyboardInterrupt\n",
      "  File \"/tmp/ipykernel_5397/1976484744.py\", line 22, in generateImage\n",
      "    sensor.accumulate(photons, image)\n",
      "  File \"/opt/conda/lib/python3.7/site-packages/galsim/table.py\", line 502, in from_func\n",
      "    f = np.array([func(xx) for xx in x], dtype=float)\n",
      "  File \"/opt/conda/lib/python3.7/site-packages/galsim/phase_psf.py\", line 1554, in _shoot\n",
      "    self._prepareDraw()\n",
      "  File \"/opt/conda/lib/python3.7/site-packages/galsim/sensor.py\", line 452, in simple_treerings\n",
      "    return LookupTable.from_func(func, x_min=0., x_max=r_max, npoints=npoints)\n",
      "  File \"/tmp/ipykernel_5397/213037740.py\", line 21, in generate_dataset2\n",
      "    noise = False,\n",
      "  File \"/tmp/ipykernel_5397/1976484744.py\", line 20, in generateImage\n",
      "    treering_func = galsim.SiliconSensor.simple_treerings(r_max = 1e7)\n",
      "  File \"/tmp/ipykernel_5397/1976484744.py\", line 20, in generateImage\n",
      "    treering_func = galsim.SiliconSensor.simple_treerings(r_max = 1e7)\n",
      "  File \"/opt/conda/lib/python3.7/site-packages/galsim/phase_psf.py\", line 1455, in _prepareDraw\n",
      "    self._screen_list._prepareDraw()\n",
      "  File \"/opt/conda/lib/python3.7/site-packages/galsim/sensor.py\", line 452, in simple_treerings\n",
      "    return LookupTable.from_func(func, x_min=0., x_max=r_max, npoints=npoints)\n",
      "  File \"/opt/conda/lib/python3.7/multiprocessing/process.py\", line 297, in _bootstrap\n",
      "    self.run()\n",
      "  File \"/opt/conda/lib/python3.7/multiprocessing/pool.py\", line 121, in worker\n",
      "    result = (True, func(*args, **kwds))\n",
      "  File \"/tmp/ipykernel_5397/213037740.py\", line 21, in generate_dataset2\n",
      "    noise = False,\n",
      "  File \"/tmp/ipykernel_5397/213037740.py\", line 21, in generate_dataset2\n",
      "    noise = False,\n",
      "  File \"/tmp/ipykernel_5397/1976484744.py\", line 20, in generateImage\n",
      "    treering_func = galsim.SiliconSensor.simple_treerings(r_max = 1e7)\n",
      "  File \"/opt/conda/lib/python3.7/multiprocessing/process.py\", line 297, in _bootstrap\n",
      "    self.run()\n",
      "  File \"/tmp/ipykernel_5397/213037740.py\", line 13, in generate_dataset2\n",
      "    traced_photons, wavelengths = trace.tracePhotons(args.name, args.num_phot, rng, observation, wavelength, args.atm, args.method, args.duration)\n",
      "  File \"/opt/conda/lib/python3.7/site-packages/galsim/phase_psf.py\", line 1271, in __init__\n",
      "    self.scale = aper._sky_scale(self.lam, self.scale_unit)\n",
      "  File \"/tmp/ipykernel_5397/213037740.py\", line 21, in generate_dataset2\n",
      "    noise = False,\n",
      "  File \"/tmp/ipykernel_5397/1976484744.py\", line 20, in generateImage\n",
      "    treering_func = galsim.SiliconSensor.simple_treerings(r_max = 1e7)\n",
      "  File \"/opt/conda/lib/python3.7/site-packages/galsim/sensor.py\", line 452, in simple_treerings\n",
      "    return LookupTable.from_func(func, x_min=0., x_max=r_max, npoints=npoints)\n",
      "  File \"/tmp/ipykernel_5397/213037740.py\", line 21, in generate_dataset2\n",
      "    noise = False,\n",
      "  File \"/tmp/ipykernel_5397/213037740.py\", line 13, in generate_dataset2\n",
      "    traced_photons, wavelengths = trace.tracePhotons(args.name, args.num_phot, rng, observation, wavelength, args.atm, args.method, args.duration)\n",
      "  File \"/home/guillemmh/FOBs/trace.py\", line 249, in tracePhotons\n",
      "    traced_rays = TelescopeTrace(rays, telescope)\n",
      "  File \"/tmp/ipykernel_5397/213037740.py\", line 21, in generate_dataset2\n",
      "    noise = False,\n",
      "  File \"/tmp/ipykernel_5397/213037740.py\", line 21, in generate_dataset2\n",
      "    noise = False,\n",
      "  File \"/opt/conda/lib/python3.7/site-packages/galsim/phase_psf.py\", line 1455, in _prepareDraw\n",
      "    self._screen_list._prepareDraw()\n",
      "  File \"/opt/conda/lib/python3.7/site-packages/galsim/gsobject.py\", line 2406, in shoot\n",
      "    self._shoot(photons, rng)\n",
      "  File \"/opt/conda/lib/python3.7/site-packages/batoid/medium.py\", line 24, in getN\n",
      "    return self._medium.getN(wavelength)\n",
      "  File \"/tmp/ipykernel_5397/1976484744.py\", line 20, in generateImage\n",
      "    treering_func = galsim.SiliconSensor.simple_treerings(r_max = 1e7)\n",
      "  File \"/opt/conda/lib/python3.7/site-packages/galsim/phase_psf.py\", line 1455, in _prepareDraw\n",
      "    self._screen_list._prepareDraw()\n",
      "  File \"/opt/conda/lib/python3.7/site-packages/galsim/table.py\", line 502, in <listcomp>\n",
      "    f = np.array([func(xx) for xx in x], dtype=float)\n",
      "  File \"/tmp/ipykernel_5397/213037740.py\", line 13, in generate_dataset2\n",
      "    traced_photons, wavelengths = trace.tracePhotons(args.name, args.num_phot, rng, observation, wavelength, args.atm, args.method, args.duration)\n",
      "  File \"/opt/conda/lib/python3.7/site-packages/galsim/phase_psf.py\", line 1455, in _prepareDraw\n",
      "    self._screen_list._prepareDraw()\n",
      "  File \"/tmp/ipykernel_5397/1976484744.py\", line 20, in generateImage\n",
      "    treering_func = galsim.SiliconSensor.simple_treerings(r_max = 1e7)\n",
      "  File \"/opt/conda/lib/python3.7/site-packages/galsim/table.py\", line 502, in <listcomp>\n",
      "    f = np.array([func(xx) for xx in x], dtype=float)\n",
      "  File \"/opt/conda/lib/python3.7/site-packages/galsim/sensor.py\", line 452, in simple_treerings\n",
      "    return LookupTable.from_func(func, x_min=0., x_max=r_max, npoints=npoints)\n",
      "  File \"/opt/conda/lib/python3.7/site-packages/galsim/table.py\", line 502, in from_func\n",
      "    f = np.array([func(xx) for xx in x], dtype=float)\n",
      "  File \"/tmp/ipykernel_5397/213037740.py\", line 21, in generate_dataset2\n",
      "    noise = False,\n",
      "Traceback (most recent call last):\n",
      "  File \"/opt/conda/lib/python3.7/site-packages/galsim/sensor.py\", line 452, in simple_treerings\n",
      "    return LookupTable.from_func(func, x_min=0., x_max=r_max, npoints=npoints)\n",
      "  File \"/opt/conda/lib/python3.7/site-packages/galsim/sensor.py\", line 448, in <lambda>\n",
      "    func = lambda r: amplitude * np.cos(k * r)\n",
      "  File \"/opt/conda/lib/python3.7/multiprocessing/process.py\", line 99, in run\n",
      "    self._target(*self._args, **self._kwargs)\n",
      "  File \"/tmp/ipykernel_5397/1976484744.py\", line 20, in generateImage\n",
      "    treering_func = galsim.SiliconSensor.simple_treerings(r_max = 1e7)\n",
      "  File \"/opt/conda/lib/python3.7/site-packages/galsim/phase_psf.py\", line 1455, in _prepareDraw\n",
      "    self._screen_list._prepareDraw()\n",
      "  File \"/home/guillemmh/FOBs/trace.py\", line 199, in TelescopeTrace\n",
      "    rays_traced = telescope.trace(rays)\n",
      "  File \"/opt/conda/lib/python3.7/site-packages/galsim/table.py\", line 502, in <listcomp>\n",
      "    f = np.array([func(xx) for xx in x], dtype=float)\n",
      "  File \"/home/guillemmh/FOBs/trace_dataset.py\", line 75, in tracePhotons\n",
      "    traced_photons, wavelengths = trace.tracePhotons(frb_photons, rng, observation, wavelength, atm, first_kick = first_kick)\n",
      "  File \"/opt/conda/lib/python3.7/site-packages/galsim/table.py\", line 502, in <listcomp>\n",
      "    f = np.array([func(xx) for xx in x], dtype=float)\n",
      "  File \"/home/guillemmh/FOBs/trace.py\", line 249, in tracePhotons\n",
      "    traced_rays = TelescopeTrace(rays, telescope)\n",
      "  File \"/opt/conda/lib/python3.7/site-packages/galsim/table.py\", line 502, in from_func\n",
      "    f = np.array([func(xx) for xx in x], dtype=float)\n"
     ]
    },
    {
     "name": "stderr",
     "output_type": "stream",
     "text": [
      "KeyboardInterrupt\n",
      "  File \"/opt/conda/lib/python3.7/site-packages/batoid/optic.py\", line 829, in trace\n",
      "    item.trace(rv, reverse=reverse)\n",
      "  File \"/opt/conda/lib/python3.7/site-packages/galsim/table.py\", line 502, in <listcomp>\n",
      "    f = np.array([func(xx) for xx in x], dtype=float)\n",
      "  File \"/opt/conda/lib/python3.7/multiprocessing/process.py\", line 99, in run\n",
      "    self._target(*self._args, **self._kwargs)\n",
      "  File \"/opt/conda/lib/python3.7/site-packages/galsim/phase_psf.py\", line 1455, in _prepareDraw\n",
      "    self._screen_list._prepareDraw()\n",
      "  File \"/home/guillemmh/FOBs/trace.py\", line 249, in tracePhotons\n",
      "    traced_rays = TelescopeTrace(rays, telescope)\n",
      "  File \"/opt/conda/lib/python3.7/site-packages/galsim/sensor.py\", line 448, in <lambda>\n",
      "    func = lambda r: amplitude * np.cos(k * r)\n",
      "  File \"/opt/conda/lib/python3.7/site-packages/galsim/table.py\", line 502, in <listcomp>\n",
      "    f = np.array([func(xx) for xx in x], dtype=float)\n",
      "  File \"/opt/conda/lib/python3.7/site-packages/galsim/sensor.py\", line 448, in <lambda>\n",
      "    func = lambda r: amplitude * np.cos(k * r)\n",
      "  File \"/opt/conda/lib/python3.7/site-packages/galsim/table.py\", line 502, in from_func\n",
      "    f = np.array([func(xx) for xx in x], dtype=float)\n",
      "  File \"/opt/conda/lib/python3.7/site-packages/galsim/phase_psf.py\", line 1455, in _prepareDraw\n",
      "    self._screen_list._prepareDraw()\n",
      "  File \"/opt/conda/lib/python3.7/site-packages/galsim/phase_psf.py\", line 1455, in _prepareDraw\n",
      "    self._screen_list._prepareDraw()\n",
      "KeyboardInterrupt\n",
      "  File \"/tmp/ipykernel_5397/1976484744.py\", line 20, in generateImage\n",
      "    treering_func = galsim.SiliconSensor.simple_treerings(r_max = 1e7)\n",
      "  File \"/home/guillemmh/FOBs/trace_dataset.py\", line 75, in tracePhotons\n",
      "    traced_photons, wavelengths = trace.tracePhotons(frb_photons, rng, observation, wavelength, atm, first_kick = first_kick)\n",
      "  File \"/opt/conda/lib/python3.7/multiprocessing/pool.py\", line 121, in worker\n",
      "    result = (True, func(*args, **kwds))\n",
      "  File \"/opt/conda/lib/python3.7/site-packages/galsim/phase_psf.py\", line 1455, in _prepareDraw\n",
      "    self._screen_list._prepareDraw()\n",
      "  File \"/tmp/ipykernel_5397/213037740.py\", line 13, in generate_dataset2\n",
      "    traced_photons, wavelengths = trace.tracePhotons(args.name, args.num_phot, rng, observation, wavelength, args.atm, args.method, args.duration)\n",
      "  File \"/opt/conda/lib/python3.7/site-packages/galsim/phase_psf.py\", line 1554, in _shoot\n",
      "    self._prepareDraw()\n",
      "  File \"/opt/conda/lib/python3.7/site-packages/galsim/table.py\", line 502, in from_func\n",
      "    f = np.array([func(xx) for xx in x], dtype=float)\n",
      "  File \"/opt/conda/lib/python3.7/site-packages/galsim/phase_psf.py\", line 1455, in _prepareDraw\n",
      "    self._screen_list._prepareDraw()\n",
      "  File \"/home/guillemmh/FOBs/trace_dataset.py\", line 28, in tracePhotons\n",
      "    frb_photons = frb_atm_psf.shoot(num_phot, rng)\n",
      "  File \"/opt/conda/lib/python3.7/site-packages/galsim/sensor.py\", line 452, in simple_treerings\n",
      "    return LookupTable.from_func(func, x_min=0., x_max=r_max, npoints=npoints)\n",
      "  File \"/opt/conda/lib/python3.7/site-packages/galsim/phase_psf.py\", line 861, in _prepareDraw\n",
      "    psf._step()\n",
      "  File \"/opt/conda/lib/python3.7/site-packages/galsim/gsobject.py\", line 2406, in shoot\n",
      "    self._shoot(photons, rng)\n",
      "  File \"/opt/conda/lib/python3.7/site-packages/galsim/gsobject.py\", line 2406, in shoot\n",
      "    self._shoot(photons, rng)\n",
      "  File \"/tmp/ipykernel_5397/213037740.py\", line 21, in generate_dataset2\n",
      "    noise = False,\n",
      "  File \"/opt/conda/lib/python3.7/site-packages/galsim/table.py\", line 502, in <listcomp>\n",
      "    f = np.array([func(xx) for xx in x], dtype=float)\n",
      "  File \"/opt/conda/lib/python3.7/site-packages/galsim/phase_psf.py\", line 1455, in _prepareDraw\n",
      "    self._screen_list._prepareDraw()\n",
      "KeyboardInterrupt\n",
      "  File \"/opt/conda/lib/python3.7/site-packages/galsim/phase_psf.py\", line 1455, in _prepareDraw\n",
      "    self._screen_list._prepareDraw()\n",
      "  File \"/tmp/ipykernel_5397/1976484744.py\", line 20, in generateImage\n",
      "    treering_func = galsim.SiliconSensor.simple_treerings(r_max = 1e7)\n",
      "  File \"/home/guillemmh/FOBs/trace.py\", line 249, in tracePhotons\n",
      "    traced_rays = TelescopeTrace(rays, telescope)\n",
      "  File \"/opt/conda/lib/python3.7/site-packages/galsim/sensor.py\", line 448, in <lambda>\n",
      "    func = lambda r: amplitude * np.cos(k * r)\n",
      "KeyboardInterrupt\n",
      "  File \"/opt/conda/lib/python3.7/site-packages/galsim/sensor.py\", line 448, in <lambda>\n",
      "    func = lambda r: amplitude * np.cos(k * r)\n",
      "  File \"/opt/conda/lib/python3.7/site-packages/galsim/gsobject.py\", line 2406, in shoot\n",
      "    self._shoot(photons, rng)\n",
      "  File \"/opt/conda/lib/python3.7/site-packages/galsim/sensor.py\", line 448, in <lambda>\n",
      "    func = lambda r: amplitude * np.cos(k * r)\n",
      "  File \"/opt/conda/lib/python3.7/site-packages/galsim/sensor.py\", line 448, in <lambda>\n",
      "    func = lambda r: amplitude * np.cos(k * r)\n",
      "  File \"/opt/conda/lib/python3.7/site-packages/galsim/table.py\", line 502, in from_func\n",
      "    f = np.array([func(xx) for xx in x], dtype=float)\n",
      "KeyboardInterrupt\n",
      "  File \"/opt/conda/lib/python3.7/site-packages/galsim/table.py\", line 502, in from_func\n",
      "    f = np.array([func(xx) for xx in x], dtype=float)\n",
      "  File \"/tmp/ipykernel_5397/213037740.py\", line 21, in generate_dataset2\n",
      "    noise = False,\n",
      "  File \"/opt/conda/lib/python3.7/site-packages/galsim/sensor.py\", line 452, in simple_treerings\n",
      "    return LookupTable.from_func(func, x_min=0., x_max=r_max, npoints=npoints)\n",
      "  File \"/home/guillemmh/FOBs/trace.py\", line 192, in GalsimToBatoid\n",
      "    np.zeros(num_phot) + 1.0\n",
      "  File \"/opt/conda/lib/python3.7/site-packages/galsim/table.py\", line 502, in from_func\n",
      "    f = np.array([func(xx) for xx in x], dtype=float)\n",
      "  File \"/opt/conda/lib/python3.7/site-packages/galsim/phase_psf.py\", line 1455, in _prepareDraw\n",
      "    self._screen_list._prepareDraw()\n",
      "  File \"/opt/conda/lib/python3.7/site-packages/galsim/table.py\", line 502, in from_func\n",
      "    f = np.array([func(xx) for xx in x], dtype=float)\n",
      "  File \"/tmp/ipykernel_5397/1976484744.py\", line 20, in generateImage\n",
      "    treering_func = galsim.SiliconSensor.simple_treerings(r_max = 1e7)\n",
      "  File \"/opt/conda/lib/python3.7/site-packages/galsim/phase_psf.py\", line 1554, in _shoot\n",
      "    self._prepareDraw()\n",
      "  File \"/opt/conda/lib/python3.7/site-packages/galsim/table.py\", line 502, in <listcomp>\n",
      "    f = np.array([func(xx) for xx in x], dtype=float)\n",
      "  File \"/opt/conda/lib/python3.7/site-packages/galsim/sensor.py\", line 326, in accumulate\n",
      "    resume)\n",
      "  File \"/opt/conda/lib/python3.7/site-packages/galsim/phase_psf.py\", line 1455, in _prepareDraw\n",
      "    self._screen_list._prepareDraw()\n",
      "  File \"/opt/conda/lib/python3.7/site-packages/galsim/table.py\", line 502, in <listcomp>\n",
      "    f = np.array([func(xx) for xx in x], dtype=float)\n",
      "  File \"/opt/conda/lib/python3.7/site-packages/galsim/sensor.py\", line 452, in simple_treerings\n",
      "    return LookupTable.from_func(func, x_min=0., x_max=r_max, npoints=npoints)\n",
      "  File \"/opt/conda/lib/python3.7/site-packages/galsim/table.py\", line 502, in from_func\n",
      "    f = np.array([func(xx) for xx in x], dtype=float)\n",
      "  File \"/opt/conda/lib/python3.7/site-packages/galsim/sensor.py\", line 452, in simple_treerings\n",
      "    return LookupTable.from_func(func, x_min=0., x_max=r_max, npoints=npoints)\n",
      "  File \"/opt/conda/lib/python3.7/site-packages/galsim/sensor.py\", line 452, in simple_treerings\n",
      "    return LookupTable.from_func(func, x_min=0., x_max=r_max, npoints=npoints)\n",
      "  File \"/tmp/ipykernel_5397/1976484744.py\", line 20, in generateImage\n",
      "    treering_func = galsim.SiliconSensor.simple_treerings(r_max = 1e7)\n",
      "Process ForkPoolWorker-13773:\n",
      "  File \"/home/guillemmh/FOBs/trace.py\", line 178, in GalsimToBatoid\n",
      "    n.append(telescope.inMedium.getN(wavelengths[idx]))\n",
      "  File \"/opt/conda/lib/python3.7/site-packages/galsim/phase_psf.py\", line 861, in _prepareDraw\n",
      "    psf._step()\n",
      "  File \"/opt/conda/lib/python3.7/site-packages/galsim/table.py\", line 502, in from_func\n",
      "    f = np.array([func(xx) for xx in x], dtype=float)\n",
      "  File \"/tmp/ipykernel_5397/213037740.py\", line 21, in generate_dataset2\n",
      "    noise = False,\n",
      "  File \"/opt/conda/lib/python3.7/site-packages/galsim/sensor.py\", line 452, in simple_treerings\n",
      "    return LookupTable.from_func(func, x_min=0., x_max=r_max, npoints=npoints)\n",
      "  File \"/tmp/ipykernel_5397/1976484744.py\", line 20, in generateImage\n",
      "    treering_func = galsim.SiliconSensor.simple_treerings(r_max = 1e7)\n"
     ]
    },
    {
     "name": "stderr",
     "output_type": "stream",
     "text": [
      "  File \"/tmp/ipykernel_5397/1976484744.py\", line 20, in generateImage\n",
      "    treering_func = galsim.SiliconSensor.simple_treerings(r_max = 1e7)\n",
      "  File \"/opt/conda/lib/python3.7/multiprocessing/process.py\", line 99, in run\n",
      "    self._target(*self._args, **self._kwargs)\n",
      "  File \"/tmp/ipykernel_5397/213037740.py\", line 13, in generate_dataset2\n",
      "    traced_photons, wavelengths = trace.tracePhotons(args.name, args.num_phot, rng, observation, wavelength, args.atm, args.method, args.duration)\n",
      "  File \"/opt/conda/lib/python3.7/multiprocessing/process.py\", line 99, in run\n",
      "    self._target(*self._args, **self._kwargs)\n",
      "  File \"/opt/conda/lib/python3.7/site-packages/galsim/phase_psf.py\", line 673, in _sky_scale\n",
      "    return (lam*1e-9) / self.pupil_plane_size * radians/scale_unit\n",
      "  File \"/tmp/ipykernel_5397/1976484744.py\", line 20, in generateImage\n",
      "    treering_func = galsim.SiliconSensor.simple_treerings(r_max = 1e7)\n",
      "  File \"/home/guillemmh/FOBs/trace_dataset.py\", line 28, in tracePhotons\n",
      "    frb_photons = frb_atm_psf.shoot(num_phot, rng)\n",
      "  File \"/opt/conda/lib/python3.7/site-packages/galsim/sensor.py\", line 452, in simple_treerings\n",
      "    return LookupTable.from_func(func, x_min=0., x_max=r_max, npoints=npoints)\n",
      "  File \"/tmp/ipykernel_5397/1976484744.py\", line 20, in generateImage\n",
      "    treering_func = galsim.SiliconSensor.simple_treerings(r_max = 1e7)\n",
      "  File \"/opt/conda/lib/python3.7/site-packages/galsim/sensor.py\", line 452, in simple_treerings\n",
      "    return LookupTable.from_func(func, x_min=0., x_max=r_max, npoints=npoints)\n",
      "  File \"/opt/conda/lib/python3.7/site-packages/galsim/sensor.py\", line 452, in simple_treerings\n",
      "    return LookupTable.from_func(func, x_min=0., x_max=r_max, npoints=npoints)\n",
      "  File \"/opt/conda/lib/python3.7/site-packages/galsim/table.py\", line 502, in from_func\n",
      "    f = np.array([func(xx) for xx in x], dtype=float)\n",
      "KeyboardInterrupt\n",
      "  File \"/home/guillemmh/FOBs/trace_dataset.py\", line 28, in tracePhotons\n",
      "    frb_photons = frb_atm_psf.shoot(num_phot, rng)\n",
      "  File \"/tmp/ipykernel_5397/1976484744.py\", line 20, in generateImage\n",
      "    treering_func = galsim.SiliconSensor.simple_treerings(r_max = 1e7)\n",
      "  File \"/opt/conda/lib/python3.7/site-packages/galsim/phase_psf.py\", line 1554, in _shoot\n",
      "    self._prepareDraw()\n",
      "  File \"/opt/conda/lib/python3.7/site-packages/galsim/phase_psf.py\", line 861, in _prepareDraw\n",
      "    psf._step()\n",
      "  File \"/opt/conda/lib/python3.7/site-packages/galsim/sensor.py\", line 452, in simple_treerings\n",
      "    return LookupTable.from_func(func, x_min=0., x_max=r_max, npoints=npoints)\n",
      "  File \"/tmp/ipykernel_5397/1976484744.py\", line 22, in generateImage\n",
      "    sensor.accumulate(photons, image)\n",
      "  File \"/opt/conda/lib/python3.7/site-packages/galsim/sensor.py\", line 448, in <lambda>\n",
      "    func = lambda r: amplitude * np.cos(k * r)\n",
      "KeyboardInterrupt\n",
      "  File \"/opt/conda/lib/python3.7/site-packages/galsim/table.py\", line 502, in from_func\n",
      "    f = np.array([func(xx) for xx in x], dtype=float)\n",
      "  File \"/home/guillemmh/FOBs/trace_dataset.py\", line 28, in tracePhotons\n",
      "    frb_photons = frb_atm_psf.shoot(num_phot, rng)\n",
      "  File \"/opt/conda/lib/python3.7/site-packages/galsim/phase_psf.py\", line 861, in _prepareDraw\n",
      "    psf._step()\n",
      "  File \"/opt/conda/lib/python3.7/site-packages/galsim/phase_psf.py\", line 861, in _prepareDraw\n",
      "    psf._step()\n",
      "  File \"/opt/conda/lib/python3.7/site-packages/galsim/table.py\", line 502, in from_func\n",
      "    f = np.array([func(xx) for xx in x], dtype=float)\n",
      "  File \"/opt/conda/lib/python3.7/site-packages/galsim/sensor.py\", line 452, in simple_treerings\n",
      "    return LookupTable.from_func(func, x_min=0., x_max=r_max, npoints=npoints)\n",
      "  File \"/tmp/ipykernel_5397/1976484744.py\", line 20, in generateImage\n",
      "    treering_func = galsim.SiliconSensor.simple_treerings(r_max = 1e7)\n",
      "  File \"/opt/conda/lib/python3.7/multiprocessing/process.py\", line 297, in _bootstrap\n",
      "    self.run()\n",
      "  File \"/opt/conda/lib/python3.7/site-packages/galsim/sensor.py\", line 448, in <lambda>\n",
      "    func = lambda r: amplitude * np.cos(k * r)\n",
      "KeyboardInterrupt\n",
      "  File \"/opt/conda/lib/python3.7/multiprocessing/pool.py\", line 121, in worker\n",
      "    result = (True, func(*args, **kwds))\n",
      "  File \"/opt/conda/lib/python3.7/site-packages/galsim/sensor.py\", line 452, in simple_treerings\n",
      "    return LookupTable.from_func(func, x_min=0., x_max=r_max, npoints=npoints)\n",
      "  File \"/opt/conda/lib/python3.7/site-packages/galsim/sensor.py\", line 448, in <lambda>\n",
      "    func = lambda r: amplitude * np.cos(k * r)\n",
      "  File \"/home/guillemmh/FOBs/trace.py\", line 249, in tracePhotons\n",
      "    traced_rays = TelescopeTrace(rays, telescope)\n",
      "  File \"/opt/conda/lib/python3.7/site-packages/galsim/phase_psf.py\", line 861, in _prepareDraw\n",
      "    psf._step()\n",
      "  File \"/opt/conda/lib/python3.7/site-packages/galsim/sensor.py\", line 448, in <lambda>\n",
      "    func = lambda r: amplitude * np.cos(k * r)\n",
      "  File \"/opt/conda/lib/python3.7/site-packages/galsim/table.py\", line 502, in <listcomp>\n",
      "    f = np.array([func(xx) for xx in x], dtype=float)\n",
      "  File \"/opt/conda/lib/python3.7/site-packages/galsim/sensor.py\", line 452, in simple_treerings\n",
      "    return LookupTable.from_func(func, x_min=0., x_max=r_max, npoints=npoints)\n",
      "  File \"/opt/conda/lib/python3.7/site-packages/galsim/phase_psf.py\", line 861, in _prepareDraw\n",
      "    psf._step()\n",
      "  File \"/tmp/ipykernel_5397/213037740.py\", line 21, in generate_dataset2\n",
      "    noise = False,\n",
      "  File \"/tmp/ipykernel_5397/1976484744.py\", line 20, in generateImage\n",
      "    treering_func = galsim.SiliconSensor.simple_treerings(r_max = 1e7)\n",
      "  File \"/opt/conda/lib/python3.7/site-packages/batoid/optic.py\", line 829, in trace\n",
      "    item.trace(rv, reverse=reverse)\n",
      "  File \"/opt/conda/lib/python3.7/site-packages/galsim/phase_psf.py\", line 861, in _prepareDraw\n",
      "    psf._step()\n",
      "  File \"/home/guillemmh/FOBs/trace.py\", line 199, in TelescopeTrace\n",
      "    rays_traced = telescope.trace(rays)\n",
      "  File \"/opt/conda/lib/python3.7/site-packages/galsim/sensor.py\", line 448, in <lambda>\n",
      "    func = lambda r: amplitude * np.cos(k * r)\n",
      "  File \"/opt/conda/lib/python3.7/multiprocessing/pool.py\", line 121, in worker\n",
      "    result = (True, func(*args, **kwds))\n",
      "  File \"/opt/conda/lib/python3.7/site-packages/batoid/optic.py\", line 829, in trace\n",
      "    item.trace(rv, reverse=reverse)\n",
      "  File \"/opt/conda/lib/python3.7/site-packages/galsim/sensor.py\", line 452, in simple_treerings\n",
      "    return LookupTable.from_func(func, x_min=0., x_max=r_max, npoints=npoints)\n",
      "  File \"/opt/conda/lib/python3.7/site-packages/galsim/table.py\", line 502, in <listcomp>\n",
      "    f = np.array([func(xx) for xx in x], dtype=float)\n",
      "  File \"/opt/conda/lib/python3.7/site-packages/galsim/phase_psf.py\", line 861, in _prepareDraw\n",
      "    psf._step()\n",
      "  File \"/home/guillemmh/FOBs/trace.py\", line 249, in tracePhotons\n",
      "    traced_rays = TelescopeTrace(rays, telescope)\n",
      "  File \"/opt/conda/lib/python3.7/site-packages/galsim/phase_psf.py\", line 861, in _prepareDraw\n",
      "    psf._step()\n",
      "  File \"/opt/conda/lib/python3.7/site-packages/galsim/phase_psf.py\", line 1554, in _shoot\n",
      "    self._prepareDraw()\n",
      "  File \"/home/guillemmh/FOBs/trace.py\", line 199, in TelescopeTrace\n",
      "    rays_traced = telescope.trace(rays)\n",
      "KeyboardInterrupt\n",
      "KeyboardInterrupt\n",
      "  File \"/opt/conda/lib/python3.7/site-packages/galsim/sensor.py\", line 448, in <lambda>\n",
      "    func = lambda r: amplitude * np.cos(k * r)\n",
      "  File \"/opt/conda/lib/python3.7/site-packages/galsim/phase_psf.py\", line 1475, in _step\n",
      "    self._img += np.abs(ftexpwf)**2\n",
      "  File \"/opt/conda/lib/python3.7/site-packages/galsim/gsobject.py\", line 2406, in shoot\n",
      "    self._shoot(photons, rng)\n",
      "  File \"/opt/conda/lib/python3.7/site-packages/galsim/table.py\", line 502, in from_func\n",
      "    f = np.array([func(xx) for xx in x], dtype=float)\n",
      "  File \"/opt/conda/lib/python3.7/site-packages/galsim/sensor.py\", line 452, in simple_treerings\n",
      "    return LookupTable.from_func(func, x_min=0., x_max=r_max, npoints=npoints)\n",
      "Traceback (most recent call last):\n",
      "  File \"/opt/conda/lib/python3.7/site-packages/galsim/table.py\", line 502, in from_func\n",
      "    f = np.array([func(xx) for xx in x], dtype=float)\n",
      "  File \"/opt/conda/lib/python3.7/site-packages/galsim/table.py\", line 502, in <listcomp>\n",
      "    f = np.array([func(xx) for xx in x], dtype=float)\n",
      "  File \"/tmp/ipykernel_5397/1976484744.py\", line 22, in generateImage\n",
      "    sensor.accumulate(photons, image)\n",
      "  File \"/opt/conda/lib/python3.7/site-packages/galsim/table.py\", line 502, in from_func\n",
      "    f = np.array([func(xx) for xx in x], dtype=float)\n"
     ]
    },
    {
     "name": "stderr",
     "output_type": "stream",
     "text": [
      "  File \"/opt/conda/lib/python3.7/site-packages/galsim/phase_psf.py\", line 1455, in _prepareDraw\n",
      "    self._screen_list._prepareDraw()\n",
      "  File \"/home/guillemmh/FOBs/trace_dataset.py\", line 75, in tracePhotons\n",
      "    traced_photons, wavelengths = trace.tracePhotons(frb_photons, rng, observation, wavelength, atm, first_kick = first_kick)\n",
      "  File \"/opt/conda/lib/python3.7/site-packages/galsim/sensor.py\", line 452, in simple_treerings\n",
      "    return LookupTable.from_func(func, x_min=0., x_max=r_max, npoints=npoints)\n",
      "  File \"/opt/conda/lib/python3.7/site-packages/galsim/table.py\", line 502, in from_func\n",
      "    f = np.array([func(xx) for xx in x], dtype=float)\n",
      "  File \"/opt/conda/lib/python3.7/site-packages/galsim/sensor.py\", line 452, in simple_treerings\n",
      "    return LookupTable.from_func(func, x_min=0., x_max=r_max, npoints=npoints)\n",
      "  File \"/home/guillemmh/FOBs/trace_dataset.py\", line 75, in tracePhotons\n",
      "    traced_photons, wavelengths = trace.tracePhotons(frb_photons, rng, observation, wavelength, atm, first_kick = first_kick)\n",
      "  File \"/opt/conda/lib/python3.7/site-packages/galsim/table.py\", line 502, in from_func\n",
      "    f = np.array([func(xx) for xx in x], dtype=float)\n",
      "  File \"/home/guillemmh/FOBs/trace.py\", line 199, in TelescopeTrace\n",
      "    rays_traced = telescope.trace(rays)\n"
     ]
    }
   ],
   "source": [
    "%%time\n",
    "durs = [0.15, 0.2, 0.4]\n",
    "durats = ['150ms', '200ms', '400ms']\n",
    "\n",
    "for idx in  range(len(durats)):\n",
    "\n",
    "    print(f' ------------ {durats[idx]} ------------')\n",
    "    for inten in [7.5e5, 5e5, 3e5, 1e5, 8e4, 6e4, 4e4, 2e4]:\n",
    "        # Create progress bar\n",
    "        pbar = tqdm(total = 2000)\n",
    "\n",
    "        # Generate dataset\n",
    "        generate_dataset_parallel(\n",
    "            Arguments(\n",
    "                name = 'FRB',\n",
    "                method = 'FFT',\n",
    "                atm = full_atm,\n",
    "                duration = durs[idx],\n",
    "                duration_label = durats[idx],\n",
    "                num_simulations = 2000,\n",
    "                num_phot = int(inten),\n",
    "                offset = 0\n",
    "            ),\n",
    "            pbar\n",
    "        )"
   ]
  },
  {
   "cell_type": "code",
   "execution_count": 7,
   "metadata": {},
   "outputs": [
    {
     "data": {
      "application/vnd.jupyter.widget-view+json": {
       "model_id": "03d254be653d4c2489b07d37e6faa352",
       "version_major": 2,
       "version_minor": 0
      },
      "text/plain": [
       "  0%|          | 0/2000 [00:00<?, ?it/s]"
      ]
     },
     "metadata": {},
     "output_type": "display_data"
    },
    {
     "data": {
      "application/vnd.jupyter.widget-view+json": {
       "model_id": "0555d83b7eff4f759aa88b5057b8f287",
       "version_major": 2,
       "version_minor": 0
      },
      "text/plain": [
       "  0%|          | 0/2000 [00:00<?, ?it/s]"
      ]
     },
     "metadata": {},
     "output_type": "display_data"
    },
    {
     "data": {
      "application/vnd.jupyter.widget-view+json": {
       "model_id": "4ba43c5729654f09a9c137744f5b4497",
       "version_major": 2,
       "version_minor": 0
      },
      "text/plain": [
       "  0%|          | 0/2000 [00:00<?, ?it/s]"
      ]
     },
     "metadata": {},
     "output_type": "display_data"
    },
    {
     "data": {
      "application/vnd.jupyter.widget-view+json": {
       "model_id": "1c037b3cc9fc469893dc31c010a6f861",
       "version_major": 2,
       "version_minor": 0
      },
      "text/plain": [
       "  0%|          | 0/2000 [00:00<?, ?it/s]"
      ]
     },
     "metadata": {},
     "output_type": "display_data"
    },
    {
     "data": {
      "application/vnd.jupyter.widget-view+json": {
       "model_id": "36e6cd2f6b9747e9b932d2745b4facf1",
       "version_major": 2,
       "version_minor": 0
      },
      "text/plain": [
       "  0%|          | 0/2000 [00:00<?, ?it/s]"
      ]
     },
     "metadata": {},
     "output_type": "display_data"
    },
    {
     "data": {
      "application/vnd.jupyter.widget-view+json": {
       "model_id": "c06a970a5f734b8ebff05a6146896917",
       "version_major": 2,
       "version_minor": 0
      },
      "text/plain": [
       "  0%|          | 0/2000 [00:00<?, ?it/s]"
      ]
     },
     "metadata": {},
     "output_type": "display_data"
    },
    {
     "data": {
      "application/vnd.jupyter.widget-view+json": {
       "model_id": "7c8d0a0a0e2c4937a8f6580702c1ca0c",
       "version_major": 2,
       "version_minor": 0
      },
      "text/plain": [
       "  0%|          | 0/2000 [00:00<?, ?it/s]"
      ]
     },
     "metadata": {},
     "output_type": "display_data"
    },
    {
     "data": {
      "application/vnd.jupyter.widget-view+json": {
       "model_id": "0779cd5343a84850b43407880a471af9",
       "version_major": 2,
       "version_minor": 0
      },
      "text/plain": [
       "  0%|          | 0/2000 [00:00<?, ?it/s]"
      ]
     },
     "metadata": {},
     "output_type": "display_data"
    },
    {
     "name": "stdout",
     "output_type": "stream",
     "text": [
      "CPU times: user 1min 34s, sys: 42 s, total: 2min 16s\n",
      "Wall time: 4h 26min 26s\n"
     ]
    }
   ],
   "source": [
    "%%time\n",
    "for inten in [7.5e5, 5e5, 3e5, 1e5, 8e4, 6e4, 4e4, 2e4]:\n",
    "    # Create progress bar\n",
    "    pbar = tqdm(total = 2000)\n",
    "\n",
    "    # Generate dataset\n",
    "    generate_dataset_parallel(\n",
    "        Arguments(\n",
    "            name = 'FRB',\n",
    "            method = 'FFT',\n",
    "            atm = full_atm,\n",
    "            duration = 0.010,\n",
    "            duration_label = '10ms',\n",
    "            num_simulations = 2000,\n",
    "            num_phot = int(inten),\n",
    "            offset = 0\n",
    "        ),\n",
    "        pbar\n",
    "    )"
   ]
  },
  {
   "cell_type": "code",
   "execution_count": 26,
   "metadata": {},
   "outputs": [
    {
     "data": {
      "application/vnd.jupyter.widget-view+json": {
       "model_id": "7ad057d3d07d41e899ea40a8f65a0134",
       "version_major": 2,
       "version_minor": 0
      },
      "text/plain": [
       "  0%|          | 0/2000 [00:00<?, ?it/s]"
      ]
     },
     "metadata": {},
     "output_type": "display_data"
    },
    {
     "data": {
      "application/vnd.jupyter.widget-view+json": {
       "model_id": "ac459e2e40ca41ddbaa030441b442e63",
       "version_major": 2,
       "version_minor": 0
      },
      "text/plain": [
       "  0%|          | 0/2000 [00:00<?, ?it/s]"
      ]
     },
     "metadata": {},
     "output_type": "display_data"
    },
    {
     "data": {
      "application/vnd.jupyter.widget-view+json": {
       "model_id": "a778fbb5214c492695dd580c58f1b028",
       "version_major": 2,
       "version_minor": 0
      },
      "text/plain": [
       "  0%|          | 0/2000 [00:00<?, ?it/s]"
      ]
     },
     "metadata": {},
     "output_type": "display_data"
    },
    {
     "data": {
      "application/vnd.jupyter.widget-view+json": {
       "model_id": "c1f852c306d44e37be9c470884d36938",
       "version_major": 2,
       "version_minor": 0
      },
      "text/plain": [
       "  0%|          | 0/2000 [00:00<?, ?it/s]"
      ]
     },
     "metadata": {},
     "output_type": "display_data"
    },
    {
     "data": {
      "application/vnd.jupyter.widget-view+json": {
       "model_id": "47df8494362344e991752a3c7a5ef863",
       "version_major": 2,
       "version_minor": 0
      },
      "text/plain": [
       "  0%|          | 0/2000 [00:00<?, ?it/s]"
      ]
     },
     "metadata": {},
     "output_type": "display_data"
    },
    {
     "data": {
      "application/vnd.jupyter.widget-view+json": {
       "model_id": "1256bfc1595c4a68b85eabfea7c2034d",
       "version_major": 2,
       "version_minor": 0
      },
      "text/plain": [
       "  0%|          | 0/2000 [00:00<?, ?it/s]"
      ]
     },
     "metadata": {},
     "output_type": "display_data"
    },
    {
     "data": {
      "application/vnd.jupyter.widget-view+json": {
       "model_id": "8cb296068980471c952c05b33512a67a",
       "version_major": 2,
       "version_minor": 0
      },
      "text/plain": [
       "  0%|          | 0/2000 [00:00<?, ?it/s]"
      ]
     },
     "metadata": {},
     "output_type": "display_data"
    },
    {
     "data": {
      "application/vnd.jupyter.widget-view+json": {
       "model_id": "e9186ef5f819429ca83fa8153c94d0ca",
       "version_major": 2,
       "version_minor": 0
      },
      "text/plain": [
       "  0%|          | 0/2000 [00:00<?, ?it/s]"
      ]
     },
     "metadata": {},
     "output_type": "display_data"
    },
    {
     "name": "stdout",
     "output_type": "stream",
     "text": [
      "CPU times: user 14min 47s, sys: 15min 11s, total: 29min 58s\n",
      "Wall time: 17h 49min 29s\n"
     ]
    }
   ],
   "source": [
    "%%time\n",
    "for inten in [7.5e5, 5e5, 3e5, 1e5, 8e4, 6e4, 4e4, 2e4]:\n",
    "    # Create progress bar\n",
    "    pbar = tqdm(total = 2000)\n",
    "\n",
    "    # Generate dataset\n",
    "    generate_dataset_parallel(\n",
    "        Arguments(\n",
    "            name = 'FRB',\n",
    "            method = 'FFT',\n",
    "            atm = full_atm,\n",
    "            duration = 15,\n",
    "            duration_label = '15s',\n",
    "            num_simulations = 2000,\n",
    "            num_phot = int(inten),\n",
    "            offset = 0\n",
    "        ),\n",
    "        pbar\n",
    "    )"
   ]
  },
  {
   "cell_type": "code",
   "execution_count": 10,
   "metadata": {},
   "outputs": [
    {
     "data": {
      "application/vnd.jupyter.widget-view+json": {
       "model_id": "0520e96fde554c898757f7f3b54ee4b2",
       "version_major": 2,
       "version_minor": 0
      },
      "text/plain": [
       "  0%|          | 0/2000 [00:00<?, ?it/s]"
      ]
     },
     "metadata": {},
     "output_type": "display_data"
    },
    {
     "data": {
      "application/vnd.jupyter.widget-view+json": {
       "model_id": "04ff2905803147188a16417fd8cc294f",
       "version_major": 2,
       "version_minor": 0
      },
      "text/plain": [
       "  0%|          | 0/2000 [00:00<?, ?it/s]"
      ]
     },
     "metadata": {},
     "output_type": "display_data"
    },
    {
     "data": {
      "application/vnd.jupyter.widget-view+json": {
       "model_id": "6bb5d8fe7a04403c9986bfa3ec4dce3e",
       "version_major": 2,
       "version_minor": 0
      },
      "text/plain": [
       "  0%|          | 0/2000 [00:00<?, ?it/s]"
      ]
     },
     "metadata": {},
     "output_type": "display_data"
    },
    {
     "data": {
      "application/vnd.jupyter.widget-view+json": {
       "model_id": "a759f4ca6f8c46a4946f16e071245c3e",
       "version_major": 2,
       "version_minor": 0
      },
      "text/plain": [
       "  0%|          | 0/2000 [00:00<?, ?it/s]"
      ]
     },
     "metadata": {},
     "output_type": "display_data"
    },
    {
     "data": {
      "application/vnd.jupyter.widget-view+json": {
       "model_id": "d65d7987e9954bfcbe4e268ed496c532",
       "version_major": 2,
       "version_minor": 0
      },
      "text/plain": [
       "  0%|          | 0/2000 [00:00<?, ?it/s]"
      ]
     },
     "metadata": {},
     "output_type": "display_data"
    },
    {
     "data": {
      "application/vnd.jupyter.widget-view+json": {
       "model_id": "3fe3fe57b66349fc9096e829c4a6b0ce",
       "version_major": 2,
       "version_minor": 0
      },
      "text/plain": [
       "  0%|          | 0/2000 [00:00<?, ?it/s]"
      ]
     },
     "metadata": {},
     "output_type": "display_data"
    },
    {
     "data": {
      "application/vnd.jupyter.widget-view+json": {
       "model_id": "510dc3c3323f4efda97818b71b1efeb2",
       "version_major": 2,
       "version_minor": 0
      },
      "text/plain": [
       "  0%|          | 0/2000 [00:00<?, ?it/s]"
      ]
     },
     "metadata": {},
     "output_type": "display_data"
    },
    {
     "data": {
      "application/vnd.jupyter.widget-view+json": {
       "model_id": "84f497399397409994b6f12b5214f3b1",
       "version_major": 2,
       "version_minor": 0
      },
      "text/plain": [
       "  0%|          | 0/2000 [00:00<?, ?it/s]"
      ]
     },
     "metadata": {},
     "output_type": "display_data"
    }
   ],
   "source": [
    "for inten in [7.5e5, 5e5, 3e5, 1e5, 8e4, 6e4, 4e4, 2e4]:\n",
    "    # Create progress bar\n",
    "    pbar = tqdm(total = 2000)\n",
    "\n",
    "    # Generate dataset\n",
    "    generate_dataset_parallel(\n",
    "        Arguments(\n",
    "            name = 'FRB',\n",
    "            method = 'FFT',\n",
    "            atm = full_atm,\n",
    "            duration = 0.020,\n",
    "            duration_label = '20ms',\n",
    "            num_simulations = 2000,\n",
    "            num_phot = int(inten),\n",
    "            offset = 0\n",
    "        ),\n",
    "        pbar\n",
    "    )"
   ]
  },
  {
   "cell_type": "code",
   "execution_count": 9,
   "metadata": {},
   "outputs": [
    {
     "data": {
      "application/vnd.jupyter.widget-view+json": {
       "model_id": "456de4dbdceb4bca9e2fab11ca78c631",
       "version_major": 2,
       "version_minor": 0
      },
      "text/plain": [
       "  0%|          | 0/2000 [00:00<?, ?it/s]"
      ]
     },
     "metadata": {},
     "output_type": "display_data"
    },
    {
     "data": {
      "application/vnd.jupyter.widget-view+json": {
       "model_id": "1599d5f3181f4caaa46cef68b18fd0f4",
       "version_major": 2,
       "version_minor": 0
      },
      "text/plain": [
       "  0%|          | 0/2000 [00:00<?, ?it/s]"
      ]
     },
     "metadata": {},
     "output_type": "display_data"
    },
    {
     "data": {
      "application/vnd.jupyter.widget-view+json": {
       "model_id": "3182d352fe12433a9c8989e9f29ef691",
       "version_major": 2,
       "version_minor": 0
      },
      "text/plain": [
       "  0%|          | 0/2000 [00:00<?, ?it/s]"
      ]
     },
     "metadata": {},
     "output_type": "display_data"
    },
    {
     "data": {
      "application/vnd.jupyter.widget-view+json": {
       "model_id": "7ed6601b0eea418385bcb575987cb143",
       "version_major": 2,
       "version_minor": 0
      },
      "text/plain": [
       "  0%|          | 0/2000 [00:00<?, ?it/s]"
      ]
     },
     "metadata": {},
     "output_type": "display_data"
    },
    {
     "data": {
      "application/vnd.jupyter.widget-view+json": {
       "model_id": "c55388a4139a4b0b9f6c949a4647624d",
       "version_major": 2,
       "version_minor": 0
      },
      "text/plain": [
       "  0%|          | 0/2000 [00:00<?, ?it/s]"
      ]
     },
     "metadata": {},
     "output_type": "display_data"
    },
    {
     "data": {
      "application/vnd.jupyter.widget-view+json": {
       "model_id": "e729431c11b44db98da4c540c7189006",
       "version_major": 2,
       "version_minor": 0
      },
      "text/plain": [
       "  0%|          | 0/2000 [00:00<?, ?it/s]"
      ]
     },
     "metadata": {},
     "output_type": "display_data"
    }
   ],
   "source": [
    "for inten in [3e5, 1e5, 8e4, 6e4, 4e4, 2e4]:\n",
    "    # Create progress bar\n",
    "    pbar = tqdm(total = 2000)\n",
    "\n",
    "    # Generate dataset\n",
    "    generate_dataset_parallel(\n",
    "        Arguments(\n",
    "            name = 'FRB',\n",
    "            method = 'FFT',\n",
    "            atm = full_atm,\n",
    "            duration = 0.040,\n",
    "            duration_label = '40ms',\n",
    "            num_simulations = 2000,\n",
    "            num_phot = int(inten),\n",
    "            offset = 0\n",
    "        ),\n",
    "        pbar\n",
    "    )"
   ]
  },
  {
   "cell_type": "code",
   "execution_count": 7,
   "metadata": {
    "scrolled": true
   },
   "outputs": [
    {
     "data": {
      "application/vnd.jupyter.widget-view+json": {
       "model_id": "b9fedc211af144c19859121dfcf67c69",
       "version_major": 2,
       "version_minor": 0
      },
      "text/plain": [
       "  0%|          | 0/2000 [00:00<?, ?it/s]"
      ]
     },
     "metadata": {},
     "output_type": "display_data"
    },
    {
     "data": {
      "application/vnd.jupyter.widget-view+json": {
       "model_id": "548bd2abbf804b76b75aefc6d84bb6e8",
       "version_major": 2,
       "version_minor": 0
      },
      "text/plain": [
       "  0%|          | 0/2000 [00:00<?, ?it/s]"
      ]
     },
     "metadata": {},
     "output_type": "display_data"
    },
    {
     "data": {
      "application/vnd.jupyter.widget-view+json": {
       "model_id": "b28fabf3d11445b2a52fc1d1adfec9a0",
       "version_major": 2,
       "version_minor": 0
      },
      "text/plain": [
       "  0%|          | 0/2000 [00:00<?, ?it/s]"
      ]
     },
     "metadata": {},
     "output_type": "display_data"
    },
    {
     "data": {
      "application/vnd.jupyter.widget-view+json": {
       "model_id": "47104863727544e78848022ddf41181d",
       "version_major": 2,
       "version_minor": 0
      },
      "text/plain": [
       "  0%|          | 0/2000 [00:00<?, ?it/s]"
      ]
     },
     "metadata": {},
     "output_type": "display_data"
    },
    {
     "name": "stdout",
     "output_type": "stream",
     "text": [
      "CPU times: user 51.7 s, sys: 22.7 s, total: 1min 14s\n",
      "Wall time: 24min 23s\n"
     ]
    }
   ],
   "source": [
    "%%time\n",
    "\n",
    "for inten in [8e4, 6e4, 4e4, 2e4]:\n",
    "    # Create progress bar\n",
    "    pbar = tqdm(total = 2000)\n",
    "\n",
    "    # Generate dataset\n",
    "    generate_dataset_parallel(\n",
    "        Arguments(\n",
    "            name = 'FRB',\n",
    "            method = 'FFT',\n",
    "            atm = full_atm,\n",
    "            duration = 0.060,\n",
    "            duration_label = '60ms',\n",
    "            num_simulations = 2000,\n",
    "            num_phot = int(inten),\n",
    "            offset = 0\n",
    "        ),\n",
    "        pbar\n",
    "    )"
   ]
  },
  {
   "cell_type": "code",
   "execution_count": 8,
   "metadata": {},
   "outputs": [
    {
     "data": {
      "application/vnd.jupyter.widget-view+json": {
       "model_id": "2d5a7e915a5246c6bb88ee0963fa8371",
       "version_major": 2,
       "version_minor": 0
      },
      "text/plain": [
       "  0%|          | 0/2000 [00:00<?, ?it/s]"
      ]
     },
     "metadata": {},
     "output_type": "display_data"
    },
    {
     "data": {
      "application/vnd.jupyter.widget-view+json": {
       "model_id": "357817a4b6094b9aa5eaac2f28ee0bfa",
       "version_major": 2,
       "version_minor": 0
      },
      "text/plain": [
       "  0%|          | 0/2000 [00:00<?, ?it/s]"
      ]
     },
     "metadata": {},
     "output_type": "display_data"
    },
    {
     "data": {
      "application/vnd.jupyter.widget-view+json": {
       "model_id": "20fb139853cc44f69fc129837479d769",
       "version_major": 2,
       "version_minor": 0
      },
      "text/plain": [
       "  0%|          | 0/2000 [00:00<?, ?it/s]"
      ]
     },
     "metadata": {},
     "output_type": "display_data"
    },
    {
     "data": {
      "application/vnd.jupyter.widget-view+json": {
       "model_id": "b4383fefb18342a89099c34e80776fbe",
       "version_major": 2,
       "version_minor": 0
      },
      "text/plain": [
       "  0%|          | 0/2000 [00:00<?, ?it/s]"
      ]
     },
     "metadata": {},
     "output_type": "display_data"
    },
    {
     "data": {
      "application/vnd.jupyter.widget-view+json": {
       "model_id": "fd683460e25243bc9bcd8f3a715f3bf4",
       "version_major": 2,
       "version_minor": 0
      },
      "text/plain": [
       "  0%|          | 0/2000 [00:00<?, ?it/s]"
      ]
     },
     "metadata": {},
     "output_type": "display_data"
    },
    {
     "data": {
      "application/vnd.jupyter.widget-view+json": {
       "model_id": "f850c8c630be4011834455fbf6e98af9",
       "version_major": 2,
       "version_minor": 0
      },
      "text/plain": [
       "  0%|          | 0/2000 [00:00<?, ?it/s]"
      ]
     },
     "metadata": {},
     "output_type": "display_data"
    },
    {
     "data": {
      "application/vnd.jupyter.widget-view+json": {
       "model_id": "da1058bd2225442eb3c2b223d004b510",
       "version_major": 2,
       "version_minor": 0
      },
      "text/plain": [
       "  0%|          | 0/2000 [00:00<?, ?it/s]"
      ]
     },
     "metadata": {},
     "output_type": "display_data"
    },
    {
     "data": {
      "application/vnd.jupyter.widget-view+json": {
       "model_id": "b21a482a3d5e4b5c9a9e6d5e21abdfcb",
       "version_major": 2,
       "version_minor": 0
      },
      "text/plain": [
       "  0%|          | 0/2000 [00:00<?, ?it/s]"
      ]
     },
     "metadata": {},
     "output_type": "display_data"
    },
    {
     "name": "stdout",
     "output_type": "stream",
     "text": [
      "CPU times: user 1min 57s, sys: 1min 3s, total: 3min\n",
      "Wall time: 1h 46min 48s\n"
     ]
    }
   ],
   "source": [
    "%%time\n",
    "\n",
    "for inten in [7.5e5, 5e5, 3e5, 1e5, 8e4, 6e4, 4e4, 2e4]:\n",
    "    # Create progress bar\n",
    "    pbar = tqdm(total = 2000)\n",
    "\n",
    "    # Generate dataset\n",
    "    generate_dataset_parallel(\n",
    "        Arguments(\n",
    "            name = 'FRB',\n",
    "            method = 'FFT',\n",
    "            atm = full_atm,\n",
    "            duration = 0.080,\n",
    "            duration_label = '80ms',\n",
    "            num_simulations = 2000,\n",
    "            num_phot = int(inten),\n",
    "            offset = 0\n",
    "        ),\n",
    "        pbar\n",
    "    )"
   ]
  },
  {
   "cell_type": "code",
   "execution_count": 9,
   "metadata": {},
   "outputs": [
    {
     "data": {
      "application/vnd.jupyter.widget-view+json": {
       "model_id": "eb4cfba92eda4a48b166b7e98c537eb4",
       "version_major": 2,
       "version_minor": 0
      },
      "text/plain": [
       "  0%|          | 0/2000 [00:00<?, ?it/s]"
      ]
     },
     "metadata": {},
     "output_type": "display_data"
    },
    {
     "data": {
      "application/vnd.jupyter.widget-view+json": {
       "model_id": "2d5a84a57ad8449c83a090310e8456e4",
       "version_major": 2,
       "version_minor": 0
      },
      "text/plain": [
       "  0%|          | 0/2000 [00:00<?, ?it/s]"
      ]
     },
     "metadata": {},
     "output_type": "display_data"
    },
    {
     "data": {
      "application/vnd.jupyter.widget-view+json": {
       "model_id": "b2bd3981065b48a6b3d7a0a804c7c69d",
       "version_major": 2,
       "version_minor": 0
      },
      "text/plain": [
       "  0%|          | 0/2000 [00:00<?, ?it/s]"
      ]
     },
     "metadata": {},
     "output_type": "display_data"
    },
    {
     "data": {
      "application/vnd.jupyter.widget-view+json": {
       "model_id": "8436989359f24d7f9a628f892f68c374",
       "version_major": 2,
       "version_minor": 0
      },
      "text/plain": [
       "  0%|          | 0/2000 [00:00<?, ?it/s]"
      ]
     },
     "metadata": {},
     "output_type": "display_data"
    },
    {
     "data": {
      "application/vnd.jupyter.widget-view+json": {
       "model_id": "152222d845d046fd8251c1e48d99d744",
       "version_major": 2,
       "version_minor": 0
      },
      "text/plain": [
       "  0%|          | 0/2000 [00:00<?, ?it/s]"
      ]
     },
     "metadata": {},
     "output_type": "display_data"
    },
    {
     "data": {
      "application/vnd.jupyter.widget-view+json": {
       "model_id": "dd00330ed86946d69ef9b01a56af68aa",
       "version_major": 2,
       "version_minor": 0
      },
      "text/plain": [
       "  0%|          | 0/2000 [00:00<?, ?it/s]"
      ]
     },
     "metadata": {},
     "output_type": "display_data"
    },
    {
     "data": {
      "application/vnd.jupyter.widget-view+json": {
       "model_id": "e3ba2681634044c1b3a784cad0bae652",
       "version_major": 2,
       "version_minor": 0
      },
      "text/plain": [
       "  0%|          | 0/2000 [00:00<?, ?it/s]"
      ]
     },
     "metadata": {},
     "output_type": "display_data"
    },
    {
     "data": {
      "application/vnd.jupyter.widget-view+json": {
       "model_id": "b27f0d2090104644aa3526674648534e",
       "version_major": 2,
       "version_minor": 0
      },
      "text/plain": [
       "  0%|          | 0/2000 [00:00<?, ?it/s]"
      ]
     },
     "metadata": {},
     "output_type": "display_data"
    },
    {
     "name": "stdout",
     "output_type": "stream",
     "text": [
      "CPU times: user 2min, sys: 1min 5s, total: 3min 5s\n",
      "Wall time: 1h 47min 37s\n"
     ]
    }
   ],
   "source": [
    "%%time\n",
    "for inten in [7.5e5, 5e5, 3e5, 1e5, 8e4, 6e4, 4e4, 2e4]:\n",
    "    # Create progress bar\n",
    "    pbar = tqdm(total = 2000)\n",
    "\n",
    "    # Generate dataset\n",
    "    generate_dataset_parallel(\n",
    "        Arguments(\n",
    "            name = 'FRB',\n",
    "            method = 'FFT',\n",
    "            atm = full_atm,\n",
    "            duration = 0.100,\n",
    "            duration_label = '100ms',\n",
    "            num_simulations = 2000,\n",
    "            num_phot = int(inten),\n",
    "            offset = 0\n",
    "        ),\n",
    "        pbar\n",
    "    )"
   ]
  },
  {
   "cell_type": "code",
   "execution_count": 10,
   "metadata": {},
   "outputs": [
    {
     "data": {
      "application/vnd.jupyter.widget-view+json": {
       "model_id": "152c82027a00480da56d10dae114ff45",
       "version_major": 2,
       "version_minor": 0
      },
      "text/plain": [
       "  0%|          | 0/2000 [00:00<?, ?it/s]"
      ]
     },
     "metadata": {},
     "output_type": "display_data"
    },
    {
     "name": "stderr",
     "output_type": "stream",
     "text": [
      "Process ForkPoolWorker-3179:\n",
      "Process ForkPoolWorker-3131:\n",
      "Process ForkPoolWorker-3158:\n",
      "Process ForkPoolWorker-3237:\n",
      "Process ForkPoolWorker-3250:\n",
      "Process ForkPoolWorker-3249:\n",
      "Process ForkPoolWorker-3150:\n",
      "Process ForkPoolWorker-3181:\n",
      "Traceback (most recent call last):\n",
      "Process ForkPoolWorker-3255:\n",
      "Process ForkPoolWorker-3151:\n",
      "Process ForkPoolWorker-3208:\n",
      "Process ForkPoolWorker-3157:\n",
      "Process ForkPoolWorker-3127:\n",
      "Traceback (most recent call last):\n",
      "Traceback (most recent call last):\n",
      "Traceback (most recent call last):\n",
      "Process ForkPoolWorker-3134:\n",
      "Process ForkPoolWorker-3125:\n",
      "Process ForkPoolWorker-3227:\n",
      "Traceback (most recent call last):\n",
      "  File \"/opt/conda/lib/python3.7/multiprocessing/process.py\", line 297, in _bootstrap\n",
      "    self.run()\n",
      "  File \"/opt/conda/lib/python3.7/multiprocessing/process.py\", line 297, in _bootstrap\n",
      "    self.run()\n",
      "  File \"/opt/conda/lib/python3.7/multiprocessing/process.py\", line 99, in run\n",
      "    self._target(*self._args, **self._kwargs)\n",
      "  File \"/opt/conda/lib/python3.7/multiprocessing/process.py\", line 99, in run\n",
      "    self._target(*self._args, **self._kwargs)\n",
      "  File \"/opt/conda/lib/python3.7/multiprocessing/pool.py\", line 121, in worker\n",
      "    result = (True, func(*args, **kwds))\n",
      "  File \"/opt/conda/lib/python3.7/multiprocessing/pool.py\", line 121, in worker\n",
      "    result = (True, func(*args, **kwds))\n",
      "  File \"/opt/conda/lib/python3.7/multiprocessing/pool.py\", line 121, in worker\n",
      "    result = (True, func(*args, **kwds))\n",
      "Traceback (most recent call last):\n",
      "Traceback (most recent call last):\n",
      "Traceback (most recent call last):\n",
      "Traceback (most recent call last):\n",
      "Traceback (most recent call last):\n",
      "Traceback (most recent call last):\n",
      "  File \"/tmp/ipykernel_3851/213037740.py\", line 13, in generate_dataset2\n",
      "    traced_photons, wavelengths = trace.tracePhotons(args.name, args.num_phot, rng, observation, wavelength, args.atm, args.method, args.duration)\n",
      "  File \"/tmp/ipykernel_3851/213037740.py\", line 13, in generate_dataset2\n",
      "    traced_photons, wavelengths = trace.tracePhotons(args.name, args.num_phot, rng, observation, wavelength, args.atm, args.method, args.duration)\n",
      "Process ForkPoolWorker-3213:\n",
      "Traceback (most recent call last):\n",
      "Process ForkPoolWorker-3160:\n",
      "Traceback (most recent call last):\n",
      "  File \"/home/guillemmh/FOBs/trace_dataset.py\", line 75, in tracePhotons\n",
      "    traced_photons, wavelengths = trace.tracePhotons(frb_photons, rng, observation, wavelength, atm, first_kick = first_kick)\n",
      "  File \"/opt/conda/lib/python3.7/multiprocessing/process.py\", line 297, in _bootstrap\n",
      "    self.run()\n",
      "  File \"/opt/conda/lib/python3.7/multiprocessing/process.py\", line 297, in _bootstrap\n",
      "    self.run()\n",
      "  File \"/home/guillemmh/FOBs/trace.py\", line 245, in tracePhotons\n",
      "    rays = GalsimToBatoid(u, v, dku, dkv, telescope, wavelengths, phot_num_tot)\n",
      "  File \"/opt/conda/lib/python3.7/multiprocessing/process.py\", line 297, in _bootstrap\n",
      "    self.run()\n",
      "Process ForkPoolWorker-3144:\n",
      "Process ForkPoolWorker-3122:\n",
      "  File \"/opt/conda/lib/python3.7/multiprocessing/process.py\", line 297, in _bootstrap\n",
      "    self.run()\n",
      "  File \"/home/guillemmh/FOBs/trace.py\", line 178, in GalsimToBatoid\n",
      "    n.append(telescope.inMedium.getN(wavelengths[idx]))\n",
      "  File \"/opt/conda/lib/python3.7/multiprocessing/process.py\", line 297, in _bootstrap\n",
      "    self.run()\n",
      "  File \"/opt/conda/lib/python3.7/multiprocessing/process.py\", line 99, in run\n",
      "    self._target(*self._args, **self._kwargs)\n",
      "  File \"/opt/conda/lib/python3.7/multiprocessing/process.py\", line 297, in _bootstrap\n",
      "    self.run()\n",
      "  File \"/home/guillemmh/FOBs/trace_dataset.py\", line 75, in tracePhotons\n",
      "    traced_photons, wavelengths = trace.tracePhotons(frb_photons, rng, observation, wavelength, atm, first_kick = first_kick)\n",
      "  File \"/opt/conda/lib/python3.7/multiprocessing/process.py\", line 297, in _bootstrap\n",
      "    self.run()\n",
      "  File \"/opt/conda/lib/python3.7/multiprocessing/process.py\", line 297, in _bootstrap\n",
      "    self.run()\n",
      "  File \"/opt/conda/lib/python3.7/multiprocessing/process.py\", line 99, in run\n",
      "    self._target(*self._args, **self._kwargs)\n",
      "  File \"/opt/conda/lib/python3.7/multiprocessing/process.py\", line 297, in _bootstrap\n",
      "    self.run()\n",
      "  File \"/opt/conda/lib/python3.7/site-packages/batoid/medium.py\", line 24, in getN\n",
      "    return self._medium.getN(wavelength)\n",
      "KeyboardInterrupt\n",
      "  File \"/opt/conda/lib/python3.7/multiprocessing/process.py\", line 99, in run\n",
      "    self._target(*self._args, **self._kwargs)\n",
      "  File \"/opt/conda/lib/python3.7/multiprocessing/process.py\", line 297, in _bootstrap\n",
      "    self.run()\n",
      "  File \"/opt/conda/lib/python3.7/multiprocessing/process.py\", line 99, in run\n",
      "    self._target(*self._args, **self._kwargs)\n",
      "  File \"/opt/conda/lib/python3.7/multiprocessing/process.py\", line 99, in run\n",
      "    self._target(*self._args, **self._kwargs)\n",
      "  File \"/opt/conda/lib/python3.7/multiprocessing/process.py\", line 99, in run\n",
      "    self._target(*self._args, **self._kwargs)\n",
      "  File \"/opt/conda/lib/python3.7/multiprocessing/process.py\", line 99, in run\n",
      "    self._target(*self._args, **self._kwargs)\n",
      "  File \"/opt/conda/lib/python3.7/multiprocessing/process.py\", line 99, in run\n",
      "    self._target(*self._args, **self._kwargs)\n",
      "Traceback (most recent call last):\n",
      "Traceback (most recent call last):\n",
      "Traceback (most recent call last):\n",
      "Traceback (most recent call last):\n",
      "  File \"/opt/conda/lib/python3.7/multiprocessing/process.py\", line 297, in _bootstrap\n",
      "    self.run()\n",
      "Traceback (most recent call last):\n",
      "  File \"/opt/conda/lib/python3.7/multiprocessing/pool.py\", line 121, in worker\n",
      "    result = (True, func(*args, **kwds))\n",
      "  File \"/tmp/ipykernel_3851/213037740.py\", line 13, in generate_dataset2\n",
      "    traced_photons, wavelengths = trace.tracePhotons(args.name, args.num_phot, rng, observation, wavelength, args.atm, args.method, args.duration)\n",
      "  File \"/opt/conda/lib/python3.7/multiprocessing/pool.py\", line 121, in worker\n",
      "    result = (True, func(*args, **kwds))\n",
      "  File \"/opt/conda/lib/python3.7/multiprocessing/pool.py\", line 121, in worker\n",
      "    result = (True, func(*args, **kwds))\n",
      "  File \"/opt/conda/lib/python3.7/multiprocessing/process.py\", line 297, in _bootstrap\n",
      "    self.run()\n",
      "  File \"/opt/conda/lib/python3.7/multiprocessing/pool.py\", line 121, in worker\n",
      "    result = (True, func(*args, **kwds))\n",
      "Process ForkPoolWorker-3129:\n",
      "  File \"/opt/conda/lib/python3.7/multiprocessing/pool.py\", line 121, in worker\n",
      "    result = (True, func(*args, **kwds))\n",
      "Process ForkPoolWorker-3270:\n",
      "  File \"/opt/conda/lib/python3.7/multiprocessing/process.py\", line 99, in run\n",
      "    self._target(*self._args, **self._kwargs)\n",
      "  File \"/opt/conda/lib/python3.7/multiprocessing/pool.py\", line 121, in worker\n",
      "    result = (True, func(*args, **kwds))\n",
      "  File \"/opt/conda/lib/python3.7/multiprocessing/process.py\", line 99, in run\n",
      "    self._target(*self._args, **self._kwargs)\n",
      "  File \"/opt/conda/lib/python3.7/multiprocessing/process.py\", line 297, in _bootstrap\n",
      "    self.run()\n",
      "Traceback (most recent call last):\n",
      "  File \"/opt/conda/lib/python3.7/multiprocessing/process.py\", line 99, in run\n",
      "    self._target(*self._args, **self._kwargs)\n",
      "  File \"/tmp/ipykernel_3851/213037740.py\", line 13, in generate_dataset2\n",
      "    traced_photons, wavelengths = trace.tracePhotons(args.name, args.num_phot, rng, observation, wavelength, args.atm, args.method, args.duration)\n",
      "  File \"/opt/conda/lib/python3.7/multiprocessing/process.py\", line 297, in _bootstrap\n",
      "    self.run()\n",
      "  File \"/opt/conda/lib/python3.7/multiprocessing/process.py\", line 99, in run\n",
      "    self._target(*self._args, **self._kwargs)\n",
      "  File \"/tmp/ipykernel_3851/213037740.py\", line 13, in generate_dataset2\n",
      "    traced_photons, wavelengths = trace.tracePhotons(args.name, args.num_phot, rng, observation, wavelength, args.atm, args.method, args.duration)\n",
      "  File \"/tmp/ipykernel_3851/213037740.py\", line 13, in generate_dataset2\n",
      "    traced_photons, wavelengths = trace.tracePhotons(args.name, args.num_phot, rng, observation, wavelength, args.atm, args.method, args.duration)\n",
      "  File \"/tmp/ipykernel_3851/213037740.py\", line 13, in generate_dataset2\n",
      "    traced_photons, wavelengths = trace.tracePhotons(args.name, args.num_phot, rng, observation, wavelength, args.atm, args.method, args.duration)\n",
      "  File \"/opt/conda/lib/python3.7/multiprocessing/pool.py\", line 121, in worker\n",
      "    result = (True, func(*args, **kwds))\n"
     ]
    },
    {
     "name": "stderr",
     "output_type": "stream",
     "text": [
      "  File \"/opt/conda/lib/python3.7/multiprocessing/pool.py\", line 121, in worker\n",
      "    result = (True, func(*args, **kwds))\n",
      "Traceback (most recent call last):\n",
      "  File \"/opt/conda/lib/python3.7/multiprocessing/process.py\", line 297, in _bootstrap\n",
      "    self.run()\n",
      "  File \"/opt/conda/lib/python3.7/multiprocessing/process.py\", line 297, in _bootstrap\n",
      "    self.run()\n",
      "  File \"/home/guillemmh/FOBs/trace_dataset.py\", line 75, in tracePhotons\n",
      "    traced_photons, wavelengths = trace.tracePhotons(frb_photons, rng, observation, wavelength, atm, first_kick = first_kick)\n",
      "  File \"/opt/conda/lib/python3.7/multiprocessing/pool.py\", line 121, in worker\n",
      "    result = (True, func(*args, **kwds))\n",
      "  File \"/opt/conda/lib/python3.7/multiprocessing/pool.py\", line 110, in worker\n",
      "    task = get()\n",
      "  File \"/home/guillemmh/FOBs/trace_dataset.py\", line 75, in tracePhotons\n",
      "    traced_photons, wavelengths = trace.tracePhotons(frb_photons, rng, observation, wavelength, atm, first_kick = first_kick)\n",
      "  File \"/tmp/ipykernel_3851/213037740.py\", line 13, in generate_dataset2\n",
      "    traced_photons, wavelengths = trace.tracePhotons(args.name, args.num_phot, rng, observation, wavelength, args.atm, args.method, args.duration)\n",
      "Process ForkPoolWorker-3230:\n",
      "  File \"/opt/conda/lib/python3.7/multiprocessing/process.py\", line 99, in run\n",
      "    self._target(*self._args, **self._kwargs)\n",
      "  File \"/opt/conda/lib/python3.7/multiprocessing/process.py\", line 99, in run\n",
      "    self._target(*self._args, **self._kwargs)\n",
      "  File \"/home/guillemmh/FOBs/trace_dataset.py\", line 75, in tracePhotons\n",
      "    traced_photons, wavelengths = trace.tracePhotons(frb_photons, rng, observation, wavelength, atm, first_kick = first_kick)\n",
      "Traceback (most recent call last):\n",
      "  File \"/opt/conda/lib/python3.7/multiprocessing/process.py\", line 297, in _bootstrap\n",
      "    self.run()\n",
      "  File \"/home/guillemmh/FOBs/trace.py\", line 245, in tracePhotons\n",
      "    rays = GalsimToBatoid(u, v, dku, dkv, telescope, wavelengths, phot_num_tot)\n",
      "  File \"/opt/conda/lib/python3.7/site-packages/batoid/rayVector.py\", line 51, in __init__\n",
      "    x, y, z, vx, vy, vz, t, wavelength, flux, vignetted, failed\n",
      "  File \"/opt/conda/lib/python3.7/multiprocessing/queues.py\", line 354, in get\n",
      "    return _ForkingPickler.loads(res)\n",
      "  File \"/home/guillemmh/FOBs/trace_dataset.py\", line 75, in tracePhotons\n",
      "    traced_photons, wavelengths = trace.tracePhotons(frb_photons, rng, observation, wavelength, atm, first_kick = first_kick)\n",
      "  File \"/home/guillemmh/FOBs/trace.py\", line 249, in tracePhotons\n",
      "    traced_rays = TelescopeTrace(rays, telescope)\n",
      "  File \"/opt/conda/lib/python3.7/multiprocessing/pool.py\", line 121, in worker\n",
      "    result = (True, func(*args, **kwds))\n",
      "  File \"/opt/conda/lib/python3.7/multiprocessing/pool.py\", line 121, in worker\n",
      "    result = (True, func(*args, **kwds))\n",
      "  File \"/opt/conda/lib/python3.7/multiprocessing/process.py\", line 99, in run\n",
      "    self._target(*self._args, **self._kwargs)\n",
      "  File \"/home/guillemmh/FOBs/trace.py\", line 249, in tracePhotons\n",
      "    traced_rays = TelescopeTrace(rays, telescope)\n",
      "  File \"/home/guillemmh/FOBs/trace.py\", line 178, in GalsimToBatoid\n",
      "    n.append(telescope.inMedium.getN(wavelengths[idx]))\n",
      "  File \"/opt/conda/lib/python3.7/site-packages/galsim/random.py\", line 153, in __setstate__\n",
      "    def __setstate__(self, d):\n",
      "Traceback (most recent call last):\n",
      "  File \"/opt/conda/lib/python3.7/multiprocessing/pool.py\", line 121, in worker\n",
      "    result = (True, func(*args, **kwds))\n",
      "Traceback (most recent call last):\n",
      "  File \"/home/guillemmh/FOBs/trace_dataset.py\", line 75, in tracePhotons\n",
      "    traced_photons, wavelengths = trace.tracePhotons(frb_photons, rng, observation, wavelength, atm, first_kick = first_kick)\n",
      "  File \"/home/guillemmh/FOBs/trace.py\", line 199, in TelescopeTrace\n",
      "    rays_traced = telescope.trace(rays)\n",
      "  File \"/tmp/ipykernel_3851/213037740.py\", line 13, in generate_dataset2\n",
      "    traced_photons, wavelengths = trace.tracePhotons(args.name, args.num_phot, rng, observation, wavelength, args.atm, args.method, args.duration)\n",
      "  File \"/opt/conda/lib/python3.7/site-packages/batoid/medium.py\", line 24, in getN\n",
      "    return self._medium.getN(wavelength)\n",
      "  File \"/tmp/ipykernel_3851/213037740.py\", line 13, in generate_dataset2\n",
      "    traced_photons, wavelengths = trace.tracePhotons(args.name, args.num_phot, rng, observation, wavelength, args.atm, args.method, args.duration)\n",
      "Process ForkPoolWorker-3223:\n",
      "  File \"/home/guillemmh/FOBs/trace.py\", line 245, in tracePhotons\n",
      "    rays = GalsimToBatoid(u, v, dku, dkv, telescope, wavelengths, phot_num_tot)\n",
      "  File \"/opt/conda/lib/python3.7/site-packages/batoid/optic.py\", line 829, in trace\n",
      "    item.trace(rv, reverse=reverse)\n",
      "  File \"/home/guillemmh/FOBs/trace_dataset.py\", line 28, in tracePhotons\n",
      "    frb_photons = frb_atm_psf.shoot(num_phot, rng)\n",
      "  File \"/home/guillemmh/FOBs/trace_dataset.py\", line 28, in tracePhotons\n",
      "    frb_photons = frb_atm_psf.shoot(num_phot, rng)\n",
      "  File \"/home/guillemmh/FOBs/trace.py\", line 178, in GalsimToBatoid\n",
      "    n.append(telescope.inMedium.getN(wavelengths[idx]))\n",
      "  File \"/opt/conda/lib/python3.7/multiprocessing/process.py\", line 297, in _bootstrap\n",
      "    self.run()\n",
      "KeyboardInterrupt\n",
      "  File \"/opt/conda/lib/python3.7/site-packages/batoid/optic.py\", line 829, in trace\n",
      "    item.trace(rv, reverse=reverse)\n",
      "  File \"/home/guillemmh/FOBs/trace_dataset.py\", line 75, in tracePhotons\n",
      "    traced_photons, wavelengths = trace.tracePhotons(frb_photons, rng, observation, wavelength, atm, first_kick = first_kick)\n",
      "  File \"/opt/conda/lib/python3.7/multiprocessing/process.py\", line 99, in run\n",
      "    self._target(*self._args, **self._kwargs)\n",
      "Process ForkPoolWorker-3256:\n",
      "  File \"/opt/conda/lib/python3.7/multiprocessing/process.py\", line 297, in _bootstrap\n",
      "    self.run()\n",
      "KeyboardInterrupt\n",
      "  File \"/opt/conda/lib/python3.7/site-packages/galsim/gsobject.py\", line 2406, in shoot\n",
      "    self._shoot(photons, rng)\n",
      "  File \"/tmp/ipykernel_3851/213037740.py\", line 13, in generate_dataset2\n",
      "    traced_photons, wavelengths = trace.tracePhotons(args.name, args.num_phot, rng, observation, wavelength, args.atm, args.method, args.duration)\n",
      "  File \"/tmp/ipykernel_3851/213037740.py\", line 13, in generate_dataset2\n",
      "    traced_photons, wavelengths = trace.tracePhotons(args.name, args.num_phot, rng, observation, wavelength, args.atm, args.method, args.duration)\n",
      "  File \"/opt/conda/lib/python3.7/multiprocessing/process.py\", line 99, in run\n",
      "    self._target(*self._args, **self._kwargs)\n",
      "  File \"/home/guillemmh/FOBs/trace.py\", line 245, in tracePhotons\n",
      "    rays = GalsimToBatoid(u, v, dku, dkv, telescope, wavelengths, phot_num_tot)\n",
      "  File \"/opt/conda/lib/python3.7/multiprocessing/pool.py\", line 121, in worker\n",
      "    result = (True, func(*args, **kwds))\n",
      "Process ForkPoolWorker-3211:\n",
      "  File \"/opt/conda/lib/python3.7/site-packages/batoid/optic.py\", line 829, in trace\n",
      "    item.trace(rv, reverse=reverse)\n",
      "  File \"/home/guillemmh/FOBs/trace.py\", line 199, in TelescopeTrace\n",
      "    rays_traced = telescope.trace(rays)\n",
      "  File \"/opt/conda/lib/python3.7/site-packages/galsim/gsobject.py\", line 2406, in shoot\n",
      "    self._shoot(photons, rng)\n",
      "  File \"/tmp/ipykernel_3851/213037740.py\", line 13, in generate_dataset2\n",
      "    traced_photons, wavelengths = trace.tracePhotons(args.name, args.num_phot, rng, observation, wavelength, args.atm, args.method, args.duration)\n",
      "  File \"/home/guillemmh/FOBs/trace.py\", line 245, in tracePhotons\n",
      "    rays = GalsimToBatoid(u, v, dku, dkv, telescope, wavelengths, phot_num_tot)\n",
      "  File \"/opt/conda/lib/python3.7/multiprocessing/process.py\", line 99, in run\n",
      "    self._target(*self._args, **self._kwargs)\n",
      "  File \"/opt/conda/lib/python3.7/site-packages/galsim/phase_psf.py\", line 1555, in _shoot\n",
      "    return self._ii._shoot(photons, rng)\n",
      "  File \"/tmp/ipykernel_3851/213037740.py\", line 13, in generate_dataset2\n",
      "    traced_photons, wavelengths = trace.tracePhotons(args.name, args.num_phot, rng, observation, wavelength, args.atm, args.method, args.duration)\n",
      "Traceback (most recent call last):\n",
      "  File \"/opt/conda/lib/python3.7/multiprocessing/pool.py\", line 121, in worker\n",
      "    result = (True, func(*args, **kwds))\n",
      "  File \"/opt/conda/lib/python3.7/site-packages/batoid/optic.py\", line 309, in trace\n",
      "    self.interact(rv, reverse=reverse)\n",
      "  File \"/home/guillemmh/FOBs/trace_dataset.py\", line 75, in tracePhotons\n",
      "    traced_photons, wavelengths = trace.tracePhotons(frb_photons, rng, observation, wavelength, atm, first_kick = first_kick)\n"
     ]
    },
    {
     "name": "stderr",
     "output_type": "stream",
     "text": [
      "  File \"/home/guillemmh/FOBs/trace_dataset.py\", line 75, in tracePhotons\n",
      "    traced_photons, wavelengths = trace.tracePhotons(frb_photons, rng, observation, wavelength, atm, first_kick = first_kick)\n",
      "  File \"/opt/conda/lib/python3.7/site-packages/galsim/phase_psf.py\", line 1554, in _shoot\n",
      "    self._prepareDraw()\n",
      "  File \"/opt/conda/lib/python3.7/site-packages/batoid/medium.py\", line 24, in getN\n",
      "    return self._medium.getN(wavelength)\n",
      "  File \"/tmp/ipykernel_3851/213037740.py\", line 13, in generate_dataset2\n",
      "    traced_photons, wavelengths = trace.tracePhotons(args.name, args.num_phot, rng, observation, wavelength, args.atm, args.method, args.duration)\n",
      "  File \"/tmp/ipykernel_3851/213037740.py\", line 13, in generate_dataset2\n",
      "    traced_photons, wavelengths = trace.tracePhotons(args.name, args.num_phot, rng, observation, wavelength, args.atm, args.method, args.duration)\n",
      "  File \"/home/guillemmh/FOBs/trace.py\", line 178, in GalsimToBatoid\n",
      "    n.append(telescope.inMedium.getN(wavelengths[idx]))\n",
      "  File \"/home/guillemmh/FOBs/trace_dataset.py\", line 28, in tracePhotons\n",
      "    frb_photons = frb_atm_psf.shoot(num_phot, rng)\n",
      "Traceback (most recent call last):\n",
      "  File \"/opt/conda/lib/python3.7/site-packages/batoid/optic.py\", line 829, in trace\n",
      "    item.trace(rv, reverse=reverse)\n",
      "  File \"/opt/conda/lib/python3.7/multiprocessing/pool.py\", line 121, in worker\n",
      "    result = (True, func(*args, **kwds))\n",
      "  File \"/opt/conda/lib/python3.7/site-packages/galsim/phase_psf.py\", line 1338, in _ii\n",
      "    return self._real_ii\n",
      "  File \"/home/guillemmh/FOBs/trace.py\", line 192, in GalsimToBatoid\n",
      "    np.zeros(num_phot) + 1.0\n",
      "  File \"/home/guillemmh/FOBs/trace.py\", line 245, in tracePhotons\n",
      "    rays = GalsimToBatoid(u, v, dku, dkv, telescope, wavelengths, phot_num_tot)\n",
      "KeyboardInterrupt\n",
      "  File \"/opt/conda/lib/python3.7/multiprocessing/process.py\", line 99, in run\n",
      "    self._target(*self._args, **self._kwargs)\n",
      "Traceback (most recent call last):\n",
      "  File \"/opt/conda/lib/python3.7/multiprocessing/pool.py\", line 121, in worker\n",
      "    result = (True, func(*args, **kwds))\n",
      "  File \"/opt/conda/lib/python3.7/site-packages/batoid/optic.py\", line 309, in trace\n",
      "    self.interact(rv, reverse=reverse)\n",
      "  File \"/home/guillemmh/FOBs/trace.py\", line 245, in tracePhotons\n",
      "    rays = GalsimToBatoid(u, v, dku, dkv, telescope, wavelengths, phot_num_tot)\n",
      "  File \"/tmp/ipykernel_3851/213037740.py\", line 13, in generate_dataset2\n",
      "    traced_photons, wavelengths = trace.tracePhotons(args.name, args.num_phot, rng, observation, wavelength, args.atm, args.method, args.duration)\n",
      "  File \"/home/guillemmh/FOBs/trace_dataset.py\", line 75, in tracePhotons\n",
      "    traced_photons, wavelengths = trace.tracePhotons(frb_photons, rng, observation, wavelength, atm, first_kick = first_kick)\n",
      "  File \"/opt/conda/lib/python3.7/site-packages/batoid/optic.py\", line 571, in interact\n",
      "    return self.surface.refract(rv, m1, m2, coordSys=self.coordSys)\n",
      "  File \"/opt/conda/lib/python3.7/multiprocessing/pool.py\", line 121, in worker\n",
      "    result = (True, func(*args, **kwds))\n",
      "  File \"/opt/conda/lib/python3.7/site-packages/batoid/optic.py\", line 603, in interact\n",
      "    return self.surface.reflect(rv, coordSys=self.coordSys)\n",
      "  File \"/home/guillemmh/FOBs/trace.py\", line 245, in tracePhotons\n",
      "    rays = GalsimToBatoid(u, v, dku, dkv, telescope, wavelengths, phot_num_tot)\n",
      "  File \"/home/guillemmh/FOBs/trace_dataset.py\", line 75, in tracePhotons\n",
      "    traced_photons, wavelengths = trace.tracePhotons(frb_photons, rng, observation, wavelength, atm, first_kick = first_kick)\n",
      "  File \"/opt/conda/lib/python3.7/site-packages/batoid/medium.py\", line 24, in getN\n",
      "    return self._medium.getN(wavelength)\n",
      "  File \"/tmp/ipykernel_3851/213037740.py\", line 13, in generate_dataset2\n",
      "    traced_photons, wavelengths = trace.tracePhotons(args.name, args.num_phot, rng, observation, wavelength, args.atm, args.method, args.duration)\n",
      "  File \"/opt/conda/lib/python3.7/multiprocessing/process.py\", line 297, in _bootstrap\n",
      "    self.run()\n",
      "  File \"/opt/conda/lib/python3.7/site-packages/galsim/utilities.py\", line 1681, in __get__\n",
      "    value = self.fget(obj)\n",
      "  File \"/opt/conda/lib/python3.7/site-packages/batoid/surface.py\", line 105, in refract\n",
      "    return refract(self, rv, inMedium, outMedium, coordSys, coating)\n",
      "  File \"/tmp/ipykernel_3851/213037740.py\", line 13, in generate_dataset2\n",
      "    traced_photons, wavelengths = trace.tracePhotons(args.name, args.num_phot, rng, observation, wavelength, args.atm, args.method, args.duration)\n",
      "  File \"/opt/conda/lib/python3.7/site-packages/batoid/surface.py\", line 79, in reflect\n",
      "    return reflect(self, rv, coordSys, coating)\n",
      "  File \"/tmp/ipykernel_3851/213037740.py\", line 13, in generate_dataset2\n",
      "    traced_photons, wavelengths = trace.tracePhotons(args.name, args.num_phot, rng, observation, wavelength, args.atm, args.method, args.duration)\n",
      "  File \"/home/guillemmh/FOBs/trace_dataset.py\", line 75, in tracePhotons\n",
      "    traced_photons, wavelengths = trace.tracePhotons(frb_photons, rng, observation, wavelength, atm, first_kick = first_kick)\n",
      "  File \"/home/guillemmh/FOBs/trace.py\", line 188, in GalsimToBatoid\n",
      "    x.tolist(), y.tolist(), z.tolist(),\n",
      "  File \"/opt/conda/lib/python3.7/site-packages/galsim/phase_psf.py\", line 1300, in _real_ii\n",
      "    use_true_center=False, gsparams=self._gsparams)\n",
      "  File \"/home/guillemmh/FOBs/trace_dataset.py\", line 75, in tracePhotons\n",
      "    traced_photons, wavelengths = trace.tracePhotons(frb_photons, rng, observation, wavelength, atm, first_kick = first_kick)\n",
      "  File \"/opt/conda/lib/python3.7/site-packages/batoid/trace.py\", line 99, in refract\n",
      "    rv._rv, _coating\n",
      "  File \"/opt/conda/lib/python3.7/site-packages/batoid/trace.py\", line 83, in reflect\n",
      "    rv._rv, _coating\n",
      "KeyboardInterrupt\n",
      "  File \"/home/guillemmh/FOBs/trace.py\", line 240, in tracePhotons\n",
      "    first_kick\n",
      "  File \"/home/guillemmh/FOBs/trace.py\", line 178, in GalsimToBatoid\n",
      "    n.append(telescope.inMedium.getN(wavelengths[idx]))\n",
      "KeyboardInterrupt\n",
      "  File \"/opt/conda/lib/python3.7/multiprocessing/process.py\", line 99, in run\n",
      "    self._target(*self._args, **self._kwargs)\n",
      "  File \"/opt/conda/lib/python3.7/multiprocessing/pool.py\", line 121, in worker\n",
      "    result = (True, func(*args, **kwds))\n",
      "KeyboardInterrupt\n",
      "  File \"/home/guillemmh/FOBs/trace_dataset.py\", line 75, in tracePhotons\n",
      "    traced_photons, wavelengths = trace.tracePhotons(frb_photons, rng, observation, wavelength, atm, first_kick = first_kick)\n",
      "  File \"/home/guillemmh/FOBs/trace.py\", line 249, in tracePhotons\n",
      "    traced_rays = TelescopeTrace(rays, telescope)\n",
      "  File \"/opt/conda/lib/python3.7/multiprocessing/process.py\", line 297, in _bootstrap\n",
      "    self.run()\n",
      "  File \"/home/guillemmh/FOBs/trace_dataset.py\", line 75, in tracePhotons\n",
      "    traced_photons, wavelengths = trace.tracePhotons(frb_photons, rng, observation, wavelength, atm, first_kick = first_kick)\n",
      "  File \"/home/guillemmh/FOBs/trace_dataset.py\", line 75, in tracePhotons\n",
      "    traced_photons, wavelengths = trace.tracePhotons(frb_photons, rng, observation, wavelength, atm, first_kick = first_kick)\n",
      "  File \"/opt/conda/lib/python3.7/site-packages/batoid/rayVector.py\", line 55, in __init__\n",
      "    shape\n",
      "  File \"/opt/conda/lib/python3.7/multiprocessing/process.py\", line 297, in _bootstrap\n",
      "    self.run()\n",
      "  File \"/home/guillemmh/FOBs/trace.py\", line 249, in tracePhotons\n",
      "    traced_rays = TelescopeTrace(rays, telescope)\n",
      "  File \"/home/guillemmh/FOBs/trace.py\", line 192, in GalsimToBatoid\n",
      "    np.zeros(num_phot) + 1.0\n",
      "  File \"/opt/conda/lib/python3.7/site-packages/galsim/interpolatedimage.py\", line 346, in __init__\n",
      "    self._maxk = self._getMaxK(calculate_maxk, _force_maxk)\n",
      "  File \"/opt/conda/lib/python3.7/site-packages/batoid/medium.py\", line 24, in getN\n",
      "    return self._medium.getN(wavelength)\n",
      "  File \"/opt/conda/lib/python3.7/site-packages/galsim/gsobject.py\", line 2406, in shoot\n",
      "    self._shoot(photons, rng)\n",
      "  File \"/opt/conda/lib/python3.7/site-packages/galsim/phase_psf.py\", line 1455, in _prepareDraw\n",
      "    self._screen_list._prepareDraw()\n",
      "  File \"/home/guillemmh/FOBs/trace.py\", line 123, in generatePhaseGradients\n",
      "    dku += photons.x*(galsim.arcsec/galsim.radians)\n",
      "  File \"/home/guillemmh/FOBs/trace.py\", line 249, in tracePhotons\n",
      "    traced_rays = TelescopeTrace(rays, telescope)\n",
      "  File \"/opt/conda/lib/python3.7/multiprocessing/process.py\", line 99, in run\n",
      "    self._target(*self._args, **self._kwargs)\n"
     ]
    },
    {
     "name": "stderr",
     "output_type": "stream",
     "text": [
      "  File \"/opt/conda/lib/python3.7/multiprocessing/process.py\", line 99, in run\n",
      "    self._target(*self._args, **self._kwargs)\n",
      "  File \"/opt/conda/lib/python3.7/site-packages/batoid/rayVector.py\", line 55, in __init__\n",
      "    shape\n",
      "  File \"/home/guillemmh/FOBs/trace.py\", line 199, in TelescopeTrace\n",
      "    rays_traced = telescope.trace(rays)\n",
      "  File \"/tmp/ipykernel_3851/213037740.py\", line 13, in generate_dataset2\n",
      "    traced_photons, wavelengths = trace.tracePhotons(args.name, args.num_phot, rng, observation, wavelength, args.atm, args.method, args.duration)\n",
      "  File \"/opt/conda/lib/python3.7/site-packages/galsim/interpolatedimage.py\", line 584, in _getMaxK\n",
      "    self._sbii.calculateMaxK(0.)\n",
      "  File \"/home/guillemmh/FOBs/trace.py\", line 199, in TelescopeTrace\n",
      "    rays_traced = telescope.trace(rays)\n",
      "  File \"/opt/conda/lib/python3.7/site-packages/batoid/rayVector.py\", line 18, in _reshape_arrays\n",
      "    arrays[i] = np.array(np.broadcast_to(array, shape))\n",
      "KeyboardInterrupt\n",
      "  File \"<__array_function__ internals>\", line 6, in broadcast_to\n",
      "  File \"/opt/conda/lib/python3.7/site-packages/galsim/phase_psf.py\", line 861, in _prepareDraw\n",
      "    psf._step()\n",
      "  File \"/home/guillemmh/FOBs/trace_dataset.py\", line 75, in tracePhotons\n",
      "    traced_photons, wavelengths = trace.tracePhotons(frb_photons, rng, observation, wavelength, atm, first_kick = first_kick)\n",
      "  File \"/home/guillemmh/FOBs/trace.py\", line 249, in tracePhotons\n",
      "    traced_rays = TelescopeTrace(rays, telescope)\n",
      "  File \"/home/guillemmh/FOBs/trace.py\", line 245, in tracePhotons\n",
      "    rays = GalsimToBatoid(u, v, dku, dkv, telescope, wavelengths, phot_num_tot)\n",
      "KeyboardInterrupt\n",
      "  File \"/opt/conda/lib/python3.7/multiprocessing/process.py\", line 297, in _bootstrap\n",
      "    self.run()\n",
      "KeyboardInterrupt\n",
      "  File \"/home/guillemmh/FOBs/trace.py\", line 249, in tracePhotons\n",
      "    traced_rays = TelescopeTrace(rays, telescope)\n",
      "KeyboardInterrupt\n",
      "  File \"/opt/conda/lib/python3.7/site-packages/galsim/phase_psf.py\", line 1554, in _shoot\n",
      "    self._prepareDraw()\n",
      "  File \"/opt/conda/lib/python3.7/site-packages/numpy/lib/stride_tricks.py\", line 411, in broadcast_to\n",
      "    return _broadcast_to(array, shape, subok=subok, readonly=True)\n",
      "  File \"/home/guillemmh/FOBs/trace.py\", line 199, in TelescopeTrace\n",
      "    rays_traced = telescope.trace(rays)\n",
      "  File \"/opt/conda/lib/python3.7/site-packages/batoid/rayVector.py\", line 18, in _reshape_arrays\n",
      "    arrays[i] = np.array(np.broadcast_to(array, shape))\n",
      "  File \"/opt/conda/lib/python3.7/multiprocessing/pool.py\", line 121, in worker\n",
      "    result = (True, func(*args, **kwds))\n",
      "  File \"/opt/conda/lib/python3.7/site-packages/batoid/optic.py\", line 829, in trace\n",
      "    item.trace(rv, reverse=reverse)\n",
      "  File \"/opt/conda/lib/python3.7/site-packages/batoid/optic.py\", line 829, in trace\n",
      "    item.trace(rv, reverse=reverse)\n",
      "  File \"/opt/conda/lib/python3.7/multiprocessing/pool.py\", line 121, in worker\n",
      "    result = (True, func(*args, **kwds))\n",
      "  File \"/opt/conda/lib/python3.7/site-packages/numpy/lib/stride_tricks.py\", line 341, in _broadcast_to\n",
      "    array = np.array(array, copy=False, subok=subok)\n",
      "  File \"/opt/conda/lib/python3.7/site-packages/galsim/phase_psf.py\", line 1455, in _prepareDraw\n",
      "    self._screen_list._prepareDraw()\n",
      "  File \"/opt/conda/lib/python3.7/multiprocessing/process.py\", line 99, in run\n",
      "    self._target(*self._args, **self._kwargs)\n",
      "  File \"/opt/conda/lib/python3.7/site-packages/galsim/phase_psf.py\", line 861, in _prepareDraw\n",
      "    psf._step()\n",
      "Process ForkPoolWorker-3189:\n",
      "  File \"/home/guillemmh/FOBs/trace.py\", line 199, in TelescopeTrace\n",
      "    rays_traced = telescope.trace(rays)\n",
      "Traceback (most recent call last):\n",
      "  File \"/opt/conda/lib/python3.7/site-packages/galsim/phase_psf.py\", line 1465, in _step\n",
      "    expwf = np.exp((2j*np.pi/self.lam) * wf)\n",
      "  File \"/opt/conda/lib/python3.7/multiprocessing/pool.py\", line 121, in worker\n",
      "    result = (True, func(*args, **kwds))\n",
      "  File \"/opt/conda/lib/python3.7/site-packages/galsim/phase_psf.py\", line 1475, in _step\n",
      "    self._img += np.abs(ftexpwf)**2\n",
      "  File \"/opt/conda/lib/python3.7/site-packages/batoid/optic.py\", line 829, in trace\n",
      "    item.trace(rv, reverse=reverse)\n",
      "  File \"/home/guillemmh/FOBs/trace.py\", line 199, in TelescopeTrace\n",
      "    rays_traced = telescope.trace(rays)\n",
      "  File \"/tmp/ipykernel_3851/213037740.py\", line 13, in generate_dataset2\n",
      "    traced_photons, wavelengths = trace.tracePhotons(args.name, args.num_phot, rng, observation, wavelength, args.atm, args.method, args.duration)\n",
      "  File \"/opt/conda/lib/python3.7/site-packages/batoid/optic.py\", line 309, in trace\n",
      "    self.interact(rv, reverse=reverse)\n",
      "  File \"/home/guillemmh/FOBs/trace.py\", line 249, in tracePhotons\n",
      "    traced_rays = TelescopeTrace(rays, telescope)\n",
      "  File \"/opt/conda/lib/python3.7/multiprocessing/process.py\", line 297, in _bootstrap\n",
      "    self.run()\n",
      "KeyboardInterrupt\n",
      "  File \"/opt/conda/lib/python3.7/site-packages/batoid/optic.py\", line 829, in trace\n",
      "    item.trace(rv, reverse=reverse)\n",
      "  File \"/tmp/ipykernel_3851/213037740.py\", line 13, in generate_dataset2\n",
      "    traced_photons, wavelengths = trace.tracePhotons(args.name, args.num_phot, rng, observation, wavelength, args.atm, args.method, args.duration)\n",
      "KeyboardInterrupt\n",
      "  File \"/opt/conda/lib/python3.7/site-packages/batoid/optic.py\", line 603, in interact\n",
      "    return self.surface.reflect(rv, coordSys=self.coordSys)\n",
      "  File \"/opt/conda/lib/python3.7/multiprocessing/process.py\", line 99, in run\n",
      "    self._target(*self._args, **self._kwargs)\n",
      "  File \"/opt/conda/lib/python3.7/site-packages/batoid/optic.py\", line 829, in trace\n",
      "    item.trace(rv, reverse=reverse)\n",
      "KeyboardInterrupt\n",
      "  File \"/opt/conda/lib/python3.7/site-packages/batoid/optic.py\", line 829, in trace\n",
      "    item.trace(rv, reverse=reverse)\n",
      "  File \"/opt/conda/lib/python3.7/site-packages/batoid/optic.py\", line 829, in trace\n",
      "    item.trace(rv, reverse=reverse)\n",
      "  File \"/opt/conda/lib/python3.7/site-packages/batoid/optic.py\", line 829, in trace\n",
      "    item.trace(rv, reverse=reverse)\n",
      "  File \"/home/guillemmh/FOBs/trace_dataset.py\", line 75, in tracePhotons\n",
      "    traced_photons, wavelengths = trace.tracePhotons(frb_photons, rng, observation, wavelength, atm, first_kick = first_kick)\n",
      "  File \"/home/guillemmh/FOBs/trace.py\", line 210, in TelescopeTrace\n",
      "    silicon\n",
      "  File \"/opt/conda/lib/python3.7/site-packages/batoid/optic.py\", line 829, in trace\n",
      "    item.trace(rv, reverse=reverse)\n",
      "  File \"/opt/conda/lib/python3.7/site-packages/batoid/surface.py\", line 105, in refract\n",
      "    return refract(self, rv, inMedium, outMedium, coordSys, coating)\n",
      "Process ForkPoolWorker-3174:\n",
      "KeyboardInterrupt\n",
      "  File \"/tmp/ipykernel_3851/213037740.py\", line 13, in generate_dataset2\n",
      "    traced_photons, wavelengths = trace.tracePhotons(args.name, args.num_phot, rng, observation, wavelength, args.atm, args.method, args.duration)\n",
      "  File \"/home/guillemmh/FOBs/trace.py\", line 178, in GalsimToBatoid\n",
      "    n.append(telescope.inMedium.getN(wavelengths[idx]))\n",
      "  File \"/opt/conda/lib/python3.7/site-packages/batoid/optic.py\", line 309, in trace\n",
      "    self.interact(rv, reverse=reverse)\n",
      "  File \"/opt/conda/lib/python3.7/site-packages/batoid/optic.py\", line 309, in trace\n",
      "    self.interact(rv, reverse=reverse)\n",
      "  File \"/opt/conda/lib/python3.7/site-packages/batoid/optic.py\", line 309, in trace\n",
      "    self.interact(rv, reverse=reverse)\n",
      "  File \"/home/guillemmh/FOBs/trace.py\", line 249, in tracePhotons\n",
      "    traced_rays = TelescopeTrace(rays, telescope)\n",
      "Process ForkPoolWorker-3212:\n",
      "  File \"/opt/conda/lib/python3.7/site-packages/batoid/optic.py\", line 829, in trace\n",
      "    item.trace(rv, reverse=reverse)\n",
      "  File \"/opt/conda/lib/python3.7/multiprocessing/process.py\", line 297, in _bootstrap\n",
      "    self.run()\n",
      "KeyboardInterrupt\n",
      "  File \"/home/guillemmh/FOBs/trace_dataset.py\", line 75, in tracePhotons\n",
      "    traced_photons, wavelengths = trace.tracePhotons(frb_photons, rng, observation, wavelength, atm, first_kick = first_kick)\n",
      "  File \"/home/guillemmh/FOBs/trace_dataset.py\", line 28, in tracePhotons\n",
      "    frb_photons = frb_atm_psf.shoot(num_phot, rng)\n",
      "  File \"/opt/conda/lib/python3.7/site-packages/batoid/trace.py\", line 99, in refract\n",
      "    rv._rv, _coating\n",
      "  File \"/opt/conda/lib/python3.7/site-packages/batoid/optic.py\", line 603, in interact\n",
      "    return self.surface.reflect(rv, coordSys=self.coordSys)\n",
      "Traceback (most recent call last):\n"
     ]
    },
    {
     "name": "stderr",
     "output_type": "stream",
     "text": [
      "  File \"/opt/conda/lib/python3.7/site-packages/batoid/surface.py\", line 79, in reflect\n",
      "    return reflect(self, rv, coordSys, coating)\n",
      "  File \"/opt/conda/lib/python3.7/multiprocessing/pool.py\", line 121, in worker\n",
      "    result = (True, func(*args, **kwds))\n",
      "  File \"/tmp/ipykernel_3851/213037740.py\", line 13, in generate_dataset2\n",
      "    traced_photons, wavelengths = trace.tracePhotons(args.name, args.num_phot, rng, observation, wavelength, args.atm, args.method, args.duration)\n",
      "  File \"/opt/conda/lib/python3.7/site-packages/batoid/optic.py\", line 829, in trace\n",
      "    item.trace(rv, reverse=reverse)\n",
      "  File \"/opt/conda/lib/python3.7/site-packages/batoid/optic.py\", line 571, in interact\n",
      "    return self.surface.refract(rv, m1, m2, coordSys=self.coordSys)\n",
      "  File \"/home/guillemmh/FOBs/trace.py\", line 245, in tracePhotons\n",
      "    rays = GalsimToBatoid(u, v, dku, dkv, telescope, wavelengths, phot_num_tot)\n",
      "  File \"/opt/conda/lib/python3.7/multiprocessing/process.py\", line 297, in _bootstrap\n",
      "    self.run()\n",
      "  File \"/opt/conda/lib/python3.7/site-packages/batoid/optic.py\", line 312, in trace\n",
      "    self.obscuration.obscure(rv)\n",
      "KeyboardInterrupt\n",
      "  File \"/opt/conda/lib/python3.7/site-packages/batoid/trace.py\", line 83, in reflect\n",
      "    rv._rv, _coating\n",
      "Traceback (most recent call last):\n",
      "  File \"/opt/conda/lib/python3.7/site-packages/galsim/gsobject.py\", line 2406, in shoot\n",
      "    self._shoot(photons, rng)\n",
      "  File \"/opt/conda/lib/python3.7/multiprocessing/process.py\", line 297, in _bootstrap\n",
      "    self.run()\n",
      "  File \"/opt/conda/lib/python3.7/multiprocessing/process.py\", line 99, in run\n",
      "    self._target(*self._args, **self._kwargs)\n",
      "  File \"/home/guillemmh/FOBs/trace.py\", line 199, in TelescopeTrace\n",
      "    rays_traced = telescope.trace(rays)\n",
      "  File \"/opt/conda/lib/python3.7/site-packages/batoid/surface.py\", line 105, in refract\n",
      "    return refract(self, rv, inMedium, outMedium, coordSys, coating)\n",
      "  File \"/opt/conda/lib/python3.7/site-packages/batoid/trace.py\", line 99, in refract\n",
      "    rv._rv, _coating\n",
      "  File \"/opt/conda/lib/python3.7/site-packages/batoid/optic.py\", line 829, in trace\n",
      "    item.trace(rv, reverse=reverse)\n",
      "  File \"/opt/conda/lib/python3.7/site-packages/batoid/optic.py\", line 309, in trace\n",
      "    self.interact(rv, reverse=reverse)\n",
      "  File \"/opt/conda/lib/python3.7/site-packages/batoid/optic.py\", line 603, in interact\n",
      "    return self.surface.reflect(rv, coordSys=self.coordSys)\n",
      "  File \"/opt/conda/lib/python3.7/site-packages/batoid/surface.py\", line 79, in reflect\n",
      "    return reflect(self, rv, coordSys, coating)\n",
      "  File \"/opt/conda/lib/python3.7/site-packages/batoid/trace.py\", line 83, in reflect\n",
      "    rv._rv, _coating\n",
      "  File \"/opt/conda/lib/python3.7/multiprocessing/pool.py\", line 121, in worker\n",
      "    result = (True, func(*args, **kwds))\n",
      "  File \"/tmp/ipykernel_3851/213037740.py\", line 13, in generate_dataset2\n",
      "    traced_photons, wavelengths = trace.tracePhotons(args.name, args.num_phot, rng, observation, wavelength, args.atm, args.method, args.duration)\n",
      "  File \"/opt/conda/lib/python3.7/site-packages/galsim/phase_psf.py\", line 1554, in _shoot\n",
      "    self._prepareDraw()\n",
      "KeyboardInterrupt\n",
      "  File \"/opt/conda/lib/python3.7/site-packages/galsim/phase_psf.py\", line 1455, in _prepareDraw\n",
      "    self._screen_list._prepareDraw()\n",
      "  File \"/opt/conda/lib/python3.7/multiprocessing/process.py\", line 99, in run\n",
      "    self._target(*self._args, **self._kwargs)\n",
      "KeyboardInterrupt\n",
      "  File \"/opt/conda/lib/python3.7/site-packages/batoid/surface.py\", line 79, in reflect\n",
      "    return reflect(self, rv, coordSys, coating)\n",
      "  File \"/opt/conda/lib/python3.7/site-packages/batoid/optic.py\", line 571, in interact\n",
      "    return self.surface.refract(rv, m1, m2, coordSys=self.coordSys)\n",
      "  File \"/opt/conda/lib/python3.7/site-packages/batoid/obscuration.py\", line 42, in obscure\n",
      "    obscure(self, rv)\n",
      "  File \"/opt/conda/lib/python3.7/multiprocessing/process.py\", line 99, in run\n",
      "    self._target(*self._args, **self._kwargs)\n",
      "  File \"/opt/conda/lib/python3.7/site-packages/batoid/trace.py\", line 83, in reflect\n",
      "    rv._rv, _coating\n",
      "  File \"/opt/conda/lib/python3.7/site-packages/batoid/trace.py\", line 35, in obscure\n",
      "    _batoid.obscure(obsc._obsc, rv._rv)\n",
      "  File \"/opt/conda/lib/python3.7/site-packages/batoid/surface.py\", line 105, in refract\n",
      "    return refract(self, rv, inMedium, outMedium, coordSys, coating)\n",
      "  File \"/opt/conda/lib/python3.7/multiprocessing/pool.py\", line 121, in worker\n",
      "    result = (True, func(*args, **kwds))\n",
      "  File \"/opt/conda/lib/python3.7/site-packages/batoid/trace.py\", line 99, in refract\n",
      "    rv._rv, _coating\n",
      "KeyboardInterrupt\n",
      "  File \"/opt/conda/lib/python3.7/site-packages/galsim/phase_psf.py\", line 861, in _prepareDraw\n",
      "    psf._step()\n",
      "  File \"/home/guillemmh/FOBs/trace_dataset.py\", line 28, in tracePhotons\n",
      "    frb_photons = frb_atm_psf.shoot(num_phot, rng)\n",
      "KeyboardInterrupt\n",
      "  File \"/home/guillemmh/FOBs/trace.py\", line 192, in GalsimToBatoid\n",
      "    np.zeros(num_phot) + 1.0\n",
      "  File \"/opt/conda/lib/python3.7/site-packages/galsim/gsobject.py\", line 2406, in shoot\n",
      "    self._shoot(photons, rng)\n",
      "KeyboardInterrupt\n",
      "  File \"/opt/conda/lib/python3.7/site-packages/galsim/phase_psf.py\", line 1555, in _shoot\n",
      "    return self._ii._shoot(photons, rng)\n",
      "KeyboardInterrupt\n",
      "  File \"/opt/conda/lib/python3.7/site-packages/galsim/phase_psf.py\", line 1338, in _ii\n",
      "    return self._real_ii\n",
      "  File \"/opt/conda/lib/python3.7/multiprocessing/pool.py\", line 121, in worker\n",
      "    result = (True, func(*args, **kwds))\n",
      "  File \"/opt/conda/lib/python3.7/site-packages/galsim/utilities.py\", line 1681, in __get__\n",
      "    value = self.fget(obj)\n",
      "  File \"/tmp/ipykernel_3851/213037740.py\", line 13, in generate_dataset2\n",
      "    traced_photons, wavelengths = trace.tracePhotons(args.name, args.num_phot, rng, observation, wavelength, args.atm, args.method, args.duration)\n",
      "Process ForkPoolWorker-3196:\n",
      "  File \"/opt/conda/lib/python3.7/site-packages/galsim/phase_psf.py\", line 1470, in _step\n",
      "    ftexpwf = fft.ifft2(expwf_grid, shift_in=True, shift_out=True)\n",
      "KeyboardInterrupt\n",
      "  File \"/opt/conda/lib/python3.7/site-packages/galsim/phase_psf.py\", line 1300, in _real_ii\n",
      "    use_true_center=False, gsparams=self._gsparams)\n",
      "KeyboardInterrupt\n",
      "KeyboardInterrupt\n",
      "  File \"/opt/conda/lib/python3.7/site-packages/galsim/interpolatedimage.py\", line 346, in __init__\n",
      "    self._maxk = self._getMaxK(calculate_maxk, _force_maxk)\n",
      "Process ForkPoolWorker-3123:\n",
      "  File \"/tmp/ipykernel_3851/213037740.py\", line 13, in generate_dataset2\n",
      "    traced_photons, wavelengths = trace.tracePhotons(args.name, args.num_phot, rng, observation, wavelength, args.atm, args.method, args.duration)\n",
      "  File \"/opt/conda/lib/python3.7/site-packages/galsim/fft.py\", line 173, in ifft2\n",
      "    _galsim.cfft(kim._image, xim._image, True, shift_in, shift_out)\n",
      "  File \"/opt/conda/lib/python3.7/site-packages/galsim/interpolatedimage.py\", line 584, in _getMaxK\n",
      "    self._sbii.calculateMaxK(0.)\n",
      "Traceback (most recent call last):\n",
      "Traceback (most recent call last):\n",
      "KeyboardInterrupt\n",
      "  File \"/home/guillemmh/FOBs/trace_dataset.py\", line 28, in tracePhotons\n",
      "    frb_photons = frb_atm_psf.shoot(num_phot, rng)\n",
      "KeyboardInterrupt\n",
      "  File \"/opt/conda/lib/python3.7/multiprocessing/process.py\", line 297, in _bootstrap\n",
      "    self.run()\n",
      "  File \"/opt/conda/lib/python3.7/multiprocessing/process.py\", line 297, in _bootstrap\n",
      "    self.run()\n",
      "  File \"/opt/conda/lib/python3.7/site-packages/galsim/gsobject.py\", line 2406, in shoot\n",
      "    self._shoot(photons, rng)\n",
      "  File \"/opt/conda/lib/python3.7/site-packages/galsim/phase_psf.py\", line 1554, in _shoot\n",
      "    self._prepareDraw()\n",
      "  File \"/opt/conda/lib/python3.7/site-packages/galsim/phase_psf.py\", line 1455, in _prepareDraw\n",
      "    self._screen_list._prepareDraw()\n",
      "  File \"/opt/conda/lib/python3.7/site-packages/galsim/phase_psf.py\", line 861, in _prepareDraw\n",
      "    psf._step()\n",
      "  File \"/opt/conda/lib/python3.7/multiprocessing/process.py\", line 99, in run\n",
      "    self._target(*self._args, **self._kwargs)\n",
      "  File \"/opt/conda/lib/python3.7/multiprocessing/process.py\", line 99, in run\n",
      "    self._target(*self._args, **self._kwargs)\n",
      "  File \"/opt/conda/lib/python3.7/multiprocessing/pool.py\", line 121, in worker\n",
      "    result = (True, func(*args, **kwds))\n",
      "  File \"/opt/conda/lib/python3.7/multiprocessing/pool.py\", line 121, in worker\n",
      "    result = (True, func(*args, **kwds))\n"
     ]
    },
    {
     "name": "stderr",
     "output_type": "stream",
     "text": [
      "Process ForkPoolWorker-3193:\n",
      "  File \"/opt/conda/lib/python3.7/site-packages/galsim/phase_psf.py\", line 1470, in _step\n",
      "    ftexpwf = fft.ifft2(expwf_grid, shift_in=True, shift_out=True)\n",
      "Traceback (most recent call last):\n",
      "  File \"/opt/conda/lib/python3.7/multiprocessing/process.py\", line 297, in _bootstrap\n",
      "    self.run()\n",
      "  File \"/opt/conda/lib/python3.7/multiprocessing/process.py\", line 99, in run\n",
      "    self._target(*self._args, **self._kwargs)\n",
      "  File \"/opt/conda/lib/python3.7/multiprocessing/pool.py\", line 121, in worker\n",
      "    result = (True, func(*args, **kwds))\n",
      "  File \"/tmp/ipykernel_3851/213037740.py\", line 13, in generate_dataset2\n",
      "    traced_photons, wavelengths = trace.tracePhotons(args.name, args.num_phot, rng, observation, wavelength, args.atm, args.method, args.duration)\n",
      "  File \"/home/guillemmh/FOBs/trace_dataset.py\", line 28, in tracePhotons\n",
      "    frb_photons = frb_atm_psf.shoot(num_phot, rng)\n",
      "  File \"/opt/conda/lib/python3.7/site-packages/galsim/gsobject.py\", line 2406, in shoot\n",
      "    self._shoot(photons, rng)\n",
      "  File \"/opt/conda/lib/python3.7/site-packages/galsim/phase_psf.py\", line 1555, in _shoot\n",
      "    return self._ii._shoot(photons, rng)\n",
      "  File \"/opt/conda/lib/python3.7/site-packages/galsim/interpolatedimage.py\", line 688, in _shoot\n",
      "    self._sbp.shoot(photons._pa, rng._rng)\n",
      "  File \"/tmp/ipykernel_3851/213037740.py\", line 21, in generate_dataset2\n",
      "    noise = False,\n",
      "  File \"/tmp/ipykernel_3851/213037740.py\", line 21, in generate_dataset2\n",
      "    noise = False,\n",
      "  File \"/tmp/ipykernel_3851/835977016.py\", line 21, in generateImage\n",
      "    sensor.accumulate(photons, image)\n",
      "  File \"/opt/conda/lib/python3.7/site-packages/galsim/sensor.py\", line 326, in accumulate\n",
      "    resume)\n",
      "KeyboardInterrupt\n",
      "  File \"/tmp/ipykernel_3851/835977016.py\", line 21, in generateImage\n",
      "    sensor.accumulate(photons, image)\n",
      "  File \"/opt/conda/lib/python3.7/site-packages/galsim/sensor.py\", line 326, in accumulate\n",
      "    resume)\n",
      "KeyboardInterrupt\n",
      "KeyboardInterrupt\n",
      "  File \"/opt/conda/lib/python3.7/site-packages/galsim/fft.py\", line 173, in ifft2\n",
      "    _galsim.cfft(kim._image, xim._image, True, shift_in, shift_out)\n",
      "KeyboardInterrupt\n",
      "Process ForkPoolWorker-3124:\n",
      "Traceback (most recent call last):\n",
      "Process ForkPoolWorker-3177:\n",
      "  File \"/opt/conda/lib/python3.7/multiprocessing/process.py\", line 297, in _bootstrap\n",
      "    self.run()\n",
      "Traceback (most recent call last):\n",
      "  File \"/opt/conda/lib/python3.7/multiprocessing/process.py\", line 99, in run\n",
      "    self._target(*self._args, **self._kwargs)\n",
      "  File \"/opt/conda/lib/python3.7/multiprocessing/pool.py\", line 121, in worker\n",
      "    result = (True, func(*args, **kwds))\n",
      "  File \"/opt/conda/lib/python3.7/multiprocessing/process.py\", line 297, in _bootstrap\n",
      "    self.run()\n",
      "  File \"/opt/conda/lib/python3.7/multiprocessing/process.py\", line 99, in run\n",
      "    self._target(*self._args, **self._kwargs)\n",
      "  File \"/tmp/ipykernel_3851/213037740.py\", line 21, in generate_dataset2\n",
      "    noise = False,\n",
      "  File \"/tmp/ipykernel_3851/835977016.py\", line 21, in generateImage\n",
      "    sensor.accumulate(photons, image)\n",
      "Process ForkPoolWorker-3168:\n",
      "  File \"/opt/conda/lib/python3.7/multiprocessing/pool.py\", line 121, in worker\n",
      "    result = (True, func(*args, **kwds))\n",
      "  File \"/opt/conda/lib/python3.7/site-packages/galsim/sensor.py\", line 326, in accumulate\n",
      "    resume)\n",
      "  File \"/tmp/ipykernel_3851/213037740.py\", line 21, in generate_dataset2\n",
      "    noise = False,\n",
      "  File \"/tmp/ipykernel_3851/835977016.py\", line 21, in generateImage\n",
      "    sensor.accumulate(photons, image)\n",
      "KeyboardInterrupt\n",
      "Traceback (most recent call last):\n",
      "  File \"/opt/conda/lib/python3.7/site-packages/galsim/sensor.py\", line 326, in accumulate\n",
      "    resume)\n",
      "  File \"/opt/conda/lib/python3.7/multiprocessing/process.py\", line 297, in _bootstrap\n",
      "    self.run()\n",
      "  File \"/opt/conda/lib/python3.7/multiprocessing/process.py\", line 99, in run\n",
      "    self._target(*self._args, **self._kwargs)\n",
      "KeyboardInterrupt\n",
      "  File \"/opt/conda/lib/python3.7/multiprocessing/pool.py\", line 121, in worker\n",
      "    result = (True, func(*args, **kwds))\n",
      "  File \"/tmp/ipykernel_3851/213037740.py\", line 13, in generate_dataset2\n",
      "    traced_photons, wavelengths = trace.tracePhotons(args.name, args.num_phot, rng, observation, wavelength, args.atm, args.method, args.duration)\n",
      "  File \"/home/guillemmh/FOBs/trace_dataset.py\", line 28, in tracePhotons\n",
      "    frb_photons = frb_atm_psf.shoot(num_phot, rng)\n",
      "  File \"/opt/conda/lib/python3.7/site-packages/galsim/gsobject.py\", line 2406, in shoot\n",
      "    self._shoot(photons, rng)\n",
      "  File \"/opt/conda/lib/python3.7/site-packages/galsim/phase_psf.py\", line 1555, in _shoot\n",
      "    return self._ii._shoot(photons, rng)\n",
      "  File \"/opt/conda/lib/python3.7/site-packages/galsim/interpolatedimage.py\", line 688, in _shoot\n",
      "    self._sbp.shoot(photons._pa, rng._rng)\n",
      "KeyboardInterrupt\n",
      "  File \"/opt/conda/lib/python3.7/multiprocessing/pool.py\", line 121, in worker\n",
      "    result = (True, func(*args, **kwds))\n",
      "Process ForkPoolWorker-3271:\n",
      "Traceback (most recent call last):\n",
      "  File \"/opt/conda/lib/python3.7/multiprocessing/process.py\", line 297, in _bootstrap\n",
      "    self.run()\n",
      "  File \"/opt/conda/lib/python3.7/multiprocessing/process.py\", line 99, in run\n",
      "    self._target(*self._args, **self._kwargs)\n",
      "  File \"/opt/conda/lib/python3.7/multiprocessing/pool.py\", line 121, in worker\n",
      "    result = (True, func(*args, **kwds))\n",
      "  File \"/tmp/ipykernel_3851/213037740.py\", line 21, in generate_dataset2\n",
      "    noise = False,\n",
      "  File \"/tmp/ipykernel_3851/835977016.py\", line 21, in generateImage\n",
      "    sensor.accumulate(photons, image)\n",
      "  File \"/opt/conda/lib/python3.7/site-packages/galsim/sensor.py\", line 326, in accumulate\n",
      "    resume)\n",
      "KeyboardInterrupt\n",
      "Process ForkPoolWorker-3169:\n",
      "Traceback (most recent call last):\n",
      "  File \"/opt/conda/lib/python3.7/multiprocessing/process.py\", line 297, in _bootstrap\n",
      "    self.run()\n",
      "  File \"/opt/conda/lib/python3.7/multiprocessing/process.py\", line 99, in run\n",
      "    self._target(*self._args, **self._kwargs)\n",
      "  File \"/tmp/ipykernel_3851/213037740.py\", line 21, in generate_dataset2\n",
      "    noise = False,\n",
      "  File \"/tmp/ipykernel_3851/835977016.py\", line 21, in generateImage\n",
      "    sensor.accumulate(photons, image)\n",
      "KeyboardInterrupt\n",
      "  File \"/opt/conda/lib/python3.7/site-packages/galsim/sensor.py\", line 326, in accumulate\n",
      "    resume)\n",
      "Process ForkPoolWorker-3204:\n",
      "Traceback (most recent call last):\n",
      "  File \"/opt/conda/lib/python3.7/multiprocessing/process.py\", line 297, in _bootstrap\n",
      "    self.run()\n",
      "  File \"/opt/conda/lib/python3.7/multiprocessing/process.py\", line 99, in run\n",
      "    self._target(*self._args, **self._kwargs)\n",
      "  File \"/opt/conda/lib/python3.7/multiprocessing/pool.py\", line 121, in worker\n",
      "    result = (True, func(*args, **kwds))\n",
      "  File \"/tmp/ipykernel_3851/213037740.py\", line 13, in generate_dataset2\n",
      "    traced_photons, wavelengths = trace.tracePhotons(args.name, args.num_phot, rng, observation, wavelength, args.atm, args.method, args.duration)\n",
      "KeyboardInterrupt\n",
      "Process ForkPoolWorker-3130:\n",
      "Traceback (most recent call last):\n",
      "  File \"/opt/conda/lib/python3.7/multiprocessing/process.py\", line 297, in _bootstrap\n",
      "    self.run()\n",
      "  File \"/opt/conda/lib/python3.7/multiprocessing/process.py\", line 99, in run\n",
      "    self._target(*self._args, **self._kwargs)\n",
      "  File \"/opt/conda/lib/python3.7/multiprocessing/pool.py\", line 121, in worker\n",
      "    result = (True, func(*args, **kwds))\n",
      "  File \"/tmp/ipykernel_3851/213037740.py\", line 21, in generate_dataset2\n",
      "    noise = False,\n",
      "Process ForkPoolWorker-3210:\n",
      "Traceback (most recent call last):\n",
      "  File \"/opt/conda/lib/python3.7/multiprocessing/process.py\", line 297, in _bootstrap\n",
      "    self.run()\n",
      "  File \"/opt/conda/lib/python3.7/multiprocessing/process.py\", line 99, in run\n",
      "    self._target(*self._args, **self._kwargs)\n",
      "  File \"/opt/conda/lib/python3.7/multiprocessing/pool.py\", line 121, in worker\n",
      "    result = (True, func(*args, **kwds))\n",
      "  File \"/tmp/ipykernel_3851/213037740.py\", line 21, in generate_dataset2\n",
      "    noise = False,\n",
      "  File \"/tmp/ipykernel_3851/835977016.py\", line 21, in generateImage\n",
      "    sensor.accumulate(photons, image)\n",
      "Process ForkPoolWorker-3159:\n",
      "Traceback (most recent call last):\n",
      "  File \"/opt/conda/lib/python3.7/site-packages/galsim/sensor.py\", line 326, in accumulate\n",
      "    resume)\n",
      "KeyboardInterrupt\n",
      "  File \"/opt/conda/lib/python3.7/multiprocessing/process.py\", line 297, in _bootstrap\n",
      "    self.run()\n"
     ]
    },
    {
     "name": "stderr",
     "output_type": "stream",
     "text": [
      "  File \"/opt/conda/lib/python3.7/multiprocessing/process.py\", line 99, in run\n",
      "    self._target(*self._args, **self._kwargs)\n",
      "  File \"/opt/conda/lib/python3.7/multiprocessing/pool.py\", line 121, in worker\n",
      "    result = (True, func(*args, **kwds))\n",
      "  File \"/tmp/ipykernel_3851/213037740.py\", line 21, in generate_dataset2\n",
      "    noise = False,\n",
      "  File \"/tmp/ipykernel_3851/835977016.py\", line 21, in generateImage\n",
      "    sensor.accumulate(photons, image)\n",
      "  File \"/opt/conda/lib/python3.7/site-packages/galsim/sensor.py\", line 326, in accumulate\n",
      "    resume)\n",
      "KeyboardInterrupt\n"
     ]
    },
    {
     "ename": "KeyboardInterrupt",
     "evalue": "",
     "output_type": "error",
     "traceback": [
      "\u001b[0;31m---------------------------------------------------------------------------\u001b[0m",
      "\u001b[0;31mKeyboardInterrupt\u001b[0m                         Traceback (most recent call last)",
      "\u001b[0;32m<timed exec>\u001b[0m in \u001b[0;36m<module>\u001b[0;34m\u001b[0m\n",
      "\u001b[0;32m/tmp/ipykernel_3851/213037740.py\u001b[0m in \u001b[0;36mgenerate_dataset_parallel\u001b[0;34m(argums, pbar)\u001b[0m\n\u001b[1;32m     39\u001b[0m \u001b[0;34m\u001b[0m\u001b[0m\n\u001b[1;32m     40\u001b[0m     \u001b[0mpool\u001b[0m\u001b[0;34m.\u001b[0m\u001b[0mclose\u001b[0m\u001b[0;34m(\u001b[0m\u001b[0;34m)\u001b[0m\u001b[0;34m\u001b[0m\u001b[0;34m\u001b[0m\u001b[0m\n\u001b[0;32m---> 41\u001b[0;31m     \u001b[0mpool\u001b[0m\u001b[0;34m.\u001b[0m\u001b[0mjoin\u001b[0m\u001b[0;34m(\u001b[0m\u001b[0;34m)\u001b[0m\u001b[0;34m\u001b[0m\u001b[0;34m\u001b[0m\u001b[0m\n\u001b[0m\u001b[1;32m     42\u001b[0m \u001b[0;34m\u001b[0m\u001b[0m\n\u001b[1;32m     43\u001b[0m     \u001b[0;31m# Close progressbar\u001b[0m\u001b[0;34m\u001b[0m\u001b[0;34m\u001b[0m\u001b[0;34m\u001b[0m\u001b[0m\n",
      "\u001b[0;32m/opt/conda/lib/python3.7/multiprocessing/pool.py\u001b[0m in \u001b[0;36mjoin\u001b[0;34m(self)\u001b[0m\n\u001b[1;32m    554\u001b[0m         \u001b[0;32melif\u001b[0m \u001b[0mself\u001b[0m\u001b[0;34m.\u001b[0m\u001b[0m_state\u001b[0m \u001b[0;32mnot\u001b[0m \u001b[0;32min\u001b[0m \u001b[0;34m(\u001b[0m\u001b[0mCLOSE\u001b[0m\u001b[0;34m,\u001b[0m \u001b[0mTERMINATE\u001b[0m\u001b[0;34m)\u001b[0m\u001b[0;34m:\u001b[0m\u001b[0;34m\u001b[0m\u001b[0;34m\u001b[0m\u001b[0m\n\u001b[1;32m    555\u001b[0m             \u001b[0;32mraise\u001b[0m \u001b[0mValueError\u001b[0m\u001b[0;34m(\u001b[0m\u001b[0;34m\"In unknown state\"\u001b[0m\u001b[0;34m)\u001b[0m\u001b[0;34m\u001b[0m\u001b[0;34m\u001b[0m\u001b[0m\n\u001b[0;32m--> 556\u001b[0;31m         \u001b[0mself\u001b[0m\u001b[0;34m.\u001b[0m\u001b[0m_worker_handler\u001b[0m\u001b[0;34m.\u001b[0m\u001b[0mjoin\u001b[0m\u001b[0;34m(\u001b[0m\u001b[0;34m)\u001b[0m\u001b[0;34m\u001b[0m\u001b[0;34m\u001b[0m\u001b[0m\n\u001b[0m\u001b[1;32m    557\u001b[0m         \u001b[0mself\u001b[0m\u001b[0;34m.\u001b[0m\u001b[0m_task_handler\u001b[0m\u001b[0;34m.\u001b[0m\u001b[0mjoin\u001b[0m\u001b[0;34m(\u001b[0m\u001b[0;34m)\u001b[0m\u001b[0;34m\u001b[0m\u001b[0;34m\u001b[0m\u001b[0m\n\u001b[1;32m    558\u001b[0m         \u001b[0mself\u001b[0m\u001b[0;34m.\u001b[0m\u001b[0m_result_handler\u001b[0m\u001b[0;34m.\u001b[0m\u001b[0mjoin\u001b[0m\u001b[0;34m(\u001b[0m\u001b[0;34m)\u001b[0m\u001b[0;34m\u001b[0m\u001b[0;34m\u001b[0m\u001b[0m\n",
      "\u001b[0;32m/opt/conda/lib/python3.7/threading.py\u001b[0m in \u001b[0;36mjoin\u001b[0;34m(self, timeout)\u001b[0m\n\u001b[1;32m   1042\u001b[0m \u001b[0;34m\u001b[0m\u001b[0m\n\u001b[1;32m   1043\u001b[0m         \u001b[0;32mif\u001b[0m \u001b[0mtimeout\u001b[0m \u001b[0;32mis\u001b[0m \u001b[0;32mNone\u001b[0m\u001b[0;34m:\u001b[0m\u001b[0;34m\u001b[0m\u001b[0;34m\u001b[0m\u001b[0m\n\u001b[0;32m-> 1044\u001b[0;31m             \u001b[0mself\u001b[0m\u001b[0;34m.\u001b[0m\u001b[0m_wait_for_tstate_lock\u001b[0m\u001b[0;34m(\u001b[0m\u001b[0;34m)\u001b[0m\u001b[0;34m\u001b[0m\u001b[0;34m\u001b[0m\u001b[0m\n\u001b[0m\u001b[1;32m   1045\u001b[0m         \u001b[0;32melse\u001b[0m\u001b[0;34m:\u001b[0m\u001b[0;34m\u001b[0m\u001b[0;34m\u001b[0m\u001b[0m\n\u001b[1;32m   1046\u001b[0m             \u001b[0;31m# the behavior of a negative timeout isn't documented, but\u001b[0m\u001b[0;34m\u001b[0m\u001b[0;34m\u001b[0m\u001b[0;34m\u001b[0m\u001b[0m\n",
      "\u001b[0;32m/opt/conda/lib/python3.7/threading.py\u001b[0m in \u001b[0;36m_wait_for_tstate_lock\u001b[0;34m(self, block, timeout)\u001b[0m\n\u001b[1;32m   1058\u001b[0m         \u001b[0;32mif\u001b[0m \u001b[0mlock\u001b[0m \u001b[0;32mis\u001b[0m \u001b[0;32mNone\u001b[0m\u001b[0;34m:\u001b[0m  \u001b[0;31m# already determined that the C code is done\u001b[0m\u001b[0;34m\u001b[0m\u001b[0;34m\u001b[0m\u001b[0m\n\u001b[1;32m   1059\u001b[0m             \u001b[0;32massert\u001b[0m \u001b[0mself\u001b[0m\u001b[0;34m.\u001b[0m\u001b[0m_is_stopped\u001b[0m\u001b[0;34m\u001b[0m\u001b[0;34m\u001b[0m\u001b[0m\n\u001b[0;32m-> 1060\u001b[0;31m         \u001b[0;32melif\u001b[0m \u001b[0mlock\u001b[0m\u001b[0;34m.\u001b[0m\u001b[0macquire\u001b[0m\u001b[0;34m(\u001b[0m\u001b[0mblock\u001b[0m\u001b[0;34m,\u001b[0m \u001b[0mtimeout\u001b[0m\u001b[0;34m)\u001b[0m\u001b[0;34m:\u001b[0m\u001b[0;34m\u001b[0m\u001b[0;34m\u001b[0m\u001b[0m\n\u001b[0m\u001b[1;32m   1061\u001b[0m             \u001b[0mlock\u001b[0m\u001b[0;34m.\u001b[0m\u001b[0mrelease\u001b[0m\u001b[0;34m(\u001b[0m\u001b[0;34m)\u001b[0m\u001b[0;34m\u001b[0m\u001b[0;34m\u001b[0m\u001b[0m\n\u001b[1;32m   1062\u001b[0m             \u001b[0mself\u001b[0m\u001b[0;34m.\u001b[0m\u001b[0m_stop\u001b[0m\u001b[0;34m(\u001b[0m\u001b[0;34m)\u001b[0m\u001b[0;34m\u001b[0m\u001b[0;34m\u001b[0m\u001b[0m\n",
      "\u001b[0;31mKeyboardInterrupt\u001b[0m: "
     ]
    },
    {
     "name": "stderr",
     "output_type": "stream",
     "text": [
      "  File \"/tmp/ipykernel_3851/835977016.py\", line 21, in generateImage\n",
      "    sensor.accumulate(photons, image)\n",
      "  File \"/opt/conda/lib/python3.7/site-packages/galsim/sensor.py\", line 326, in accumulate\n",
      "    resume)\n",
      "KeyboardInterrupt\n",
      "Process ForkPoolWorker-3261:\n",
      "Traceback (most recent call last):\n",
      "  File \"/opt/conda/lib/python3.7/multiprocessing/process.py\", line 297, in _bootstrap\n",
      "    self.run()\n",
      "  File \"/opt/conda/lib/python3.7/multiprocessing/process.py\", line 99, in run\n",
      "    self._target(*self._args, **self._kwargs)\n",
      "Process ForkPoolWorker-3206:\n",
      "Traceback (most recent call last):\n",
      "  File \"/opt/conda/lib/python3.7/multiprocessing/pool.py\", line 121, in worker\n",
      "    result = (True, func(*args, **kwds))\n",
      "  File \"/tmp/ipykernel_3851/213037740.py\", line 21, in generate_dataset2\n",
      "    noise = False,\n",
      "  File \"/opt/conda/lib/python3.7/multiprocessing/process.py\", line 297, in _bootstrap\n",
      "    self.run()\n",
      "  File \"/tmp/ipykernel_3851/835977016.py\", line 21, in generateImage\n",
      "    sensor.accumulate(photons, image)\n",
      "  File \"/opt/conda/lib/python3.7/multiprocessing/process.py\", line 99, in run\n",
      "    self._target(*self._args, **self._kwargs)\n",
      "  File \"/opt/conda/lib/python3.7/multiprocessing/pool.py\", line 121, in worker\n",
      "    result = (True, func(*args, **kwds))\n",
      "  File \"/opt/conda/lib/python3.7/site-packages/galsim/sensor.py\", line 326, in accumulate\n",
      "    resume)\n",
      "  File \"/tmp/ipykernel_3851/213037740.py\", line 13, in generate_dataset2\n",
      "    traced_photons, wavelengths = trace.tracePhotons(args.name, args.num_phot, rng, observation, wavelength, args.atm, args.method, args.duration)\n",
      "KeyboardInterrupt\n",
      "  File \"/home/guillemmh/FOBs/trace_dataset.py\", line 28, in tracePhotons\n",
      "    frb_photons = frb_atm_psf.shoot(num_phot, rng)\n",
      "  File \"/opt/conda/lib/python3.7/site-packages/galsim/gsobject.py\", line 2406, in shoot\n",
      "    self._shoot(photons, rng)\n",
      "  File \"/opt/conda/lib/python3.7/site-packages/galsim/phase_psf.py\", line 1555, in _shoot\n",
      "    return self._ii._shoot(photons, rng)\n",
      "Process ForkPoolWorker-3146:\n",
      "Traceback (most recent call last):\n",
      "  File \"/opt/conda/lib/python3.7/multiprocessing/process.py\", line 297, in _bootstrap\n",
      "    self.run()\n",
      "  File \"/opt/conda/lib/python3.7/multiprocessing/process.py\", line 99, in run\n",
      "    self._target(*self._args, **self._kwargs)\n",
      "  File \"/opt/conda/lib/python3.7/site-packages/galsim/interpolatedimage.py\", line 688, in _shoot\n",
      "    self._sbp.shoot(photons._pa, rng._rng)\n",
      "  File \"/opt/conda/lib/python3.7/multiprocessing/pool.py\", line 121, in worker\n",
      "    result = (True, func(*args, **kwds))\n",
      "KeyboardInterrupt\n",
      "  File \"/tmp/ipykernel_3851/213037740.py\", line 13, in generate_dataset2\n",
      "    traced_photons, wavelengths = trace.tracePhotons(args.name, args.num_phot, rng, observation, wavelength, args.atm, args.method, args.duration)\n",
      "  File \"/home/guillemmh/FOBs/trace_dataset.py\", line 28, in tracePhotons\n",
      "    frb_photons = frb_atm_psf.shoot(num_phot, rng)\n",
      "  File \"/opt/conda/lib/python3.7/site-packages/galsim/gsobject.py\", line 2406, in shoot\n",
      "    self._shoot(photons, rng)\n",
      "  File \"/opt/conda/lib/python3.7/site-packages/galsim/phase_psf.py\", line 1555, in _shoot\n",
      "    return self._ii._shoot(photons, rng)\n",
      "  File \"/opt/conda/lib/python3.7/site-packages/galsim/interpolatedimage.py\", line 688, in _shoot\n",
      "    self._sbp.shoot(photons._pa, rng._rng)\n",
      "KeyboardInterrupt\n",
      "Process ForkPoolWorker-3251:\n",
      "Traceback (most recent call last):\n",
      "  File \"/opt/conda/lib/python3.7/multiprocessing/process.py\", line 297, in _bootstrap\n",
      "    self.run()\n",
      "  File \"/opt/conda/lib/python3.7/multiprocessing/process.py\", line 99, in run\n",
      "    self._target(*self._args, **self._kwargs)\n",
      "  File \"/opt/conda/lib/python3.7/multiprocessing/pool.py\", line 121, in worker\n",
      "    result = (True, func(*args, **kwds))\n",
      "  File \"/tmp/ipykernel_3851/213037740.py\", line 21, in generate_dataset2\n",
      "    noise = False,\n",
      "  File \"/tmp/ipykernel_3851/835977016.py\", line 21, in generateImage\n",
      "    sensor.accumulate(photons, image)\n",
      "  File \"/opt/conda/lib/python3.7/site-packages/galsim/sensor.py\", line 326, in accumulate\n",
      "    resume)\n",
      "KeyboardInterrupt\n",
      "Process ForkPoolWorker-3149:\n",
      "Traceback (most recent call last):\n",
      "  File \"/opt/conda/lib/python3.7/multiprocessing/process.py\", line 297, in _bootstrap\n",
      "    self.run()\n",
      "  File \"/opt/conda/lib/python3.7/multiprocessing/process.py\", line 99, in run\n",
      "    self._target(*self._args, **self._kwargs)\n",
      "  File \"/opt/conda/lib/python3.7/multiprocessing/pool.py\", line 121, in worker\n",
      "    result = (True, func(*args, **kwds))\n",
      "  File \"/tmp/ipykernel_3851/213037740.py\", line 21, in generate_dataset2\n",
      "    noise = False,\n",
      "  File \"/tmp/ipykernel_3851/835977016.py\", line 21, in generateImage\n",
      "    sensor.accumulate(photons, image)\n",
      "  File \"/opt/conda/lib/python3.7/site-packages/galsim/sensor.py\", line 326, in accumulate\n",
      "    resume)\n",
      "KeyboardInterrupt\n",
      "Process ForkPoolWorker-3265:\n",
      "Traceback (most recent call last):\n",
      "  File \"/opt/conda/lib/python3.7/multiprocessing/process.py\", line 297, in _bootstrap\n",
      "    self.run()\n",
      "  File \"/opt/conda/lib/python3.7/multiprocessing/process.py\", line 99, in run\n",
      "    self._target(*self._args, **self._kwargs)\n",
      "  File \"/opt/conda/lib/python3.7/multiprocessing/pool.py\", line 121, in worker\n",
      "    result = (True, func(*args, **kwds))\n",
      "  File \"/tmp/ipykernel_3851/213037740.py\", line 21, in generate_dataset2\n",
      "    noise = False,\n",
      "  File \"/tmp/ipykernel_3851/835977016.py\", line 21, in generateImage\n",
      "    sensor.accumulate(photons, image)\n",
      "  File \"/opt/conda/lib/python3.7/site-packages/galsim/sensor.py\", line 326, in accumulate\n",
      "    resume)\n",
      "KeyboardInterrupt\n",
      "Process ForkPoolWorker-3252:\n",
      "Traceback (most recent call last):\n",
      "  File \"/opt/conda/lib/python3.7/multiprocessing/process.py\", line 297, in _bootstrap\n",
      "    self.run()\n",
      "  File \"/opt/conda/lib/python3.7/multiprocessing/process.py\", line 99, in run\n",
      "    self._target(*self._args, **self._kwargs)\n",
      "  File \"/opt/conda/lib/python3.7/multiprocessing/pool.py\", line 121, in worker\n",
      "    result = (True, func(*args, **kwds))\n",
      "  File \"/tmp/ipykernel_3851/213037740.py\", line 13, in generate_dataset2\n",
      "    traced_photons, wavelengths = trace.tracePhotons(args.name, args.num_phot, rng, observation, wavelength, args.atm, args.method, args.duration)\n",
      "  File \"/home/guillemmh/FOBs/trace_dataset.py\", line 28, in tracePhotons\n",
      "    frb_photons = frb_atm_psf.shoot(num_phot, rng)\n",
      "  File \"/opt/conda/lib/python3.7/site-packages/galsim/gsobject.py\", line 2406, in shoot\n",
      "    self._shoot(photons, rng)\n",
      "  File \"/opt/conda/lib/python3.7/site-packages/galsim/phase_psf.py\", line 1555, in _shoot\n",
      "    return self._ii._shoot(photons, rng)\n",
      "  File \"/opt/conda/lib/python3.7/site-packages/galsim/interpolatedimage.py\", line 688, in _shoot\n",
      "    self._sbp.shoot(photons._pa, rng._rng)\n",
      "KeyboardInterrupt\n",
      "Process ForkPoolWorker-3273:\n",
      "Traceback (most recent call last):\n",
      "  File \"/opt/conda/lib/python3.7/multiprocessing/process.py\", line 297, in _bootstrap\n",
      "    self.run()\n",
      "  File \"/opt/conda/lib/python3.7/multiprocessing/process.py\", line 99, in run\n",
      "    self._target(*self._args, **self._kwargs)\n",
      "  File \"/opt/conda/lib/python3.7/multiprocessing/pool.py\", line 121, in worker\n",
      "    result = (True, func(*args, **kwds))\n",
      "  File \"/tmp/ipykernel_3851/213037740.py\", line 21, in generate_dataset2\n",
      "    noise = False,\n",
      "  File \"/tmp/ipykernel_3851/835977016.py\", line 21, in generateImage\n",
      "    sensor.accumulate(photons, image)\n",
      "  File \"/opt/conda/lib/python3.7/site-packages/galsim/sensor.py\", line 326, in accumulate\n",
      "    resume)\n",
      "KeyboardInterrupt\n",
      "Process ForkPoolWorker-3153:\n",
      "KeyboardInterrupt\n",
      "Traceback (most recent call last):\n",
      "  File \"/opt/conda/lib/python3.7/multiprocessing/process.py\", line 297, in _bootstrap\n",
      "    self.run()\n",
      "  File \"/opt/conda/lib/python3.7/multiprocessing/process.py\", line 99, in run\n",
      "    self._target(*self._args, **self._kwargs)\n",
      "  File \"/opt/conda/lib/python3.7/multiprocessing/pool.py\", line 121, in worker\n",
      "    result = (True, func(*args, **kwds))\n",
      "  File \"/tmp/ipykernel_3851/213037740.py\", line 13, in generate_dataset2\n",
      "    traced_photons, wavelengths = trace.tracePhotons(args.name, args.num_phot, rng, observation, wavelength, args.atm, args.method, args.duration)\n",
      "  File \"/home/guillemmh/FOBs/trace_dataset.py\", line 28, in tracePhotons\n",
      "    frb_photons = frb_atm_psf.shoot(num_phot, rng)\n",
      "  File \"/opt/conda/lib/python3.7/site-packages/galsim/gsobject.py\", line 2406, in shoot\n",
      "    self._shoot(photons, rng)\n"
     ]
    },
    {
     "name": "stderr",
     "output_type": "stream",
     "text": [
      "  File \"/opt/conda/lib/python3.7/site-packages/galsim/phase_psf.py\", line 1555, in _shoot\n",
      "    return self._ii._shoot(photons, rng)\n",
      "  File \"/opt/conda/lib/python3.7/site-packages/galsim/interpolatedimage.py\", line 688, in _shoot\n",
      "    self._sbp.shoot(photons._pa, rng._rng)\n",
      "Process ForkPoolWorker-3175:\n",
      "Traceback (most recent call last):\n",
      "  File \"/opt/conda/lib/python3.7/multiprocessing/process.py\", line 297, in _bootstrap\n",
      "    self.run()\n",
      "Process ForkPoolWorker-3140:\n",
      "  File \"/opt/conda/lib/python3.7/multiprocessing/process.py\", line 99, in run\n",
      "    self._target(*self._args, **self._kwargs)\n",
      "Traceback (most recent call last):\n",
      "  File \"/opt/conda/lib/python3.7/multiprocessing/pool.py\", line 121, in worker\n",
      "    result = (True, func(*args, **kwds))\n",
      "  File \"/opt/conda/lib/python3.7/multiprocessing/process.py\", line 297, in _bootstrap\n",
      "    self.run()\n",
      "  File \"/tmp/ipykernel_3851/213037740.py\", line 21, in generate_dataset2\n",
      "    noise = False,\n",
      "  File \"/opt/conda/lib/python3.7/multiprocessing/process.py\", line 99, in run\n",
      "    self._target(*self._args, **self._kwargs)\n",
      "Process ForkPoolWorker-3154:\n",
      "Traceback (most recent call last):\n",
      "  File \"/tmp/ipykernel_3851/835977016.py\", line 21, in generateImage\n",
      "    sensor.accumulate(photons, image)\n",
      "  File \"/opt/conda/lib/python3.7/multiprocessing/pool.py\", line 121, in worker\n",
      "    result = (True, func(*args, **kwds))\n",
      "  File \"/opt/conda/lib/python3.7/multiprocessing/process.py\", line 297, in _bootstrap\n",
      "    self.run()\n",
      "  File \"/opt/conda/lib/python3.7/site-packages/galsim/sensor.py\", line 326, in accumulate\n",
      "    resume)\n",
      "  File \"/tmp/ipykernel_3851/213037740.py\", line 21, in generate_dataset2\n",
      "    noise = False,\n",
      "  File \"/opt/conda/lib/python3.7/multiprocessing/process.py\", line 99, in run\n",
      "    self._target(*self._args, **self._kwargs)\n",
      "  File \"/tmp/ipykernel_3851/835977016.py\", line 21, in generateImage\n",
      "    sensor.accumulate(photons, image)\n",
      "KeyboardInterrupt\n",
      "Process ForkPoolWorker-3176:\n",
      "  File \"/opt/conda/lib/python3.7/multiprocessing/pool.py\", line 121, in worker\n",
      "    result = (True, func(*args, **kwds))\n",
      "  File \"/opt/conda/lib/python3.7/site-packages/galsim/sensor.py\", line 326, in accumulate\n",
      "    resume)\n",
      "  File \"/tmp/ipykernel_3851/213037740.py\", line 21, in generate_dataset2\n",
      "    noise = False,\n",
      "Traceback (most recent call last):\n",
      "KeyboardInterrupt\n",
      "  File \"/opt/conda/lib/python3.7/multiprocessing/process.py\", line 297, in _bootstrap\n",
      "    self.run()\n",
      "  File \"/opt/conda/lib/python3.7/multiprocessing/process.py\", line 99, in run\n",
      "    self._target(*self._args, **self._kwargs)\n",
      "  File \"/opt/conda/lib/python3.7/multiprocessing/pool.py\", line 121, in worker\n",
      "    result = (True, func(*args, **kwds))\n",
      "  File \"/tmp/ipykernel_3851/213037740.py\", line 21, in generate_dataset2\n",
      "    noise = False,\n",
      "  File \"/tmp/ipykernel_3851/835977016.py\", line 21, in generateImage\n",
      "    sensor.accumulate(photons, image)\n",
      "  File \"/opt/conda/lib/python3.7/site-packages/galsim/sensor.py\", line 326, in accumulate\n",
      "    resume)\n",
      "KeyboardInterrupt\n",
      "  File \"/tmp/ipykernel_3851/835977016.py\", line 21, in generateImage\n",
      "    sensor.accumulate(photons, image)\n",
      "  File \"/opt/conda/lib/python3.7/site-packages/galsim/sensor.py\", line 326, in accumulate\n",
      "    resume)\n",
      "KeyboardInterrupt\n",
      "Process ForkPoolWorker-3246:\n",
      "Traceback (most recent call last):\n",
      "  File \"/opt/conda/lib/python3.7/multiprocessing/process.py\", line 297, in _bootstrap\n",
      "    self.run()\n",
      "  File \"/opt/conda/lib/python3.7/multiprocessing/process.py\", line 99, in run\n",
      "    self._target(*self._args, **self._kwargs)\n",
      "  File \"/opt/conda/lib/python3.7/multiprocessing/pool.py\", line 121, in worker\n",
      "    result = (True, func(*args, **kwds))\n",
      "  File \"/tmp/ipykernel_3851/213037740.py\", line 21, in generate_dataset2\n",
      "    noise = False,\n",
      "  File \"/tmp/ipykernel_3851/835977016.py\", line 21, in generateImage\n",
      "    sensor.accumulate(photons, image)\n",
      "  File \"/opt/conda/lib/python3.7/site-packages/galsim/sensor.py\", line 326, in accumulate\n",
      "    resume)\n",
      "KeyboardInterrupt\n",
      "Process ForkPoolWorker-3199:\n",
      "Traceback (most recent call last):\n",
      "  File \"/opt/conda/lib/python3.7/multiprocessing/process.py\", line 297, in _bootstrap\n",
      "    self.run()\n",
      "  File \"/opt/conda/lib/python3.7/multiprocessing/process.py\", line 99, in run\n",
      "    self._target(*self._args, **self._kwargs)\n",
      "  File \"/opt/conda/lib/python3.7/multiprocessing/pool.py\", line 121, in worker\n",
      "    result = (True, func(*args, **kwds))\n",
      "  File \"/tmp/ipykernel_3851/213037740.py\", line 13, in generate_dataset2\n",
      "    traced_photons, wavelengths = trace.tracePhotons(args.name, args.num_phot, rng, observation, wavelength, args.atm, args.method, args.duration)\n",
      "  File \"/home/guillemmh/FOBs/trace_dataset.py\", line 28, in tracePhotons\n",
      "    frb_photons = frb_atm_psf.shoot(num_phot, rng)\n",
      "  File \"/opt/conda/lib/python3.7/site-packages/galsim/gsobject.py\", line 2406, in shoot\n",
      "    self._shoot(photons, rng)\n",
      "  File \"/opt/conda/lib/python3.7/site-packages/galsim/phase_psf.py\", line 1555, in _shoot\n",
      "    return self._ii._shoot(photons, rng)\n",
      "KeyboardInterrupt\n",
      "  File \"/opt/conda/lib/python3.7/site-packages/galsim/interpolatedimage.py\", line 688, in _shoot\n",
      "    self._sbp.shoot(photons._pa, rng._rng)\n",
      "Process ForkPoolWorker-3203:\n",
      "Traceback (most recent call last):\n",
      "  File \"/opt/conda/lib/python3.7/multiprocessing/process.py\", line 297, in _bootstrap\n",
      "    self.run()\n",
      "  File \"/opt/conda/lib/python3.7/multiprocessing/process.py\", line 99, in run\n",
      "    self._target(*self._args, **self._kwargs)\n",
      "  File \"/opt/conda/lib/python3.7/multiprocessing/pool.py\", line 121, in worker\n",
      "    result = (True, func(*args, **kwds))\n",
      "  File \"/tmp/ipykernel_3851/213037740.py\", line 13, in generate_dataset2\n",
      "    traced_photons, wavelengths = trace.tracePhotons(args.name, args.num_phot, rng, observation, wavelength, args.atm, args.method, args.duration)\n",
      "  File \"/home/guillemmh/FOBs/trace_dataset.py\", line 28, in tracePhotons\n",
      "    frb_photons = frb_atm_psf.shoot(num_phot, rng)\n",
      "  File \"/opt/conda/lib/python3.7/site-packages/galsim/gsobject.py\", line 2406, in shoot\n",
      "    self._shoot(photons, rng)\n",
      "  File \"/opt/conda/lib/python3.7/site-packages/galsim/phase_psf.py\", line 1555, in _shoot\n",
      "    return self._ii._shoot(photons, rng)\n",
      "  File \"/opt/conda/lib/python3.7/site-packages/galsim/interpolatedimage.py\", line 688, in _shoot\n",
      "    self._sbp.shoot(photons._pa, rng._rng)\n",
      "KeyboardInterrupt\n",
      "Process ForkPoolWorker-3276:\n",
      "Process ForkPoolWorker-3186:\n",
      "Traceback (most recent call last):\n",
      "  File \"/opt/conda/lib/python3.7/multiprocessing/process.py\", line 297, in _bootstrap\n",
      "    self.run()\n",
      "Traceback (most recent call last):\n",
      "  File \"/opt/conda/lib/python3.7/multiprocessing/process.py\", line 99, in run\n",
      "    self._target(*self._args, **self._kwargs)\n",
      "  File \"/opt/conda/lib/python3.7/multiprocessing/pool.py\", line 121, in worker\n",
      "    result = (True, func(*args, **kwds))\n",
      "  File \"/tmp/ipykernel_3851/213037740.py\", line 21, in generate_dataset2\n",
      "    noise = False,\n",
      "  File \"/opt/conda/lib/python3.7/multiprocessing/process.py\", line 297, in _bootstrap\n",
      "    self.run()\n",
      "  File \"/tmp/ipykernel_3851/835977016.py\", line 21, in generateImage\n",
      "    sensor.accumulate(photons, image)\n",
      "  File \"/opt/conda/lib/python3.7/site-packages/galsim/sensor.py\", line 326, in accumulate\n",
      "    resume)\n",
      "  File \"/opt/conda/lib/python3.7/multiprocessing/process.py\", line 99, in run\n",
      "    self._target(*self._args, **self._kwargs)\n",
      "KeyboardInterrupt\n",
      "  File \"/opt/conda/lib/python3.7/multiprocessing/pool.py\", line 121, in worker\n",
      "    result = (True, func(*args, **kwds))\n",
      "  File \"/tmp/ipykernel_3851/213037740.py\", line 21, in generate_dataset2\n",
      "    noise = False,\n",
      "  File \"/tmp/ipykernel_3851/835977016.py\", line 21, in generateImage\n",
      "    sensor.accumulate(photons, image)\n",
      "  File \"/opt/conda/lib/python3.7/site-packages/galsim/sensor.py\", line 326, in accumulate\n",
      "    resume)\n",
      "KeyboardInterrupt\n",
      "Process ForkPoolWorker-3145:\n",
      "Traceback (most recent call last):\n",
      "  File \"/opt/conda/lib/python3.7/multiprocessing/process.py\", line 297, in _bootstrap\n",
      "    self.run()\n",
      "  File \"/opt/conda/lib/python3.7/multiprocessing/process.py\", line 99, in run\n",
      "    self._target(*self._args, **self._kwargs)\n",
      "  File \"/opt/conda/lib/python3.7/multiprocessing/pool.py\", line 121, in worker\n",
      "    result = (True, func(*args, **kwds))\n",
      "  File \"/tmp/ipykernel_3851/213037740.py\", line 21, in generate_dataset2\n",
      "    noise = False,\n",
      "  File \"/tmp/ipykernel_3851/835977016.py\", line 21, in generateImage\n",
      "    sensor.accumulate(photons, image)\n"
     ]
    },
    {
     "name": "stderr",
     "output_type": "stream",
     "text": [
      "  File \"/opt/conda/lib/python3.7/site-packages/galsim/sensor.py\", line 326, in accumulate\n",
      "    resume)\n",
      "KeyboardInterrupt\n",
      "Process ForkPoolWorker-3202:\n",
      "Traceback (most recent call last):\n",
      "  File \"/opt/conda/lib/python3.7/multiprocessing/process.py\", line 297, in _bootstrap\n",
      "    self.run()\n",
      "  File \"/opt/conda/lib/python3.7/multiprocessing/process.py\", line 99, in run\n",
      "    self._target(*self._args, **self._kwargs)\n",
      "  File \"/opt/conda/lib/python3.7/multiprocessing/pool.py\", line 121, in worker\n",
      "    result = (True, func(*args, **kwds))\n",
      "  File \"/tmp/ipykernel_3851/213037740.py\", line 21, in generate_dataset2\n",
      "    noise = False,\n",
      "  File \"/tmp/ipykernel_3851/835977016.py\", line 21, in generateImage\n",
      "    sensor.accumulate(photons, image)\n",
      "  File \"/opt/conda/lib/python3.7/site-packages/galsim/sensor.py\", line 326, in accumulate\n",
      "    resume)\n",
      "KeyboardInterrupt\n",
      "Process ForkPoolWorker-3218:\n",
      "Traceback (most recent call last):\n",
      "  File \"/opt/conda/lib/python3.7/multiprocessing/process.py\", line 297, in _bootstrap\n",
      "    self.run()\n",
      "  File \"/opt/conda/lib/python3.7/multiprocessing/process.py\", line 99, in run\n",
      "    self._target(*self._args, **self._kwargs)\n",
      "  File \"/opt/conda/lib/python3.7/multiprocessing/pool.py\", line 121, in worker\n",
      "    result = (True, func(*args, **kwds))\n",
      "  File \"/tmp/ipykernel_3851/213037740.py\", line 21, in generate_dataset2\n",
      "    noise = False,\n",
      "  File \"/tmp/ipykernel_3851/835977016.py\", line 21, in generateImage\n",
      "    sensor.accumulate(photons, image)\n",
      "  File \"/opt/conda/lib/python3.7/site-packages/galsim/sensor.py\", line 326, in accumulate\n",
      "    resume)\n",
      "KeyboardInterrupt\n",
      "Process ForkPoolWorker-3126:\n",
      "Traceback (most recent call last):\n",
      "  File \"/opt/conda/lib/python3.7/multiprocessing/process.py\", line 297, in _bootstrap\n",
      "    self.run()\n",
      "  File \"/opt/conda/lib/python3.7/multiprocessing/process.py\", line 99, in run\n",
      "    self._target(*self._args, **self._kwargs)\n",
      "  File \"/opt/conda/lib/python3.7/multiprocessing/pool.py\", line 121, in worker\n",
      "    result = (True, func(*args, **kwds))\n",
      "  File \"/tmp/ipykernel_3851/213037740.py\", line 21, in generate_dataset2\n",
      "    noise = False,\n",
      "  File \"/tmp/ipykernel_3851/835977016.py\", line 21, in generateImage\n",
      "    sensor.accumulate(photons, image)\n",
      "  File \"/opt/conda/lib/python3.7/site-packages/galsim/sensor.py\", line 326, in accumulate\n",
      "    resume)\n",
      "KeyboardInterrupt\n",
      "Process ForkPoolWorker-3132:\n",
      "Traceback (most recent call last):\n",
      "  File \"/opt/conda/lib/python3.7/multiprocessing/process.py\", line 297, in _bootstrap\n",
      "    self.run()\n",
      "  File \"/opt/conda/lib/python3.7/multiprocessing/process.py\", line 99, in run\n",
      "    self._target(*self._args, **self._kwargs)\n",
      "  File \"/opt/conda/lib/python3.7/multiprocessing/pool.py\", line 121, in worker\n",
      "    result = (True, func(*args, **kwds))\n",
      "  File \"/tmp/ipykernel_3851/213037740.py\", line 13, in generate_dataset2\n",
      "    traced_photons, wavelengths = trace.tracePhotons(args.name, args.num_phot, rng, observation, wavelength, args.atm, args.method, args.duration)\n",
      "  File \"/home/guillemmh/FOBs/trace_dataset.py\", line 28, in tracePhotons\n",
      "    frb_photons = frb_atm_psf.shoot(num_phot, rng)\n",
      "  File \"/opt/conda/lib/python3.7/site-packages/galsim/gsobject.py\", line 2406, in shoot\n",
      "    self._shoot(photons, rng)\n",
      "  File \"/opt/conda/lib/python3.7/site-packages/galsim/phase_psf.py\", line 1555, in _shoot\n",
      "    return self._ii._shoot(photons, rng)\n",
      "  File \"/opt/conda/lib/python3.7/site-packages/galsim/interpolatedimage.py\", line 688, in _shoot\n",
      "    self._sbp.shoot(photons._pa, rng._rng)\n",
      "KeyboardInterrupt\n",
      "Process ForkPoolWorker-3166:\n",
      "Traceback (most recent call last):\n",
      "  File \"/opt/conda/lib/python3.7/multiprocessing/process.py\", line 297, in _bootstrap\n",
      "    self.run()\n",
      "  File \"/opt/conda/lib/python3.7/multiprocessing/process.py\", line 99, in run\n",
      "    self._target(*self._args, **self._kwargs)\n",
      "  File \"/opt/conda/lib/python3.7/multiprocessing/pool.py\", line 121, in worker\n",
      "    result = (True, func(*args, **kwds))\n",
      "  File \"/tmp/ipykernel_3851/213037740.py\", line 21, in generate_dataset2\n",
      "    noise = False,\n",
      "  File \"/tmp/ipykernel_3851/835977016.py\", line 21, in generateImage\n",
      "    sensor.accumulate(photons, image)\n",
      "  File \"/opt/conda/lib/python3.7/site-packages/galsim/sensor.py\", line 326, in accumulate\n",
      "    resume)\n",
      "KeyboardInterrupt\n",
      "Process ForkPoolWorker-3165:\n",
      "Process ForkPoolWorker-3143:\n",
      "Traceback (most recent call last):\n",
      "  File \"/opt/conda/lib/python3.7/multiprocessing/process.py\", line 297, in _bootstrap\n",
      "    self.run()\n",
      "  File \"/opt/conda/lib/python3.7/multiprocessing/process.py\", line 99, in run\n",
      "    self._target(*self._args, **self._kwargs)\n",
      "  File \"/opt/conda/lib/python3.7/multiprocessing/pool.py\", line 121, in worker\n",
      "    result = (True, func(*args, **kwds))\n",
      "  File \"/tmp/ipykernel_3851/213037740.py\", line 21, in generate_dataset2\n",
      "    noise = False,\n",
      "  File \"/tmp/ipykernel_3851/835977016.py\", line 21, in generateImage\n",
      "    sensor.accumulate(photons, image)\n",
      "  File \"/opt/conda/lib/python3.7/site-packages/galsim/sensor.py\", line 326, in accumulate\n",
      "    resume)\n",
      "KeyboardInterrupt\n",
      "Traceback (most recent call last):\n",
      "  File \"/opt/conda/lib/python3.7/multiprocessing/process.py\", line 297, in _bootstrap\n",
      "    self.run()\n",
      "  File \"/opt/conda/lib/python3.7/multiprocessing/process.py\", line 99, in run\n",
      "    self._target(*self._args, **self._kwargs)\n",
      "  File \"/opt/conda/lib/python3.7/multiprocessing/pool.py\", line 121, in worker\n",
      "    result = (True, func(*args, **kwds))\n",
      "  File \"/tmp/ipykernel_3851/213037740.py\", line 21, in generate_dataset2\n",
      "    noise = False,\n",
      "  File \"/tmp/ipykernel_3851/835977016.py\", line 21, in generateImage\n",
      "    sensor.accumulate(photons, image)\n",
      "  File \"/opt/conda/lib/python3.7/site-packages/galsim/sensor.py\", line 326, in accumulate\n",
      "    resume)\n",
      "KeyboardInterrupt\n",
      "Process ForkPoolWorker-3257:\n",
      "Traceback (most recent call last):\n",
      "  File \"/opt/conda/lib/python3.7/multiprocessing/process.py\", line 297, in _bootstrap\n",
      "    self.run()\n",
      "  File \"/opt/conda/lib/python3.7/multiprocessing/process.py\", line 99, in run\n",
      "    self._target(*self._args, **self._kwargs)\n",
      "  File \"/opt/conda/lib/python3.7/multiprocessing/pool.py\", line 121, in worker\n",
      "    result = (True, func(*args, **kwds))\n",
      "  File \"/tmp/ipykernel_3851/213037740.py\", line 21, in generate_dataset2\n",
      "    noise = False,\n",
      "  File \"/tmp/ipykernel_3851/835977016.py\", line 21, in generateImage\n",
      "    sensor.accumulate(photons, image)\n",
      "  File \"/opt/conda/lib/python3.7/site-packages/galsim/sensor.py\", line 326, in accumulate\n",
      "    resume)\n",
      "KeyboardInterrupt\n",
      "Process ForkPoolWorker-3170:\n",
      "Process ForkPoolWorker-3188:\n",
      "Traceback (most recent call last):\n",
      "Traceback (most recent call last):\n",
      "  File \"/opt/conda/lib/python3.7/multiprocessing/process.py\", line 297, in _bootstrap\n",
      "    self.run()\n",
      "  File \"/opt/conda/lib/python3.7/multiprocessing/process.py\", line 297, in _bootstrap\n",
      "    self.run()\n",
      "  File \"/opt/conda/lib/python3.7/multiprocessing/process.py\", line 99, in run\n",
      "    self._target(*self._args, **self._kwargs)\n",
      "  File \"/opt/conda/lib/python3.7/multiprocessing/process.py\", line 99, in run\n",
      "    self._target(*self._args, **self._kwargs)\n",
      "  File \"/opt/conda/lib/python3.7/multiprocessing/pool.py\", line 121, in worker\n",
      "    result = (True, func(*args, **kwds))\n",
      "  File \"/opt/conda/lib/python3.7/multiprocessing/pool.py\", line 121, in worker\n",
      "    result = (True, func(*args, **kwds))\n",
      "  File \"/tmp/ipykernel_3851/213037740.py\", line 21, in generate_dataset2\n",
      "    noise = False,\n",
      "  File \"/tmp/ipykernel_3851/213037740.py\", line 21, in generate_dataset2\n",
      "    noise = False,\n",
      "  File \"/tmp/ipykernel_3851/835977016.py\", line 21, in generateImage\n",
      "    sensor.accumulate(photons, image)\n",
      "  File \"/opt/conda/lib/python3.7/site-packages/galsim/sensor.py\", line 326, in accumulate\n",
      "    resume)\n",
      "KeyboardInterrupt\n",
      "  File \"/tmp/ipykernel_3851/835977016.py\", line 21, in generateImage\n",
      "    sensor.accumulate(photons, image)\n",
      "  File \"/opt/conda/lib/python3.7/site-packages/galsim/sensor.py\", line 326, in accumulate\n",
      "    resume)\n",
      "KeyboardInterrupt\n",
      "Process ForkPoolWorker-3232:\n",
      "Traceback (most recent call last):\n",
      "  File \"/opt/conda/lib/python3.7/multiprocessing/process.py\", line 297, in _bootstrap\n",
      "    self.run()\n",
      "  File \"/opt/conda/lib/python3.7/multiprocessing/process.py\", line 99, in run\n",
      "    self._target(*self._args, **self._kwargs)\n",
      "  File \"/opt/conda/lib/python3.7/multiprocessing/pool.py\", line 121, in worker\n",
      "    result = (True, func(*args, **kwds))\n"
     ]
    },
    {
     "name": "stderr",
     "output_type": "stream",
     "text": [
      "  File \"/tmp/ipykernel_3851/213037740.py\", line 21, in generate_dataset2\n",
      "    noise = False,\n",
      "  File \"/tmp/ipykernel_3851/835977016.py\", line 21, in generateImage\n",
      "    sensor.accumulate(photons, image)\n",
      "  File \"/opt/conda/lib/python3.7/site-packages/galsim/sensor.py\", line 326, in accumulate\n",
      "    resume)\n",
      "KeyboardInterrupt\n",
      "Process ForkPoolWorker-3194:\n",
      "Traceback (most recent call last):\n",
      "  File \"/opt/conda/lib/python3.7/multiprocessing/process.py\", line 297, in _bootstrap\n",
      "    self.run()\n",
      "  File \"/opt/conda/lib/python3.7/multiprocessing/process.py\", line 99, in run\n",
      "    self._target(*self._args, **self._kwargs)\n",
      "  File \"/opt/conda/lib/python3.7/multiprocessing/pool.py\", line 121, in worker\n",
      "    result = (True, func(*args, **kwds))\n",
      "  File \"/tmp/ipykernel_3851/213037740.py\", line 13, in generate_dataset2\n",
      "    traced_photons, wavelengths = trace.tracePhotons(args.name, args.num_phot, rng, observation, wavelength, args.atm, args.method, args.duration)\n",
      "  File \"/home/guillemmh/FOBs/trace_dataset.py\", line 28, in tracePhotons\n",
      "    frb_photons = frb_atm_psf.shoot(num_phot, rng)\n",
      "  File \"/opt/conda/lib/python3.7/site-packages/galsim/gsobject.py\", line 2406, in shoot\n",
      "    self._shoot(photons, rng)\n",
      "  File \"/opt/conda/lib/python3.7/site-packages/galsim/phase_psf.py\", line 1555, in _shoot\n",
      "    return self._ii._shoot(photons, rng)\n",
      "  File \"/opt/conda/lib/python3.7/site-packages/galsim/interpolatedimage.py\", line 688, in _shoot\n",
      "    self._sbp.shoot(photons._pa, rng._rng)\n",
      "KeyboardInterrupt\n",
      "Process ForkPoolWorker-3253:\n",
      "Traceback (most recent call last):\n",
      "  File \"/opt/conda/lib/python3.7/multiprocessing/process.py\", line 297, in _bootstrap\n",
      "    self.run()\n",
      "  File \"/opt/conda/lib/python3.7/multiprocessing/process.py\", line 99, in run\n",
      "    self._target(*self._args, **self._kwargs)\n",
      "  File \"/opt/conda/lib/python3.7/multiprocessing/pool.py\", line 121, in worker\n",
      "    result = (True, func(*args, **kwds))\n",
      "  File \"/tmp/ipykernel_3851/213037740.py\", line 21, in generate_dataset2\n",
      "    noise = False,\n",
      "  File \"/tmp/ipykernel_3851/835977016.py\", line 21, in generateImage\n",
      "    sensor.accumulate(photons, image)\n",
      "  File \"/opt/conda/lib/python3.7/site-packages/galsim/sensor.py\", line 326, in accumulate\n",
      "    resume)\n",
      "KeyboardInterrupt\n",
      "Process ForkPoolWorker-3152:\n",
      "Traceback (most recent call last):\n",
      "  File \"/opt/conda/lib/python3.7/multiprocessing/process.py\", line 297, in _bootstrap\n",
      "    self.run()\n",
      "  File \"/opt/conda/lib/python3.7/multiprocessing/process.py\", line 99, in run\n",
      "    self._target(*self._args, **self._kwargs)\n",
      "  File \"/opt/conda/lib/python3.7/multiprocessing/pool.py\", line 121, in worker\n",
      "    result = (True, func(*args, **kwds))\n",
      "  File \"/tmp/ipykernel_3851/213037740.py\", line 21, in generate_dataset2\n",
      "    noise = False,\n",
      "  File \"/tmp/ipykernel_3851/835977016.py\", line 21, in generateImage\n",
      "    sensor.accumulate(photons, image)\n",
      "  File \"/opt/conda/lib/python3.7/site-packages/galsim/sensor.py\", line 326, in accumulate\n",
      "    resume)\n",
      "KeyboardInterrupt\n",
      "Process ForkPoolWorker-3207:\n",
      "Traceback (most recent call last):\n",
      "  File \"/opt/conda/lib/python3.7/multiprocessing/process.py\", line 297, in _bootstrap\n",
      "    self.run()\n",
      "  File \"/opt/conda/lib/python3.7/multiprocessing/process.py\", line 99, in run\n",
      "    self._target(*self._args, **self._kwargs)\n",
      "  File \"/opt/conda/lib/python3.7/multiprocessing/pool.py\", line 121, in worker\n",
      "    result = (True, func(*args, **kwds))\n",
      "  File \"/tmp/ipykernel_3851/213037740.py\", line 21, in generate_dataset2\n",
      "    noise = False,\n",
      "  File \"/tmp/ipykernel_3851/835977016.py\", line 21, in generateImage\n",
      "    sensor.accumulate(photons, image)\n",
      "  File \"/opt/conda/lib/python3.7/site-packages/galsim/sensor.py\", line 326, in accumulate\n",
      "    resume)\n",
      "KeyboardInterrupt\n",
      "Process ForkPoolWorker-3248:\n",
      "Traceback (most recent call last):\n",
      "  File \"/opt/conda/lib/python3.7/multiprocessing/process.py\", line 297, in _bootstrap\n",
      "    self.run()\n",
      "  File \"/opt/conda/lib/python3.7/multiprocessing/process.py\", line 99, in run\n",
      "    self._target(*self._args, **self._kwargs)\n",
      "  File \"/opt/conda/lib/python3.7/multiprocessing/pool.py\", line 121, in worker\n",
      "    result = (True, func(*args, **kwds))\n",
      "  File \"/tmp/ipykernel_3851/213037740.py\", line 21, in generate_dataset2\n",
      "    noise = False,\n",
      "  File \"/tmp/ipykernel_3851/835977016.py\", line 21, in generateImage\n",
      "    sensor.accumulate(photons, image)\n",
      "  File \"/opt/conda/lib/python3.7/site-packages/galsim/sensor.py\", line 326, in accumulate\n",
      "    resume)\n",
      "KeyboardInterrupt\n",
      "Process ForkPoolWorker-3259:\n",
      "Traceback (most recent call last):\n",
      "  File \"/opt/conda/lib/python3.7/multiprocessing/process.py\", line 297, in _bootstrap\n",
      "    self.run()\n",
      "  File \"/opt/conda/lib/python3.7/multiprocessing/process.py\", line 99, in run\n",
      "    self._target(*self._args, **self._kwargs)\n",
      "  File \"/opt/conda/lib/python3.7/multiprocessing/pool.py\", line 121, in worker\n",
      "    result = (True, func(*args, **kwds))\n",
      "  File \"/tmp/ipykernel_3851/213037740.py\", line 21, in generate_dataset2\n",
      "    noise = False,\n",
      "  File \"/tmp/ipykernel_3851/835977016.py\", line 21, in generateImage\n",
      "    sensor.accumulate(photons, image)\n",
      "  File \"/opt/conda/lib/python3.7/site-packages/galsim/sensor.py\", line 326, in accumulate\n",
      "    resume)\n",
      "KeyboardInterrupt\n",
      "Process ForkPoolWorker-3205:\n",
      "Traceback (most recent call last):\n",
      "  File \"/opt/conda/lib/python3.7/multiprocessing/process.py\", line 297, in _bootstrap\n",
      "    self.run()\n",
      "  File \"/opt/conda/lib/python3.7/multiprocessing/process.py\", line 99, in run\n",
      "    self._target(*self._args, **self._kwargs)\n",
      "  File \"/opt/conda/lib/python3.7/multiprocessing/pool.py\", line 121, in worker\n",
      "    result = (True, func(*args, **kwds))\n",
      "Process ForkPoolWorker-3219:\n",
      "  File \"/tmp/ipykernel_3851/213037740.py\", line 21, in generate_dataset2\n",
      "    noise = False,\n",
      "  File \"/tmp/ipykernel_3851/835977016.py\", line 21, in generateImage\n",
      "    sensor.accumulate(photons, image)\n",
      "  File \"/opt/conda/lib/python3.7/site-packages/galsim/sensor.py\", line 326, in accumulate\n",
      "    resume)\n",
      "KeyboardInterrupt\n",
      "Traceback (most recent call last):\n",
      "  File \"/opt/conda/lib/python3.7/multiprocessing/process.py\", line 297, in _bootstrap\n",
      "    self.run()\n",
      "  File \"/opt/conda/lib/python3.7/multiprocessing/process.py\", line 99, in run\n",
      "    self._target(*self._args, **self._kwargs)\n",
      "  File \"/opt/conda/lib/python3.7/multiprocessing/pool.py\", line 121, in worker\n",
      "    result = (True, func(*args, **kwds))\n",
      "  File \"/tmp/ipykernel_3851/213037740.py\", line 21, in generate_dataset2\n",
      "    noise = False,\n",
      "  File \"/tmp/ipykernel_3851/835977016.py\", line 21, in generateImage\n",
      "    sensor.accumulate(photons, image)\n",
      "  File \"/opt/conda/lib/python3.7/site-packages/galsim/sensor.py\", line 326, in accumulate\n",
      "    resume)\n",
      "KeyboardInterrupt\n",
      "Process ForkPoolWorker-3245:\n",
      "Traceback (most recent call last):\n",
      "  File \"/opt/conda/lib/python3.7/multiprocessing/process.py\", line 297, in _bootstrap\n",
      "    self.run()\n",
      "  File \"/opt/conda/lib/python3.7/multiprocessing/process.py\", line 99, in run\n",
      "    self._target(*self._args, **self._kwargs)\n",
      "  File \"/opt/conda/lib/python3.7/multiprocessing/pool.py\", line 121, in worker\n",
      "    result = (True, func(*args, **kwds))\n",
      "  File \"/tmp/ipykernel_3851/213037740.py\", line 21, in generate_dataset2\n",
      "    noise = False,\n",
      "  File \"/tmp/ipykernel_3851/835977016.py\", line 21, in generateImage\n",
      "    sensor.accumulate(photons, image)\n",
      "  File \"/opt/conda/lib/python3.7/site-packages/galsim/sensor.py\", line 326, in accumulate\n",
      "    resume)\n",
      "KeyboardInterrupt\n",
      "Process ForkPoolWorker-3241:\n",
      "Traceback (most recent call last):\n",
      "  File \"/opt/conda/lib/python3.7/multiprocessing/process.py\", line 297, in _bootstrap\n",
      "    self.run()\n",
      "  File \"/opt/conda/lib/python3.7/multiprocessing/process.py\", line 99, in run\n",
      "    self._target(*self._args, **self._kwargs)\n",
      "  File \"/opt/conda/lib/python3.7/multiprocessing/pool.py\", line 121, in worker\n",
      "    result = (True, func(*args, **kwds))\n",
      "  File \"/tmp/ipykernel_3851/213037740.py\", line 21, in generate_dataset2\n",
      "    noise = False,\n",
      "  File \"/tmp/ipykernel_3851/835977016.py\", line 21, in generateImage\n",
      "    sensor.accumulate(photons, image)\n",
      "  File \"/opt/conda/lib/python3.7/site-packages/galsim/sensor.py\", line 326, in accumulate\n",
      "    resume)\n",
      "KeyboardInterrupt\n",
      "Process ForkPoolWorker-3147:\n",
      "Traceback (most recent call last):\n",
      "  File \"/opt/conda/lib/python3.7/multiprocessing/process.py\", line 297, in _bootstrap\n",
      "    self.run()\n"
     ]
    },
    {
     "name": "stderr",
     "output_type": "stream",
     "text": [
      "  File \"/opt/conda/lib/python3.7/multiprocessing/process.py\", line 99, in run\n",
      "    self._target(*self._args, **self._kwargs)\n",
      "  File \"/opt/conda/lib/python3.7/multiprocessing/pool.py\", line 121, in worker\n",
      "    result = (True, func(*args, **kwds))\n",
      "  File \"/tmp/ipykernel_3851/213037740.py\", line 21, in generate_dataset2\n",
      "    noise = False,\n",
      "  File \"/tmp/ipykernel_3851/835977016.py\", line 21, in generateImage\n",
      "    sensor.accumulate(photons, image)\n",
      "  File \"/opt/conda/lib/python3.7/site-packages/galsim/sensor.py\", line 326, in accumulate\n",
      "    resume)\n",
      "KeyboardInterrupt\n",
      "Process ForkPoolWorker-3266:\n",
      "Traceback (most recent call last):\n",
      "Process ForkPoolWorker-3201:\n",
      "  File \"/opt/conda/lib/python3.7/multiprocessing/process.py\", line 297, in _bootstrap\n",
      "    self.run()\n",
      "  File \"/opt/conda/lib/python3.7/multiprocessing/process.py\", line 99, in run\n",
      "    self._target(*self._args, **self._kwargs)\n",
      "  File \"/opt/conda/lib/python3.7/multiprocessing/pool.py\", line 121, in worker\n",
      "    result = (True, func(*args, **kwds))\n",
      "  File \"/tmp/ipykernel_3851/213037740.py\", line 21, in generate_dataset2\n",
      "    noise = False,\n",
      "  File \"/tmp/ipykernel_3851/835977016.py\", line 21, in generateImage\n",
      "    sensor.accumulate(photons, image)\n",
      "  File \"/opt/conda/lib/python3.7/site-packages/galsim/sensor.py\", line 326, in accumulate\n",
      "    resume)\n",
      "KeyboardInterrupt\n",
      "Traceback (most recent call last):\n",
      "  File \"/opt/conda/lib/python3.7/multiprocessing/process.py\", line 297, in _bootstrap\n",
      "    self.run()\n",
      "  File \"/opt/conda/lib/python3.7/multiprocessing/process.py\", line 99, in run\n",
      "    self._target(*self._args, **self._kwargs)\n",
      "  File \"/opt/conda/lib/python3.7/multiprocessing/pool.py\", line 121, in worker\n",
      "    result = (True, func(*args, **kwds))\n",
      "  File \"/tmp/ipykernel_3851/213037740.py\", line 21, in generate_dataset2\n",
      "    noise = False,\n",
      "  File \"/tmp/ipykernel_3851/835977016.py\", line 21, in generateImage\n",
      "    sensor.accumulate(photons, image)\n",
      "  File \"/opt/conda/lib/python3.7/site-packages/galsim/sensor.py\", line 326, in accumulate\n",
      "    resume)\n",
      "KeyboardInterrupt\n",
      "Process ForkPoolWorker-3172:\n",
      "Traceback (most recent call last):\n",
      "  File \"/opt/conda/lib/python3.7/multiprocessing/process.py\", line 297, in _bootstrap\n",
      "    self.run()\n",
      "  File \"/opt/conda/lib/python3.7/multiprocessing/process.py\", line 99, in run\n",
      "    self._target(*self._args, **self._kwargs)\n",
      "  File \"/opt/conda/lib/python3.7/multiprocessing/pool.py\", line 121, in worker\n",
      "    result = (True, func(*args, **kwds))\n",
      "  File \"/tmp/ipykernel_3851/213037740.py\", line 21, in generate_dataset2\n",
      "    noise = False,\n",
      "  File \"/tmp/ipykernel_3851/835977016.py\", line 21, in generateImage\n",
      "    sensor.accumulate(photons, image)\n",
      "  File \"/opt/conda/lib/python3.7/site-packages/galsim/sensor.py\", line 326, in accumulate\n",
      "    resume)\n",
      "KeyboardInterrupt\n",
      "Process ForkPoolWorker-3121:\n",
      "Traceback (most recent call last):\n",
      "  File \"/opt/conda/lib/python3.7/multiprocessing/process.py\", line 297, in _bootstrap\n",
      "    self.run()\n",
      "  File \"/opt/conda/lib/python3.7/multiprocessing/process.py\", line 99, in run\n",
      "    self._target(*self._args, **self._kwargs)\n",
      "  File \"/opt/conda/lib/python3.7/multiprocessing/pool.py\", line 121, in worker\n",
      "    result = (True, func(*args, **kwds))\n",
      "  File \"/tmp/ipykernel_3851/213037740.py\", line 21, in generate_dataset2\n",
      "    noise = False,\n",
      "  File \"/tmp/ipykernel_3851/835977016.py\", line 21, in generateImage\n",
      "    sensor.accumulate(photons, image)\n",
      "  File \"/opt/conda/lib/python3.7/site-packages/galsim/sensor.py\", line 326, in accumulate\n",
      "    resume)\n",
      "KeyboardInterrupt\n",
      "Process ForkPoolWorker-3148:\n",
      "Traceback (most recent call last):\n",
      "  File \"/opt/conda/lib/python3.7/multiprocessing/process.py\", line 297, in _bootstrap\n",
      "    self.run()\n",
      "  File \"/opt/conda/lib/python3.7/multiprocessing/process.py\", line 99, in run\n",
      "    self._target(*self._args, **self._kwargs)\n",
      "  File \"/opt/conda/lib/python3.7/multiprocessing/pool.py\", line 121, in worker\n",
      "    result = (True, func(*args, **kwds))\n",
      "  File \"/tmp/ipykernel_3851/213037740.py\", line 21, in generate_dataset2\n",
      "    noise = False,\n",
      "  File \"/tmp/ipykernel_3851/835977016.py\", line 21, in generateImage\n",
      "    sensor.accumulate(photons, image)\n",
      "  File \"/opt/conda/lib/python3.7/site-packages/galsim/sensor.py\", line 326, in accumulate\n",
      "    resume)\n",
      "KeyboardInterrupt\n",
      "Process ForkPoolWorker-3233:\n",
      "Process ForkPoolWorker-3242:\n",
      "Traceback (most recent call last):\n",
      "Traceback (most recent call last):\n",
      "  File \"/opt/conda/lib/python3.7/multiprocessing/process.py\", line 297, in _bootstrap\n",
      "    self.run()\n",
      "  File \"/opt/conda/lib/python3.7/multiprocessing/process.py\", line 297, in _bootstrap\n",
      "    self.run()\n",
      "  File \"/opt/conda/lib/python3.7/multiprocessing/process.py\", line 99, in run\n",
      "    self._target(*self._args, **self._kwargs)\n",
      "  File \"/opt/conda/lib/python3.7/multiprocessing/process.py\", line 99, in run\n",
      "    self._target(*self._args, **self._kwargs)\n",
      "  File \"/opt/conda/lib/python3.7/multiprocessing/pool.py\", line 121, in worker\n",
      "    result = (True, func(*args, **kwds))\n",
      "  File \"/opt/conda/lib/python3.7/multiprocessing/pool.py\", line 121, in worker\n",
      "    result = (True, func(*args, **kwds))\n",
      "  File \"/tmp/ipykernel_3851/213037740.py\", line 21, in generate_dataset2\n",
      "    noise = False,\n",
      "  File \"/tmp/ipykernel_3851/213037740.py\", line 21, in generate_dataset2\n",
      "    noise = False,\n",
      "  File \"/tmp/ipykernel_3851/835977016.py\", line 21, in generateImage\n",
      "    sensor.accumulate(photons, image)\n",
      "  File \"/tmp/ipykernel_3851/835977016.py\", line 21, in generateImage\n",
      "    sensor.accumulate(photons, image)\n",
      "  File \"/opt/conda/lib/python3.7/site-packages/galsim/sensor.py\", line 326, in accumulate\n",
      "    resume)\n",
      "  File \"/opt/conda/lib/python3.7/site-packages/galsim/sensor.py\", line 326, in accumulate\n",
      "    resume)\n",
      "KeyboardInterrupt\n",
      "KeyboardInterrupt\n",
      "Process ForkPoolWorker-3263:\n",
      "Traceback (most recent call last):\n",
      "  File \"/opt/conda/lib/python3.7/multiprocessing/process.py\", line 297, in _bootstrap\n",
      "    self.run()\n",
      "  File \"/opt/conda/lib/python3.7/multiprocessing/process.py\", line 99, in run\n",
      "    self._target(*self._args, **self._kwargs)\n",
      "  File \"/opt/conda/lib/python3.7/multiprocessing/pool.py\", line 121, in worker\n",
      "    result = (True, func(*args, **kwds))\n",
      "  File \"/tmp/ipykernel_3851/213037740.py\", line 21, in generate_dataset2\n",
      "    noise = False,\n",
      "  File \"/tmp/ipykernel_3851/835977016.py\", line 21, in generateImage\n",
      "    sensor.accumulate(photons, image)\n",
      "  File \"/opt/conda/lib/python3.7/site-packages/galsim/sensor.py\", line 326, in accumulate\n",
      "    resume)\n",
      "KeyboardInterrupt\n",
      "Process ForkPoolWorker-3236:\n",
      "Traceback (most recent call last):\n",
      "  File \"/opt/conda/lib/python3.7/multiprocessing/process.py\", line 297, in _bootstrap\n",
      "    self.run()\n",
      "  File \"/opt/conda/lib/python3.7/multiprocessing/process.py\", line 99, in run\n",
      "    self._target(*self._args, **self._kwargs)\n",
      "  File \"/opt/conda/lib/python3.7/multiprocessing/pool.py\", line 121, in worker\n",
      "    result = (True, func(*args, **kwds))\n",
      "  File \"/tmp/ipykernel_3851/213037740.py\", line 21, in generate_dataset2\n",
      "    noise = False,\n",
      "  File \"/tmp/ipykernel_3851/835977016.py\", line 21, in generateImage\n",
      "    sensor.accumulate(photons, image)\n",
      "  File \"/opt/conda/lib/python3.7/site-packages/galsim/sensor.py\", line 326, in accumulate\n",
      "    resume)\n",
      "KeyboardInterrupt\n",
      "Process ForkPoolWorker-3182:\n",
      "Process ForkPoolWorker-3258:\n",
      "Traceback (most recent call last):\n",
      "Traceback (most recent call last):\n",
      "  File \"/opt/conda/lib/python3.7/multiprocessing/process.py\", line 297, in _bootstrap\n",
      "    self.run()\n",
      "  File \"/opt/conda/lib/python3.7/multiprocessing/process.py\", line 297, in _bootstrap\n",
      "    self.run()\n",
      "  File \"/opt/conda/lib/python3.7/multiprocessing/process.py\", line 99, in run\n",
      "    self._target(*self._args, **self._kwargs)\n",
      "  File \"/opt/conda/lib/python3.7/multiprocessing/process.py\", line 99, in run\n",
      "    self._target(*self._args, **self._kwargs)\n",
      "  File \"/opt/conda/lib/python3.7/multiprocessing/pool.py\", line 121, in worker\n",
      "    result = (True, func(*args, **kwds))\n",
      "  File \"/opt/conda/lib/python3.7/multiprocessing/pool.py\", line 121, in worker\n",
      "    result = (True, func(*args, **kwds))\n",
      "  File \"/tmp/ipykernel_3851/213037740.py\", line 21, in generate_dataset2\n",
      "    noise = False,\n",
      "  File \"/tmp/ipykernel_3851/835977016.py\", line 21, in generateImage\n",
      "    sensor.accumulate(photons, image)\n",
      "  File \"/opt/conda/lib/python3.7/site-packages/galsim/sensor.py\", line 326, in accumulate\n",
      "    resume)\n"
     ]
    },
    {
     "name": "stderr",
     "output_type": "stream",
     "text": [
      "  File \"/tmp/ipykernel_3851/213037740.py\", line 21, in generate_dataset2\n",
      "    noise = False,\n",
      "KeyboardInterrupt\n",
      "  File \"/tmp/ipykernel_3851/835977016.py\", line 21, in generateImage\n",
      "    sensor.accumulate(photons, image)\n",
      "  File \"/opt/conda/lib/python3.7/site-packages/galsim/sensor.py\", line 326, in accumulate\n",
      "    resume)\n",
      "KeyboardInterrupt\n",
      "Process ForkPoolWorker-3268:\n",
      "Traceback (most recent call last):\n",
      "  File \"/opt/conda/lib/python3.7/multiprocessing/process.py\", line 297, in _bootstrap\n",
      "    self.run()\n",
      "  File \"/opt/conda/lib/python3.7/multiprocessing/process.py\", line 99, in run\n",
      "    self._target(*self._args, **self._kwargs)\n",
      "  File \"/opt/conda/lib/python3.7/multiprocessing/pool.py\", line 121, in worker\n",
      "    result = (True, func(*args, **kwds))\n",
      "  File \"/tmp/ipykernel_3851/213037740.py\", line 21, in generate_dataset2\n",
      "    noise = False,\n",
      "  File \"/tmp/ipykernel_3851/835977016.py\", line 21, in generateImage\n",
      "    sensor.accumulate(photons, image)\n",
      "  File \"/opt/conda/lib/python3.7/site-packages/galsim/sensor.py\", line 326, in accumulate\n",
      "    resume)\n",
      "KeyboardInterrupt\n",
      "Process ForkPoolWorker-3185:\n",
      "Process ForkPoolWorker-3221:\n",
      "Traceback (most recent call last):\n",
      "  File \"/opt/conda/lib/python3.7/multiprocessing/process.py\", line 297, in _bootstrap\n",
      "    self.run()\n",
      "  File \"/opt/conda/lib/python3.7/multiprocessing/process.py\", line 99, in run\n",
      "    self._target(*self._args, **self._kwargs)\n",
      "  File \"/opt/conda/lib/python3.7/multiprocessing/pool.py\", line 121, in worker\n",
      "    result = (True, func(*args, **kwds))\n",
      "Traceback (most recent call last):\n",
      "  File \"/tmp/ipykernel_3851/213037740.py\", line 21, in generate_dataset2\n",
      "    noise = False,\n",
      "  File \"/opt/conda/lib/python3.7/multiprocessing/process.py\", line 297, in _bootstrap\n",
      "    self.run()\n",
      "  File \"/tmp/ipykernel_3851/835977016.py\", line 21, in generateImage\n",
      "    sensor.accumulate(photons, image)\n",
      "  File \"/opt/conda/lib/python3.7/multiprocessing/process.py\", line 99, in run\n",
      "    self._target(*self._args, **self._kwargs)\n",
      "  File \"/opt/conda/lib/python3.7/site-packages/galsim/sensor.py\", line 326, in accumulate\n",
      "    resume)\n",
      "  File \"/opt/conda/lib/python3.7/multiprocessing/pool.py\", line 121, in worker\n",
      "    result = (True, func(*args, **kwds))\n",
      "KeyboardInterrupt\n",
      "  File \"/tmp/ipykernel_3851/213037740.py\", line 21, in generate_dataset2\n",
      "    noise = False,\n",
      "  File \"/tmp/ipykernel_3851/835977016.py\", line 21, in generateImage\n",
      "    sensor.accumulate(photons, image)\n",
      "  File \"/opt/conda/lib/python3.7/site-packages/galsim/sensor.py\", line 326, in accumulate\n",
      "    resume)\n",
      "KeyboardInterrupt\n",
      "Process ForkPoolWorker-3141:\n",
      "Traceback (most recent call last):\n",
      "  File \"/opt/conda/lib/python3.7/multiprocessing/process.py\", line 297, in _bootstrap\n",
      "    self.run()\n",
      "  File \"/opt/conda/lib/python3.7/multiprocessing/process.py\", line 99, in run\n",
      "    self._target(*self._args, **self._kwargs)\n",
      "  File \"/opt/conda/lib/python3.7/multiprocessing/pool.py\", line 121, in worker\n",
      "    result = (True, func(*args, **kwds))\n",
      "  File \"/tmp/ipykernel_3851/213037740.py\", line 21, in generate_dataset2\n",
      "    noise = False,\n",
      "  File \"/tmp/ipykernel_3851/835977016.py\", line 21, in generateImage\n",
      "    sensor.accumulate(photons, image)\n",
      "  File \"/opt/conda/lib/python3.7/site-packages/galsim/sensor.py\", line 326, in accumulate\n",
      "    resume)\n",
      "KeyboardInterrupt\n",
      "Process ForkPoolWorker-3161:\n",
      "Traceback (most recent call last):\n",
      "  File \"/opt/conda/lib/python3.7/multiprocessing/process.py\", line 297, in _bootstrap\n",
      "    self.run()\n",
      "  File \"/opt/conda/lib/python3.7/multiprocessing/process.py\", line 99, in run\n",
      "    self._target(*self._args, **self._kwargs)\n",
      "  File \"/opt/conda/lib/python3.7/multiprocessing/pool.py\", line 121, in worker\n",
      "    result = (True, func(*args, **kwds))\n",
      "  File \"/tmp/ipykernel_3851/213037740.py\", line 21, in generate_dataset2\n",
      "    noise = False,\n",
      "  File \"/tmp/ipykernel_3851/835977016.py\", line 21, in generateImage\n",
      "    sensor.accumulate(photons, image)\n",
      "  File \"/opt/conda/lib/python3.7/site-packages/galsim/sensor.py\", line 326, in accumulate\n",
      "    resume)\n",
      "KeyboardInterrupt\n",
      "Process ForkPoolWorker-3274:\n",
      "Traceback (most recent call last):\n",
      "  File \"/opt/conda/lib/python3.7/multiprocessing/process.py\", line 297, in _bootstrap\n",
      "    self.run()\n",
      "  File \"/opt/conda/lib/python3.7/multiprocessing/process.py\", line 99, in run\n",
      "    self._target(*self._args, **self._kwargs)\n",
      "  File \"/opt/conda/lib/python3.7/multiprocessing/pool.py\", line 121, in worker\n",
      "    result = (True, func(*args, **kwds))\n",
      "  File \"/tmp/ipykernel_3851/213037740.py\", line 21, in generate_dataset2\n",
      "    noise = False,\n",
      "  File \"/tmp/ipykernel_3851/835977016.py\", line 21, in generateImage\n",
      "    sensor.accumulate(photons, image)\n",
      "  File \"/opt/conda/lib/python3.7/site-packages/galsim/sensor.py\", line 326, in accumulate\n",
      "    resume)\n",
      "KeyboardInterrupt\n",
      "Process ForkPoolWorker-3195:\n",
      "Traceback (most recent call last):\n",
      "  File \"/opt/conda/lib/python3.7/multiprocessing/process.py\", line 297, in _bootstrap\n",
      "    self.run()\n",
      "  File \"/opt/conda/lib/python3.7/multiprocessing/process.py\", line 99, in run\n",
      "    self._target(*self._args, **self._kwargs)\n",
      "  File \"/opt/conda/lib/python3.7/multiprocessing/pool.py\", line 121, in worker\n",
      "    result = (True, func(*args, **kwds))\n",
      "  File \"/tmp/ipykernel_3851/213037740.py\", line 21, in generate_dataset2\n",
      "    noise = False,\n",
      "  File \"/tmp/ipykernel_3851/835977016.py\", line 21, in generateImage\n",
      "    sensor.accumulate(photons, image)\n",
      "  File \"/opt/conda/lib/python3.7/site-packages/galsim/sensor.py\", line 326, in accumulate\n",
      "    resume)\n",
      "KeyboardInterrupt\n",
      "Process ForkPoolWorker-3224:\n",
      "Traceback (most recent call last):\n",
      "  File \"/opt/conda/lib/python3.7/multiprocessing/process.py\", line 297, in _bootstrap\n",
      "    self.run()\n",
      "  File \"/opt/conda/lib/python3.7/multiprocessing/process.py\", line 99, in run\n",
      "    self._target(*self._args, **self._kwargs)\n",
      "  File \"/opt/conda/lib/python3.7/multiprocessing/pool.py\", line 121, in worker\n",
      "    result = (True, func(*args, **kwds))\n",
      "  File \"/tmp/ipykernel_3851/213037740.py\", line 21, in generate_dataset2\n",
      "    noise = False,\n",
      "  File \"/tmp/ipykernel_3851/835977016.py\", line 21, in generateImage\n",
      "    sensor.accumulate(photons, image)\n",
      "  File \"/opt/conda/lib/python3.7/site-packages/galsim/sensor.py\", line 326, in accumulate\n",
      "    resume)\n",
      "KeyboardInterrupt\n",
      "Process ForkPoolWorker-3137:\n",
      "Traceback (most recent call last):\n",
      "  File \"/opt/conda/lib/python3.7/multiprocessing/process.py\", line 297, in _bootstrap\n",
      "    self.run()\n",
      "  File \"/opt/conda/lib/python3.7/multiprocessing/process.py\", line 99, in run\n",
      "    self._target(*self._args, **self._kwargs)\n",
      "  File \"/opt/conda/lib/python3.7/multiprocessing/pool.py\", line 121, in worker\n",
      "    result = (True, func(*args, **kwds))\n",
      "  File \"/tmp/ipykernel_3851/213037740.py\", line 21, in generate_dataset2\n",
      "    noise = False,\n",
      "  File \"/tmp/ipykernel_3851/835977016.py\", line 21, in generateImage\n",
      "    sensor.accumulate(photons, image)\n",
      "  File \"/opt/conda/lib/python3.7/site-packages/galsim/sensor.py\", line 326, in accumulate\n",
      "    resume)\n",
      "KeyboardInterrupt\n",
      "Process ForkPoolWorker-3133:\n",
      "Traceback (most recent call last):\n",
      "  File \"/opt/conda/lib/python3.7/multiprocessing/process.py\", line 297, in _bootstrap\n",
      "    self.run()\n",
      "  File \"/opt/conda/lib/python3.7/multiprocessing/process.py\", line 99, in run\n",
      "    self._target(*self._args, **self._kwargs)\n",
      "  File \"/opt/conda/lib/python3.7/multiprocessing/pool.py\", line 121, in worker\n",
      "    result = (True, func(*args, **kwds))\n",
      "  File \"/tmp/ipykernel_3851/213037740.py\", line 21, in generate_dataset2\n",
      "    noise = False,\n",
      "  File \"/tmp/ipykernel_3851/835977016.py\", line 21, in generateImage\n",
      "    sensor.accumulate(photons, image)\n",
      "  File \"/opt/conda/lib/python3.7/site-packages/galsim/sensor.py\", line 326, in accumulate\n",
      "    resume)\n",
      "KeyboardInterrupt\n",
      "Process ForkPoolWorker-3267:\n",
      "Process ForkPoolWorker-3215:\n",
      "Traceback (most recent call last):\n",
      "  File \"/opt/conda/lib/python3.7/multiprocessing/process.py\", line 297, in _bootstrap\n",
      "    self.run()\n",
      "Traceback (most recent call last):\n",
      "Process ForkPoolWorker-3226:\n",
      "  File \"/opt/conda/lib/python3.7/multiprocessing/process.py\", line 99, in run\n",
      "    self._target(*self._args, **self._kwargs)\n",
      "  File \"/opt/conda/lib/python3.7/multiprocessing/process.py\", line 297, in _bootstrap\n",
      "    self.run()\n",
      "  File \"/opt/conda/lib/python3.7/multiprocessing/pool.py\", line 121, in worker\n",
      "    result = (True, func(*args, **kwds))\n"
     ]
    },
    {
     "name": "stderr",
     "output_type": "stream",
     "text": [
      "  File \"/opt/conda/lib/python3.7/multiprocessing/process.py\", line 99, in run\n",
      "    self._target(*self._args, **self._kwargs)\n",
      "  File \"/tmp/ipykernel_3851/213037740.py\", line 21, in generate_dataset2\n",
      "    noise = False,\n",
      "  File \"/tmp/ipykernel_3851/835977016.py\", line 21, in generateImage\n",
      "    sensor.accumulate(photons, image)\n",
      "  File \"/opt/conda/lib/python3.7/multiprocessing/pool.py\", line 121, in worker\n",
      "    result = (True, func(*args, **kwds))\n",
      "Traceback (most recent call last):\n",
      "  File \"/opt/conda/lib/python3.7/site-packages/galsim/sensor.py\", line 326, in accumulate\n",
      "    resume)\n",
      "  File \"/tmp/ipykernel_3851/213037740.py\", line 21, in generate_dataset2\n",
      "    noise = False,\n",
      "KeyboardInterrupt\n",
      "  File \"/tmp/ipykernel_3851/835977016.py\", line 21, in generateImage\n",
      "    sensor.accumulate(photons, image)\n",
      "  File \"/opt/conda/lib/python3.7/site-packages/galsim/sensor.py\", line 326, in accumulate\n",
      "    resume)\n",
      "KeyboardInterrupt\n",
      "Process ForkPoolWorker-3238:\n",
      "Traceback (most recent call last):\n",
      "  File \"/opt/conda/lib/python3.7/multiprocessing/process.py\", line 297, in _bootstrap\n",
      "    self.run()\n",
      "  File \"/opt/conda/lib/python3.7/multiprocessing/process.py\", line 99, in run\n",
      "    self._target(*self._args, **self._kwargs)\n",
      "  File \"/opt/conda/lib/python3.7/multiprocessing/pool.py\", line 121, in worker\n",
      "    result = (True, func(*args, **kwds))\n",
      "  File \"/tmp/ipykernel_3851/213037740.py\", line 21, in generate_dataset2\n",
      "    noise = False,\n",
      "  File \"/tmp/ipykernel_3851/835977016.py\", line 21, in generateImage\n",
      "    sensor.accumulate(photons, image)\n",
      "  File \"/opt/conda/lib/python3.7/site-packages/galsim/sensor.py\", line 326, in accumulate\n",
      "    resume)\n",
      "  File \"/opt/conda/lib/python3.7/multiprocessing/process.py\", line 297, in _bootstrap\n",
      "    self.run()\n",
      "KeyboardInterrupt\n",
      "  File \"/opt/conda/lib/python3.7/multiprocessing/process.py\", line 99, in run\n",
      "    self._target(*self._args, **self._kwargs)\n",
      "  File \"/opt/conda/lib/python3.7/multiprocessing/pool.py\", line 121, in worker\n",
      "    result = (True, func(*args, **kwds))\n",
      "  File \"/tmp/ipykernel_3851/213037740.py\", line 21, in generate_dataset2\n",
      "    noise = False,\n",
      "  File \"/tmp/ipykernel_3851/835977016.py\", line 21, in generateImage\n",
      "    sensor.accumulate(photons, image)\n",
      "  File \"/opt/conda/lib/python3.7/site-packages/galsim/sensor.py\", line 326, in accumulate\n",
      "    resume)\n",
      "KeyboardInterrupt\n",
      "Process ForkPoolWorker-3275:\n",
      "Traceback (most recent call last):\n",
      "  File \"/opt/conda/lib/python3.7/multiprocessing/process.py\", line 297, in _bootstrap\n",
      "    self.run()\n",
      "  File \"/opt/conda/lib/python3.7/multiprocessing/process.py\", line 99, in run\n",
      "    self._target(*self._args, **self._kwargs)\n",
      "  File \"/opt/conda/lib/python3.7/multiprocessing/pool.py\", line 121, in worker\n",
      "    result = (True, func(*args, **kwds))\n",
      "  File \"/tmp/ipykernel_3851/213037740.py\", line 21, in generate_dataset2\n",
      "    noise = False,\n",
      "  File \"/tmp/ipykernel_3851/835977016.py\", line 21, in generateImage\n",
      "    sensor.accumulate(photons, image)\n",
      "Process ForkPoolWorker-3156:\n",
      "  File \"/opt/conda/lib/python3.7/site-packages/galsim/sensor.py\", line 326, in accumulate\n",
      "    resume)\n",
      "KeyboardInterrupt\n",
      "Traceback (most recent call last):\n",
      "  File \"/opt/conda/lib/python3.7/multiprocessing/process.py\", line 297, in _bootstrap\n",
      "    self.run()\n",
      "  File \"/opt/conda/lib/python3.7/multiprocessing/process.py\", line 99, in run\n",
      "    self._target(*self._args, **self._kwargs)\n",
      "  File \"/opt/conda/lib/python3.7/multiprocessing/pool.py\", line 121, in worker\n",
      "    result = (True, func(*args, **kwds))\n",
      "  File \"/tmp/ipykernel_3851/213037740.py\", line 21, in generate_dataset2\n",
      "    noise = False,\n",
      "  File \"/tmp/ipykernel_3851/835977016.py\", line 21, in generateImage\n",
      "    sensor.accumulate(photons, image)\n",
      "  File \"/opt/conda/lib/python3.7/site-packages/galsim/sensor.py\", line 326, in accumulate\n",
      "    resume)\n",
      "KeyboardInterrupt\n",
      "Process ForkPoolWorker-3272:\n",
      "Process ForkPoolWorker-3254:\n",
      "Traceback (most recent call last):\n",
      "  File \"/opt/conda/lib/python3.7/multiprocessing/process.py\", line 297, in _bootstrap\n",
      "    self.run()\n",
      "Traceback (most recent call last):\n",
      "  File \"/opt/conda/lib/python3.7/multiprocessing/process.py\", line 99, in run\n",
      "    self._target(*self._args, **self._kwargs)\n",
      "  File \"/opt/conda/lib/python3.7/multiprocessing/pool.py\", line 121, in worker\n",
      "    result = (True, func(*args, **kwds))\n",
      "  File \"/tmp/ipykernel_3851/213037740.py\", line 21, in generate_dataset2\n",
      "    noise = False,\n",
      "  File \"/tmp/ipykernel_3851/835977016.py\", line 21, in generateImage\n",
      "    sensor.accumulate(photons, image)\n",
      "  File \"/opt/conda/lib/python3.7/site-packages/galsim/sensor.py\", line 326, in accumulate\n",
      "    resume)\n",
      "KeyboardInterrupt\n",
      "  File \"/opt/conda/lib/python3.7/multiprocessing/process.py\", line 297, in _bootstrap\n",
      "    self.run()\n",
      "  File \"/opt/conda/lib/python3.7/multiprocessing/process.py\", line 99, in run\n",
      "    self._target(*self._args, **self._kwargs)\n",
      "  File \"/opt/conda/lib/python3.7/multiprocessing/pool.py\", line 121, in worker\n",
      "    result = (True, func(*args, **kwds))\n",
      "  File \"/tmp/ipykernel_3851/213037740.py\", line 21, in generate_dataset2\n",
      "    noise = False,\n",
      "  File \"/tmp/ipykernel_3851/835977016.py\", line 21, in generateImage\n",
      "    sensor.accumulate(photons, image)\n",
      "  File \"/opt/conda/lib/python3.7/site-packages/galsim/sensor.py\", line 326, in accumulate\n",
      "    resume)\n",
      "KeyboardInterrupt\n",
      "Process ForkPoolWorker-3260:\n",
      "  File \"/opt/conda/lib/python3.7/multiprocessing/pool.py\", line 121, in worker\n",
      "    result = (True, func(*args, **kwds))\n",
      "Traceback (most recent call last):\n",
      "  File \"/opt/conda/lib/python3.7/multiprocessing/process.py\", line 297, in _bootstrap\n",
      "    self.run()\n",
      "  File \"/opt/conda/lib/python3.7/multiprocessing/process.py\", line 99, in run\n",
      "    self._target(*self._args, **self._kwargs)\n",
      "  File \"/tmp/ipykernel_3851/213037740.py\", line 21, in generate_dataset2\n",
      "    noise = False,\n",
      "  File \"/tmp/ipykernel_3851/835977016.py\", line 21, in generateImage\n",
      "    sensor.accumulate(photons, image)\n",
      "  File \"/opt/conda/lib/python3.7/site-packages/galsim/sensor.py\", line 326, in accumulate\n",
      "    resume)\n",
      "KeyboardInterrupt\n",
      "Process ForkPoolWorker-3183:\n",
      "Traceback (most recent call last):\n",
      "  File \"/opt/conda/lib/python3.7/multiprocessing/process.py\", line 297, in _bootstrap\n",
      "    self.run()\n",
      "  File \"/opt/conda/lib/python3.7/multiprocessing/process.py\", line 99, in run\n",
      "    self._target(*self._args, **self._kwargs)\n",
      "  File \"/opt/conda/lib/python3.7/multiprocessing/pool.py\", line 121, in worker\n",
      "    result = (True, func(*args, **kwds))\n",
      "  File \"/tmp/ipykernel_3851/213037740.py\", line 21, in generate_dataset2\n",
      "    noise = False,\n",
      "  File \"/tmp/ipykernel_3851/835977016.py\", line 21, in generateImage\n",
      "    sensor.accumulate(photons, image)\n",
      "  File \"/opt/conda/lib/python3.7/site-packages/galsim/sensor.py\", line 326, in accumulate\n",
      "    resume)\n",
      "KeyboardInterrupt\n",
      "Process ForkPoolWorker-3264:\n",
      "Traceback (most recent call last):\n",
      "Process ForkPoolWorker-3269:\n",
      "  File \"/opt/conda/lib/python3.7/multiprocessing/process.py\", line 297, in _bootstrap\n",
      "    self.run()\n",
      "Traceback (most recent call last):\n",
      "  File \"/opt/conda/lib/python3.7/multiprocessing/process.py\", line 99, in run\n",
      "    self._target(*self._args, **self._kwargs)\n",
      "  File \"/opt/conda/lib/python3.7/multiprocessing/process.py\", line 297, in _bootstrap\n",
      "    self.run()\n",
      "  File \"/opt/conda/lib/python3.7/multiprocessing/pool.py\", line 121, in worker\n",
      "    result = (True, func(*args, **kwds))\n",
      "  File \"/opt/conda/lib/python3.7/multiprocessing/process.py\", line 99, in run\n",
      "    self._target(*self._args, **self._kwargs)\n",
      "  File \"/tmp/ipykernel_3851/213037740.py\", line 21, in generate_dataset2\n",
      "    noise = False,\n",
      "  File \"/tmp/ipykernel_3851/835977016.py\", line 21, in generateImage\n",
      "    sensor.accumulate(photons, image)\n",
      "Process ForkPoolWorker-3171:\n",
      "Traceback (most recent call last):\n",
      "  File \"/opt/conda/lib/python3.7/multiprocessing/pool.py\", line 121, in worker\n",
      "    result = (True, func(*args, **kwds))\n",
      "  File \"/opt/conda/lib/python3.7/multiprocessing/process.py\", line 297, in _bootstrap\n",
      "    self.run()\n",
      "  File \"/tmp/ipykernel_3851/213037740.py\", line 21, in generate_dataset2\n",
      "    noise = False,\n",
      "  File \"/opt/conda/lib/python3.7/site-packages/galsim/sensor.py\", line 326, in accumulate\n",
      "    resume)\n",
      "KeyboardInterrupt\n",
      "  File \"/opt/conda/lib/python3.7/multiprocessing/process.py\", line 99, in run\n",
      "    self._target(*self._args, **self._kwargs)\n"
     ]
    },
    {
     "name": "stderr",
     "output_type": "stream",
     "text": [
      "  File \"/opt/conda/lib/python3.7/multiprocessing/pool.py\", line 121, in worker\n",
      "    result = (True, func(*args, **kwds))\n",
      "  File \"/tmp/ipykernel_3851/835977016.py\", line 21, in generateImage\n",
      "    sensor.accumulate(photons, image)\n",
      "  File \"/opt/conda/lib/python3.7/site-packages/galsim/sensor.py\", line 326, in accumulate\n",
      "    resume)\n",
      "  File \"/tmp/ipykernel_3851/213037740.py\", line 21, in generate_dataset2\n",
      "    noise = False,\n",
      "  File \"/tmp/ipykernel_3851/835977016.py\", line 21, in generateImage\n",
      "    sensor.accumulate(photons, image)\n",
      "KeyboardInterrupt\n",
      "  File \"/opt/conda/lib/python3.7/site-packages/galsim/sensor.py\", line 326, in accumulate\n",
      "    resume)\n",
      "KeyboardInterrupt\n",
      "Process ForkPoolWorker-3128:\n",
      "Traceback (most recent call last):\n",
      "  File \"/opt/conda/lib/python3.7/multiprocessing/pool.py\", line 121, in worker\n",
      "    result = (True, func(*args, **kwds))\n",
      "  File \"/opt/conda/lib/python3.7/multiprocessing/process.py\", line 297, in _bootstrap\n",
      "    self.run()\n",
      "  File \"/opt/conda/lib/python3.7/multiprocessing/process.py\", line 99, in run\n",
      "    self._target(*self._args, **self._kwargs)\n",
      "  File \"/tmp/ipykernel_3851/213037740.py\", line 21, in generate_dataset2\n",
      "    noise = False,\n",
      "  File \"/tmp/ipykernel_3851/835977016.py\", line 21, in generateImage\n",
      "    sensor.accumulate(photons, image)\n",
      "  File \"/opt/conda/lib/python3.7/site-packages/galsim/sensor.py\", line 326, in accumulate\n",
      "    resume)\n",
      "KeyboardInterrupt\n",
      "Process ForkPoolWorker-3173:\n",
      "Traceback (most recent call last):\n",
      "  File \"/opt/conda/lib/python3.7/multiprocessing/process.py\", line 297, in _bootstrap\n",
      "    self.run()\n",
      "  File \"/opt/conda/lib/python3.7/multiprocessing/process.py\", line 99, in run\n",
      "    self._target(*self._args, **self._kwargs)\n",
      "  File \"/opt/conda/lib/python3.7/multiprocessing/pool.py\", line 121, in worker\n",
      "    result = (True, func(*args, **kwds))\n",
      "  File \"/tmp/ipykernel_3851/213037740.py\", line 21, in generate_dataset2\n",
      "    noise = False,\n",
      "  File \"/tmp/ipykernel_3851/835977016.py\", line 21, in generateImage\n",
      "    sensor.accumulate(photons, image)\n",
      "  File \"/opt/conda/lib/python3.7/site-packages/galsim/sensor.py\", line 326, in accumulate\n",
      "    resume)\n",
      "KeyboardInterrupt\n",
      "Process ForkPoolWorker-3178:\n",
      "Traceback (most recent call last):\n",
      "  File \"/opt/conda/lib/python3.7/multiprocessing/process.py\", line 297, in _bootstrap\n",
      "    self.run()\n",
      "  File \"/opt/conda/lib/python3.7/multiprocessing/process.py\", line 99, in run\n",
      "    self._target(*self._args, **self._kwargs)\n",
      "  File \"/opt/conda/lib/python3.7/multiprocessing/pool.py\", line 121, in worker\n",
      "    result = (True, func(*args, **kwds))\n",
      "  File \"/tmp/ipykernel_3851/213037740.py\", line 21, in generate_dataset2\n",
      "    noise = False,\n",
      "  File \"/tmp/ipykernel_3851/835977016.py\", line 21, in generateImage\n",
      "    sensor.accumulate(photons, image)\n",
      "  File \"/opt/conda/lib/python3.7/site-packages/galsim/sensor.py\", line 326, in accumulate\n",
      "    resume)\n",
      "KeyboardInterrupt\n",
      "Process ForkPoolWorker-3225:\n",
      "Traceback (most recent call last):\n",
      "  File \"/opt/conda/lib/python3.7/multiprocessing/process.py\", line 297, in _bootstrap\n",
      "    self.run()\n",
      "  File \"/opt/conda/lib/python3.7/multiprocessing/process.py\", line 99, in run\n",
      "    self._target(*self._args, **self._kwargs)\n",
      "  File \"/opt/conda/lib/python3.7/multiprocessing/pool.py\", line 121, in worker\n",
      "    result = (True, func(*args, **kwds))\n",
      "Process ForkPoolWorker-3142:\n",
      "  File \"/tmp/ipykernel_3851/213037740.py\", line 21, in generate_dataset2\n",
      "    noise = False,\n",
      "  File \"/tmp/ipykernel_3851/835977016.py\", line 21, in generateImage\n",
      "    sensor.accumulate(photons, image)\n",
      "Traceback (most recent call last):\n",
      "  File \"/opt/conda/lib/python3.7/site-packages/galsim/sensor.py\", line 326, in accumulate\n",
      "    resume)\n",
      "  File \"/opt/conda/lib/python3.7/multiprocessing/process.py\", line 297, in _bootstrap\n",
      "    self.run()\n",
      "KeyboardInterrupt\n",
      "  File \"/opt/conda/lib/python3.7/multiprocessing/process.py\", line 99, in run\n",
      "    self._target(*self._args, **self._kwargs)\n",
      "  File \"/opt/conda/lib/python3.7/multiprocessing/pool.py\", line 121, in worker\n",
      "    result = (True, func(*args, **kwds))\n",
      "  File \"/tmp/ipykernel_3851/213037740.py\", line 21, in generate_dataset2\n",
      "    noise = False,\n",
      "Process ForkPoolWorker-3139:\n",
      "Traceback (most recent call last):\n",
      "  File \"/opt/conda/lib/python3.7/multiprocessing/process.py\", line 297, in _bootstrap\n",
      "    self.run()\n",
      "  File \"/tmp/ipykernel_3851/835977016.py\", line 21, in generateImage\n",
      "    sensor.accumulate(photons, image)\n",
      "  File \"/opt/conda/lib/python3.7/site-packages/galsim/sensor.py\", line 326, in accumulate\n",
      "    resume)\n",
      "  File \"/opt/conda/lib/python3.7/multiprocessing/process.py\", line 99, in run\n",
      "    self._target(*self._args, **self._kwargs)\n",
      "  File \"/opt/conda/lib/python3.7/multiprocessing/pool.py\", line 121, in worker\n",
      "    result = (True, func(*args, **kwds))\n",
      "KeyboardInterrupt\n",
      "  File \"/tmp/ipykernel_3851/213037740.py\", line 21, in generate_dataset2\n",
      "    noise = False,\n",
      "  File \"/tmp/ipykernel_3851/835977016.py\", line 21, in generateImage\n",
      "    sensor.accumulate(photons, image)\n",
      "  File \"/opt/conda/lib/python3.7/site-packages/galsim/sensor.py\", line 326, in accumulate\n",
      "    resume)\n",
      "KeyboardInterrupt\n",
      "Process ForkPoolWorker-3187:\n",
      "Traceback (most recent call last):\n",
      "  File \"/opt/conda/lib/python3.7/multiprocessing/process.py\", line 297, in _bootstrap\n",
      "    self.run()\n",
      "Process ForkPoolWorker-3138:\n",
      "  File \"/opt/conda/lib/python3.7/multiprocessing/process.py\", line 99, in run\n",
      "    self._target(*self._args, **self._kwargs)\n",
      "  File \"/opt/conda/lib/python3.7/multiprocessing/pool.py\", line 121, in worker\n",
      "    result = (True, func(*args, **kwds))\n",
      "Traceback (most recent call last):\n",
      "  File \"/opt/conda/lib/python3.7/multiprocessing/process.py\", line 297, in _bootstrap\n",
      "    self.run()\n",
      "  File \"/tmp/ipykernel_3851/213037740.py\", line 21, in generate_dataset2\n",
      "    noise = False,\n",
      "  File \"/tmp/ipykernel_3851/835977016.py\", line 21, in generateImage\n",
      "    sensor.accumulate(photons, image)\n",
      "  File \"/opt/conda/lib/python3.7/multiprocessing/process.py\", line 99, in run\n",
      "    self._target(*self._args, **self._kwargs)\n",
      "  File \"/opt/conda/lib/python3.7/multiprocessing/pool.py\", line 121, in worker\n",
      "    result = (True, func(*args, **kwds))\n",
      "  File \"/tmp/ipykernel_3851/213037740.py\", line 21, in generate_dataset2\n",
      "    noise = False,\n",
      "  File \"/opt/conda/lib/python3.7/site-packages/galsim/sensor.py\", line 326, in accumulate\n",
      "    resume)\n",
      "  File \"/tmp/ipykernel_3851/835977016.py\", line 21, in generateImage\n",
      "    sensor.accumulate(photons, image)\n",
      "  File \"/opt/conda/lib/python3.7/site-packages/galsim/sensor.py\", line 326, in accumulate\n",
      "    resume)\n",
      "KeyboardInterrupt\n",
      "KeyboardInterrupt\n",
      "Process ForkPoolWorker-3222:\n",
      "Traceback (most recent call last):\n",
      "Process ForkPoolWorker-3155:\n",
      "  File \"/tmp/ipykernel_3851/213037740.py\", line 21, in generate_dataset2\n",
      "    noise = False,\n",
      "  File \"/tmp/ipykernel_3851/835977016.py\", line 21, in generateImage\n",
      "    sensor.accumulate(photons, image)\n",
      "  File \"/opt/conda/lib/python3.7/multiprocessing/process.py\", line 297, in _bootstrap\n",
      "    self.run()\n",
      "Traceback (most recent call last):\n",
      "  File \"/opt/conda/lib/python3.7/multiprocessing/process.py\", line 297, in _bootstrap\n",
      "    self.run()\n",
      "  File \"/opt/conda/lib/python3.7/multiprocessing/process.py\", line 99, in run\n",
      "    self._target(*self._args, **self._kwargs)\n",
      "  File \"/opt/conda/lib/python3.7/multiprocessing/pool.py\", line 121, in worker\n",
      "    result = (True, func(*args, **kwds))\n",
      "  File \"/opt/conda/lib/python3.7/multiprocessing/process.py\", line 99, in run\n",
      "    self._target(*self._args, **self._kwargs)\n",
      "  File \"/tmp/ipykernel_3851/213037740.py\", line 21, in generate_dataset2\n",
      "    noise = False,\n",
      "  File \"/opt/conda/lib/python3.7/multiprocessing/pool.py\", line 121, in worker\n",
      "    result = (True, func(*args, **kwds))\n",
      "  File \"/opt/conda/lib/python3.7/site-packages/galsim/sensor.py\", line 326, in accumulate\n",
      "    resume)\n",
      "  File \"/tmp/ipykernel_3851/835977016.py\", line 21, in generateImage\n",
      "    sensor.accumulate(photons, image)\n",
      "KeyboardInterrupt\n",
      "  File \"/opt/conda/lib/python3.7/site-packages/galsim/sensor.py\", line 326, in accumulate\n",
      "    resume)\n",
      "KeyboardInterrupt\n",
      "Process ForkPoolWorker-3262:\n",
      "Traceback (most recent call last):\n",
      "  File \"/opt/conda/lib/python3.7/multiprocessing/process.py\", line 297, in _bootstrap\n",
      "    self.run()\n",
      "  File \"/opt/conda/lib/python3.7/multiprocessing/process.py\", line 99, in run\n",
      "    self._target(*self._args, **self._kwargs)\n"
     ]
    },
    {
     "name": "stderr",
     "output_type": "stream",
     "text": [
      "  File \"/opt/conda/lib/python3.7/multiprocessing/pool.py\", line 121, in worker\n",
      "    result = (True, func(*args, **kwds))\n",
      "Process ForkPoolWorker-3163:\n",
      "  File \"/tmp/ipykernel_3851/213037740.py\", line 21, in generate_dataset2\n",
      "    noise = False,\n",
      "  File \"/tmp/ipykernel_3851/835977016.py\", line 21, in generateImage\n",
      "    sensor.accumulate(photons, image)\n",
      "Traceback (most recent call last):\n",
      "  File \"/opt/conda/lib/python3.7/site-packages/galsim/sensor.py\", line 326, in accumulate\n",
      "    resume)\n",
      "KeyboardInterrupt\n",
      "  File \"/opt/conda/lib/python3.7/multiprocessing/process.py\", line 297, in _bootstrap\n",
      "    self.run()\n",
      "  File \"/opt/conda/lib/python3.7/multiprocessing/process.py\", line 99, in run\n",
      "    self._target(*self._args, **self._kwargs)\n",
      "  File \"/opt/conda/lib/python3.7/multiprocessing/pool.py\", line 121, in worker\n",
      "    result = (True, func(*args, **kwds))\n",
      "  File \"/tmp/ipykernel_3851/213037740.py\", line 21, in generate_dataset2\n",
      "    noise = False,\n",
      "  File \"/tmp/ipykernel_3851/835977016.py\", line 21, in generateImage\n",
      "    sensor.accumulate(photons, image)\n",
      "  File \"/opt/conda/lib/python3.7/site-packages/galsim/sensor.py\", line 326, in accumulate\n",
      "    resume)\n",
      "KeyboardInterrupt\n",
      "Process ForkPoolWorker-3180:\n",
      "Traceback (most recent call last):\n",
      "Process ForkPoolWorker-3229:\n",
      "  File \"/opt/conda/lib/python3.7/multiprocessing/process.py\", line 297, in _bootstrap\n",
      "    self.run()\n",
      "Traceback (most recent call last):\n",
      "  File \"/opt/conda/lib/python3.7/multiprocessing/process.py\", line 99, in run\n",
      "    self._target(*self._args, **self._kwargs)\n",
      "  File \"/opt/conda/lib/python3.7/multiprocessing/process.py\", line 297, in _bootstrap\n",
      "    self.run()\n",
      "  File \"/opt/conda/lib/python3.7/multiprocessing/pool.py\", line 121, in worker\n",
      "    result = (True, func(*args, **kwds))\n",
      "  File \"/tmp/ipykernel_3851/835977016.py\", line 21, in generateImage\n",
      "    sensor.accumulate(photons, image)\n",
      "  File \"/opt/conda/lib/python3.7/multiprocessing/process.py\", line 99, in run\n",
      "    self._target(*self._args, **self._kwargs)\n",
      "  File \"/tmp/ipykernel_3851/213037740.py\", line 21, in generate_dataset2\n",
      "    noise = False,\n",
      "  File \"/opt/conda/lib/python3.7/multiprocessing/pool.py\", line 121, in worker\n",
      "    result = (True, func(*args, **kwds))\n",
      "  File \"/tmp/ipykernel_3851/213037740.py\", line 21, in generate_dataset2\n",
      "    noise = False,\n",
      "  File \"/tmp/ipykernel_3851/835977016.py\", line 21, in generateImage\n",
      "    sensor.accumulate(photons, image)\n",
      "  File \"/opt/conda/lib/python3.7/site-packages/galsim/sensor.py\", line 326, in accumulate\n",
      "    resume)\n",
      "  File \"/opt/conda/lib/python3.7/site-packages/galsim/sensor.py\", line 326, in accumulate\n",
      "    resume)\n",
      "KeyboardInterrupt\n",
      "KeyboardInterrupt\n",
      "Process ForkPoolWorker-3235:\n",
      "Traceback (most recent call last):\n",
      "  File \"/opt/conda/lib/python3.7/multiprocessing/process.py\", line 297, in _bootstrap\n",
      "    self.run()\n",
      "  File \"/opt/conda/lib/python3.7/multiprocessing/process.py\", line 99, in run\n",
      "    self._target(*self._args, **self._kwargs)\n",
      "  File \"/opt/conda/lib/python3.7/multiprocessing/pool.py\", line 121, in worker\n",
      "    result = (True, func(*args, **kwds))\n",
      "  File \"/tmp/ipykernel_3851/213037740.py\", line 21, in generate_dataset2\n",
      "    noise = False,\n",
      "  File \"/tmp/ipykernel_3851/835977016.py\", line 21, in generateImage\n",
      "    sensor.accumulate(photons, image)\n",
      "  File \"/opt/conda/lib/python3.7/site-packages/galsim/sensor.py\", line 326, in accumulate\n",
      "    resume)\n",
      "KeyboardInterrupt\n",
      "Process ForkPoolWorker-3220:\n",
      "Traceback (most recent call last):\n",
      "  File \"/opt/conda/lib/python3.7/multiprocessing/process.py\", line 297, in _bootstrap\n",
      "    self.run()\n",
      "  File \"/opt/conda/lib/python3.7/multiprocessing/process.py\", line 99, in run\n",
      "    self._target(*self._args, **self._kwargs)\n",
      "  File \"/opt/conda/lib/python3.7/multiprocessing/pool.py\", line 121, in worker\n",
      "    result = (True, func(*args, **kwds))\n",
      "  File \"/tmp/ipykernel_3851/213037740.py\", line 21, in generate_dataset2\n",
      "    noise = False,\n",
      "  File \"/tmp/ipykernel_3851/835977016.py\", line 21, in generateImage\n",
      "    sensor.accumulate(photons, image)\n",
      "  File \"/opt/conda/lib/python3.7/site-packages/galsim/sensor.py\", line 326, in accumulate\n",
      "    resume)\n",
      "KeyboardInterrupt\n",
      "Process ForkPoolWorker-3243:\n",
      "Traceback (most recent call last):\n",
      "  File \"/opt/conda/lib/python3.7/multiprocessing/process.py\", line 297, in _bootstrap\n",
      "    self.run()\n",
      "  File \"/opt/conda/lib/python3.7/multiprocessing/process.py\", line 99, in run\n",
      "    self._target(*self._args, **self._kwargs)\n",
      "  File \"/opt/conda/lib/python3.7/multiprocessing/pool.py\", line 121, in worker\n",
      "    result = (True, func(*args, **kwds))\n",
      "  File \"/tmp/ipykernel_3851/213037740.py\", line 21, in generate_dataset2\n",
      "    noise = False,\n",
      "  File \"/tmp/ipykernel_3851/835977016.py\", line 21, in generateImage\n",
      "    sensor.accumulate(photons, image)\n",
      "  File \"/opt/conda/lib/python3.7/site-packages/galsim/sensor.py\", line 326, in accumulate\n",
      "    resume)\n",
      "KeyboardInterrupt\n",
      "Process ForkPoolWorker-3217:\n",
      "Traceback (most recent call last):\n",
      "  File \"/opt/conda/lib/python3.7/multiprocessing/process.py\", line 297, in _bootstrap\n",
      "    self.run()\n",
      "  File \"/opt/conda/lib/python3.7/multiprocessing/process.py\", line 99, in run\n",
      "    self._target(*self._args, **self._kwargs)\n",
      "  File \"/opt/conda/lib/python3.7/multiprocessing/pool.py\", line 121, in worker\n",
      "    result = (True, func(*args, **kwds))\n",
      "  File \"/tmp/ipykernel_3851/213037740.py\", line 21, in generate_dataset2\n",
      "    noise = False,\n",
      "  File \"/tmp/ipykernel_3851/835977016.py\", line 21, in generateImage\n",
      "    sensor.accumulate(photons, image)\n",
      "  File \"/opt/conda/lib/python3.7/site-packages/galsim/sensor.py\", line 326, in accumulate\n",
      "    resume)\n",
      "KeyboardInterrupt\n",
      "Process ForkPoolWorker-3164:\n",
      "Traceback (most recent call last):\n",
      "  File \"/opt/conda/lib/python3.7/multiprocessing/process.py\", line 297, in _bootstrap\n",
      "    self.run()\n",
      "  File \"/opt/conda/lib/python3.7/multiprocessing/process.py\", line 99, in run\n",
      "    self._target(*self._args, **self._kwargs)\n",
      "  File \"/opt/conda/lib/python3.7/multiprocessing/pool.py\", line 121, in worker\n",
      "    result = (True, func(*args, **kwds))\n",
      "  File \"/tmp/ipykernel_3851/213037740.py\", line 21, in generate_dataset2\n",
      "    noise = False,\n",
      "  File \"/tmp/ipykernel_3851/835977016.py\", line 21, in generateImage\n",
      "    sensor.accumulate(photons, image)\n",
      "  File \"/opt/conda/lib/python3.7/site-packages/galsim/sensor.py\", line 326, in accumulate\n",
      "    resume)\n",
      "KeyboardInterrupt\n",
      "Process ForkPoolWorker-3135:\n",
      "Traceback (most recent call last):\n",
      "  File \"/opt/conda/lib/python3.7/multiprocessing/process.py\", line 297, in _bootstrap\n",
      "    self.run()\n",
      "  File \"/opt/conda/lib/python3.7/multiprocessing/process.py\", line 99, in run\n",
      "    self._target(*self._args, **self._kwargs)\n",
      "  File \"/opt/conda/lib/python3.7/multiprocessing/pool.py\", line 121, in worker\n",
      "    result = (True, func(*args, **kwds))\n",
      "  File \"/tmp/ipykernel_3851/213037740.py\", line 21, in generate_dataset2\n",
      "    noise = False,\n",
      "  File \"/tmp/ipykernel_3851/835977016.py\", line 21, in generateImage\n",
      "    sensor.accumulate(photons, image)\n",
      "  File \"/opt/conda/lib/python3.7/site-packages/galsim/sensor.py\", line 326, in accumulate\n",
      "    resume)\n",
      "KeyboardInterrupt\n",
      "Process ForkPoolWorker-3231:\n",
      "Traceback (most recent call last):\n",
      "  File \"/opt/conda/lib/python3.7/multiprocessing/process.py\", line 297, in _bootstrap\n",
      "    self.run()\n",
      "  File \"/opt/conda/lib/python3.7/multiprocessing/process.py\", line 99, in run\n",
      "    self._target(*self._args, **self._kwargs)\n",
      "  File \"/opt/conda/lib/python3.7/multiprocessing/pool.py\", line 121, in worker\n",
      "    result = (True, func(*args, **kwds))\n",
      "  File \"/tmp/ipykernel_3851/213037740.py\", line 21, in generate_dataset2\n",
      "    noise = False,\n",
      "  File \"/tmp/ipykernel_3851/835977016.py\", line 21, in generateImage\n",
      "    sensor.accumulate(photons, image)\n",
      "  File \"/opt/conda/lib/python3.7/site-packages/galsim/sensor.py\", line 326, in accumulate\n",
      "    resume)\n",
      "KeyboardInterrupt\n",
      "Process ForkPoolWorker-3216:\n",
      "Traceback (most recent call last):\n",
      "Process ForkPoolWorker-3214:\n",
      "  File \"/opt/conda/lib/python3.7/multiprocessing/process.py\", line 297, in _bootstrap\n",
      "    self.run()\n",
      "  File \"/opt/conda/lib/python3.7/multiprocessing/process.py\", line 99, in run\n",
      "    self._target(*self._args, **self._kwargs)\n",
      "Traceback (most recent call last):\n",
      "  File \"/opt/conda/lib/python3.7/multiprocessing/pool.py\", line 121, in worker\n",
      "    result = (True, func(*args, **kwds))\n",
      "  File \"/tmp/ipykernel_3851/213037740.py\", line 21, in generate_dataset2\n",
      "    noise = False,\n"
     ]
    },
    {
     "name": "stderr",
     "output_type": "stream",
     "text": [
      "  File \"/opt/conda/lib/python3.7/multiprocessing/process.py\", line 297, in _bootstrap\n",
      "    self.run()\n",
      "  File \"/tmp/ipykernel_3851/835977016.py\", line 21, in generateImage\n",
      "    sensor.accumulate(photons, image)\n",
      "  File \"/opt/conda/lib/python3.7/multiprocessing/process.py\", line 99, in run\n",
      "    self._target(*self._args, **self._kwargs)\n",
      "  File \"/opt/conda/lib/python3.7/multiprocessing/pool.py\", line 121, in worker\n",
      "    result = (True, func(*args, **kwds))\n",
      "  File \"/opt/conda/lib/python3.7/site-packages/galsim/sensor.py\", line 326, in accumulate\n",
      "    resume)\n",
      "KeyboardInterrupt\n",
      "  File \"/tmp/ipykernel_3851/213037740.py\", line 21, in generate_dataset2\n",
      "    noise = False,\n",
      "  File \"/tmp/ipykernel_3851/835977016.py\", line 21, in generateImage\n",
      "    sensor.accumulate(photons, image)\n",
      "  File \"/opt/conda/lib/python3.7/site-packages/galsim/sensor.py\", line 326, in accumulate\n",
      "    resume)\n",
      "KeyboardInterrupt\n",
      "Process ForkPoolWorker-3200:\n",
      "Traceback (most recent call last):\n",
      "  File \"/opt/conda/lib/python3.7/multiprocessing/process.py\", line 297, in _bootstrap\n",
      "    self.run()\n",
      "Process ForkPoolWorker-3209:\n",
      "  File \"/opt/conda/lib/python3.7/multiprocessing/process.py\", line 99, in run\n",
      "    self._target(*self._args, **self._kwargs)\n",
      "Traceback (most recent call last):\n",
      "  File \"/opt/conda/lib/python3.7/multiprocessing/process.py\", line 297, in _bootstrap\n",
      "    self.run()\n",
      "  File \"/opt/conda/lib/python3.7/multiprocessing/pool.py\", line 121, in worker\n",
      "    result = (True, func(*args, **kwds))\n",
      "  File \"/opt/conda/lib/python3.7/multiprocessing/process.py\", line 99, in run\n",
      "    self._target(*self._args, **self._kwargs)\n",
      "  File \"/opt/conda/lib/python3.7/multiprocessing/pool.py\", line 121, in worker\n",
      "    result = (True, func(*args, **kwds))\n",
      "  File \"/tmp/ipykernel_3851/213037740.py\", line 21, in generate_dataset2\n",
      "    noise = False,\n",
      "  File \"/tmp/ipykernel_3851/213037740.py\", line 21, in generate_dataset2\n",
      "    noise = False,\n",
      "  File \"/tmp/ipykernel_3851/835977016.py\", line 21, in generateImage\n",
      "    sensor.accumulate(photons, image)\n",
      "  File \"/tmp/ipykernel_3851/835977016.py\", line 21, in generateImage\n",
      "    sensor.accumulate(photons, image)\n",
      "  File \"/opt/conda/lib/python3.7/site-packages/galsim/sensor.py\", line 326, in accumulate\n",
      "    resume)\n",
      "KeyboardInterrupt\n",
      "  File \"/opt/conda/lib/python3.7/site-packages/galsim/sensor.py\", line 326, in accumulate\n",
      "    resume)\n",
      "KeyboardInterrupt\n",
      "Process ForkPoolWorker-3136:\n",
      "Traceback (most recent call last):\n",
      "  File \"/opt/conda/lib/python3.7/multiprocessing/process.py\", line 297, in _bootstrap\n",
      "    self.run()\n",
      "  File \"/opt/conda/lib/python3.7/multiprocessing/process.py\", line 99, in run\n",
      "    self._target(*self._args, **self._kwargs)\n",
      "  File \"/opt/conda/lib/python3.7/multiprocessing/pool.py\", line 121, in worker\n",
      "    result = (True, func(*args, **kwds))\n",
      "  File \"/tmp/ipykernel_3851/213037740.py\", line 21, in generate_dataset2\n",
      "    noise = False,\n",
      "  File \"/tmp/ipykernel_3851/835977016.py\", line 21, in generateImage\n",
      "    sensor.accumulate(photons, image)\n",
      "  File \"/opt/conda/lib/python3.7/site-packages/galsim/sensor.py\", line 326, in accumulate\n",
      "    resume)\n",
      "KeyboardInterrupt\n",
      "Process ForkPoolWorker-3167:\n",
      "Traceback (most recent call last):\n",
      "  File \"/opt/conda/lib/python3.7/multiprocessing/process.py\", line 297, in _bootstrap\n",
      "    self.run()\n",
      "Process ForkPoolWorker-3228:\n",
      "Process ForkPoolWorker-3234:\n",
      "  File \"/opt/conda/lib/python3.7/multiprocessing/process.py\", line 99, in run\n",
      "    self._target(*self._args, **self._kwargs)\n",
      "  File \"/opt/conda/lib/python3.7/multiprocessing/pool.py\", line 121, in worker\n",
      "    result = (True, func(*args, **kwds))\n",
      "  File \"/tmp/ipykernel_3851/213037740.py\", line 21, in generate_dataset2\n",
      "    noise = False,\n",
      "Traceback (most recent call last):\n",
      "  File \"/opt/conda/lib/python3.7/multiprocessing/process.py\", line 297, in _bootstrap\n",
      "    self.run()\n",
      "  File \"/tmp/ipykernel_3851/835977016.py\", line 21, in generateImage\n",
      "    sensor.accumulate(photons, image)\n",
      "  File \"/opt/conda/lib/python3.7/multiprocessing/process.py\", line 99, in run\n",
      "    self._target(*self._args, **self._kwargs)\n",
      "  File \"/opt/conda/lib/python3.7/multiprocessing/pool.py\", line 121, in worker\n",
      "    result = (True, func(*args, **kwds))\n",
      "  File \"/tmp/ipykernel_3851/213037740.py\", line 21, in generate_dataset2\n",
      "    noise = False,\n",
      "Traceback (most recent call last):\n",
      "Process ForkPoolWorker-3198:\n",
      "  File \"/opt/conda/lib/python3.7/site-packages/galsim/sensor.py\", line 326, in accumulate\n",
      "    resume)\n",
      "  File \"/tmp/ipykernel_3851/835977016.py\", line 21, in generateImage\n",
      "    sensor.accumulate(photons, image)\n",
      "KeyboardInterrupt\n",
      "  File \"/opt/conda/lib/python3.7/multiprocessing/process.py\", line 297, in _bootstrap\n",
      "    self.run()\n",
      "  File \"/opt/conda/lib/python3.7/site-packages/galsim/sensor.py\", line 326, in accumulate\n",
      "    resume)\n",
      "  File \"/opt/conda/lib/python3.7/multiprocessing/process.py\", line 99, in run\n",
      "    self._target(*self._args, **self._kwargs)\n",
      "KeyboardInterrupt\n",
      "Traceback (most recent call last):\n",
      "  File \"/opt/conda/lib/python3.7/multiprocessing/process.py\", line 297, in _bootstrap\n",
      "    self.run()\n",
      "  File \"/opt/conda/lib/python3.7/multiprocessing/process.py\", line 99, in run\n",
      "    self._target(*self._args, **self._kwargs)\n",
      "  File \"/opt/conda/lib/python3.7/multiprocessing/pool.py\", line 121, in worker\n",
      "    result = (True, func(*args, **kwds))\n",
      "  File \"/opt/conda/lib/python3.7/multiprocessing/pool.py\", line 121, in worker\n",
      "    result = (True, func(*args, **kwds))\n",
      "  File \"/tmp/ipykernel_3851/213037740.py\", line 21, in generate_dataset2\n",
      "    noise = False,\n",
      "  File \"/tmp/ipykernel_3851/213037740.py\", line 21, in generate_dataset2\n",
      "    noise = False,\n",
      "  File \"/tmp/ipykernel_3851/835977016.py\", line 21, in generateImage\n",
      "    sensor.accumulate(photons, image)\n",
      "  File \"/tmp/ipykernel_3851/835977016.py\", line 21, in generateImage\n",
      "    sensor.accumulate(photons, image)\n",
      "  File \"/opt/conda/lib/python3.7/site-packages/galsim/sensor.py\", line 326, in accumulate\n",
      "    resume)\n",
      "Process ForkPoolWorker-3192:\n",
      "  File \"/opt/conda/lib/python3.7/site-packages/galsim/sensor.py\", line 326, in accumulate\n",
      "    resume)\n",
      "KeyboardInterrupt\n",
      "KeyboardInterrupt\n",
      "Traceback (most recent call last):\n",
      "  File \"/opt/conda/lib/python3.7/multiprocessing/process.py\", line 297, in _bootstrap\n",
      "    self.run()\n",
      "  File \"/opt/conda/lib/python3.7/multiprocessing/process.py\", line 99, in run\n",
      "    self._target(*self._args, **self._kwargs)\n",
      "  File \"/opt/conda/lib/python3.7/multiprocessing/pool.py\", line 121, in worker\n",
      "    result = (True, func(*args, **kwds))\n",
      "  File \"/tmp/ipykernel_3851/213037740.py\", line 21, in generate_dataset2\n",
      "    noise = False,\n",
      "  File \"/tmp/ipykernel_3851/835977016.py\", line 21, in generateImage\n",
      "    sensor.accumulate(photons, image)\n",
      "  File \"/opt/conda/lib/python3.7/site-packages/galsim/sensor.py\", line 326, in accumulate\n",
      "    resume)\n",
      "KeyboardInterrupt\n",
      "Process ForkPoolWorker-3240:\n",
      "Traceback (most recent call last):\n",
      "  File \"/opt/conda/lib/python3.7/multiprocessing/process.py\", line 297, in _bootstrap\n",
      "    self.run()\n",
      "  File \"/opt/conda/lib/python3.7/multiprocessing/process.py\", line 99, in run\n",
      "    self._target(*self._args, **self._kwargs)\n",
      "  File \"/opt/conda/lib/python3.7/multiprocessing/pool.py\", line 121, in worker\n",
      "    result = (True, func(*args, **kwds))\n",
      "  File \"/tmp/ipykernel_3851/213037740.py\", line 21, in generate_dataset2\n",
      "    noise = False,\n",
      "Process ForkPoolWorker-3239:\n",
      "Traceback (most recent call last):\n",
      "  File \"/tmp/ipykernel_3851/835977016.py\", line 21, in generateImage\n",
      "    sensor.accumulate(photons, image)\n",
      "  File \"/opt/conda/lib/python3.7/multiprocessing/process.py\", line 297, in _bootstrap\n",
      "    self.run()\n",
      "  File \"/opt/conda/lib/python3.7/site-packages/galsim/sensor.py\", line 326, in accumulate\n",
      "    resume)\n",
      "  File \"/opt/conda/lib/python3.7/multiprocessing/process.py\", line 99, in run\n",
      "    self._target(*self._args, **self._kwargs)\n",
      "KeyboardInterrupt\n",
      "  File \"/opt/conda/lib/python3.7/multiprocessing/pool.py\", line 121, in worker\n",
      "    result = (True, func(*args, **kwds))\n",
      "Process ForkPoolWorker-3162:\n",
      "Traceback (most recent call last):\n",
      "Process ForkPoolWorker-3184:\n",
      "  File \"/tmp/ipykernel_3851/213037740.py\", line 21, in generate_dataset2\n",
      "    noise = False,\n",
      "  File \"/opt/conda/lib/python3.7/multiprocessing/process.py\", line 297, in _bootstrap\n",
      "    self.run()\n",
      "  File \"/tmp/ipykernel_3851/835977016.py\", line 21, in generateImage\n",
      "    sensor.accumulate(photons, image)\n"
     ]
    },
    {
     "name": "stderr",
     "output_type": "stream",
     "text": [
      "Process ForkPoolWorker-3247:\n",
      "Traceback (most recent call last):\n",
      "  File \"/opt/conda/lib/python3.7/site-packages/galsim/sensor.py\", line 326, in accumulate\n",
      "    resume)\n",
      "  File \"/opt/conda/lib/python3.7/multiprocessing/process.py\", line 99, in run\n",
      "    self._target(*self._args, **self._kwargs)\n",
      "KeyboardInterrupt\n",
      "  File \"/opt/conda/lib/python3.7/multiprocessing/pool.py\", line 121, in worker\n",
      "    result = (True, func(*args, **kwds))\n",
      "Traceback (most recent call last):\n",
      "  File \"/opt/conda/lib/python3.7/multiprocessing/process.py\", line 297, in _bootstrap\n",
      "    self.run()\n",
      "  File \"/opt/conda/lib/python3.7/multiprocessing/process.py\", line 297, in _bootstrap\n",
      "    self.run()\n",
      "  File \"/tmp/ipykernel_3851/213037740.py\", line 21, in generate_dataset2\n",
      "    noise = False,\n",
      "  File \"/opt/conda/lib/python3.7/multiprocessing/process.py\", line 99, in run\n",
      "    self._target(*self._args, **self._kwargs)\n",
      "  File \"/opt/conda/lib/python3.7/multiprocessing/process.py\", line 99, in run\n",
      "    self._target(*self._args, **self._kwargs)\n",
      "  File \"/opt/conda/lib/python3.7/multiprocessing/pool.py\", line 121, in worker\n",
      "    result = (True, func(*args, **kwds))\n",
      "  File \"/tmp/ipykernel_3851/835977016.py\", line 21, in generateImage\n",
      "    sensor.accumulate(photons, image)\n",
      "  File \"/opt/conda/lib/python3.7/multiprocessing/pool.py\", line 121, in worker\n",
      "    result = (True, func(*args, **kwds))\n",
      "  File \"/opt/conda/lib/python3.7/site-packages/galsim/sensor.py\", line 326, in accumulate\n",
      "    resume)\n",
      "  File \"/tmp/ipykernel_3851/213037740.py\", line 21, in generate_dataset2\n",
      "    noise = False,\n",
      "KeyboardInterrupt\n",
      "  File \"/tmp/ipykernel_3851/835977016.py\", line 21, in generateImage\n",
      "    sensor.accumulate(photons, image)\n",
      "  File \"/opt/conda/lib/python3.7/site-packages/galsim/sensor.py\", line 326, in accumulate\n",
      "    resume)\n",
      "  File \"/tmp/ipykernel_3851/213037740.py\", line 21, in generate_dataset2\n",
      "    noise = False,\n",
      "  File \"/tmp/ipykernel_3851/835977016.py\", line 21, in generateImage\n",
      "    sensor.accumulate(photons, image)\n",
      "Process ForkPoolWorker-3190:\n",
      "KeyboardInterrupt\n",
      "Traceback (most recent call last):\n",
      "  File \"/opt/conda/lib/python3.7/multiprocessing/process.py\", line 297, in _bootstrap\n",
      "    self.run()\n",
      "  File \"/opt/conda/lib/python3.7/site-packages/galsim/sensor.py\", line 326, in accumulate\n",
      "    resume)\n",
      "KeyboardInterrupt\n",
      "  File \"/opt/conda/lib/python3.7/multiprocessing/process.py\", line 99, in run\n",
      "    self._target(*self._args, **self._kwargs)\n",
      "  File \"/opt/conda/lib/python3.7/multiprocessing/pool.py\", line 121, in worker\n",
      "    result = (True, func(*args, **kwds))\n",
      "Process ForkPoolWorker-3244:\n",
      "Traceback (most recent call last):\n",
      "  File \"/opt/conda/lib/python3.7/multiprocessing/process.py\", line 297, in _bootstrap\n",
      "    self.run()\n"
     ]
    }
   ],
   "source": [
    "%%time\n",
    "for inten in [7.5e5, 5e5, 3e5, 1e5, 8e4, 6e4, 4e4, 2e4]:\n",
    "    # Create progress bar\n",
    "    pbar = tqdm(total = 2000)\n",
    "\n",
    "    # Generate dataset\n",
    "    generate_dataset_parallel(\n",
    "        Arguments(\n",
    "            name = 'FRB',\n",
    "            method = 'FFT',\n",
    "            atm = full_atm,\n",
    "            duration = 0.120,\n",
    "            duration_label = '120ms',\n",
    "            num_simulations = 2000,\n",
    "            num_phot = int(inten),\n",
    "            offset = 0\n",
    "        ),\n",
    "        pbar\n",
    "    )"
   ]
  },
  {
   "cell_type": "code",
   "execution_count": null,
   "metadata": {},
   "outputs": [],
   "source": [
    "%%time\n",
    "for inten in [7.5e5, 5e5, 3e5, 1e5, 8e4, 6e4, 4e4, 2e4]:\n",
    "    # Create progress bar\n",
    "    pbar = tqdm(total = 2000)\n",
    "\n",
    "    # Generate dataset\n",
    "    generate_dataset_parallel(\n",
    "        Arguments(\n",
    "            name = 'FRB',\n",
    "            method = 'FFT',\n",
    "            atm = full_atm,\n",
    "            duration = 0.140,\n",
    "            duration_label = '140ms',\n",
    "            num_simulations = 2000,\n",
    "            num_phot = int(inten),\n",
    "            offset = 0\n",
    "        ),\n",
    "        pbar\n",
    "    )"
   ]
  },
  {
   "cell_type": "code",
   "execution_count": null,
   "metadata": {},
   "outputs": [],
   "source": [
    "%%time\n",
    "    for inten in [7.5e5, 5e5, 3e5, 1e5, 8e4, 6e4, 4e4, 2e4]:\n",
    "    # Create progress bar\n",
    "    pbar = tqdm(total = 2000)\n",
    "\n",
    "    # Generate dataset\n",
    "    generate_dataset_parallel(\n",
    "        Arguments(\n",
    "            name = 'FRB',\n",
    "            method = 'FFT',\n",
    "            atm = full_atm,\n",
    "            duration = 0.150,\n",
    "            duration_label = '150ms',\n",
    "            num_simulations = 2000,\n",
    "            num_phot = int(inten),\n",
    "            offset = 0\n",
    "        ),\n",
    "        pbar\n",
    "    )"
   ]
  },
  {
   "cell_type": "code",
   "execution_count": null,
   "metadata": {},
   "outputs": [],
   "source": [
    "%%time\n",
    "for inten in [7.5e5, 5e5, 3e5, 1e5, 8e4, 6e4, 4e4, 2e4]:\n",
    "    # Create progress bar\n",
    "    pbar = tqdm(total = 2000)\n",
    "\n",
    "    # Generate dataset\n",
    "    generate_dataset_parallel(\n",
    "        Arguments(\n",
    "            name = 'FRB',\n",
    "            method = 'FFT',\n",
    "            atm = full_atm,\n",
    "            duration = 0.200,\n",
    "            duration_label = '200ms',\n",
    "            num_simulations = 2000,\n",
    "            num_phot = int(inten),\n",
    "            offset = 0\n",
    "        ),\n",
    "        pbar\n",
    "    )"
   ]
  },
  {
   "cell_type": "markdown",
   "metadata": {},
   "source": [
    "100ms"
   ]
  },
  {
   "cell_type": "code",
   "execution_count": 6,
   "metadata": {},
   "outputs": [
    {
     "data": {
      "application/vnd.jupyter.widget-view+json": {
       "model_id": "584f50c31ed045008c8c8ad3c05975b2",
       "version_major": 2,
       "version_minor": 0
      },
      "text/plain": [
       "  0%|          | 0/2000 [00:00<?, ?it/s]"
      ]
     },
     "metadata": {},
     "output_type": "display_data"
    },
    {
     "name": "stdout",
     "output_type": "stream",
     "text": [
      "CPU times: user 10.1 s, sys: 3.8 s, total: 13.9 s\n",
      "Wall time: 10min 2s\n"
     ]
    }
   ],
   "source": [
    "%%time\n",
    "# Create progress bar\n",
    "pbar = tqdm(total = 2000)\n",
    "\n",
    "# Generate dataset\n",
    "generate_dataset_parallel(\n",
    "    Arguments(\n",
    "        name = 'FRB',\n",
    "        method = 'FFT',\n",
    "        atm = full_atm,\n",
    "        duration = 0.15,\n",
    "        duration_label = '150ms',\n",
    "        num_simulations = 2000,\n",
    "        num_phot = int(1e5),\n",
    "        offset = 0\n",
    "    ),\n",
    "    pbar\n",
    ")"
   ]
  },
  {
   "cell_type": "code",
   "execution_count": 7,
   "metadata": {},
   "outputs": [
    {
     "data": {
      "application/vnd.jupyter.widget-view+json": {
       "model_id": "22b54f06806e4fb283f5aad0ee0918ea",
       "version_major": 2,
       "version_minor": 0
      },
      "text/plain": [
       "  0%|          | 0/2000 [00:00<?, ?it/s]"
      ]
     },
     "metadata": {},
     "output_type": "display_data"
    },
    {
     "name": "stdout",
     "output_type": "stream",
     "text": [
      "CPU times: user 10.7 s, sys: 3.35 s, total: 14 s\n",
      "Wall time: 9min 53s\n"
     ]
    }
   ],
   "source": [
    "%%time\n",
    "# Create progress bar\n",
    "pbar = tqdm(total = 2000)\n",
    "\n",
    "# Generate dataset\n",
    "generate_dataset_parallel(\n",
    "    Arguments(\n",
    "        name = 'FRB',\n",
    "        method = 'FFT',\n",
    "        atm = full_atm,\n",
    "        duration = 0.15,\n",
    "        duration_label = '150ms',\n",
    "        num_simulations = 2000,\n",
    "        num_phot = int(8e4),\n",
    "        offset = 0\n",
    "    ),\n",
    "    pbar\n",
    ")"
   ]
  },
  {
   "cell_type": "code",
   "execution_count": 8,
   "metadata": {},
   "outputs": [
    {
     "data": {
      "application/vnd.jupyter.widget-view+json": {
       "model_id": "2ee95c6d79954ac98bc797bf095c661f",
       "version_major": 2,
       "version_minor": 0
      },
      "text/plain": [
       "  0%|          | 0/2000 [00:00<?, ?it/s]"
      ]
     },
     "metadata": {},
     "output_type": "display_data"
    },
    {
     "name": "stdout",
     "output_type": "stream",
     "text": [
      "CPU times: user 10.9 s, sys: 3.39 s, total: 14.3 s\n",
      "Wall time: 9min 45s\n"
     ]
    }
   ],
   "source": [
    "%%time\n",
    "# Create progress bar\n",
    "pbar = tqdm(total = 2000)\n",
    "\n",
    "# Generate dataset\n",
    "generate_dataset_parallel(\n",
    "    Arguments(\n",
    "        name = 'FRB',\n",
    "        method = 'FFT',\n",
    "        atm = full_atm,\n",
    "        duration = 0.15,\n",
    "        duration_label = '150ms',\n",
    "        num_simulations = 2000,\n",
    "        num_phot = int(6e4),\n",
    "        offset = 0\n",
    "    ),\n",
    "    pbar\n",
    ")"
   ]
  },
  {
   "cell_type": "code",
   "execution_count": 9,
   "metadata": {},
   "outputs": [
    {
     "data": {
      "application/vnd.jupyter.widget-view+json": {
       "model_id": "eba0c5e0041b48d1b07a4127241cd1f9",
       "version_major": 2,
       "version_minor": 0
      },
      "text/plain": [
       "  0%|          | 0/2000 [00:00<?, ?it/s]"
      ]
     },
     "metadata": {},
     "output_type": "display_data"
    },
    {
     "name": "stdout",
     "output_type": "stream",
     "text": [
      "CPU times: user 11.1 s, sys: 3.2 s, total: 14.3 s\n",
      "Wall time: 9min 38s\n"
     ]
    }
   ],
   "source": [
    "%%time\n",
    "# Create progress bar\n",
    "pbar = tqdm(total = 2000)\n",
    "\n",
    "# Generate dataset\n",
    "generate_dataset_parallel(\n",
    "    Arguments(\n",
    "        name = 'FRB',\n",
    "        method = 'FFT',\n",
    "        atm = full_atm,\n",
    "        duration = 0.15,\n",
    "        duration_label = '150ms',\n",
    "        num_simulations = 2000,\n",
    "        num_phot = int(4e4),\n",
    "        offset = 0\n",
    "    ),\n",
    "    pbar\n",
    ")"
   ]
  },
  {
   "cell_type": "code",
   "execution_count": 10,
   "metadata": {},
   "outputs": [
    {
     "data": {
      "application/vnd.jupyter.widget-view+json": {
       "model_id": "19e21ff7ca224a64ba7ba29321a6238b",
       "version_major": 2,
       "version_minor": 0
      },
      "text/plain": [
       "  0%|          | 0/2000 [00:00<?, ?it/s]"
      ]
     },
     "metadata": {},
     "output_type": "display_data"
    },
    {
     "name": "stdout",
     "output_type": "stream",
     "text": [
      "CPU times: user 10.8 s, sys: 3.28 s, total: 14.1 s\n",
      "Wall time: 9min 31s\n"
     ]
    }
   ],
   "source": [
    "%%time\n",
    "# Create progress bar\n",
    "pbar = tqdm(total = 2000)\n",
    "\n",
    "# Generate dataset\n",
    "generate_dataset_parallel(\n",
    "    Arguments(\n",
    "        name = 'FRB',\n",
    "        method = 'FFT',\n",
    "        atm = full_atm,\n",
    "        duration = 0.15,\n",
    "        duration_label = '150ms',\n",
    "        num_simulations = 2000,\n",
    "        num_phot = int(2e4),\n",
    "        offset = 0\n",
    "    ),\n",
    "    pbar\n",
    ")"
   ]
  },
  {
   "cell_type": "code",
   "execution_count": 11,
   "metadata": {},
   "outputs": [
    {
     "data": {
      "application/vnd.jupyter.widget-view+json": {
       "model_id": "df0050089a5d4474a0e1e47ad3f0a939",
       "version_major": 2,
       "version_minor": 0
      },
      "text/plain": [
       "  0%|          | 0/2000 [00:00<?, ?it/s]"
      ]
     },
     "metadata": {},
     "output_type": "display_data"
    },
    {
     "name": "stdout",
     "output_type": "stream",
     "text": [
      "CPU times: user 10.9 s, sys: 3 s, total: 13.9 s\n",
      "Wall time: 9min 32s\n"
     ]
    }
   ],
   "source": [
    "%%time\n",
    "# Create progress bar\n",
    "pbar = tqdm(total = 2000)\n",
    "\n",
    "# Generate dataset\n",
    "generate_dataset_parallel(\n",
    "    Arguments(\n",
    "        name = 'FRB',\n",
    "        method = 'FFT',\n",
    "        atm = full_atm,\n",
    "        duration = 0.15,\n",
    "        duration_label = '150ms',\n",
    "        num_simulations = 2000,\n",
    "        num_phot = int(1e4),\n",
    "        offset = 0\n",
    "    ),\n",
    "    pbar\n",
    ")"
   ]
  },
  {
   "cell_type": "markdown",
   "metadata": {},
   "source": [
    "500ms"
   ]
  },
  {
   "cell_type": "code",
   "execution_count": 61,
   "metadata": {},
   "outputs": [
    {
     "data": {
      "application/vnd.jupyter.widget-view+json": {
       "model_id": "ea2cdcbd511d4f51931f7a10aab119d4",
       "version_major": 2,
       "version_minor": 0
      },
      "text/plain": [
       "  0%|          | 0/2000 [00:00<?, ?it/s]"
      ]
     },
     "metadata": {},
     "output_type": "display_data"
    },
    {
     "name": "stdout",
     "output_type": "stream",
     "text": [
      "CPU times: user 14 s, sys: 4.95 s, total: 19 s\n",
      "Wall time: 13min 15s\n"
     ]
    }
   ],
   "source": [
    "%%time\n",
    "# Create progress bar\n",
    "pbar = tqdm(total = 2000)\n",
    "\n",
    "# Generate dataset\n",
    "generate_dataset_parallel(\n",
    "    Arguments(\n",
    "        name = 'FRB',\n",
    "        method = 'FFT',\n",
    "        atm = full_atm,\n",
    "        duration = 0.5,\n",
    "        duration_label = '500ms',\n",
    "        num_simulations = 2000,\n",
    "        num_phot = int(1e5),\n",
    "        offset = 0\n",
    "    ),\n",
    "    pbar\n",
    ")"
   ]
  },
  {
   "cell_type": "code",
   "execution_count": 62,
   "metadata": {},
   "outputs": [
    {
     "data": {
      "application/vnd.jupyter.widget-view+json": {
       "model_id": "1a791f6ba3fe4328ac04708b4f016e08",
       "version_major": 2,
       "version_minor": 0
      },
      "text/plain": [
       "  0%|          | 0/2000 [00:00<?, ?it/s]"
      ]
     },
     "metadata": {},
     "output_type": "display_data"
    },
    {
     "name": "stdout",
     "output_type": "stream",
     "text": [
      "CPU times: user 13.7 s, sys: 4.5 s, total: 18.2 s\n",
      "Wall time: 13min 16s\n"
     ]
    }
   ],
   "source": [
    "%%time\n",
    "# Create progress bar\n",
    "pbar = tqdm(total = 2000)\n",
    "\n",
    "# Generate dataset\n",
    "generate_dataset_parallel(\n",
    "    Arguments(\n",
    "        name = 'FRB',\n",
    "        method = 'FFT',\n",
    "        atm = full_atm,\n",
    "        duration = 0.5,\n",
    "        duration_label = '500ms',\n",
    "        num_simulations = 2000,\n",
    "        num_phot = int(8e4),\n",
    "        offset = 0\n",
    "    ),\n",
    "    pbar\n",
    ")"
   ]
  },
  {
   "cell_type": "code",
   "execution_count": 63,
   "metadata": {},
   "outputs": [
    {
     "data": {
      "application/vnd.jupyter.widget-view+json": {
       "model_id": "518f06e4c525458c8cb56adce636bc92",
       "version_major": 2,
       "version_minor": 0
      },
      "text/plain": [
       "  0%|          | 0/2000 [00:00<?, ?it/s]"
      ]
     },
     "metadata": {},
     "output_type": "display_data"
    },
    {
     "name": "stdout",
     "output_type": "stream",
     "text": [
      "CPU times: user 13.5 s, sys: 4.55 s, total: 18 s\n",
      "Wall time: 13min 7s\n"
     ]
    }
   ],
   "source": [
    "%%time\n",
    "# Create progress bar\n",
    "pbar = tqdm(total = 2000)\n",
    "\n",
    "# Generate dataset\n",
    "generate_dataset_parallel(\n",
    "    Arguments(\n",
    "        name = 'FRB',\n",
    "        method = 'FFT',\n",
    "        atm = full_atm,\n",
    "        duration = 0.5,\n",
    "        duration_label = '500ms',\n",
    "        num_simulations = 2000,\n",
    "        num_phot = int(6e4),\n",
    "        offset = 0\n",
    "    ),\n",
    "    pbar\n",
    ")"
   ]
  },
  {
   "cell_type": "code",
   "execution_count": 64,
   "metadata": {},
   "outputs": [
    {
     "data": {
      "application/vnd.jupyter.widget-view+json": {
       "model_id": "060391c2107d455c97f67ce394b2fe3f",
       "version_major": 2,
       "version_minor": 0
      },
      "text/plain": [
       "  0%|          | 0/2000 [00:00<?, ?it/s]"
      ]
     },
     "metadata": {},
     "output_type": "display_data"
    },
    {
     "name": "stdout",
     "output_type": "stream",
     "text": [
      "CPU times: user 13.6 s, sys: 4.69 s, total: 18.2 s\n",
      "Wall time: 13min 3s\n"
     ]
    }
   ],
   "source": [
    "%%time\n",
    "# Create progress bar\n",
    "pbar = tqdm(total = 2000)\n",
    "\n",
    "# Generate dataset\n",
    "generate_dataset_parallel(\n",
    "    Arguments(\n",
    "        name = 'FRB',\n",
    "        method = 'FFT',\n",
    "        atm = full_atm,\n",
    "        duration = 0.5,\n",
    "        duration_label = '500ms',\n",
    "        num_simulations = 2000,\n",
    "        num_phot = int(4e4),\n",
    "        offset = 0\n",
    "    ),\n",
    "    pbar\n",
    ")"
   ]
  },
  {
   "cell_type": "code",
   "execution_count": 65,
   "metadata": {},
   "outputs": [
    {
     "data": {
      "application/vnd.jupyter.widget-view+json": {
       "model_id": "55ecb8865285488e800e8c6b61a2f22f",
       "version_major": 2,
       "version_minor": 0
      },
      "text/plain": [
       "  0%|          | 0/2000 [00:00<?, ?it/s]"
      ]
     },
     "metadata": {},
     "output_type": "display_data"
    },
    {
     "name": "stdout",
     "output_type": "stream",
     "text": [
      "CPU times: user 13.8 s, sys: 4.68 s, total: 18.4 s\n",
      "Wall time: 12min 59s\n"
     ]
    }
   ],
   "source": [
    "%%time\n",
    "# Create progress bar\n",
    "pbar = tqdm(total = 2000)\n",
    "\n",
    "# Generate dataset\n",
    "generate_dataset_parallel(\n",
    "    Arguments(\n",
    "        name = 'FRB',\n",
    "        method = 'FFT',\n",
    "        atm = full_atm,\n",
    "        duration = 0.5,\n",
    "        duration_label = '500ms',\n",
    "        num_simulations = 2000,\n",
    "        num_phot = int(2e4),\n",
    "        offset = 0\n",
    "    ),\n",
    "    pbar\n",
    ")"
   ]
  },
  {
   "cell_type": "code",
   "execution_count": 66,
   "metadata": {},
   "outputs": [
    {
     "data": {
      "application/vnd.jupyter.widget-view+json": {
       "model_id": "447b2fe377fd4e6fa5d0d3c72bf2c9d1",
       "version_major": 2,
       "version_minor": 0
      },
      "text/plain": [
       "  0%|          | 0/2000 [00:00<?, ?it/s]"
      ]
     },
     "metadata": {},
     "output_type": "display_data"
    },
    {
     "name": "stdout",
     "output_type": "stream",
     "text": [
      "CPU times: user 13.5 s, sys: 4.57 s, total: 18.1 s\n",
      "Wall time: 12min 52s\n"
     ]
    }
   ],
   "source": [
    "%%time\n",
    "# Create progress bar\n",
    "pbar = tqdm(total = 2000)\n",
    "\n",
    "# Generate dataset\n",
    "generate_dataset_parallel(\n",
    "    Arguments(\n",
    "        name = 'FRB',\n",
    "        method = 'FFT',\n",
    "        atm = full_atm,\n",
    "        duration = 0.5,\n",
    "        duration_label = '500ms',\n",
    "        num_simulations = 2000,\n",
    "        num_phot = int(1e4),\n",
    "        offset = 0\n",
    "    ),\n",
    "    pbar\n",
    ")"
   ]
  },
  {
   "cell_type": "code",
   "execution_count": 67,
   "metadata": {},
   "outputs": [
    {
     "data": {
      "application/vnd.jupyter.widget-view+json": {
       "model_id": "a547dd2bce8540cab0b1f33846eead85",
       "version_major": 2,
       "version_minor": 0
      },
      "text/plain": [
       "  0%|          | 0/2000 [00:00<?, ?it/s]"
      ]
     },
     "metadata": {},
     "output_type": "display_data"
    },
    {
     "name": "stdout",
     "output_type": "stream",
     "text": [
      "CPU times: user 14.1 s, sys: 5.02 s, total: 19.1 s\n",
      "Wall time: 16min 26s\n"
     ]
    }
   ],
   "source": [
    "%%time\n",
    "# Create progress bar\n",
    "pbar = tqdm(total = 2000)\n",
    "\n",
    "# Generate dataset\n",
    "generate_dataset_parallel(\n",
    "    Arguments(\n",
    "        name = 'FRB',\n",
    "        method = 'FFT',\n",
    "        atm = full_atm,\n",
    "        duration = 0.5,\n",
    "        duration_label = '500ms',\n",
    "        num_simulations = 2000,\n",
    "        num_phot = int(7.5e5),\n",
    "        offset = 0\n",
    "    ),\n",
    "    pbar\n",
    ")"
   ]
  },
  {
   "cell_type": "markdown",
   "metadata": {},
   "source": [
    "750ms"
   ]
  },
  {
   "cell_type": "code",
   "execution_count": 54,
   "metadata": {},
   "outputs": [
    {
     "data": {
      "application/vnd.jupyter.widget-view+json": {
       "model_id": "ef8dd8ac43e743dda84179ad12490e11",
       "version_major": 2,
       "version_minor": 0
      },
      "text/plain": [
       "  0%|          | 0/2000 [00:00<?, ?it/s]"
      ]
     },
     "metadata": {},
     "output_type": "display_data"
    },
    {
     "name": "stdout",
     "output_type": "stream",
     "text": [
      "CPU times: user 15.5 s, sys: 5.91 s, total: 21.4 s\n",
      "Wall time: 18min 55s\n"
     ]
    }
   ],
   "source": [
    "%%time\n",
    "# Create progress bar\n",
    "pbar = tqdm(total = 2000)\n",
    "\n",
    "# Generate dataset\n",
    "generate_dataset_parallel(\n",
    "    Arguments(\n",
    "        name = 'FRB',\n",
    "        method = 'FFT',\n",
    "        atm = full_atm,\n",
    "        duration = 0.75,\n",
    "        duration_label = '750ms',\n",
    "        num_simulations = 2000,\n",
    "        num_phot = int(7.5e5),\n",
    "        offset = 0\n",
    "    ),\n",
    "    pbar\n",
    ")"
   ]
  },
  {
   "cell_type": "code",
   "execution_count": 55,
   "metadata": {},
   "outputs": [
    {
     "data": {
      "application/vnd.jupyter.widget-view+json": {
       "model_id": "52d0ae7139394d0abd38016e4428a0be",
       "version_major": 2,
       "version_minor": 0
      },
      "text/plain": [
       "  0%|          | 0/2000 [00:00<?, ?it/s]"
      ]
     },
     "metadata": {},
     "output_type": "display_data"
    },
    {
     "name": "stdout",
     "output_type": "stream",
     "text": [
      "CPU times: user 15.7 s, sys: 5.68 s, total: 21.3 s\n",
      "Wall time: 15min 42s\n"
     ]
    }
   ],
   "source": [
    "%%time\n",
    "# Create progress bar\n",
    "pbar = tqdm(total = 2000)\n",
    "\n",
    "# Generate dataset\n",
    "generate_dataset_parallel(\n",
    "    Arguments(\n",
    "        name = 'FRB',\n",
    "        method = 'FFT',\n",
    "        atm = full_atm,\n",
    "        duration = 0.75,\n",
    "        duration_label = '750ms',\n",
    "        num_simulations = 2000,\n",
    "        num_phot = int(1e5),\n",
    "        offset = 0\n",
    "    ),\n",
    "    pbar\n",
    ")"
   ]
  },
  {
   "cell_type": "code",
   "execution_count": 56,
   "metadata": {},
   "outputs": [
    {
     "data": {
      "application/vnd.jupyter.widget-view+json": {
       "model_id": "210a909f7e3a40649923edc41692b7b5",
       "version_major": 2,
       "version_minor": 0
      },
      "text/plain": [
       "  0%|          | 0/2000 [00:00<?, ?it/s]"
      ]
     },
     "metadata": {},
     "output_type": "display_data"
    },
    {
     "name": "stdout",
     "output_type": "stream",
     "text": [
      "CPU times: user 15.8 s, sys: 5.69 s, total: 21.5 s\n",
      "Wall time: 15min 43s\n"
     ]
    }
   ],
   "source": [
    "%%time\n",
    "# Create progress bar\n",
    "pbar = tqdm(total = 2000)\n",
    "\n",
    "# Generate dataset\n",
    "generate_dataset_parallel(\n",
    "    Arguments(\n",
    "        name = 'FRB',\n",
    "        method = 'FFT',\n",
    "        atm = full_atm,\n",
    "        duration = 0.75,\n",
    "        duration_label = '750ms',\n",
    "        num_simulations = 2000,\n",
    "        num_phot = int(8e4),\n",
    "        offset = 0\n",
    "    ),\n",
    "    pbar\n",
    ")"
   ]
  },
  {
   "cell_type": "code",
   "execution_count": 57,
   "metadata": {},
   "outputs": [
    {
     "data": {
      "application/vnd.jupyter.widget-view+json": {
       "model_id": "ce46faa22a5945b5b60b1dfed42372b6",
       "version_major": 2,
       "version_minor": 0
      },
      "text/plain": [
       "  0%|          | 0/2000 [00:00<?, ?it/s]"
      ]
     },
     "metadata": {},
     "output_type": "display_data"
    },
    {
     "name": "stdout",
     "output_type": "stream",
     "text": [
      "CPU times: user 15.4 s, sys: 5.81 s, total: 21.2 s\n",
      "Wall time: 15min 40s\n"
     ]
    }
   ],
   "source": [
    "%%time\n",
    "# Create progress bar\n",
    "pbar = tqdm(total = 2000)\n",
    "\n",
    "# Generate dataset\n",
    "generate_dataset_parallel(\n",
    "    Arguments(\n",
    "        name = 'FRB',\n",
    "        method = 'FFT',\n",
    "        atm = full_atm,\n",
    "        duration = 0.75,\n",
    "        duration_label = '750ms',\n",
    "        num_simulations = 2000,\n",
    "        num_phot = int(6e4),\n",
    "        offset = 0\n",
    "    ),\n",
    "    pbar\n",
    ")"
   ]
  },
  {
   "cell_type": "code",
   "execution_count": 58,
   "metadata": {},
   "outputs": [
    {
     "data": {
      "application/vnd.jupyter.widget-view+json": {
       "model_id": "b4fa883129234447a88a6d25e3b80d33",
       "version_major": 2,
       "version_minor": 0
      },
      "text/plain": [
       "  0%|          | 0/2000 [00:00<?, ?it/s]"
      ]
     },
     "metadata": {},
     "output_type": "display_data"
    },
    {
     "name": "stdout",
     "output_type": "stream",
     "text": [
      "CPU times: user 15.8 s, sys: 5.7 s, total: 21.5 s\n",
      "Wall time: 15min 36s\n"
     ]
    }
   ],
   "source": [
    "%%time\n",
    "# Create progress bar\n",
    "pbar = tqdm(total = 2000)\n",
    "\n",
    "# Generate dataset\n",
    "generate_dataset_parallel(\n",
    "    Arguments(\n",
    "        name = 'FRB',\n",
    "        method = 'FFT',\n",
    "        atm = full_atm,\n",
    "        duration = 0.75,\n",
    "        duration_label = '750ms',\n",
    "        num_simulations = 2000,\n",
    "        num_phot = int(4e4),\n",
    "        offset = 0\n",
    "    ),\n",
    "    pbar\n",
    ")"
   ]
  },
  {
   "cell_type": "code",
   "execution_count": 59,
   "metadata": {},
   "outputs": [
    {
     "data": {
      "application/vnd.jupyter.widget-view+json": {
       "model_id": "4d34f873db1b4cc1a8edafa460372dd5",
       "version_major": 2,
       "version_minor": 0
      },
      "text/plain": [
       "  0%|          | 0/2000 [00:00<?, ?it/s]"
      ]
     },
     "metadata": {},
     "output_type": "display_data"
    },
    {
     "name": "stdout",
     "output_type": "stream",
     "text": [
      "CPU times: user 15.8 s, sys: 5.41 s, total: 21.2 s\n",
      "Wall time: 15min 28s\n"
     ]
    }
   ],
   "source": [
    "%%time\n",
    "# Create progress bar\n",
    "pbar = tqdm(total = 2000)\n",
    "\n",
    "# Generate dataset\n",
    "generate_dataset_parallel(\n",
    "    Arguments(\n",
    "        name = 'FRB',\n",
    "        method = 'FFT',\n",
    "        atm = full_atm,\n",
    "        duration = 0.75,\n",
    "        duration_label = '750ms',\n",
    "        num_simulations = 2000,\n",
    "        num_phot = int(2e4),\n",
    "        offset = 0\n",
    "    ),\n",
    "    pbar\n",
    ")"
   ]
  },
  {
   "cell_type": "code",
   "execution_count": 60,
   "metadata": {},
   "outputs": [
    {
     "data": {
      "application/vnd.jupyter.widget-view+json": {
       "model_id": "7ac768d2c7eb4a098f356c3ff5c498db",
       "version_major": 2,
       "version_minor": 0
      },
      "text/plain": [
       "  0%|          | 0/2000 [00:00<?, ?it/s]"
      ]
     },
     "metadata": {},
     "output_type": "display_data"
    },
    {
     "name": "stdout",
     "output_type": "stream",
     "text": [
      "CPU times: user 15.5 s, sys: 5.61 s, total: 21.1 s\n",
      "Wall time: 15min 25s\n"
     ]
    }
   ],
   "source": [
    "%%time\n",
    "# Create progress bar\n",
    "pbar = tqdm(total = 2000)\n",
    "\n",
    "# Generate dataset\n",
    "generate_dataset_parallel(\n",
    "    Arguments(\n",
    "        name = 'FRB',\n",
    "        method = 'FFT',\n",
    "        atm = full_atm,\n",
    "        duration = 0.75,\n",
    "        duration_label = '750ms',\n",
    "        num_simulations = 2000,\n",
    "        num_phot = int(1e4),\n",
    "        offset = 0\n",
    "    ),\n",
    "    pbar\n",
    ")"
   ]
  },
  {
   "cell_type": "markdown",
   "metadata": {},
   "source": [
    "400ms"
   ]
  },
  {
   "cell_type": "code",
   "execution_count": 68,
   "metadata": {},
   "outputs": [
    {
     "data": {
      "application/vnd.jupyter.widget-view+json": {
       "model_id": "fc65dca4640247fe91661eb888949877",
       "version_major": 2,
       "version_minor": 0
      },
      "text/plain": [
       "  0%|          | 0/2000 [00:00<?, ?it/s]"
      ]
     },
     "metadata": {},
     "output_type": "display_data"
    },
    {
     "name": "stdout",
     "output_type": "stream",
     "text": [
      "CPU times: user 18.1 s, sys: 7.47 s, total: 25.5 s\n",
      "Wall time: 22min 7s\n"
     ]
    }
   ],
   "source": [
    "%%time\n",
    "# Create progress bar\n",
    "pbar = tqdm(total = 2000)\n",
    "\n",
    "# Generate dataset\n",
    "generate_dataset_parallel(\n",
    "    Arguments(\n",
    "        name = 'FRB',\n",
    "        method = 'FFT',\n",
    "        atm = full_atm,\n",
    "        duration = 1,\n",
    "        duration_label = '1000ms',\n",
    "        num_simulations = 2000,\n",
    "        num_phot = int(7.5e5),\n",
    "        offset = 0\n",
    "    ),\n",
    "    pbar\n",
    ")"
   ]
  },
  {
   "cell_type": "code",
   "execution_count": 69,
   "metadata": {},
   "outputs": [
    {
     "data": {
      "application/vnd.jupyter.widget-view+json": {
       "model_id": "025cb2314932462fbe166295079c743d",
       "version_major": 2,
       "version_minor": 0
      },
      "text/plain": [
       "  0%|          | 0/2000 [00:00<?, ?it/s]"
      ]
     },
     "metadata": {},
     "output_type": "display_data"
    },
    {
     "name": "stdout",
     "output_type": "stream",
     "text": [
      "CPU times: user 17.2 s, sys: 6.88 s, total: 24.1 s\n",
      "Wall time: 18min 23s\n"
     ]
    }
   ],
   "source": [
    "%%time\n",
    "# Create progress bar\n",
    "pbar = tqdm(total = 2000)\n",
    "\n",
    "# Generate dataset\n",
    "generate_dataset_parallel(\n",
    "    Arguments(\n",
    "        name = 'FRB',\n",
    "        method = 'FFT',\n",
    "        atm = full_atm,\n",
    "        duration = 1,\n",
    "        duration_label = '1000ms',\n",
    "        num_simulations = 2000,\n",
    "        num_phot = int(1e5),\n",
    "        offset = 0\n",
    "    ),\n",
    "    pbar\n",
    ")"
   ]
  },
  {
   "cell_type": "code",
   "execution_count": 70,
   "metadata": {},
   "outputs": [
    {
     "data": {
      "application/vnd.jupyter.widget-view+json": {
       "model_id": "69716c7eb3df4440a214b03528dff139",
       "version_major": 2,
       "version_minor": 0
      },
      "text/plain": [
       "  0%|          | 0/2000 [00:00<?, ?it/s]"
      ]
     },
     "metadata": {},
     "output_type": "display_data"
    },
    {
     "name": "stdout",
     "output_type": "stream",
     "text": [
      "CPU times: user 17.3 s, sys: 6.47 s, total: 23.7 s\n",
      "Wall time: 18min 30s\n"
     ]
    }
   ],
   "source": [
    "%%time\n",
    "# Create progress bar\n",
    "pbar = tqdm(total = 2000)\n",
    "\n",
    "# Generate dataset\n",
    "generate_dataset_parallel(\n",
    "    Arguments(\n",
    "        name = 'FRB',\n",
    "        method = 'FFT',\n",
    "        atm = full_atm,\n",
    "        duration = 1,\n",
    "        duration_label = '1000ms',\n",
    "        num_simulations = 2000,\n",
    "        num_phot = int(8e4),\n",
    "        offset = 0\n",
    "    ),\n",
    "    pbar\n",
    ")"
   ]
  },
  {
   "cell_type": "code",
   "execution_count": 71,
   "metadata": {},
   "outputs": [
    {
     "data": {
      "application/vnd.jupyter.widget-view+json": {
       "model_id": "a4dc5cb0c49f4907806166e7bb8bb34c",
       "version_major": 2,
       "version_minor": 0
      },
      "text/plain": [
       "  0%|          | 0/2000 [00:00<?, ?it/s]"
      ]
     },
     "metadata": {},
     "output_type": "display_data"
    },
    {
     "name": "stdout",
     "output_type": "stream",
     "text": [
      "CPU times: user 17.3 s, sys: 6.64 s, total: 23.9 s\n",
      "Wall time: 18min 20s\n"
     ]
    }
   ],
   "source": [
    "%%time\n",
    "# Create progress bar\n",
    "pbar = tqdm(total = 2000)\n",
    "\n",
    "# Generate dataset\n",
    "generate_dataset_parallel(\n",
    "    Arguments(\n",
    "        name = 'FRB',\n",
    "        method = 'FFT',\n",
    "        atm = full_atm,\n",
    "        duration = 1,\n",
    "        duration_label = '1000ms',\n",
    "        num_simulations = 2000,\n",
    "        num_phot = int(6e4),\n",
    "        offset = 0\n",
    "    ),\n",
    "    pbar\n",
    ")"
   ]
  },
  {
   "cell_type": "code",
   "execution_count": 72,
   "metadata": {},
   "outputs": [
    {
     "data": {
      "application/vnd.jupyter.widget-view+json": {
       "model_id": "3de55d1457a841b094205d0c0b14e63f",
       "version_major": 2,
       "version_minor": 0
      },
      "text/plain": [
       "  0%|          | 0/2000 [00:00<?, ?it/s]"
      ]
     },
     "metadata": {},
     "output_type": "display_data"
    },
    {
     "name": "stdout",
     "output_type": "stream",
     "text": [
      "CPU times: user 17.6 s, sys: 6.47 s, total: 24.1 s\n",
      "Wall time: 18min 10s\n"
     ]
    }
   ],
   "source": [
    "%%time\n",
    "# Create progress bar\n",
    "pbar = tqdm(total = 2000)\n",
    "\n",
    "# Generate dataset\n",
    "generate_dataset_parallel(\n",
    "    Arguments(\n",
    "        name = 'FRB',\n",
    "        method = 'FFT',\n",
    "        atm = full_atm,\n",
    "        duration = 1,\n",
    "        duration_label = '1000ms',\n",
    "        num_simulations = 2000,\n",
    "        num_phot = int(4e4),\n",
    "        offset = 0\n",
    "    ),\n",
    "    pbar\n",
    ")"
   ]
  },
  {
   "cell_type": "code",
   "execution_count": 73,
   "metadata": {},
   "outputs": [
    {
     "data": {
      "application/vnd.jupyter.widget-view+json": {
       "model_id": "df888fc7c93f448aae9c50dabff1af1b",
       "version_major": 2,
       "version_minor": 0
      },
      "text/plain": [
       "  0%|          | 0/2000 [00:00<?, ?it/s]"
      ]
     },
     "metadata": {},
     "output_type": "display_data"
    },
    {
     "name": "stdout",
     "output_type": "stream",
     "text": [
      "CPU times: user 17.5 s, sys: 6.94 s, total: 24.5 s\n",
      "Wall time: 18min 8s\n"
     ]
    }
   ],
   "source": [
    "%%time\n",
    "# Create progress bar\n",
    "pbar = tqdm(total = 2000)\n",
    "\n",
    "# Generate dataset\n",
    "generate_dataset_parallel(\n",
    "    Arguments(\n",
    "        name = 'FRB',\n",
    "        method = 'FFT',\n",
    "        atm = full_atm,\n",
    "        duration = 1,\n",
    "        duration_label = '1000ms',\n",
    "        num_simulations = 2000,\n",
    "        num_phot = int(2e4),\n",
    "        offset = 0\n",
    "    ),\n",
    "    pbar\n",
    ")"
   ]
  },
  {
   "cell_type": "code",
   "execution_count": 74,
   "metadata": {},
   "outputs": [
    {
     "data": {
      "application/vnd.jupyter.widget-view+json": {
       "model_id": "d839516fa9f54541a58687fb254ba951",
       "version_major": 2,
       "version_minor": 0
      },
      "text/plain": [
       "  0%|          | 0/2000 [00:00<?, ?it/s]"
      ]
     },
     "metadata": {},
     "output_type": "display_data"
    },
    {
     "name": "stdout",
     "output_type": "stream",
     "text": [
      "CPU times: user 17.2 s, sys: 6.41 s, total: 23.6 s\n",
      "Wall time: 18min 1s\n"
     ]
    }
   ],
   "source": [
    "%%time\n",
    "# Create progress bar\n",
    "pbar = tqdm(total = 2000)\n",
    "\n",
    "# Generate dataset\n",
    "generate_dataset_parallel(\n",
    "    Arguments(\n",
    "        name = 'FRB',\n",
    "        method = 'FFT',\n",
    "        atm = full_atm,\n",
    "        duration = 1,\n",
    "        duration_label = '1000ms',\n",
    "        num_simulations = 2000,\n",
    "        num_phot = int(1e4),\n",
    "        offset = 0\n",
    "    ),\n",
    "    pbar\n",
    ")"
   ]
  },
  {
   "cell_type": "markdown",
   "metadata": {},
   "source": [
    "450ms"
   ]
  },
  {
   "cell_type": "code",
   "execution_count": 40,
   "metadata": {},
   "outputs": [
    {
     "data": {
      "application/vnd.jupyter.widget-view+json": {
       "model_id": "007e9e9c2a7c49ba8ca92c959b2bbd59",
       "version_major": 2,
       "version_minor": 0
      },
      "text/plain": [
       "  0%|          | 0/2000 [00:00<?, ?it/s]"
      ]
     },
     "metadata": {},
     "output_type": "display_data"
    },
    {
     "name": "stdout",
     "output_type": "stream",
     "text": [
      "CPU times: user 13.9 s, sys: 4.92 s, total: 18.8 s\n",
      "Wall time: 16min\n"
     ]
    }
   ],
   "source": [
    "%%time\n",
    "# Create progress bar\n",
    "pbar = tqdm(total = 2000)\n",
    "\n",
    "# Generate dataset\n",
    "generate_dataset_parallel(\n",
    "    Arguments(\n",
    "        name = 'FRB',\n",
    "        method = 'FFT',\n",
    "        atm = full_atm,\n",
    "        duration = 0.45,\n",
    "        duration_label = '450ms',\n",
    "        num_simulations = 2000,\n",
    "        num_phot = int(7.5e5),\n",
    "        offset = 0\n",
    "    ),\n",
    "    pbar\n",
    ")"
   ]
  },
  {
   "cell_type": "code",
   "execution_count": 41,
   "metadata": {},
   "outputs": [
    {
     "data": {
      "application/vnd.jupyter.widget-view+json": {
       "model_id": "01c1ff55cbed4b299d46478e85c16389",
       "version_major": 2,
       "version_minor": 0
      },
      "text/plain": [
       "  0%|          | 0/2000 [00:00<?, ?it/s]"
      ]
     },
     "metadata": {},
     "output_type": "display_data"
    },
    {
     "name": "stdout",
     "output_type": "stream",
     "text": [
      "CPU times: user 13.5 s, sys: 4.41 s, total: 17.9 s\n",
      "Wall time: 12min 47s\n"
     ]
    }
   ],
   "source": [
    "%%time\n",
    "# Create progress bar\n",
    "pbar = tqdm(total = 2000)\n",
    "\n",
    "# Generate dataset\n",
    "generate_dataset_parallel(\n",
    "    Arguments(\n",
    "        name = 'FRB',\n",
    "        method = 'FFT',\n",
    "        atm = full_atm,\n",
    "        duration = 0.45,\n",
    "        duration_label = '450ms',\n",
    "        num_simulations = 2000,\n",
    "        num_phot = int(1e5),\n",
    "        offset = 0\n",
    "    ),\n",
    "    pbar\n",
    ")"
   ]
  },
  {
   "cell_type": "code",
   "execution_count": 42,
   "metadata": {},
   "outputs": [
    {
     "data": {
      "application/vnd.jupyter.widget-view+json": {
       "model_id": "8f5d603c7db84e8399963edc8a3c11ff",
       "version_major": 2,
       "version_minor": 0
      },
      "text/plain": [
       "  0%|          | 0/2000 [00:00<?, ?it/s]"
      ]
     },
     "metadata": {},
     "output_type": "display_data"
    },
    {
     "name": "stdout",
     "output_type": "stream",
     "text": [
      "CPU times: user 13.2 s, sys: 4.71 s, total: 18 s\n",
      "Wall time: 12min 43s\n"
     ]
    }
   ],
   "source": [
    "%%time\n",
    "# Create progress bar\n",
    "pbar = tqdm(total = 2000)\n",
    "\n",
    "# Generate dataset\n",
    "generate_dataset_parallel(\n",
    "    Arguments(\n",
    "        name = 'FRB',\n",
    "        method = 'FFT',\n",
    "        atm = full_atm,\n",
    "        duration = 0.45,\n",
    "        duration_label = '450ms',\n",
    "        num_simulations = 2000,\n",
    "        num_phot = int(8e4),\n",
    "        offset = 0\n",
    "    ),\n",
    "    pbar\n",
    ")"
   ]
  },
  {
   "cell_type": "code",
   "execution_count": 43,
   "metadata": {},
   "outputs": [
    {
     "data": {
      "application/vnd.jupyter.widget-view+json": {
       "model_id": "397d3323d3434dbf9421760bb772fb7b",
       "version_major": 2,
       "version_minor": 0
      },
      "text/plain": [
       "  0%|          | 0/2000 [00:00<?, ?it/s]"
      ]
     },
     "metadata": {},
     "output_type": "display_data"
    },
    {
     "name": "stdout",
     "output_type": "stream",
     "text": [
      "CPU times: user 13.4 s, sys: 4.39 s, total: 17.8 s\n",
      "Wall time: 12min 36s\n"
     ]
    }
   ],
   "source": [
    "%%time\n",
    "# Create progress bar\n",
    "pbar = tqdm(total = 2000)\n",
    "\n",
    "# Generate dataset\n",
    "generate_dataset_parallel(\n",
    "    Arguments(\n",
    "        name = 'FRB',\n",
    "        method = 'FFT',\n",
    "        atm = full_atm,\n",
    "        duration = 0.45,\n",
    "        duration_label = '450ms',\n",
    "        num_simulations = 2000,\n",
    "        num_phot = int(6e4),\n",
    "        offset = 0\n",
    "    ),\n",
    "    pbar\n",
    ")"
   ]
  },
  {
   "cell_type": "code",
   "execution_count": 44,
   "metadata": {},
   "outputs": [
    {
     "data": {
      "application/vnd.jupyter.widget-view+json": {
       "model_id": "8166a35c17a54e149657a6bc65e9d1bb",
       "version_major": 2,
       "version_minor": 0
      },
      "text/plain": [
       "  0%|          | 0/2000 [00:00<?, ?it/s]"
      ]
     },
     "metadata": {},
     "output_type": "display_data"
    },
    {
     "name": "stdout",
     "output_type": "stream",
     "text": [
      "CPU times: user 13.3 s, sys: 4.27 s, total: 17.6 s\n",
      "Wall time: 12min 29s\n"
     ]
    }
   ],
   "source": [
    "%%time\n",
    "# Create progress bar\n",
    "pbar = tqdm(total = 2000)\n",
    "\n",
    "# Generate dataset\n",
    "generate_dataset_parallel(\n",
    "    Arguments(\n",
    "        name = 'FRB',\n",
    "        method = 'FFT',\n",
    "        atm = full_atm,\n",
    "        duration = 0.45,\n",
    "        duration_label = '450ms',\n",
    "        num_simulations = 2000,\n",
    "        num_phot = int(4e4),\n",
    "        offset = 0\n",
    "    ),\n",
    "    pbar\n",
    ")"
   ]
  },
  {
   "cell_type": "code",
   "execution_count": 45,
   "metadata": {},
   "outputs": [
    {
     "data": {
      "application/vnd.jupyter.widget-view+json": {
       "model_id": "8cb1271afe86486da9e248c666b1e68d",
       "version_major": 2,
       "version_minor": 0
      },
      "text/plain": [
       "  0%|          | 0/2000 [00:00<?, ?it/s]"
      ]
     },
     "metadata": {},
     "output_type": "display_data"
    },
    {
     "name": "stdout",
     "output_type": "stream",
     "text": [
      "CPU times: user 13.5 s, sys: 4.32 s, total: 17.8 s\n",
      "Wall time: 12min 29s\n"
     ]
    }
   ],
   "source": [
    "%%time\n",
    "# Create progress bar\n",
    "pbar = tqdm(total = 2000)\n",
    "\n",
    "# Generate dataset\n",
    "generate_dataset_parallel(\n",
    "    Arguments(\n",
    "        name = 'FRB',\n",
    "        method = 'FFT',\n",
    "        atm = full_atm,\n",
    "        duration = 0.45,\n",
    "        duration_label = '450ms',\n",
    "        num_simulations = 2000,\n",
    "        num_phot = int(2e4),\n",
    "        offset = 0\n",
    "    ),\n",
    "    pbar\n",
    ")"
   ]
  },
  {
   "cell_type": "code",
   "execution_count": 46,
   "metadata": {},
   "outputs": [
    {
     "data": {
      "application/vnd.jupyter.widget-view+json": {
       "model_id": "3e60dd1b457c4718b7f25b35981cd066",
       "version_major": 2,
       "version_minor": 0
      },
      "text/plain": [
       "  0%|          | 0/2000 [00:00<?, ?it/s]"
      ]
     },
     "metadata": {},
     "output_type": "display_data"
    },
    {
     "name": "stdout",
     "output_type": "stream",
     "text": [
      "CPU times: user 13.5 s, sys: 4.32 s, total: 17.8 s\n",
      "Wall time: 12min 22s\n"
     ]
    }
   ],
   "source": [
    "%%time\n",
    "# Create progress bar\n",
    "pbar = tqdm(total = 2000)\n",
    "\n",
    "# Generate dataset\n",
    "generate_dataset_parallel(\n",
    "    Arguments(\n",
    "        name = 'FRB',\n",
    "        method = 'FFT',\n",
    "        atm = full_atm,\n",
    "        duration = 0.45,\n",
    "        duration_label = '450ms',\n",
    "        num_simulations = 2000,\n",
    "        num_phot = int(1e4),\n",
    "        offset = 0\n",
    "    ),\n",
    "    pbar\n",
    ")"
   ]
  },
  {
   "cell_type": "markdown",
   "metadata": {},
   "source": [
    "20ms"
   ]
  },
  {
   "cell_type": "code",
   "execution_count": 45,
   "metadata": {},
   "outputs": [
    {
     "data": {
      "application/vnd.jupyter.widget-view+json": {
       "model_id": "e64d2997f6ea4d7c9547783c1394a15a",
       "version_major": 2,
       "version_minor": 0
      },
      "text/plain": [
       "  0%|          | 0/2000 [00:00<?, ?it/s]"
      ]
     },
     "metadata": {},
     "output_type": "display_data"
    },
    {
     "name": "stdout",
     "output_type": "stream",
     "text": [
      "CPU times: user 9.87 s, sys: 3.1 s, total: 13 s\n",
      "Wall time: 8min 39s\n"
     ]
    }
   ],
   "source": [
    "%%time\n",
    "# Create progress bar\n",
    "pbar = tqdm(total = 2000)\n",
    "\n",
    "# Generate dataset\n",
    "generate_dataset_parallel(\n",
    "    Arguments(\n",
    "        name = 'FRB',\n",
    "        method = 'FFT',\n",
    "        atm = full_atm,\n",
    "        duration = 0.020,\n",
    "        duration_label = '20ms',\n",
    "        num_simulations = 2000,\n",
    "        num_phot = int(1e5),\n",
    "        offset = 0\n",
    "    ),\n",
    "    pbar\n",
    ")"
   ]
  },
  {
   "cell_type": "code",
   "execution_count": 46,
   "metadata": {},
   "outputs": [
    {
     "data": {
      "application/vnd.jupyter.widget-view+json": {
       "model_id": "8bcd232df8e247d8a772d46d67bb6361",
       "version_major": 2,
       "version_minor": 0
      },
      "text/plain": [
       "  0%|          | 0/2000 [00:00<?, ?it/s]"
      ]
     },
     "metadata": {},
     "output_type": "display_data"
    },
    {
     "name": "stdout",
     "output_type": "stream",
     "text": [
      "CPU times: user 9.78 s, sys: 3.37 s, total: 13.1 s\n",
      "Wall time: 8min 45s\n"
     ]
    }
   ],
   "source": [
    "%%time\n",
    "# Create progress bar\n",
    "pbar = tqdm(total = 2000)\n",
    "\n",
    "# Generate dataset\n",
    "generate_dataset_parallel(\n",
    "    Arguments(\n",
    "        name = 'FRB',\n",
    "        method = 'FFT',\n",
    "        atm = full_atm,\n",
    "        duration = 0.020,\n",
    "        duration_label = '20ms',\n",
    "        num_simulations = 2000,\n",
    "        num_phot = int(8e4),\n",
    "        offset = 0\n",
    "    ),\n",
    "    pbar\n",
    ")"
   ]
  },
  {
   "cell_type": "code",
   "execution_count": 47,
   "metadata": {},
   "outputs": [
    {
     "data": {
      "application/vnd.jupyter.widget-view+json": {
       "model_id": "4fd575fd9e9447e78724f98bb0eeb9b2",
       "version_major": 2,
       "version_minor": 0
      },
      "text/plain": [
       "  0%|          | 0/2000 [00:00<?, ?it/s]"
      ]
     },
     "metadata": {},
     "output_type": "display_data"
    },
    {
     "name": "stdout",
     "output_type": "stream",
     "text": [
      "CPU times: user 9.92 s, sys: 3.09 s, total: 13 s\n",
      "Wall time: 8min 34s\n"
     ]
    }
   ],
   "source": [
    "%%time\n",
    "# Create progress bar\n",
    "pbar = tqdm(total = 2000)\n",
    "\n",
    "# Generate dataset\n",
    "generate_dataset_parallel(\n",
    "    Arguments(\n",
    "        name = 'FRB',\n",
    "        method = 'FFT',\n",
    "        atm = full_atm,\n",
    "        duration = 0.020,\n",
    "        duration_label = '20ms',\n",
    "        num_simulations = 2000,\n",
    "        num_phot = int(6e4),\n",
    "        offset = 0\n",
    "    ),\n",
    "    pbar\n",
    ")"
   ]
  },
  {
   "cell_type": "code",
   "execution_count": 48,
   "metadata": {},
   "outputs": [
    {
     "data": {
      "application/vnd.jupyter.widget-view+json": {
       "model_id": "69e6a77d4e1d4808b9b3fd55221403e5",
       "version_major": 2,
       "version_minor": 0
      },
      "text/plain": [
       "  0%|          | 0/2000 [00:00<?, ?it/s]"
      ]
     },
     "metadata": {},
     "output_type": "display_data"
    },
    {
     "name": "stdout",
     "output_type": "stream",
     "text": [
      "CPU times: user 9.77 s, sys: 3.23 s, total: 13 s\n",
      "Wall time: 8min 33s\n"
     ]
    }
   ],
   "source": [
    "%%time\n",
    "# Create progress bar\n",
    "pbar = tqdm(total = 2000)\n",
    "\n",
    "# Generate dataset\n",
    "generate_dataset_parallel(\n",
    "    Arguments(\n",
    "        name = 'FRB',\n",
    "        method = 'FFT',\n",
    "        atm = full_atm,\n",
    "        duration = 0.020,\n",
    "        duration_label = '20ms',\n",
    "        num_simulations = 2000,\n",
    "        num_phot = int(4e4),\n",
    "        offset = 0\n",
    "    ),\n",
    "    pbar\n",
    ")"
   ]
  },
  {
   "cell_type": "code",
   "execution_count": 49,
   "metadata": {},
   "outputs": [
    {
     "data": {
      "application/vnd.jupyter.widget-view+json": {
       "model_id": "75f4f10fea4442179a1dc2f56a4c87d5",
       "version_major": 2,
       "version_minor": 0
      },
      "text/plain": [
       "  0%|          | 0/2000 [00:00<?, ?it/s]"
      ]
     },
     "metadata": {},
     "output_type": "display_data"
    },
    {
     "name": "stdout",
     "output_type": "stream",
     "text": [
      "CPU times: user 9.71 s, sys: 3.31 s, total: 13 s\n",
      "Wall time: 8min 26s\n"
     ]
    }
   ],
   "source": [
    "%%time\n",
    "# Create progress bar\n",
    "pbar = tqdm(total = 2000)\n",
    "\n",
    "# Generate dataset\n",
    "generate_dataset_parallel(\n",
    "    Arguments(\n",
    "        name = 'FRB',\n",
    "        method = 'FFT',\n",
    "        atm = full_atm,\n",
    "        duration = 0.020,\n",
    "        duration_label = '20ms',\n",
    "        num_simulations = 2000,\n",
    "        num_phot = int(2e4),\n",
    "        offset = 0\n",
    "    ),\n",
    "    pbar\n",
    ")"
   ]
  },
  {
   "cell_type": "code",
   "execution_count": 50,
   "metadata": {},
   "outputs": [
    {
     "data": {
      "application/vnd.jupyter.widget-view+json": {
       "model_id": "cf7e82f291f2450ea2819ee516d71e34",
       "version_major": 2,
       "version_minor": 0
      },
      "text/plain": [
       "  0%|          | 0/2000 [00:00<?, ?it/s]"
      ]
     },
     "metadata": {},
     "output_type": "display_data"
    },
    {
     "name": "stdout",
     "output_type": "stream",
     "text": [
      "CPU times: user 9.9 s, sys: 2.9 s, total: 12.8 s\n",
      "Wall time: 8min 23s\n"
     ]
    }
   ],
   "source": [
    "%%time\n",
    "# Create progress bar\n",
    "pbar = tqdm(total = 2000)\n",
    "\n",
    "# Generate dataset\n",
    "generate_dataset_parallel(\n",
    "    Arguments(\n",
    "        name = 'FRB',\n",
    "        method = 'FFT',\n",
    "        atm = full_atm,\n",
    "        duration = 0.020,\n",
    "        duration_label = '20ms',\n",
    "        num_simulations = 2000,\n",
    "        num_phot = int(1e4),\n",
    "        offset = 0\n",
    "    ),\n",
    "    pbar\n",
    ")"
   ]
  },
  {
   "cell_type": "markdown",
   "metadata": {},
   "source": [
    "10ms"
   ]
  },
  {
   "cell_type": "code",
   "execution_count": 51,
   "metadata": {},
   "outputs": [
    {
     "data": {
      "application/vnd.jupyter.widget-view+json": {
       "model_id": "8e0a7eb8e49e4d28a87545a234688f09",
       "version_major": 2,
       "version_minor": 0
      },
      "text/plain": [
       "  0%|          | 0/2000 [00:00<?, ?it/s]"
      ]
     },
     "metadata": {},
     "output_type": "display_data"
    },
    {
     "name": "stdout",
     "output_type": "stream",
     "text": [
      "CPU times: user 9.72 s, sys: 3.19 s, total: 12.9 s\n",
      "Wall time: 8min 45s\n"
     ]
    }
   ],
   "source": [
    "%%time\n",
    "# Create progress bar\n",
    "pbar = tqdm(total = 2000)\n",
    "\n",
    "# Generate dataset\n",
    "generate_dataset_parallel(\n",
    "    Arguments(\n",
    "        name = 'FRB',\n",
    "        method = 'FFT',\n",
    "        atm = full_atm,\n",
    "        duration = 0.010,\n",
    "        duration_label = '10ms',\n",
    "        num_simulations = 2000,\n",
    "        num_phot = int(1e5),\n",
    "        offset = 0\n",
    "    ),\n",
    "    pbar\n",
    ")"
   ]
  },
  {
   "cell_type": "code",
   "execution_count": 52,
   "metadata": {},
   "outputs": [
    {
     "data": {
      "application/vnd.jupyter.widget-view+json": {
       "model_id": "f921845dafdf40e7938b7c440ac5108f",
       "version_major": 2,
       "version_minor": 0
      },
      "text/plain": [
       "  0%|          | 0/2000 [00:00<?, ?it/s]"
      ]
     },
     "metadata": {},
     "output_type": "display_data"
    },
    {
     "name": "stdout",
     "output_type": "stream",
     "text": [
      "CPU times: user 9.62 s, sys: 3.23 s, total: 12.9 s\n",
      "Wall time: 8min 40s\n"
     ]
    }
   ],
   "source": [
    "%%time\n",
    "# Create progress bar\n",
    "pbar = tqdm(total = 2000)\n",
    "\n",
    "# Generate dataset\n",
    "generate_dataset_parallel(\n",
    "    Arguments(\n",
    "        name = 'FRB',\n",
    "        method = 'FFT',\n",
    "        atm = full_atm,\n",
    "        duration = 0.010,\n",
    "        duration_label = '10ms',\n",
    "        num_simulations = 2000,\n",
    "        num_phot = int(8e4),\n",
    "        offset = 0\n",
    "    ),\n",
    "    pbar\n",
    ")"
   ]
  },
  {
   "cell_type": "code",
   "execution_count": 53,
   "metadata": {},
   "outputs": [
    {
     "data": {
      "application/vnd.jupyter.widget-view+json": {
       "model_id": "53db872c5037457a86290afbb71774ef",
       "version_major": 2,
       "version_minor": 0
      },
      "text/plain": [
       "  0%|          | 0/2000 [00:00<?, ?it/s]"
      ]
     },
     "metadata": {},
     "output_type": "display_data"
    },
    {
     "name": "stdout",
     "output_type": "stream",
     "text": [
      "CPU times: user 9.88 s, sys: 2.92 s, total: 12.8 s\n",
      "Wall time: 8min 38s\n"
     ]
    }
   ],
   "source": [
    "%%time\n",
    "# Create progress bar\n",
    "pbar = tqdm(total = 2000)\n",
    "\n",
    "# Generate dataset\n",
    "generate_dataset_parallel(\n",
    "    Arguments(\n",
    "        name = 'FRB',\n",
    "        method = 'FFT',\n",
    "        atm = full_atm,\n",
    "        duration = 0.010,\n",
    "        duration_label = '10ms',\n",
    "        num_simulations = 2000,\n",
    "        num_phot = int(6e4),\n",
    "        offset = 0\n",
    "    ),\n",
    "    pbar\n",
    ")"
   ]
  },
  {
   "cell_type": "code",
   "execution_count": 54,
   "metadata": {},
   "outputs": [
    {
     "data": {
      "application/vnd.jupyter.widget-view+json": {
       "model_id": "21be12ea097c493291c645467b85f1e9",
       "version_major": 2,
       "version_minor": 0
      },
      "text/plain": [
       "  0%|          | 0/2000 [00:00<?, ?it/s]"
      ]
     },
     "metadata": {},
     "output_type": "display_data"
    },
    {
     "name": "stdout",
     "output_type": "stream",
     "text": [
      "CPU times: user 9.93 s, sys: 3.11 s, total: 13 s\n",
      "Wall time: 8min 31s\n"
     ]
    }
   ],
   "source": [
    "%%time\n",
    "# Create progress bar\n",
    "pbar = tqdm(total = 2000)\n",
    "\n",
    "# Generate dataset\n",
    "generate_dataset_parallel(\n",
    "    Arguments(\n",
    "        name = 'FRB',\n",
    "        method = 'FFT',\n",
    "        atm = full_atm,\n",
    "        duration = 0.010,\n",
    "        duration_label = '10ms',\n",
    "        num_simulations = 2000,\n",
    "        num_phot = int(4e4),\n",
    "        offset = 0\n",
    "    ),\n",
    "    pbar\n",
    ")"
   ]
  },
  {
   "cell_type": "code",
   "execution_count": 55,
   "metadata": {},
   "outputs": [
    {
     "data": {
      "application/vnd.jupyter.widget-view+json": {
       "model_id": "ec62d4068fd34be5a140960da1f14e65",
       "version_major": 2,
       "version_minor": 0
      },
      "text/plain": [
       "  0%|          | 0/2000 [00:00<?, ?it/s]"
      ]
     },
     "metadata": {},
     "output_type": "display_data"
    },
    {
     "name": "stdout",
     "output_type": "stream",
     "text": [
      "CPU times: user 9.8 s, sys: 3.23 s, total: 13 s\n",
      "Wall time: 8min 30s\n"
     ]
    }
   ],
   "source": [
    "%%time\n",
    "# Create progress bar\n",
    "pbar = tqdm(total = 2000)\n",
    "\n",
    "# Generate dataset\n",
    "generate_dataset_parallel(\n",
    "    Arguments(\n",
    "        name = 'FRB',\n",
    "        method = 'FFT',\n",
    "        atm = full_atm,\n",
    "        duration = 0.010,\n",
    "        duration_label = '10ms',\n",
    "        num_simulations = 2000,\n",
    "        num_phot = int(2e4),\n",
    "        offset = 0\n",
    "    ),\n",
    "    pbar\n",
    ")"
   ]
  },
  {
   "cell_type": "code",
   "execution_count": 56,
   "metadata": {},
   "outputs": [
    {
     "data": {
      "application/vnd.jupyter.widget-view+json": {
       "model_id": "464df2d0ec0b424d8b7b3ef558ef0120",
       "version_major": 2,
       "version_minor": 0
      },
      "text/plain": [
       "  0%|          | 0/2000 [00:00<?, ?it/s]"
      ]
     },
     "metadata": {},
     "output_type": "display_data"
    },
    {
     "name": "stdout",
     "output_type": "stream",
     "text": [
      "CPU times: user 9.98 s, sys: 3.42 s, total: 13.4 s\n",
      "Wall time: 8min 27s\n"
     ]
    }
   ],
   "source": [
    "%%time\n",
    "# Create progress bar\n",
    "pbar = tqdm(total = 2000)\n",
    "\n",
    "# Generate dataset\n",
    "generate_dataset_parallel(\n",
    "    Arguments(\n",
    "        name = 'FRB',\n",
    "        method = 'FFT',\n",
    "        atm = full_atm,\n",
    "        duration = 0.010,\n",
    "        duration_label = '10ms',\n",
    "        num_simulations = 2000,\n",
    "        num_phot = int(1e4),\n",
    "        offset = 0\n",
    "    ),\n",
    "    pbar\n",
    ")"
   ]
  },
  {
   "cell_type": "markdown",
   "metadata": {},
   "source": [
    "5ms"
   ]
  },
  {
   "cell_type": "code",
   "execution_count": 57,
   "metadata": {},
   "outputs": [
    {
     "data": {
      "application/vnd.jupyter.widget-view+json": {
       "model_id": "412a3d47d4be4f168088c42b3a2a4956",
       "version_major": 2,
       "version_minor": 0
      },
      "text/plain": [
       "  0%|          | 0/2000 [00:00<?, ?it/s]"
      ]
     },
     "metadata": {},
     "output_type": "display_data"
    },
    {
     "name": "stdout",
     "output_type": "stream",
     "text": [
      "CPU times: user 9.96 s, sys: 3.29 s, total: 13.3 s\n",
      "Wall time: 8min 40s\n"
     ]
    }
   ],
   "source": [
    "%%time\n",
    "# Create progress bar\n",
    "pbar = tqdm(total = 2000)\n",
    "\n",
    "# Generate dataset\n",
    "generate_dataset_parallel(\n",
    "    Arguments(\n",
    "        name = 'FRB',\n",
    "        method = 'FFT',\n",
    "        atm = full_atm,\n",
    "        duration = 0.005,\n",
    "        duration_label = '5ms',\n",
    "        num_simulations = 2000,\n",
    "        num_phot = int(1e5),\n",
    "        offset = 0\n",
    "    ),\n",
    "    pbar\n",
    ")"
   ]
  },
  {
   "cell_type": "code",
   "execution_count": 58,
   "metadata": {},
   "outputs": [
    {
     "data": {
      "application/vnd.jupyter.widget-view+json": {
       "model_id": "050a24379c794451a33833eead5f1eea",
       "version_major": 2,
       "version_minor": 0
      },
      "text/plain": [
       "  0%|          | 0/2000 [00:00<?, ?it/s]"
      ]
     },
     "metadata": {},
     "output_type": "display_data"
    },
    {
     "name": "stdout",
     "output_type": "stream",
     "text": [
      "CPU times: user 9.86 s, sys: 3.18 s, total: 13 s\n",
      "Wall time: 8min 41s\n"
     ]
    }
   ],
   "source": [
    "%%time\n",
    "# Create progress bar\n",
    "pbar = tqdm(total = 2000)\n",
    "\n",
    "# Generate dataset\n",
    "generate_dataset_parallel(\n",
    "    Arguments(\n",
    "        name = 'FRB',\n",
    "        method = 'FFT',\n",
    "        atm = full_atm,\n",
    "        duration = 0.005,\n",
    "        duration_label = '5ms',\n",
    "        num_simulations = 2000,\n",
    "        num_phot = int(8e4),\n",
    "        offset = 0\n",
    "    ),\n",
    "    pbar\n",
    ")"
   ]
  },
  {
   "cell_type": "code",
   "execution_count": 59,
   "metadata": {},
   "outputs": [
    {
     "data": {
      "application/vnd.jupyter.widget-view+json": {
       "model_id": "ef988f1f676e48abb5f71f918321631a",
       "version_major": 2,
       "version_minor": 0
      },
      "text/plain": [
       "  0%|          | 0/2000 [00:00<?, ?it/s]"
      ]
     },
     "metadata": {},
     "output_type": "display_data"
    },
    {
     "name": "stdout",
     "output_type": "stream",
     "text": [
      "CPU times: user 9.74 s, sys: 3.36 s, total: 13.1 s\n",
      "Wall time: 8min 32s\n"
     ]
    }
   ],
   "source": [
    "%%time\n",
    "# Create progress bar\n",
    "pbar = tqdm(total = 2000)\n",
    "\n",
    "# Generate dataset\n",
    "generate_dataset_parallel(\n",
    "    Arguments(\n",
    "        name = 'FRB',\n",
    "        method = 'FFT',\n",
    "        atm = full_atm,\n",
    "        duration = 0.005,\n",
    "        duration_label = '5ms',\n",
    "        num_simulations = 2000,\n",
    "        num_phot = int(6e4),\n",
    "        offset = 0\n",
    "    ),\n",
    "    pbar\n",
    ")"
   ]
  },
  {
   "cell_type": "code",
   "execution_count": 60,
   "metadata": {},
   "outputs": [
    {
     "data": {
      "application/vnd.jupyter.widget-view+json": {
       "model_id": "331a639e0a5441d18051054b3fea5674",
       "version_major": 2,
       "version_minor": 0
      },
      "text/plain": [
       "  0%|          | 0/2000 [00:00<?, ?it/s]"
      ]
     },
     "metadata": {},
     "output_type": "display_data"
    },
    {
     "name": "stdout",
     "output_type": "stream",
     "text": [
      "CPU times: user 9.83 s, sys: 3.2 s, total: 13 s\n",
      "Wall time: 8min 33s\n"
     ]
    }
   ],
   "source": [
    "%%time\n",
    "# Create progress bar\n",
    "pbar = tqdm(total = 2000)\n",
    "\n",
    "# Generate dataset\n",
    "generate_dataset_parallel(\n",
    "    Arguments(\n",
    "        name = 'FRB',\n",
    "        method = 'FFT',\n",
    "        atm = full_atm,\n",
    "        duration = 0.005,\n",
    "        duration_label = '5ms',\n",
    "        num_simulations = 2000,\n",
    "        num_phot = int(4e4),\n",
    "        offset = 0\n",
    "    ),\n",
    "    pbar\n",
    ")"
   ]
  },
  {
   "cell_type": "code",
   "execution_count": 61,
   "metadata": {},
   "outputs": [
    {
     "data": {
      "application/vnd.jupyter.widget-view+json": {
       "model_id": "3dcb02be39a24469b186a3c64aaada3c",
       "version_major": 2,
       "version_minor": 0
      },
      "text/plain": [
       "  0%|          | 0/2000 [00:00<?, ?it/s]"
      ]
     },
     "metadata": {},
     "output_type": "display_data"
    },
    {
     "name": "stdout",
     "output_type": "stream",
     "text": [
      "CPU times: user 9.77 s, sys: 3.24 s, total: 13 s\n",
      "Wall time: 8min 31s\n"
     ]
    }
   ],
   "source": [
    "%%time\n",
    "# Create progress bar\n",
    "pbar = tqdm(total = 2000)\n",
    "\n",
    "# Generate dataset\n",
    "generate_dataset_parallel(\n",
    "    Arguments(\n",
    "        name = 'FRB',\n",
    "        method = 'FFT',\n",
    "        atm = full_atm,\n",
    "        duration = 0.005,\n",
    "        duration_label = '5ms',\n",
    "        num_simulations = 2000,\n",
    "        num_phot = int(2e4),\n",
    "        offset = 0\n",
    "    ),\n",
    "    pbar\n",
    ")"
   ]
  },
  {
   "cell_type": "code",
   "execution_count": 62,
   "metadata": {},
   "outputs": [
    {
     "data": {
      "application/vnd.jupyter.widget-view+json": {
       "model_id": "d1d5d6d3a49745709adaf9065c3350e9",
       "version_major": 2,
       "version_minor": 0
      },
      "text/plain": [
       "  0%|          | 0/2000 [00:00<?, ?it/s]"
      ]
     },
     "metadata": {},
     "output_type": "display_data"
    },
    {
     "name": "stdout",
     "output_type": "stream",
     "text": [
      "CPU times: user 9.95 s, sys: 3.11 s, total: 13.1 s\n",
      "Wall time: 8min 22s\n"
     ]
    }
   ],
   "source": [
    "%%time\n",
    "# Create progress bar\n",
    "pbar = tqdm(total = 2000)\n",
    "\n",
    "# Generate dataset\n",
    "generate_dataset_parallel(\n",
    "    Arguments(\n",
    "        name = 'FRB',\n",
    "        method = 'FFT',\n",
    "        atm = full_atm,\n",
    "        duration = 0.005,\n",
    "        duration_label = '5ms',\n",
    "        num_simulations = 2000,\n",
    "        num_phot = int(1e4),\n",
    "        offset = 0\n",
    "    ),\n",
    "    pbar\n",
    ")"
   ]
  },
  {
   "cell_type": "code",
   "execution_count": null,
   "metadata": {},
   "outputs": [],
   "source": []
  },
  {
   "cell_type": "code",
   "execution_count": null,
   "metadata": {},
   "outputs": [],
   "source": []
  },
  {
   "cell_type": "code",
   "execution_count": null,
   "metadata": {},
   "outputs": [],
   "source": []
  },
  {
   "cell_type": "code",
   "execution_count": null,
   "metadata": {},
   "outputs": [],
   "source": [
    "%%time\n",
    "# Create progress bar\n",
    "pbar = tqdm(total = 2000)\n",
    "\n",
    "# Generate dataset\n",
    "generate_dataset_parallel(\n",
    "    Arguments(\n",
    "        name = 'FRB',\n",
    "        method = 'FFT',\n",
    "        atm = full_atm,\n",
    "        duration = 0.060,\n",
    "        duration_label = '60ms',\n",
    "        num_simulations = 2000,\n",
    "        num_phot = int(7.5e5),\n",
    "        offset = 0\n",
    "    ),\n",
    "    pbar\n",
    ")"
   ]
  },
  {
   "cell_type": "code",
   "execution_count": null,
   "metadata": {},
   "outputs": [],
   "source": [
    "%%time\n",
    "# Create progress bar\n",
    "pbar = tqdm(total = 2000)\n",
    "\n",
    "# Generate dataset\n",
    "generate_dataset_parallel(\n",
    "    Arguments(\n",
    "        name = 'FRB',\n",
    "        method = 'FFT',\n",
    "        atm = full_atm,\n",
    "        duration = 0.080,\n",
    "        duration_label = '80ms',\n",
    "        num_simulations = 2000,\n",
    "        num_phot = int(7.5e5),\n",
    "        offset = 0\n",
    "    ),\n",
    "    pbar\n",
    ")"
   ]
  },
  {
   "cell_type": "code",
   "execution_count": null,
   "metadata": {},
   "outputs": [],
   "source": [
    "%%time\n",
    "# Create progress bar\n",
    "pbar = tqdm(total = 2000)\n",
    "\n",
    "# Generate dataset\n",
    "generate_dataset_parallel(\n",
    "    Arguments(\n",
    "        name = 'FRB',\n",
    "        method = 'FFT',\n",
    "        atm = full_atm,\n",
    "        duration = 0.100,\n",
    "        duration_label = '100ms',\n",
    "        num_simulations = 2000,\n",
    "        num_phot = int(7.5e5),\n",
    "        offset = 0\n",
    "    ),\n",
    "    pbar\n",
    ")"
   ]
  },
  {
   "cell_type": "code",
   "execution_count": null,
   "metadata": {},
   "outputs": [],
   "source": [
    "%%time\n",
    "# Create progress bar\n",
    "pbar = tqdm(total = 2000)\n",
    "\n",
    "# Generate dataset\n",
    "generate_dataset_parallel(\n",
    "    Arguments(\n",
    "        name = 'FRB',\n",
    "        method = 'FFT',\n",
    "        atm = full_atm,\n",
    "        duration = 0.120,\n",
    "        duration_label = '120ms',\n",
    "        num_simulations = 2000,\n",
    "        num_phot = int(7.5e5),\n",
    "        offset = 0\n",
    "    ),\n",
    "    pbar\n",
    ")"
   ]
  },
  {
   "cell_type": "code",
   "execution_count": null,
   "metadata": {},
   "outputs": [],
   "source": [
    "%%time\n",
    "# Create progress bar\n",
    "pbar = tqdm(total = 2000)\n",
    "\n",
    "# Generate dataset\n",
    "generate_dataset_parallel(\n",
    "    Arguments(\n",
    "        name = 'FRB',\n",
    "        method = 'FFT',\n",
    "        atm = full_atm,\n",
    "        duration = 0.140,\n",
    "        duration_label = '140ms',\n",
    "        num_simulations = 2000,\n",
    "        num_phot = int(7.5e5),\n",
    "        offset = 0\n",
    "    ),\n",
    "    pbar\n",
    ")"
   ]
  },
  {
   "cell_type": "code",
   "execution_count": 7,
   "metadata": {},
   "outputs": [
    {
     "data": {
      "application/vnd.jupyter.widget-view+json": {
       "model_id": "0576d59ed1eb4f7e8e048cc32fafa00a",
       "version_major": 2,
       "version_minor": 0
      },
      "text/plain": [
       "  0%|          | 0/3000 [00:00<?, ?it/s]"
      ]
     },
     "metadata": {},
     "output_type": "display_data"
    },
    {
     "name": "stdout",
     "output_type": "stream",
     "text": [
      "CPU times: user 14.1 s, sys: 2.08 s, total: 16.2 s\n",
      "Wall time: 54min 13s\n"
     ]
    }
   ],
   "source": [
    "%%time\n",
    "# Create progress bar\n",
    "pbar = tqdm(total = 3000)\n",
    "\n",
    "# Generate dataset\n",
    "generate_dataset_parallel(\n",
    "    Arguments(\n",
    "        name = 'point_source',\n",
    "        method = 'geom',\n",
    "        atm = truncated_atm,\n",
    "        duration = 15,\n",
    "        duration_label = '15s',\n",
    "        num_simulations = 3000,\n",
    "        num_phot = int(7.5e5),\n",
    "        offset = 0\n",
    "    ),\n",
    "    pbar\n",
    ")"
   ]
  },
  {
   "cell_type": "markdown",
   "metadata": {},
   "source": [
    "### Old generate dataset functions"
   ]
  },
  {
   "cell_type": "code",
   "execution_count": 4,
   "metadata": {},
   "outputs": [
    {
     "name": "stdout",
     "output_type": "stream",
     "text": [
      "Wavelengths generated, took 0.33202219009399414 seconds.\n",
      "Phase gradients generated, took 0.1240088939666748 seconds.\n",
      "Rays transferred to Batoid, took 2.078124761581421 seconds.\n",
      "hi\n",
      "Rays traced through telescope, took 0.3655683994293213 seconds.\n",
      "finished\n",
      "CPU times: user 12.3 s, sys: 495 ms, total: 12.8 s\n",
      "Wall time: 10.4 s\n"
     ]
    }
   ],
   "source": [
    "%%time\n",
    "generate_dataset2(\n",
    "    2,\n",
    "    'FRB', \n",
    "    'FFT', \n",
    "    full_atm, \n",
    "    duration = 0.015, \n",
    "    duration_label = '15ms',\n",
    "    num_phot = int(7.5e5), \n",
    "    offset = 0\n",
    ")"
   ]
  },
  {
   "cell_type": "code",
   "execution_count": 8,
   "metadata": {},
   "outputs": [
    {
     "name": "stderr",
     "output_type": "stream",
     "text": [
      "100%|██████████| 2000/2000 [3:13:10<00:00,  5.80s/it]  \n"
     ]
    }
   ],
   "source": [
    "generate_dataset(\n",
    "    'FRB', \n",
    "    'FFT', \n",
    "    full_atm, \n",
    "    duration = 0.015, \n",
    "    duration_label = '15ms',\n",
    "    num_phot = int(1e5), \n",
    "    num_simulations = 2000, \n",
    "    offset = 0\n",
    ")"
   ]
  },
  {
   "cell_type": "markdown",
   "metadata": {},
   "source": [
    "### Plotting image from dataset"
   ]
  },
  {
   "cell_type": "code",
   "execution_count": 92,
   "metadata": {},
   "outputs": [
    {
     "data": {
      "text/plain": [
       "<matplotlib.image.AxesImage at 0x7f80c21c8c10>"
      ]
     },
     "execution_count": 92,
     "metadata": {},
     "output_type": "execute_result"
    },
    {
     "data": {
      "image/png": "[encoded data removed]",
      "text/plain": [
       "<Figure size 432x288 with 1 Axes>"
      ]
     },
     "metadata": {
      "needs_background": "light"
     },
     "output_type": "display_data"
    }
   ],
   "source": [
    "name = 'FRB'\n",
    "method = 'FFT'\n",
    "num_phot = int(7.5e5)\n",
    "\n",
    "sarray = np.loadtxt('data/{}s/{}_{}_{}_{}_{}.txt'.format(name, name, method, '15ms', num_phot, 2), delimiter = ',')\n",
    "plt.imshow(sarray)"
   ]
  },
  {
   "cell_type": "code",
   "execution_count": 17,
   "metadata": {},
   "outputs": [
    {
     "data": {
      "text/plain": [
       "<matplotlib.image.AxesImage at 0x7f2db4d1fcd0>"
      ]
     },
     "execution_count": 17,
     "metadata": {},
     "output_type": "execute_result"
    },
    {
     "data": {
      "image/png": "[encoded data removed]",
      "text/plain": [
       "<Figure size 432x288 with 1 Axes>"
      ]
     },
     "metadata": {
      "needs_background": "light"
     },
     "output_type": "display_data"
    }
   ],
   "source": [
    "name = 'FRB'\n",
    "method = 'FFT'\n",
    "num_phot = int(7.5e5)\n",
    "\n",
    "sarray = np.loadtxt('data/{}s/{}_{}_{}_{}_{}.txt'.format(name, name, method, '15s', num_phot, 100), delimiter = ',')\n",
    "plt.imshow(sarray)"
   ]
  },
  {
   "cell_type": "code",
   "execution_count": 16,
   "metadata": {},
   "outputs": [
    {
     "data": {
      "text/plain": [
       "<matplotlib.image.AxesImage at 0x7f2db4d9cf90>"
      ]
     },
     "execution_count": 16,
     "metadata": {},
     "output_type": "execute_result"
    },
    {
     "data": {
      "image/png": "[encoded data removed]",
      "text/plain": [
       "<Figure size 432x288 with 1 Axes>"
      ]
     },
     "metadata": {
      "needs_background": "light"
     },
     "output_type": "display_data"
    }
   ],
   "source": [
    "name = 'point_source'\n",
    "method = 'geom'\n",
    "num_phot = int(7.5e5)\n",
    "\n",
    "sarray = np.loadtxt('data/{}s/{}_{}_{}_{}_{}.txt'.format(name, name, method, '15s', num_phot, 130), delimiter = ',')\n",
    "plt.imshow(sarray)"
   ]
  },
  {
   "cell_type": "code",
   "execution_count": null,
   "metadata": {},
   "outputs": [],
   "source": []
  }
 ],
 "metadata": {
  "kernelspec": {
   "display_name": "Python [conda env:miniconda3-py38_4.9.2-lsst-scipipe-0.8.1]",
   "language": "python",
   "name": "conda-env-miniconda3-py38_4.9.2-lsst-scipipe-0.8.1-py"
  },
  "language_info": {
   "codemirror_mode": {
    "name": "ipython",
    "version": 3
   },
   "file_extension": ".py",
   "mimetype": "text/x-python",
   "name": "python",
   "nbconvert_exporter": "python",
   "pygments_lexer": "ipython3",
   "version": "3.10.8"
  }
 },
 "nbformat": 4,
 "nbformat_minor": 4
}
