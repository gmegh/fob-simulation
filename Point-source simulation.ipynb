{
 "cells": [
  {
   "cell_type": "markdown",
   "metadata": {},
   "source": [
    "# FRB optical counterpart simulation\n",
    "\n",
    "This notebook breaks down the simulation of a Fast Radio Bursts (FRB) optical counterpart in the Vera C. Rubin Observatory system. It starts with a simulation of a point-source star and an FRB. The photons are simulated through the atmosphere and the telescope system using Batoid and GalSim packages.\n",
    "\n",
    "Import relevant python packages:"
   ]
  },
  {
   "cell_type": "code",
   "execution_count": 1,
   "metadata": {},
   "outputs": [],
   "source": [
    "import pickle\n",
    "import galsim\n",
    "import batoid\n",
    "import numpy as np\n",
    "import matplotlib.pyplot as plt"
   ]
  },
  {
   "cell_type": "markdown",
   "metadata": {},
   "source": [
    "Generate random number"
   ]
  },
  {
   "cell_type": "code",
   "execution_count": 2,
   "metadata": {},
   "outputs": [],
   "source": [
    "rng = galsim.BaseDeviate(117)"
   ]
  },
  {
   "cell_type": "markdown",
   "metadata": {},
   "source": [
    "## 1. Initialization of variables\n",
    "\n",
    "Set initial variables and constants for the simulation."
   ]
  },
  {
   "cell_type": "code",
   "execution_count": 3,
   "metadata": {},
   "outputs": [],
   "source": [
    "# Some settings here.\n",
    "SEEING_FACTOR = 1.0  # Knob to dial seeing up or down\n",
    "PIXEL_SIZE = 10e-6\n",
    "STAMP_SIZE = 10\n",
    "SKY_LEVEL = 1000.0\n",
    "DEFOCUS = 0.0015\n",
    "M2_ALIGNMENT = 1.0\n",
    "CAMERA_ALIGNMENT = 1.0\n",
    "M1M3_BEND = 1.0\n",
    "M2_BEND = 1.0\n",
    "SHOW = True\n",
    "SAVE_PHOTONS = False\n",
    "NPHOTON = int(8e6)\n",
    "NSTAR = 1\n",
    "SIMPLIFY = False\n",
    "\n",
    "# Define wavelength dictionary\n",
    "wavelength_dict = dict(\n",
    "    u = 365.49,\n",
    "    g = 480.03,\n",
    "    r = 622.20,\n",
    "    i = 754.06,\n",
    "    z = 868.21,\n",
    "    y = 991.66\n",
    ")\n",
    "\n",
    "# Define the observation parameters.\n",
    "observation = {\n",
    "    'boresight': galsim.CelestialCoord(\n",
    "        30*galsim.degrees, 10*galsim.degrees\n",
    "    ),\n",
    "    'zenith': 30*galsim.degrees,\n",
    "    'airmass': 1.1547,\n",
    "    'rotTelPos': 0.0*galsim.degrees,  # zenith measured CCW from up\n",
    "    'rotSkyPos': 0.0*galsim.degrees,  # N measured CCW from up\n",
    "    'rawSeeing': 0.7*galsim.arcsec,\n",
    "    'band': 'i',\n",
    "    'exptime': 15.0,\n",
    "    'frbtime': 0.005,\n",
    "    'temperature': 293.15,  # K\n",
    "    'pressure': 69.328,  # kPa\n",
    "    'H2O_pressure': 1.067,  # kPa\n",
    "}\n",
    "\n",
    "# Set the wavelenght from the observation band. \n",
    "wavelength = wavelength_dict[observation['band']]\n",
    "\n",
    "# Load atmosphere phase screen list created from Elleboerk model.\n",
    "with open(\"atm.pkl\", 'rb') as f:\n",
    "    atm = pickle.load(f)"
   ]
  },
  {
   "cell_type": "markdown",
   "metadata": {},
   "source": [
    "## 1.2 Intitalize PSFs of FRB and point-source"
   ]
  },
  {
   "cell_type": "code",
   "execution_count": 18,
   "metadata": {},
   "outputs": [],
   "source": [
    "# Define FRB as a delta function profile.\n",
    "frb_delta = galsim.DeltaFunction(flux = 2e5)\n",
    "\n",
    "# Shoot photons.\n",
    "frb_photons = frb_delta.shoot(int(2e5), rng)"
   ]
  },
  {
   "cell_type": "code",
   "execution_count": 54,
   "metadata": {},
   "outputs": [],
   "source": [
    "# Define point-source as a delta function profile\n",
    "star_delta = galsim.DeltaFunction(flux = 2e5)\n",
    "\n",
    "# Generate atmospheric PSF for a 15s expsoure. Includes first_kick and second_kick.\n",
    "atm_psf = atm.makePSF(\n",
    "            wavelength, \n",
    "            diam = 8.36, \n",
    "            time_step = 0.005, \n",
    "            exptime = 15.0, \n",
    "            flux = 1.0\n",
    "        )\n",
    "\n",
    "# Convolve with point-source psf\n",
    "star_total_psf = galsim.Convolve([star_delta, atm_psf.second_kick])\n",
    "\n",
    "# Shoot photons through star and atmsosphere second kick.\n",
    "star_photons = star_total_psf.shoot(int(1e6), rng)"
   ]
  },
  {
   "cell_type": "markdown",
   "metadata": {},
   "source": [
    "### 2.3 Simulated atmospheric images\n",
    "\n",
    "Given the computed PSF above, in this section we generate corresponding images of the light traced through the atmosphere. The two initial figures are the point-source star and FRB on their own."
   ]
  },
  {
   "cell_type": "markdown",
   "metadata": {},
   "source": [
    "Trace photons through telescope for the frb or the star"
   ]
  },
  {
   "cell_type": "code",
   "execution_count": 55,
   "metadata": {},
   "outputs": [],
   "source": [
    "phot_num_frb = frb_photons.x.shape[0]\n",
    "phot_num_star = star_photons.x.shape[0]\n",
    "\n",
    "# Change these two lines to select FRB or point-source to be imaged. \n",
    "# You also need to change the wavelength cell.\n",
    "phot_num_tot =  phot_num_star\n",
    "tot_photons = star_photons\n",
    "first_kick = True"
   ]
  },
  {
   "cell_type": "markdown",
   "metadata": {},
   "source": [
    "## 3. Telescope tracing\n",
    "\n",
    "In this section we trace the photons through the telescope up until the detector, thus simulating the final image we would retrieve, were we to observe the simulated galaxy. We obtain an image with the FRB and an image fort the point-source star. "
   ]
  },
  {
   "cell_type": "markdown",
   "metadata": {},
   "source": [
    "### 3.0 Initialize telescope\n",
    "\n",
    "Initialize in focus telescope from .yml document"
   ]
  },
  {
   "cell_type": "code",
   "execution_count": 56,
   "metadata": {},
   "outputs": [],
   "source": [
    "# Initialize telescope \n",
    "telescope = batoid.Optic.fromYaml(\"LSST_r.yml\")"
   ]
  },
  {
   "cell_type": "markdown",
   "metadata": {},
   "source": [
    "### 3.1 Photons initial position\n",
    "\n",
    "To trace the photons throught the telescope, we first need to determine the phtotons intial position in the first mirror. We do so by sampling the annular pupil uniformally. "
   ]
  },
  {
   "cell_type": "code",
   "execution_count": 57,
   "metadata": {},
   "outputs": [],
   "source": [
    "# Develop gnomonic projection from ra/dec to field angle using\n",
    "# GalSim TanWCS class.\n",
    "q = observation['rotTelPos'] - observation['rotSkyPos']\n",
    "cq, sq = np.cos(q), np.sin(q)\n",
    "affine = galsim.AffineTransform(cq, -sq, sq, cq)\n",
    "\n",
    "# Generate field angles\n",
    "radecToField = galsim.TanWCS(\n",
    "                    affine,\n",
    "                    observation['boresight'],\n",
    "                    units = galsim.radians\n",
    "                )\n",
    "\n",
    "# Generate celestial coordinates\n",
    "dist = 100*galsim.degrees\n",
    "while (dist > 1.75*galsim.degrees):   # whole focal plane\n",
    "    ra = np.random.uniform(26.0, 34.0)\n",
    "    dec = np.random.uniform(7.0, 13.0)\n",
    "    coord = galsim.CelestialCoord(\n",
    "        ra*galsim.degrees, dec*galsim.degrees\n",
    "    )\n",
    "    dist = observation['boresight'].distanceTo(coord)\n",
    "    \n",
    "fieldAngle = radecToField.toImage(coord)\n",
    "\n",
    "# Populate pupil\n",
    "r_outer = 8.36/2\n",
    "\n",
    "# purposely underestimate inner radius a bit.\n",
    "# Rays that miss will be marked vignetted.\n",
    "r_inner = 8.36/2*0.58\n",
    "ud = galsim.UniformDeviate(rng)\n",
    "r = np.empty(phot_num_tot)\n",
    "ud.generate(r)\n",
    "r *= (r_outer**2 - r_inner**2)\n",
    "r += r_inner**2\n",
    "r = np.sqrt(r)\n",
    "\n",
    "# Sample angle around the pupil.\n",
    "th = np.zeros(phot_num_tot)\n",
    "ud.generate(th)\n",
    "th *= 2*np.pi\n",
    "\n",
    "# Assign pupil position given radius and theta.\n",
    "u = r*np.cos(th)\n",
    "v = r*np.sin(th)"
   ]
  },
  {
   "cell_type": "markdown",
   "metadata": {},
   "source": [
    "### 3.2 Time stamp\n",
    "\n",
    "Additionally, we also need to generate the time associated with each photon to simulate for the 15s exposure, in the case of the point-source star. We do so by randomly selecting a time for each photon. This is just used for Point-source (first-kick = true)"
   ]
  },
  {
   "cell_type": "code",
   "execution_count": 58,
   "metadata": {},
   "outputs": [],
   "source": [
    "if first_kick == True:\n",
    "    # Generate time vector for all photons.\n",
    "    t = np.zeros(phot_num_tot)\n",
    "\n",
    "    # Uniformly distribute galaxy photon times throughout 15s exposure\n",
    "    ud.generate(t)\n",
    "    t += observation['exptime']\n",
    "    \n",
    "else:\n",
    "    t = observation['frbtime']"
   ]
  },
  {
   "cell_type": "markdown",
   "metadata": {},
   "source": [
    "### 3.3 Wavelengths\n",
    "\n",
    "In this section we define the SED for the galaxy and for the FRB, respectively. We then assing wavelengths to all photons sampling from their corresponding SED. "
   ]
  },
  {
   "cell_type": "code",
   "execution_count": 63,
   "metadata": {},
   "outputs": [],
   "source": [
    "# Define the black body SED. \n",
    "def BBSED(T):\n",
    "    \"\"\"\n",
    "    (unnormalized) Blackbody SED for temperature T in Kelvin. \n",
    "    Generates SED of a star.\n",
    "    \"\"\"\n",
    "\n",
    "    # Define wavelength vector\n",
    "    waves_nm = np.arange(330.0, 1120.0, 10.0)\n",
    "\n",
    "    # Compute Blackbody flux given temperature and wavelength.\n",
    "    def planck(t, w):\n",
    "        # T := temperature in K\n",
    "        # w := wavelength in m\n",
    "        c = 2.99792458e8  # speed of light in m/s\n",
    "        kB = 1.3806488e-23  # Boltzmann's constant J per Kelvin\n",
    "        h = 6.62607015e-34  # Planck's constant in J s\n",
    "        return w**(-5) / (np.exp(h*c/(w*kB*t))-1)\n",
    "\n",
    "    flambda = planck(T, waves_nm*1e-9)\n",
    "    \n",
    "    return galsim.SED(\n",
    "        galsim.LookupTable(waves_nm, flambda),\n",
    "        wave_type='nm',\n",
    "        flux_type='flambda'\n",
    "    )\n",
    "\n",
    "# Define bandpass\n",
    "bandpass = galsim.Bandpass('LSST_{}.dat'.format(observation['band']), wave_type='nm')\n",
    "\n",
    "# Initialize the used galaxy SED and Temperature of the galaxy.\n",
    "T_star = np.random.uniform(4000, 10000)\n",
    "star_sed = BBSED(T_star)\n",
    "\n",
    "# Assign wavelengths to all photons sampling the SED distribution.\n",
    "star_wavelengths = star_sed.sampleWavelength(phot_num_star, bandpass, rng)\n",
    "\n",
    "# Initialize the used FRB SED and Temperature of the FRB.\n",
    "T_sed = np.random.uniform(4000, 10000)\n",
    "frb_sed = BBSED(T_sed)\n",
    "\n",
    "# Assign wavelengths to all photons sampling the SED distribution.\n",
    "frb_wavelengths = frb_sed.sampleWavelength(phot_num_frb, bandpass, rng)\n",
    "\n",
    "# ---- ATTENTION -----\n",
    "#\n",
    "# Change if studying FRB\n",
    "#\n",
    "# ---- ATTENTION -----\n",
    "# Generate vector with all photons wavelenghts\n",
    "\n",
    "wavelengths = star_wavelengths"
   ]
  },
  {
   "cell_type": "markdown",
   "metadata": {},
   "source": [
    "### 3.3 Phase gradient"
   ]
  },
  {
   "cell_type": "code",
   "execution_count": 64,
   "metadata": {},
   "outputs": [],
   "source": [
    "dku = np.zeros(phot_num_tot)\n",
    "dkv = np.zeros(phot_num_tot)\n",
    "\n",
    "# Implement first kick.\n",
    "# Evaluate phase gradients at appropriate location/time\n",
    "dku, dkv = atm.wavefront_gradient(\n",
    "    u, v, t, (fieldAngle.x*galsim.radians, fieldAngle.y*galsim.radians)\n",
    ")  \n",
    "\n",
    "# Since the output is in nm per m, convert to radians.\n",
    "dku *= 1e-9 \n",
    "dkv *= 1e-9\n",
    "\n",
    "\n",
    "# Add photons position from atmosphere to the phase gradients.\n",
    "dku += tot_photons.x*(galsim.arcsec/galsim.radians)\n",
    "dkv += tot_photons.y*(galsim.arcsec/galsim.radians)\n",
    "\n",
    "dku *= (wavelengths/500)**(-0.3)\n",
    "dkv *= (wavelengths/500)**(-0.3)\n",
    "\n",
    "\n",
    "# DCR.  dkv is aligned along meridian, so only need to shift in this\n",
    "# direction\n",
    "# Compute refraction due to observation wavelength.\n",
    "# This is also applies to FRB\n",
    "base_refraction = galsim.dcr.get_refraction(\n",
    "    wavelength,\n",
    "    observation['zenith'],\n",
    "    temperature = observation['temperature'],\n",
    "    pressure = observation['pressure'],\n",
    "    H2O_pressure = observation['H2O_pressure'],\n",
    ")\n",
    "\n",
    "# Compute refraction due to wavelenght for each photon.\n",
    "refraction = galsim.dcr.get_refraction(\n",
    "    wavelengths,\n",
    "    observation['zenith'],\n",
    "    temperature = observation['temperature'],\n",
    "    pressure = observation['pressure'],\n",
    "    H2O_pressure = observation['H2O_pressure'],\n",
    ")\n",
    "\n",
    "# Add the refraction difference to the phase gradient.\n",
    "refraction -= base_refraction\n",
    "dkv += refraction\n",
    "\n",
    "# Add the tangent plane coordinates to the refraction difference.\n",
    "dku += fieldAngle.x\n",
    "dkv += fieldAngle.y"
   ]
  },
  {
   "cell_type": "markdown",
   "metadata": {},
   "source": [
    "### Generate Batoid RayVector\n",
    "\n",
    "In this section we generate a Batoid compatible rays vector that encodes the rays traced through the atmosphere. To do so we make use of the phase gradients, the pupil positions and the wavelengths."
   ]
  },
  {
   "cell_type": "code",
   "execution_count": 65,
   "metadata": {},
   "outputs": [],
   "source": [
    "# Generate rays velocity components from atmospheric phase gradient computed in the previous section.\n",
    "vx, vy, vz = batoid.utils.fieldToDirCos(dku, dkv, projection='gnomonic')\n",
    "\n",
    "# Place rays on entrance pupil - the planar cap coincident with the rim\n",
    "# of M1.  Eventually may want to back rays up further so that they can\n",
    "# be obstructed by struts, e.g.\n",
    "x = u\n",
    "y = v\n",
    "zPupil = telescope[\"M1\"].surface.sag(0, 0.5*telescope.pupilSize)\n",
    "z = np.zeros_like(x) + zPupil\n",
    "\n",
    "# Rescale velocities so that they're consistent with the current\n",
    "# refractive index.\n",
    "n = []\n",
    "for idx in range(phot_num_tot):\n",
    "    n.append(telescope.inMedium.getN(wavelengths[idx]))\n",
    "\n",
    "vx /= n\n",
    "vy /= n\n",
    "vz /= n\n",
    "\n",
    "# Adapt wavelength units.\n",
    "wavelengths_arr = wavelengths*1e-9"
   ]
  },
  {
   "cell_type": "code",
   "execution_count": 66,
   "metadata": {},
   "outputs": [],
   "source": [
    "# Create Batoid Ray Vector.\n",
    "rays = batoid.RayVector.fromArrays(\n",
    "    x.tolist(), y.tolist(), z.tolist(),\n",
    "    vx.tolist(), vy.tolist(), vz.tolist(),\n",
    "    np.zeros(phot_num_tot),\n",
    "    wavelengths_arr.tolist(),\n",
    "    np.zeros(phot_num_tot) + 1.0\n",
    ")"
   ]
  },
  {
   "cell_type": "markdown",
   "metadata": {},
   "source": [
    "### Trace through telescope and sensor\n",
    "\n",
    "In this section we initialize the telescope and silicon sensor from the dispersion data file. Once initialzied, we trace the rays through the telescope and then we refract them through the sensor. "
   ]
  },
  {
   "cell_type": "code",
   "execution_count": 67,
   "metadata": {},
   "outputs": [],
   "source": [
    "# Trace rays through telescope\n",
    "traced_rays = telescope.trace(rays)"
   ]
  },
  {
   "cell_type": "code",
   "execution_count": 68,
   "metadata": {},
   "outputs": [
    {
     "name": "stdout",
     "output_type": "stream",
     "text": [
      "Number of non-vingetted rays is 904210\n"
     ]
    }
   ],
   "source": [
    "# Initialize Silicon detector\n",
    "w, n = np.genfromtxt(\"silicon_dispersion.txt\").T\n",
    "silicon = batoid.TableMedium(batoid.Table(w, n, 'linear'))\n",
    "        \n",
    "# Refract the output beam into the silicon detector.\n",
    "telescope['Detector'].surface.refract(\n",
    "    traced_rays,\n",
    "    telescope['Detector'].inMedium,\n",
    "    silicon\n",
    ")\n",
    "\n",
    "# Print number of non-vignetted rays.\n",
    "print('Number of non-vingetted rays is {}'.format(sum(i for i in ~traced_rays.vignetted)))"
   ]
  },
  {
   "cell_type": "code",
   "execution_count": 69,
   "metadata": {},
   "outputs": [
    {
     "data": {
      "image/png": "[encoded data removed]",
      "text/plain": [
       "<Figure size 1152x504 with 2 Axes>"
      ]
     },
     "metadata": {
      "needs_background": "light"
     },
     "output_type": "display_data"
    }
   ],
   "source": [
    "# Convert rays to pixels for galsim sensor object. Put batoid results back into photons.\n",
    "tot_photons.x = traced_rays.x/PIXEL_SIZE\n",
    "tot_photons.y = traced_rays.y/PIXEL_SIZE\n",
    "tot_photons.dxdz = traced_rays.vx\n",
    "tot_photons.dydz = traced_rays.vy\n",
    "tot_photons.wavelength = wavelengths\n",
    "tot_photons.flux = ~traced_rays.vignetted\n",
    "\n",
    "# Initialize image\n",
    "STAMP_SIZE_ = 30\n",
    "final_image = galsim.Image(STAMP_SIZE_, STAMP_SIZE_)\n",
    "\n",
    "# Set image center at the center of the photons\n",
    "final_image.setCenter(\n",
    "    int(np.mean(tot_photons.x[~traced_rays.vignetted])),\n",
    "    int(np.mean(tot_photons.y[~traced_rays.vignetted]))\n",
    ")\n",
    "\n",
    "# Add photons to the image\n",
    "sensor = galsim.Sensor()\n",
    "#sensor = galsim.SiliconSensor(nrecalc=10_000)\n",
    "sensor.accumulate(tot_photons, final_image)\n",
    "\n",
    "# Add Gaussian background.\n",
    "gd = galsim.GaussianDeviate(rng, sigma = np.sqrt(10_000))\n",
    "gd.add_generate(final_image.array)\n",
    "\n",
    "# Plot figure\n",
    "plt.figure(figsize=(16, 7))\n",
    "plt.subplot(1, 2, 1)\n",
    "plt.imshow(final_image.array)\n",
    "plt.title('Observed point-source star', fontsize = 22)\n",
    "plt.xlabel('Position (pixels)', fontsize = 20)\n",
    "plt.ylabel('Position (pixels)', fontsize = 20)\n",
    "plt.tick_params(labelsize = 16)\n",
    "cbar = plt.colorbar(fraction = 0.046, pad = 0.04, label = 'Intensity')\n",
    "cbar.ax.tick_params(labelsize = 16)\n",
    "cbar.ax.yaxis.label.set_size(16)"
   ]
  },
  {
   "cell_type": "code",
   "execution_count": 39,
   "metadata": {},
   "outputs": [
    {
     "data": {
      "image/png": "[encoded data removed]",
      "text/plain": [
       "<Figure size 1152x504 with 2 Axes>"
      ]
     },
     "metadata": {
      "needs_background": "light"
     },
     "output_type": "display_data"
    }
   ],
   "source": [
    "# Convert rays to pixels for galsim sensor object. Put batoid results back into photons.\n",
    "tot_photons.x = traced_rays.x/PIXEL_SIZE\n",
    "tot_photons.y = traced_rays.y/PIXEL_SIZE\n",
    "tot_photons.dxdz = traced_rays.vx\n",
    "tot_photons.dydz = traced_rays.vy\n",
    "tot_photons.wavelength = wavelengths\n",
    "tot_photons.flux = ~traced_rays.vignetted\n",
    "\n",
    "# Initialize image\n",
    "STAMP_SIZE_ = 30\n",
    "final_image = galsim.Image(STAMP_SIZE_, STAMP_SIZE_)\n",
    "\n",
    "# Set image center at the center of the photons\n",
    "final_image.setCenter(\n",
    "    int(np.mean(tot_photons.x[~traced_rays.vignetted])),\n",
    "    int(np.mean(tot_photons.y[~traced_rays.vignetted]))\n",
    ")\n",
    "\n",
    "# Add photons to the image\n",
    "sensor = galsim.Sensor()\n",
    "#sensor = galsim.SiliconSensor(nrecalc=10_000)\n",
    "sensor.accumulate(tot_photons, final_image)\n",
    "\n",
    "# Add Gaussian background.\n",
    "gd = galsim.GaussianDeviate(rng, sigma = np.sqrt(10_000))\n",
    "gd.add_generate(final_image.array)\n",
    "\n",
    "# Plot figure\n",
    "plt.figure(figsize=(16, 7))\n",
    "plt.subplot(1, 2, 1)\n",
    "plt.imshow(final_image.array)\n",
    "plt.title('Observed FRB', fontsize = 22)\n",
    "plt.xlabel('Position (pixels)', fontsize = 20)\n",
    "plt.ylabel('Position (pixels)', fontsize = 20)\n",
    "plt.tick_params(labelsize = 16)\n",
    "cbar = plt.colorbar(fraction = 0.046, pad = 0.04, label = 'Intensity')\n",
    "cbar.ax.tick_params(labelsize = 16)\n",
    "cbar.ax.yaxis.label.set_size(16)"
   ]
  },
  {
   "cell_type": "code",
   "execution_count": null,
   "metadata": {},
   "outputs": [],
   "source": []
  }
 ],
 "metadata": {
  "kernelspec": {
   "display_name": "Python 3",
   "language": "python",
   "name": "python3"
  },
  "language_info": {
   "codemirror_mode": {
    "name": "ipython",
    "version": 3
   },
   "file_extension": ".py",
   "mimetype": "text/x-python",
   "name": "python",
   "nbconvert_exporter": "python",
   "pygments_lexer": "ipython3",
   "version": "3.8.3"
  }
 },
 "nbformat": 4,
 "nbformat_minor": 4
}
