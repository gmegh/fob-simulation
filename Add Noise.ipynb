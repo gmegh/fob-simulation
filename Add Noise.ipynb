{
 "cells": [
  {
   "cell_type": "code",
   "execution_count": 2,
   "id": "69bd6a94",
   "metadata": {},
   "outputs": [],
   "source": [
    "import numpy as np\n",
    "import matplotlib.pyplot as plt\n",
    "from scipy import fftpack, ndimage\n",
    "import math\n",
    "from tqdm.notebook import tqdm\n",
    "import seaborn as sns\n",
    "import galsim"
   ]
  },
  {
   "cell_type": "code",
   "execution_count": 3,
   "id": "14754fb9",
   "metadata": {},
   "outputs": [
    {
     "data": {
      "application/vnd.jupyter.widget-view+json": {
       "model_id": "1ddf2788d3374dbe93ce3471efbcd1d6",
       "version_major": 2,
       "version_minor": 0
      },
      "text/plain": [
       "  0%|          | 0/2 [00:00<?, ?it/s]"
      ]
     },
     "metadata": {},
     "output_type": "display_data"
    },
    {
     "data": {
      "application/vnd.jupyter.widget-view+json": {
       "model_id": "57b8d8121898439f8f320b11863f87c5",
       "version_major": 2,
       "version_minor": 0
      },
      "text/plain": [
       "  0%|          | 0/8 [00:00<?, ?it/s]"
      ]
     },
     "metadata": {},
     "output_type": "display_data"
    },
    {
     "data": {
      "application/vnd.jupyter.widget-view+json": {
       "model_id": "2e9583c8e61c4df58da2878119acbc17",
       "version_major": 2,
       "version_minor": 0
      },
      "text/plain": [
       "  0%|          | 0/4000 [00:00<?, ?it/s]"
      ]
     },
     "metadata": {},
     "output_type": "display_data"
    },
    {
     "data": {
      "application/vnd.jupyter.widget-view+json": {
       "model_id": "9e74861c296646e7a02933a0acc36d9a",
       "version_major": 2,
       "version_minor": 0
      },
      "text/plain": [
       "  0%|          | 0/4000 [00:00<?, ?it/s]"
      ]
     },
     "metadata": {},
     "output_type": "display_data"
    },
    {
     "data": {
      "application/vnd.jupyter.widget-view+json": {
       "model_id": "c250645a019948198dbdd910ba7abf4d",
       "version_major": 2,
       "version_minor": 0
      },
      "text/plain": [
       "  0%|          | 0/4000 [00:00<?, ?it/s]"
      ]
     },
     "metadata": {},
     "output_type": "display_data"
    },
    {
     "data": {
      "application/vnd.jupyter.widget-view+json": {
       "model_id": "25aed43a5f824fe5a6ba4cb3f1c6a163",
       "version_major": 2,
       "version_minor": 0
      },
      "text/plain": [
       "  0%|          | 0/4000 [00:00<?, ?it/s]"
      ]
     },
     "metadata": {},
     "output_type": "display_data"
    },
    {
     "data": {
      "application/vnd.jupyter.widget-view+json": {
       "model_id": "069f8dd0cb8f48608afedcf50cf23e99",
       "version_major": 2,
       "version_minor": 0
      },
      "text/plain": [
       "  0%|          | 0/4000 [00:00<?, ?it/s]"
      ]
     },
     "metadata": {},
     "output_type": "display_data"
    },
    {
     "data": {
      "application/vnd.jupyter.widget-view+json": {
       "model_id": "379c510a24234af4bd1ee5b5d21137f4",
       "version_major": 2,
       "version_minor": 0
      },
      "text/plain": [
       "  0%|          | 0/4000 [00:00<?, ?it/s]"
      ]
     },
     "metadata": {},
     "output_type": "display_data"
    },
    {
     "data": {
      "application/vnd.jupyter.widget-view+json": {
       "model_id": "d21cf4c7486b426eaf8ccf57d2543e41",
       "version_major": 2,
       "version_minor": 0
      },
      "text/plain": [
       "  0%|          | 0/4000 [00:00<?, ?it/s]"
      ]
     },
     "metadata": {},
     "output_type": "display_data"
    },
    {
     "data": {
      "application/vnd.jupyter.widget-view+json": {
       "model_id": "3d8dfd44e18b4a4fb5f341c14ce0ad35",
       "version_major": 2,
       "version_minor": 0
      },
      "text/plain": [
       "  0%|          | 0/4000 [00:00<?, ?it/s]"
      ]
     },
     "metadata": {},
     "output_type": "display_data"
    },
    {
     "data": {
      "application/vnd.jupyter.widget-view+json": {
       "model_id": "903082270b494171bedb22498854c73a",
       "version_major": 2,
       "version_minor": 0
      },
      "text/plain": [
       "  0%|          | 0/8 [00:00<?, ?it/s]"
      ]
     },
     "metadata": {},
     "output_type": "display_data"
    },
    {
     "data": {
      "application/vnd.jupyter.widget-view+json": {
       "model_id": "3ccd8593109f40349691d02c30e93104",
       "version_major": 2,
       "version_minor": 0
      },
      "text/plain": [
       "  0%|          | 0/4000 [00:00<?, ?it/s]"
      ]
     },
     "metadata": {},
     "output_type": "display_data"
    },
    {
     "data": {
      "application/vnd.jupyter.widget-view+json": {
       "model_id": "ec90737ee7cf4f4ebdd3e11a31e44278",
       "version_major": 2,
       "version_minor": 0
      },
      "text/plain": [
       "  0%|          | 0/4000 [00:00<?, ?it/s]"
      ]
     },
     "metadata": {},
     "output_type": "display_data"
    },
    {
     "data": {
      "application/vnd.jupyter.widget-view+json": {
       "model_id": "87285b7021134830a5a8310a64bbfd81",
       "version_major": 2,
       "version_minor": 0
      },
      "text/plain": [
       "  0%|          | 0/4000 [00:00<?, ?it/s]"
      ]
     },
     "metadata": {},
     "output_type": "display_data"
    },
    {
     "data": {
      "application/vnd.jupyter.widget-view+json": {
       "model_id": "b23634dbf6be4eb0821de728c0d91a5b",
       "version_major": 2,
       "version_minor": 0
      },
      "text/plain": [
       "  0%|          | 0/4000 [00:00<?, ?it/s]"
      ]
     },
     "metadata": {},
     "output_type": "display_data"
    },
    {
     "data": {
      "application/vnd.jupyter.widget-view+json": {
       "model_id": "bf815253af9b4fc28e7e9aeaee0bab73",
       "version_major": 2,
       "version_minor": 0
      },
      "text/plain": [
       "  0%|          | 0/4000 [00:00<?, ?it/s]"
      ]
     },
     "metadata": {},
     "output_type": "display_data"
    },
    {
     "data": {
      "application/vnd.jupyter.widget-view+json": {
       "model_id": "b91536730179459785ceb06fb360065e",
       "version_major": 2,
       "version_minor": 0
      },
      "text/plain": [
       "  0%|          | 0/4000 [00:00<?, ?it/s]"
      ]
     },
     "metadata": {},
     "output_type": "display_data"
    },
    {
     "data": {
      "application/vnd.jupyter.widget-view+json": {
       "model_id": "fb1079ee05c84ce6832303dc20ec8a7a",
       "version_major": 2,
       "version_minor": 0
      },
      "text/plain": [
       "  0%|          | 0/4000 [00:00<?, ?it/s]"
      ]
     },
     "metadata": {},
     "output_type": "display_data"
    },
    {
     "data": {
      "application/vnd.jupyter.widget-view+json": {
       "model_id": "352171f17c224f159156a6c2b5d3adf2",
       "version_major": 2,
       "version_minor": 0
      },
      "text/plain": [
       "  0%|          | 0/4000 [00:00<?, ?it/s]"
      ]
     },
     "metadata": {},
     "output_type": "display_data"
    }
   ],
   "source": [
    "name = 'FRB'\n",
    "method = 'FFT'\n",
    "\n",
    "def add_noise(name, method, duration, num_phot, num_simulations):\n",
    "    for it in tqdm(range(num_simulations)):\n",
    "        image = np.loadtxt('data/{}s_eff/{}_{}_{}_{}_{}.txt'.format(name, name, method, duration, num_phot, it), delimiter = ',')\n",
    "        image[image < 0] = 0\n",
    "\n",
    "        image += 1000\n",
    "        image_array = np.random.normal(loc = image, scale = np.sqrt(image))\n",
    "        plt.imsave('data/{}s_noise_eff/{}_{}_{}_{}_{}.png'.format(name, name, method, duration, num_phot, it), image_array)\n",
    "        np.savetxt('data/{}s_noise_eff/{}_{}_{}_{}_{}.txt'.format(name, name, method, duration, num_phot, it), image_array)\n",
    "        \n",
    "durations = ['15ms', '150ms', '500ms', '1000ms', '1500ms', '2000ms', '3000ms', '5000ms', '7s', '9s', '11s', '13s', '15s']\n",
    "num_phots = [10000, 20000, 40000, 60000, 80000, 100000, 750000]\n",
    "\n",
    "durations = ['15ms']\n",
    "num_phots = [750000, 100000, 80000, 60000, 40000, 20000, 10000, 1000]\n",
    "\n",
    "durations = ['15s']\n",
    "num_phots = [10000, 20000, 40000, 60000, 80000, 100000, 750000]\n",
    "\n",
    "durations = ['150ms', '200ms', '250ms', '300ms', '350ms', '400ms', '450ms', '500ms', '750ms', '1000ms']\n",
    "num_phots = [10000, 20000, 40000, 60000, 80000, 100000, 750000]\n",
    "\n",
    "durations = ['5ms', '10ms', '15ms', '20ms', '40ms', '60ms', '80ms', '100ms', '100ms', '120ms', '140ms', '150ms', '200ms', '15s']\n",
    "num_phots = [20000, 40000, 60000, 80000, 100000, 300000, 500000, 750000]\n",
    "\n",
    "durations = ['15ms', '15s']\n",
    "num_phots = [20000, 40000, 60000, 80000, 100000, 300000, 500000, 750000]\n",
    "\n",
    "\n",
    "for duration in tqdm(durations):\n",
    "    for phots in tqdm(num_phots):\n",
    "        add_noise('FRB', 'FFT', duration, phots, 4000)    \n"
   ]
  },
  {
   "cell_type": "code",
   "execution_count": 3,
   "id": "f5391530",
   "metadata": {},
   "outputs": [
    {
     "data": {
      "application/vnd.jupyter.widget-view+json": {
       "model_id": "0270986eb78d40499bafe962f88b5e60",
       "version_major": 2,
       "version_minor": 0
      },
      "text/plain": [
       "  0%|          | 0/4000 [00:00<?, ?it/s]"
      ]
     },
     "metadata": {},
     "output_type": "display_data"
    }
   ],
   "source": [
    "\n",
    "def generate_noise_image(num_simulations):\n",
    "    for it in tqdm(range(num_simulations)):\n",
    "        image = np.zeros((17,17))\n",
    "        image += 1000\n",
    "        image_array = np.random.normal(loc = image, scale = np.sqrt(image))\n",
    "        image_array = image_array/sum(sum(image))\n",
    "        plt.imsave(f'data/noise/{it}.png', image_array)\n",
    "        np.savetxt(f'data/noise/{it}.txt', image_array)\n",
    "\n",
    "generate_noise_image(4000)    \n"
   ]
  },
  {
   "cell_type": "code",
   "execution_count": null,
   "id": "11c00b15",
   "metadata": {},
   "outputs": [],
   "source": []
  },
  {
   "cell_type": "code",
   "execution_count": null,
   "id": "924978e6",
   "metadata": {},
   "outputs": [],
   "source": []
  }
 ],
 "metadata": {
  "kernelspec": {
   "display_name": "Python 3",
   "language": "python",
   "name": "python3"
  },
  "language_info": {
   "codemirror_mode": {
    "name": "ipython",
    "version": 3
   },
   "file_extension": ".py",
   "mimetype": "text/x-python",
   "name": "python",
   "nbconvert_exporter": "python",
   "pygments_lexer": "ipython3",
   "version": "3.7.12"
  }
 },
 "nbformat": 4,
 "nbformat_minor": 5
}
